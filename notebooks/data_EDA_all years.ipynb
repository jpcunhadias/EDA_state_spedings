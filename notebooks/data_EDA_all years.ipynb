{
 "cells": [
  {
   "cell_type": "markdown",
   "metadata": {
    "collapsed": false
   },
   "source": [
    "# Análise Exploratória dos Dados\n"
   ]
  },
  {
   "cell_type": "markdown",
   "metadata": {
    "collapsed": false
   },
   "source": [
    "### Levando em consideração a abordagem utilizada pelo ano de 2016, irei replicar a mesma abordagem para os anos de 2017, 2018 e 2019. Logo, Tratarei os dados desses anos e concatenarei em um único dataframe para realizar a análise exploratória dos dados."
   ]
  },
  {
   "cell_type": "markdown",
   "metadata": {
    "collapsed": false
   },
   "source": [
    "### Importando as bibliotecas necessárias"
   ]
  },
  {
   "cell_type": "code",
   "execution_count": 1,
   "metadata": {
    "collapsed": false
   },
   "outputs": [],
   "source": [
    "import numpy as np\n",
    "import pandas as pd\n",
    "import sweetviz as sv\n",
    "import matplotlib.pyplot as plt\n",
    "import os\n",
    "import warnings\n",
    "warnings.filterwarnings(\"ignore\")"
   ]
  },
  {
   "cell_type": "markdown",
   "metadata": {
    "collapsed": false
   },
   "source": [
    "### Garantindo que o diretório de trabalho está correto"
   ]
  },
  {
   "cell_type": "code",
   "execution_count": 2,
   "metadata": {
    "collapsed": false
   },
   "outputs": [],
   "source": [
    "base_dir = os.path.dirname(os.path.abspath('__file__'))\n",
    "dir_files_path = os.path.join(base_dir, '../data/raw/')\n",
    "reports_file_path = os.path.join(base_dir, '../reports/general_reports')"
   ]
  },
  {
   "cell_type": "markdown",
   "metadata": {
    "collapsed": false
   },
   "source": [
    "## Dataframes"
   ]
  },
  {
   "cell_type": "markdown",
   "metadata": {
    "collapsed": false
   },
   "source": [
    "#### Após ler o dicionário de dados, percebi que estas 3 bases são as mais relevantes para o estudo."
   ]
  },
  {
   "cell_type": "markdown",
   "metadata": {
    "collapsed": false
   },
   "source": [
    "#### 2016"
   ]
  },
  {
   "cell_type": "code",
   "execution_count": 3,
   "metadata": {
    "collapsed": false
   },
   "outputs": [],
   "source": [
    "licitacoes_2016 = pd.read_csv(f'{dir_files_path}2016.csv/licitacao.csv')\n",
    "lotes_2016 = pd.read_csv(f'{dir_files_path}2016.csv/lote.csv')\n",
    "itens_2016 = pd.read_csv(f'{dir_files_path}2016.csv/item.csv')"
   ]
  },
  {
   "cell_type": "markdown",
   "metadata": {
    "collapsed": false
   },
   "source": [
    "#### 2017"
   ]
  },
  {
   "cell_type": "code",
   "execution_count": 4,
   "metadata": {
    "collapsed": false
   },
   "outputs": [],
   "source": [
    "licitacoes_2017 = pd.read_csv(f'{dir_files_path}2017.csv/licitacao.csv')\n",
    "lotes_2017 = pd.read_csv(f'{dir_files_path}2017.csv/lote.csv')\n",
    "itens_2017 = pd.read_csv(f'{dir_files_path}2017.csv/item.csv')"
   ]
  },
  {
   "cell_type": "markdown",
   "metadata": {
    "collapsed": false
   },
   "source": [
    "#### 2018"
   ]
  },
  {
   "cell_type": "code",
   "execution_count": 5,
   "metadata": {
    "collapsed": false
   },
   "outputs": [],
   "source": [
    "licitacoes_2018 = pd.read_csv(f'{dir_files_path}2018.csv/licitacao.csv')\n",
    "lotes_2018 = pd.read_csv(f'{dir_files_path}2018.csv/lote.csv')\n",
    "itens_2018 = pd.read_csv(f'{dir_files_path}2018.csv/item.csv')"
   ]
  },
  {
   "cell_type": "markdown",
   "metadata": {
    "collapsed": false
   },
   "source": [
    "#### 2019"
   ]
  },
  {
   "cell_type": "code",
   "execution_count": 6,
   "metadata": {
    "collapsed": false
   },
   "outputs": [],
   "source": [
    "licitacoes_2019 = pd.read_csv(f'{dir_files_path}2019.csv/licitacao.csv')\n",
    "lotes_2019 = pd.read_csv(f'{dir_files_path}2019.csv/lote.csv')\n",
    "itens_2019 = pd.read_csv(f'{dir_files_path}2019.csv/item.csv')"
   ]
  },
  {
   "cell_type": "markdown",
   "metadata": {
    "collapsed": false
   },
   "source": [
    "### Concatenando os dataframes"
   ]
  },
  {
   "cell_type": "code",
   "execution_count": 7,
   "metadata": {
    "collapsed": false
   },
   "outputs": [],
   "source": [
    "licitacoes = pd.concat([licitacoes_2016, licitacoes_2017, licitacoes_2018, licitacoes_2019])"
   ]
  },
  {
   "cell_type": "code",
   "execution_count": 8,
   "metadata": {
    "collapsed": false
   },
   "outputs": [
    {
     "name": "stdout",
     "output_type": "stream",
     "text": [
      "<class 'pandas.core.frame.DataFrame'>\n",
      "Int64Index: 237011 entries, 0 to 70545\n",
      "Data columns (total 61 columns):\n",
      " #   Column                       Non-Null Count   Dtype  \n",
      "---  ------                       --------------   -----  \n",
      " 0   CD_ORGAO                     237011 non-null  int64  \n",
      " 1   NM_ORGAO                     237011 non-null  object \n",
      " 2   NR_LICITACAO                 237011 non-null  float64\n",
      " 3   ANO_LICITACAO                237011 non-null  int64  \n",
      " 4   CD_TIPO_MODALIDADE           237011 non-null  object \n",
      " 5   NR_COMISSAO                  153245 non-null  float64\n",
      " 6   ANO_COMISSAO                 153245 non-null  float64\n",
      " 7   TP_COMISSAO                  153245 non-null  object \n",
      " 8   NR_PROCESSO                  236858 non-null  object \n",
      " 9   ANO_PROCESSO                 236857 non-null  float64\n",
      " 10  TP_OBJETO                    237011 non-null  object \n",
      " 11  CD_TIPO_FASE_ATUAL           237011 non-null  object \n",
      " 12  TP_LICITACAO                 237011 non-null  object \n",
      " 13  TP_NIVEL_JULGAMENTO          237011 non-null  object \n",
      " 14  DT_AUTORIZACAO_ADESAO        1747 non-null    object \n",
      " 15  TP_CARACTERISTICA_OBJETO     237011 non-null  object \n",
      " 16  TP_NATUREZA                  237011 non-null  object \n",
      " 17  TP_REGIME_EXECUCAO           50483 non-null   object \n",
      " 18  BL_PERMITE_SUBCONTRATACAO    162652 non-null  object \n",
      " 19  TP_BENEFICIO_MICRO_EPP       237011 non-null  object \n",
      " 20  TP_FORNECIMENTO              123411 non-null  object \n",
      " 21  TP_ATUACAO_REGISTRO          24035 non-null   object \n",
      " 22  NR_LICITACAO_ORIGINAL        1959 non-null    object \n",
      " 23  ANO_LICITACAO_ORIGINAL       41740 non-null   float64\n",
      " 24  NR_ATA_REGISTRO_PRECO        1952 non-null    object \n",
      " 25  DT_ATA_REGISTRO_PRECO        1933 non-null    object \n",
      " 26  PC_TAXA_RISCO                50217 non-null   float64\n",
      " 27  TP_EXECUCAO                  60574 non-null   object \n",
      " 28  TP_DISPUTA                   586 non-null     object \n",
      " 29  TP_PREQUALIFICACAO           566 non-null     object \n",
      " 30  BL_INVERSAO_FASES            237011 non-null  object \n",
      " 31  TP_RESULTADO_GLOBAL          35827 non-null   object \n",
      " 32  CNPJ_ORGAO_GERENCIADOR       13084 non-null   float64\n",
      " 33  NM_ORGAO_GERENCIADOR         13081 non-null   object \n",
      " 34  DS_OBJETO                    237011 non-null  object \n",
      " 35  CD_TIPO_FUNDAMENTACAO        97756 non-null   object \n",
      " 36  NR_ARTIGO                    29757 non-null   float64\n",
      " 37  DS_INCISO                    9323 non-null    object \n",
      " 38  DS_LEI                       9440 non-null    object \n",
      " 39  DT_INICIO_INSCR_CRED         2681 non-null    object \n",
      " 40  DT_FIM_INSCR_CRED            2707 non-null    object \n",
      " 41  DT_INICIO_VIGEN_CRED         2468 non-null    object \n",
      " 42  DT_FIM_VIGEN_CRED            2464 non-null    object \n",
      " 43  VL_LICITACAO                 227822 non-null  float64\n",
      " 44  BL_ORCAMENTO_SIGILOSO        99785 non-null   object \n",
      " 45  BL_RECEBE_INSCRICAO_PER_VIG  22967 non-null   object \n",
      " 46  BL_PERMITE_CONSORCIO         237011 non-null  object \n",
      " 47  DT_ABERTURA                  236973 non-null  object \n",
      " 48  DT_HOMOLOGACAO               138645 non-null  object \n",
      " 49  DT_ADJUDICACAO               131955 non-null  object \n",
      " 50  BL_LICIT_PROPRIA_ORGAO       237011 non-null  object \n",
      " 51  TP_DOCUMENTO_FORNECEDOR      59942 non-null   object \n",
      " 52  NR_DOCUMENTO_FORNECEDOR      59942 non-null   object \n",
      " 53  TP_DOCUMENTO_VENCEDOR        18501 non-null   object \n",
      " 54  NR_DOCUMENTO_VENCEDOR        18501 non-null   object \n",
      " 55  VL_HOMOLOGADO                89496 non-null   object \n",
      " 56  BL_GERA_DESPESA              237011 non-null  object \n",
      " 57  DS_OBSERVACAO                8878 non-null    object \n",
      " 58  PC_TX_ESTIMADA               98 non-null      float64\n",
      " 59  PC_TX_HOMOLOGADA             75 non-null      float64\n",
      " 60  BL_COMPARTILHADA             237011 non-null  object \n",
      "dtypes: float64(11), int64(2), object(48)\n",
      "memory usage: 112.1+ MB\n"
     ]
    }
   ],
   "source": [
    "licitacoes.info()"
   ]
  },
  {
   "cell_type": "code",
   "execution_count": 9,
   "metadata": {
    "collapsed": false
   },
   "outputs": [
    {
     "data": {
      "text/plain": [
       "CD_ORGAO                   0\n",
       "NM_ORGAO                   0\n",
       "NR_LICITACAO               0\n",
       "ANO_LICITACAO              0\n",
       "CD_TIPO_MODALIDADE         0\n",
       "                       ...  \n",
       "BL_GERA_DESPESA            0\n",
       "DS_OBSERVACAO         228133\n",
       "PC_TX_ESTIMADA        236913\n",
       "PC_TX_HOMOLOGADA      236936\n",
       "BL_COMPARTILHADA           0\n",
       "Length: 61, dtype: int64"
      ]
     },
     "execution_count": 9,
     "metadata": {},
     "output_type": "execute_result"
    }
   ],
   "source": [
    "licitacoes.isna().sum()"
   ]
  },
  {
   "cell_type": "markdown",
   "metadata": {
    "collapsed": false
   },
   "source": [
    "### tratando a coluna VL_HOMOLOGADO, pois estava como string ao invés de float"
   ]
  },
  {
   "cell_type": "code",
   "execution_count": 10,
   "metadata": {
    "collapsed": false
   },
   "outputs": [],
   "source": [
    "licitacoes['VL_HOMOLOGADO'] = pd.to_numeric(licitacoes['VL_HOMOLOGADO'], errors= 'coerce')"
   ]
  },
  {
   "cell_type": "code",
   "execution_count": 11,
   "metadata": {
    "collapsed": false
   },
   "outputs": [],
   "source": [
    "licitacoes['VL_HOMOLOGADO'] = licitacoes['VL_HOMOLOGADO'].fillna(0)"
   ]
  },
  {
   "cell_type": "code",
   "execution_count": 12,
   "metadata": {
    "collapsed": false
   },
   "outputs": [],
   "source": [
    "licitacoes['VL_HOMOLOGADO'] = licitacoes['VL_HOMOLOGADO'].astype('float64')"
   ]
  },
  {
   "cell_type": "code",
   "execution_count": 13,
   "metadata": {
    "collapsed": false
   },
   "outputs": [],
   "source": [
    "# Substituindo os valores nulos por 0 para os campos numéricos\n",
    "licitacoes[licitacoes.select_dtypes(include = ['float64', 'int64']).columns] = licitacoes[licitacoes.select_dtypes(include = ['float64', 'int64']).columns].fillna(0)"
   ]
  },
  {
   "cell_type": "code",
   "execution_count": 14,
   "metadata": {
    "collapsed": false
   },
   "outputs": [],
   "source": [
    "# Substituindo os valores nulos por 'Não Informado' para os campos categóricos\n",
    "licitacoes[licitacoes.select_dtypes(include = ['object']).columns] = licitacoes[licitacoes.select_dtypes(include = ['object']).columns].fillna('Não Informado')"
   ]
  },
  {
   "cell_type": "code",
   "execution_count": 15,
   "metadata": {
    "collapsed": false
   },
   "outputs": [
    {
     "data": {
      "text/plain": [
       "CD_ORGAO              0\n",
       "NM_ORGAO              0\n",
       "NR_LICITACAO          0\n",
       "ANO_LICITACAO         0\n",
       "CD_TIPO_MODALIDADE    0\n",
       "                     ..\n",
       "BL_GERA_DESPESA       0\n",
       "DS_OBSERVACAO         0\n",
       "PC_TX_ESTIMADA        0\n",
       "PC_TX_HOMOLOGADA      0\n",
       "BL_COMPARTILHADA      0\n",
       "Length: 61, dtype: int64"
      ]
     },
     "execution_count": 15,
     "metadata": {},
     "output_type": "execute_result"
    }
   ],
   "source": [
    "# Verificando se ainda existem valores nulos\n",
    "licitacoes.isna().sum()"
   ]
  },
  {
   "cell_type": "code",
   "execution_count": 16,
   "metadata": {
    "collapsed": false
   },
   "outputs": [
    {
     "data": {
      "application/vnd.jupyter.widget-view+json": {
       "model_id": "cc37658e114c4e4b98d0c816003c5e33",
       "version_major": 2,
       "version_minor": 0
      },
      "text/plain": [
       "                                             |          | [  0%]   00:00 -> (? left)"
      ]
     },
     "metadata": {},
     "output_type": "display_data"
    },
    {
     "name": "stdout",
     "output_type": "stream",
     "text": [
      "Report c:\\Users\\joaop\\DataspellProjects\\EDA_state_spedings\\notebooks\\../reports/general_reports/report_licitacoes_geral.html was generated! NOTEBOOK/COLAB USERS: the web browser MAY not pop up, regardless, the report IS saved in your notebook/colab files.\n"
     ]
    }
   ],
   "source": [
    "report_licitacoes = sv.analyze(licitacoes.drop(columns=['NR_DOCUMENTO_FORNECEDOR', 'NR_DOCUMENTO_VENCEDOR']))\n",
    "\n",
    "report_licitacoes.show_html(f'{reports_file_path}/report_licitacoes_geral.html', layout='vertical')"
   ]
  },
  {
   "cell_type": "markdown",
   "metadata": {
    "collapsed": false
   },
   "source": [
    "### Agora, para a base de itens, irei dividir elas em amostras de 15% do valor total de cada ano, para que a análise exploratória e análise de texto não demorem muito tempo."
   ]
  },
  {
   "cell_type": "code",
   "execution_count": 17,
   "metadata": {
    "collapsed": false
   },
   "outputs": [
    {
     "name": "stderr",
     "output_type": "stream",
     "text": [
      "[nltk_data] Downloading package punkt to\n",
      "[nltk_data]     C:\\Users\\joaop\\AppData\\Roaming\\nltk_data...\n",
      "[nltk_data]   Package punkt is already up-to-date!\n",
      "[nltk_data] Downloading package averaged_perceptron_tagger to\n",
      "[nltk_data]     C:\\Users\\joaop\\AppData\\Roaming\\nltk_data...\n",
      "[nltk_data]   Package averaged_perceptron_tagger is already up-to-\n",
      "[nltk_data]       date!\n",
      "[nltk_data] Downloading package stopwords to\n",
      "[nltk_data]     C:\\Users\\joaop\\AppData\\Roaming\\nltk_data...\n",
      "[nltk_data]   Package stopwords is already up-to-date!\n"
     ]
    }
   ],
   "source": [
    "from my_library import sample_df\n",
    "\n",
    "itens_2016_sample = sample_df(itens_2016, 0.15)\n",
    "itens_2017_sample = sample_df(itens_2017, 0.15)\n",
    "itens_2018_sample = sample_df(itens_2018, 0.15)\n",
    "itens_2019_sample = sample_df(itens_2019, 0.15)\n",
    "\n",
    "itens = pd.concat([itens_2016_sample, itens_2017_sample, itens_2018_sample, itens_2019_sample])"
   ]
  },
  {
   "cell_type": "code",
   "execution_count": 18,
   "metadata": {
    "collapsed": false
   },
   "outputs": [
    {
     "name": "stdout",
     "output_type": "stream",
     "text": [
      "<class 'pandas.core.frame.DataFrame'>\n",
      "Int64Index: 480112 entries, 47942 to 815105\n",
      "Data columns (total 32 columns):\n",
      " #   Column                          Non-Null Count   Dtype  \n",
      "---  ------                          --------------   -----  \n",
      " 0   CD_ORGAO                        480112 non-null  int64  \n",
      " 1   NR_LICITACAO                    480112 non-null  float64\n",
      " 2   ANO_LICITACAO                   480112 non-null  int64  \n",
      " 3   CD_TIPO_MODALIDADE              480112 non-null  object \n",
      " 4   NR_LOTE                         480112 non-null  int64  \n",
      " 5   NR_ITEM                         480112 non-null  int64  \n",
      " 6   NR_ITEM_ORIGINAL                480112 non-null  object \n",
      " 7   DS_ITEM                         480112 non-null  object \n",
      " 8   QT_ITENS                        480112 non-null  object \n",
      " 9   SG_UNIDADE_MEDIDA               480112 non-null  object \n",
      " 10  VL_UNITARIO_ESTIMADO            468591 non-null  float64\n",
      " 11  VL_TOTAL_ESTIMADO               468591 non-null  float64\n",
      " 12  DT_REF_VALOR_ESTIMADO           146591 non-null  object \n",
      " 13  PC_BDI_ESTIMADO                 154237 non-null  float64\n",
      " 14  PC_ENCARGOS_SOCIAIS_ESTIMADO    155219 non-null  float64\n",
      " 15  CD_FONTE_REFERENCIA             53604 non-null   object \n",
      " 16  DS_FONTE_REFERENCIA             68733 non-null   object \n",
      " 17  TP_RESULTADO_ITEM               322957 non-null  object \n",
      " 18  VL_UNITARIO_HOMOLOGADO          383532 non-null  float64\n",
      " 19  VL_TOTAL_HOMOLOGADO             383532 non-null  object \n",
      " 20  PC_BDI_HOMOLOGADO               153751 non-null  float64\n",
      " 21  PC_ENCARGOS_SOCIAIS_HOMOLOGADO  153744 non-null  float64\n",
      " 22  TP_ORCAMENTO                    38727 non-null   object \n",
      " 23  CD_TIPO_FAMILIA                 25028 non-null   float64\n",
      " 24  CD_TIPO_SUBFAMILIA              19226 non-null   float64\n",
      " 25  TP_DOCUMENTO                    351958 non-null  object \n",
      " 26  NR_DOCUMENTO                    351958 non-null  object \n",
      " 27  TP_DOCUMENTO.1                  30582 non-null   object \n",
      " 28  NR_DOCUMENTO.1                  30582 non-null   object \n",
      " 29  TP_BENEFICIO_MICRO_EPP          342559 non-null  object \n",
      " 30  PC_TX_ESTIMADA                  28 non-null      float64\n",
      " 31  PC_TX_HOMOLOGADA                21 non-null      float64\n",
      "dtypes: float64(12), int64(4), object(16)\n",
      "memory usage: 120.9+ MB\n"
     ]
    }
   ],
   "source": [
    "itens.info()"
   ]
  },
  {
   "cell_type": "markdown",
   "metadata": {
    "collapsed": false
   },
   "source": [
    "### Tratando a coluna VL_TOTAL_HOMOLOGADO, pois novamente estava como string ao invés de float"
   ]
  },
  {
   "cell_type": "code",
   "execution_count": 19,
   "metadata": {
    "collapsed": false
   },
   "outputs": [
    {
     "data": {
      "text/plain": [
       "QT_ITENS                      0\n",
       "VL_UNITARIO_HOMOLOGADO    96580\n",
       "VL_TOTAL_HOMOLOGADO       96580\n",
       "dtype: int64"
      ]
     },
     "execution_count": 19,
     "metadata": {},
     "output_type": "execute_result"
    }
   ],
   "source": [
    "itens[['QT_ITENS', 'VL_UNITARIO_HOMOLOGADO', 'VL_TOTAL_HOMOLOGADO']].isna().sum()"
   ]
  },
  {
   "cell_type": "code",
   "execution_count": 20,
   "metadata": {
    "collapsed": false
   },
   "outputs": [],
   "source": [
    "# Tratando os possíveis problemas de formatação dos valores\n",
    "itens['VL_TOTAL_HOMOLOGADO'] = itens['VL_TOTAL_HOMOLOGADO'].str.replace('.', '')\n",
    "itens['QT_ITENS','VL_TOTAL_HOMOLOGADO'] = itens['VL_TOTAL_HOMOLOGADO'].str.replace('R$', '')\n",
    "\n",
    "itens['QT_ITENS'] = itens['QT_ITENS'].str.replace('.', '')\n",
    "itens['QT_ITENS'] = itens['QT_ITENS'].str.replace('R$', '')"
   ]
  },
  {
   "cell_type": "code",
   "execution_count": 21,
   "metadata": {
    "collapsed": false
   },
   "outputs": [],
   "source": [
    "# Convertendo para float\n",
    "itens['VL_TOTAL_HOMOLOGADO'] = pd.to_numeric(itens['VL_TOTAL_HOMOLOGADO'], errors= 'coerce')\n",
    "\n",
    "itens['QT_ITENS'] = pd.to_numeric(itens['QT_ITENS'], errors= 'coerce')"
   ]
  },
  {
   "cell_type": "code",
   "execution_count": 22,
   "metadata": {
    "collapsed": false
   },
   "outputs": [],
   "source": [
    "# Substituindo os valores nulos por 0\n",
    "itens[['QT_ITENS', 'VL_UNITARIO_HOMOLOGADO', 'VL_TOTAL_HOMOLOGADO']] = itens[['QT_ITENS', 'VL_UNITARIO_HOMOLOGADO', 'VL_TOTAL_HOMOLOGADO']].fillna(0)"
   ]
  },
  {
   "cell_type": "code",
   "execution_count": 23,
   "metadata": {
    "collapsed": false
   },
   "outputs": [
    {
     "data": {
      "text/plain": [
       "QT_ITENS                  0\n",
       "VL_UNITARIO_HOMOLOGADO    0\n",
       "VL_TOTAL_HOMOLOGADO       0\n",
       "dtype: int64"
      ]
     },
     "execution_count": 23,
     "metadata": {},
     "output_type": "execute_result"
    }
   ],
   "source": [
    "# Checando se ainda existem valores nulos\n",
    "itens[['QT_ITENS', 'VL_UNITARIO_HOMOLOGADO', 'VL_TOTAL_HOMOLOGADO']].isna().sum()"
   ]
  },
  {
   "cell_type": "code",
   "execution_count": 24,
   "metadata": {
    "collapsed": false
   },
   "outputs": [],
   "source": [
    "# convertendo para float\n",
    "itens[['QT_ITENS','VL_TOTAL_HOMOLOGADO']] = itens[['QT_ITENS','VL_TOTAL_HOMOLOGADO']].astype('float64')"
   ]
  },
  {
   "cell_type": "markdown",
   "metadata": {
    "collapsed": false
   },
   "source": [
    "### Agora, faremos o mesmo tratamento de dados para o preenchimento dos valores nulos."
   ]
  },
  {
   "cell_type": "code",
   "execution_count": 25,
   "metadata": {
    "collapsed": false
   },
   "outputs": [],
   "source": [
    "# Substituindo os valores nulos por 0 para os campos numéricos\n",
    "itens[itens.select_dtypes(include = ['float64', 'int64']).columns] = itens[itens.select_dtypes(include = ['float64', 'int64']).columns].fillna(0)"
   ]
  },
  {
   "cell_type": "code",
   "execution_count": 26,
   "metadata": {
    "collapsed": false
   },
   "outputs": [],
   "source": [
    "# Substituindo os valores nulos por 'Não Informado' para os campos categóricos\n",
    "itens[itens.select_dtypes(include = ['object']).columns] = itens[itens.select_dtypes(include = ['object']).columns].fillna('Não Informado')"
   ]
  },
  {
   "cell_type": "code",
   "execution_count": 27,
   "metadata": {
    "collapsed": false
   },
   "outputs": [
    {
     "data": {
      "text/plain": [
       "CD_ORGAO                           0\n",
       "NR_LICITACAO                       0\n",
       "ANO_LICITACAO                      0\n",
       "CD_TIPO_MODALIDADE                 0\n",
       "NR_LOTE                            0\n",
       "NR_ITEM                            0\n",
       "NR_ITEM_ORIGINAL                   0\n",
       "DS_ITEM                            0\n",
       "QT_ITENS                           0\n",
       "SG_UNIDADE_MEDIDA                  0\n",
       "VL_UNITARIO_ESTIMADO               0\n",
       "VL_TOTAL_ESTIMADO                  0\n",
       "DT_REF_VALOR_ESTIMADO              0\n",
       "PC_BDI_ESTIMADO                    0\n",
       "PC_ENCARGOS_SOCIAIS_ESTIMADO       0\n",
       "CD_FONTE_REFERENCIA                0\n",
       "DS_FONTE_REFERENCIA                0\n",
       "TP_RESULTADO_ITEM                  0\n",
       "VL_UNITARIO_HOMOLOGADO             0\n",
       "VL_TOTAL_HOMOLOGADO                0\n",
       "PC_BDI_HOMOLOGADO                  0\n",
       "PC_ENCARGOS_SOCIAIS_HOMOLOGADO     0\n",
       "TP_ORCAMENTO                       0\n",
       "CD_TIPO_FAMILIA                    0\n",
       "CD_TIPO_SUBFAMILIA                 0\n",
       "TP_DOCUMENTO                       0\n",
       "NR_DOCUMENTO                       0\n",
       "TP_DOCUMENTO.1                     0\n",
       "NR_DOCUMENTO.1                     0\n",
       "TP_BENEFICIO_MICRO_EPP             0\n",
       "PC_TX_ESTIMADA                     0\n",
       "PC_TX_HOMOLOGADA                   0\n",
       "(QT_ITENS, VL_TOTAL_HOMOLOGADO)    0\n",
       "dtype: int64"
      ]
     },
     "execution_count": 27,
     "metadata": {},
     "output_type": "execute_result"
    }
   ],
   "source": [
    "# Verificando se ainda existem valores nulos\n",
    "itens.isna().sum()"
   ]
  },
  {
   "cell_type": "code",
   "execution_count": 28,
   "metadata": {
    "collapsed": false
   },
   "outputs": [
    {
     "data": {
      "application/vnd.jupyter.widget-view+json": {
       "model_id": "1de218c420224a60ba97c837e2765733",
       "version_major": 2,
       "version_minor": 0
      },
      "text/plain": [
       "                                             |          | [  0%]   00:00 -> (? left)"
      ]
     },
     "metadata": {},
     "output_type": "display_data"
    },
    {
     "name": "stdout",
     "output_type": "stream",
     "text": [
      "Report c:\\Users\\joaop\\DataspellProjects\\EDA_state_spedings\\notebooks\\../reports/general_reports/report_itens_geral.html was generated! NOTEBOOK/COLAB USERS: the web browser MAY not pop up, regardless, the report IS saved in your notebook/colab files.\n"
     ]
    }
   ],
   "source": [
    "report_itens = sv.analyze(itens.drop(columns=['NR_DOCUMENTO', 'NR_DOCUMENTO.1']))\n",
    "report_itens.show_html(f'{reports_file_path}/report_itens_geral.html', layout='vertical')"
   ]
  },
  {
   "cell_type": "markdown",
   "metadata": {
    "collapsed": false
   },
   "source": [
    "#### Por meio dos reports, é possível fazer um diagnóstico inicial dos dataframes e identificar possíveis respostas para as perguntas de negócio. Como por exemplo:\n",
    "<ul>\n",
    "<li>Distribuição de frequência das variáveis categóricas</li>\n",
    "<li>Valores mais frequentes</li>\n",
    "<li>Relação de incerteza entre as features. Ou seja, o quanto uma coluna pode dar de informação sobre a outra</li>\n",
    "</ul>"
   ]
  },
  {
   "cell_type": "markdown",
   "metadata": {
    "collapsed": false
   },
   "source": [
    "## Agora, iremos começar pelas bases recomendadas e depois tentar relacionar com as demais com o objetivo de adquirir mais informações e por fim responder às perguntas de negócio."
   ]
  },
  {
   "cell_type": "code",
   "execution_count": 29,
   "metadata": {
    "collapsed": false
   },
   "outputs": [
    {
     "data": {
      "text/plain": [
       "...                                                                                                                                                                                                                                                                                                                                                                                            312\n",
       "Material                                                                                                                                                                                                                                                                                                                                                                                       189\n",
       "AQUISIÇÃO DE MEDICAMENTOS                                                                                                                                                                                                                                                                                                                                                                      116\n",
       "AQUISIÇÃO DE BENS DA(S) FAMÍLIA(S):0035-EQUIPAMENTOS P/INFORMATICA;                                                                                                                                                                                                                                                                                                                             86\n",
       "AQUISIÇÃO DE TUBOS DE CONCRETO                                                                                                                                                                                                                                                                                                                                                                  84\n",
       "                                                                                                                                                                                                                                                                                                                                                                                              ... \n",
       "Aquisição de 250 tubos de concreto armado de 60 cm                                                                                                                                                                                                                                                                                                                                               1\n",
       "AQUISIÇÃO DE 1390,95M2 DE PARALELEPÍPEDOS DE BASALTO, REGULARES, TONALIDADE CNZA CLARA, FACE LISA, EXTRAIDO DE PEDREIRAS LAMINADAS, VEDADO O USO DE DE PEDRAS EXTRAÍDAS SOB FORMA DE QUEBRA, A BASE DA PEDRA NÃO PODERÁ TER ÁREA MENOR QUE 80% DA FACE, NA FORMA DE PARALELEPÍPEDOS COM ALTURA MÍNIMA DE 10CM E TAMANHOS QUE PERMITAM A EXECUÇPÃO DE CADA METRO QUADRADO COM 26 A 32 PEÇAS.      1\n",
       "Aquisição, pelo sistema de registro de preços, de tiras reagentes e testes de gravidez para distribuição gratuita aos munícipes através da Farmácia Popular.                                                                                                                                                                                                                                     1\n",
       "AQUISIÇÃO DE LEITE DA AGRICULTURA FAMILIAR                                                                                                                                                                                                                                                                                                                                                       1\n",
       "Aquisição de material educativo, esportivo e ventiladores de parede                                                                                                                                                                                                                                                                                                                              1\n",
       "Name: DS_OBJETO, Length: 70258, dtype: int64"
      ]
     },
     "execution_count": 29,
     "metadata": {},
     "output_type": "execute_result"
    }
   ],
   "source": [
    "filtro = licitacoes['TP_OBJETO'].str.match('com', case = False)\n",
    "\n",
    "licitacoes_compras = licitacoes[filtro]\n",
    "licitacoes_compras['DS_OBJETO'].value_counts()"
   ]
  },
  {
   "cell_type": "markdown",
   "metadata": {
    "collapsed": false
   },
   "source": [
    "#### É possível observar que a maioria das descrições de liciatação contém a palavra \"aquisição\" e sinonimos para se referir a compra de bens. Logo, desenvolvi uma função utilizando NLTK para identificar os substantivos e, assim, identificar maiores relações entre os dados."
   ]
  },
  {
   "cell_type": "markdown",
   "metadata": {
    "collapsed": false
   },
   "source": [
    "##### A fim de realizar tal análise, é necessário preparar os dados. Para isso, seguirei as seguintes etapas:\n",
    "\n",
    "<li>Normalização: consiste em transformar todas as palavras em minúsculas</li>\n",
    "<li>Remoção de espaços em branco: consiste em remover os espaços em branco desnecessários</li>\n",
    "<li>Remoção de stopwords: consiste em remover as palavras que não agregam valor ao texto, como artigos, preposições, etc.</li>"
   ]
  },
  {
   "cell_type": "code",
   "execution_count": 30,
   "metadata": {
    "collapsed": false
   },
   "outputs": [],
   "source": [
    "# normalizando os dados\n",
    "\n",
    "from my_library import preprocess_text_pipeline\n",
    "\n",
    "licitacoes_compras['DS_OBJETO'] = licitacoes_compras['DS_OBJETO'].apply(lambda x: preprocess_text_pipeline(x))"
   ]
  },
  {
   "cell_type": "code",
   "execution_count": 32,
   "metadata": {
    "collapsed": false
   },
   "outputs": [],
   "source": [
    "# agora, iremos criar uma lista com todas as palavras e contar a frequência de cada uma\n",
    "\n",
    "from my_library import get_most_common_nouns\n",
    "\n",
    "nouns_and_counts = get_most_common_nouns(licitacoes_compras, 'DS_OBJETO', 100)"
   ]
  },
  {
   "cell_type": "code",
   "execution_count": 33,
   "metadata": {
    "collapsed": false
   },
   "outputs": [
    {
     "data": {
      "text/plain": [
       "[('aquisição', 43285),\n",
       " ('registro', 10688),\n",
       " ('secretaria', 9883),\n",
       " ('material', 9514),\n",
       " ('preços', 8969),\n",
       " ('materiais', 8914),\n",
       " ('saúde', 6916),\n",
       " ('conforme', 6877),\n",
       " ('município', 6063),\n",
       " ('gêneros', 5268),\n",
       " ('equipamentos', 5053),\n",
       " ('manutenção', 4978),\n",
       " ('contratação', 4632),\n",
       " ('fornecimento', 4528),\n",
       " ('agricultura', 3678),\n",
       " ('veículo', 3362),\n",
       " ('medicamentos', 3336),\n",
       " ('peças', 3334),\n",
       " ('anexo', 3183),\n",
       " ('municipais', 2971),\n",
       " ('empresa', 2948),\n",
       " ('educação', 2807),\n",
       " ('secretarias', 2597),\n",
       " ('objeto', 2399),\n",
       " ('i', 2312),\n",
       " ('ensino', 2304),\n",
       " ('presente', 2291),\n",
       " ('escolar', 2277),\n",
       " ('limpeza', 2264),\n",
       " ('veículos', 2254),\n",
       " ('ano', 2207),\n",
       " ('especificações', 2092),\n",
       " ('licitação', 2038),\n",
       " ('escolas', 2026),\n",
       " ('edital', 2012),\n",
       " ('preço', 1990),\n",
       " ('pneus', 1980),\n",
       " ('serviços', 1887),\n",
       " ('expediente', 1879),\n",
       " ('pública', 1868),\n",
       " ('atender', 1818),\n",
       " ('alimentícios', 1789),\n",
       " ('alimentação', 1769),\n",
       " ('mg', 1767),\n",
       " ('construção', 1765),\n",
       " ('necessidades', 1753),\n",
       " ('pregão', 1676),\n",
       " ('merenda', 1644),\n",
       " ('processo', 1642),\n",
       " ('obras', 1634),\n",
       " ('compra', 1623),\n",
       " ('referência', 1621),\n",
       " ('diversas', 1579),\n",
       " ('diversos', 1544),\n",
       " ('placa', 1491),\n",
       " ('aquisicao', 1476),\n",
       " ('infantil', 1470),\n",
       " ('básica', 1467),\n",
       " ('programa', 1411),\n",
       " ('concreto', 1387),\n",
       " ('tipo', 1371),\n",
       " ('higiene', 1369),\n",
       " ('municipal', 1346),\n",
       " ('água', 1275),\n",
       " ('nº', 1270),\n",
       " ('tubos', 1259),\n",
       " ('–', 1245),\n",
       " ('termo', 1244),\n",
       " ('família', 1243),\n",
       " ('máquinas', 1239),\n",
       " ('rs', 1226),\n",
       " ('informática', 1214),\n",
       " ('atividades', 1200),\n",
       " ('produtos', 1184),\n",
       " ('transporte', 1154),\n",
       " ('diesel', 1148),\n",
       " ('s', 1144),\n",
       " ('deste', 1126),\n",
       " ('demanda', 1122),\n",
       " ('bens', 1114),\n",
       " ('generos', 1052),\n",
       " ('km', 1025),\n",
       " ('centro', 1015),\n",
       " ('escola', 997),\n",
       " ('caminhão', 996),\n",
       " ('rede', 994),\n",
       " ('sistema', 990),\n",
       " ('período', 982),\n",
       " ('cozinha', 978),\n",
       " ('gás', 969),\n",
       " ('meses', 969),\n",
       " ('frota', 969),\n",
       " ('cultura', 964),\n",
       " ('cras', 941),\n",
       " ('seleção', 937),\n",
       " ('referente', 936),\n",
       " ('elétrico', 935),\n",
       " ('conserto', 930),\n",
       " ('óleo', 927),\n",
       " ('contrato', 920)]"
      ]
     },
     "execution_count": 33,
     "metadata": {},
     "output_type": "execute_result"
    }
   ],
   "source": [
    "nouns_and_counts"
   ]
  },
  {
   "cell_type": "markdown",
   "metadata": {
    "collapsed": false
   },
   "source": [
    "Por meio dos dados apresentados, decidi seguir a seguinte abordagem:\n",
    "<ol>\n",
    "<li>Elencar palavras-chave pelos radicais de forma que agrupem os termos mais relevantes</li>\n",
    "<li>Plottarei distribuições com o objetivo de verificar a diferença de valores</li>\n",
    "<li>Usar esses radicais como filtro para analisar distribuições de frequências mais específicas </li>"
   ]
  },
  {
   "cell_type": "markdown",
   "metadata": {
    "collapsed": false
   },
   "source": [
    "A seguir, agruparei as palavras-chave por radicais e plotarei as distribuições\n",
    "<ul>\n",
    "<li>material</li>\n",
    "<li>secretaria</li>\n",
    "<li>alimentos</li>\n",
    "<li>municipal</li>\n",
    "<li>saúde</li>"
   ]
  },
  {
   "cell_type": "code",
   "execution_count": 34,
   "metadata": {
    "collapsed": false
   },
   "outputs": [],
   "source": [
    "# cria um dicionario que agrupa por radical e soma a conta\n",
    "root_nouns = ['mater', 'secret', 'aliment', 'municip', 'saúde', 'equip', \"veículo\" ]\n",
    "\n",
    "# talvez eu poderia ter feito de maneira mais performática, mas não consegui pensar em outra forma\n",
    "grouped_nouns_and_counts = {}\n",
    "for noun, count in nouns_and_counts:\n",
    "    for root in root_nouns:\n",
    "        if noun.startswith(root):\n",
    "            if root in grouped_nouns_and_counts:\n",
    "                grouped_nouns_and_counts[root] += count\n",
    "            else:\n",
    "                grouped_nouns_and_counts[root] = count\n",
    "\n",
    "# tentei desenvolver uma função para plotar as distribuições a partir dos radicais, mas não consegui fazer funcionar\n",
    "# from my_library import plot_boxplot_for_stems\n",
    "# plot_boxplot_for_stems(nouns_and_counts, root_nouns_to_include)"
   ]
  },
  {
   "cell_type": "code",
   "execution_count": 35,
   "metadata": {
    "collapsed": false
   },
   "outputs": [
    {
     "data": {
      "text/plain": [
       "{'secret': 12480,\n",
       " 'mater': 18428,\n",
       " 'saúde': 6916,\n",
       " 'equip': 5053,\n",
       " 'veículo': 5616,\n",
       " 'municip': 4317,\n",
       " 'aliment': 3558}"
      ]
     },
     "execution_count": 35,
     "metadata": {},
     "output_type": "execute_result"
    }
   ],
   "source": [
    "grouped_nouns_and_counts"
   ]
  },
  {
   "cell_type": "code",
   "execution_count": 36,
   "metadata": {
    "collapsed": false
   },
   "outputs": [
    {
     "data": {
      "image/png": "[encoded data removed]",
      "text/plain": [
       "<Figure size 640x480 with 1 Axes>"
      ]
     },
     "metadata": {},
     "output_type": "display_data"
    }
   ],
   "source": [
    "# Bar plot das distribuições baseadas no tamanho da coluna de descrições\n",
    "\n",
    "df_column_size = len(licitacoes['DS_OBJETO'])\n",
    "labels = list(grouped_nouns_and_counts.keys())\n",
    "values = [(v / df_column_size) * 100 for v in grouped_nouns_and_counts.values()]\n",
    "\n",
    "fig, ax = plt.subplots()\n",
    "ax.bar(labels, values)\n",
    "\n",
    "# Add the title and labels\n",
    "ax.set_title(\"Appearance count of root nouns\")\n",
    "ax.set_xlabel(\"Root noun\")\n",
    "ax.set_ylabel(\"Count (%)\")\n",
    "\n",
    "# Show the plot\n",
    "plt.show()"
   ]
  },
  {
   "cell_type": "code",
   "execution_count": 37,
   "metadata": {
    "collapsed": false
   },
   "outputs": [
    {
     "data": {
      "text/plain": [
       "0.23782862398791618"
      ]
     },
     "execution_count": 37,
     "metadata": {},
     "output_type": "execute_result"
    }
   ],
   "source": [
    "sum(grouped_nouns_and_counts.values())/df_column_size"
   ]
  },
  {
   "cell_type": "markdown",
   "metadata": {
    "collapsed": false
   },
   "source": [
    "#### levando em consideração os resultados apresentados, percebe-se que essas palavras-chave ocupam aproximadamente 24% do total de descrições de licitações. Logo, é possível afirmar que seria preciso mais palavras chaves para atingir o resultado obtido com a análise de substantivos para o ano isolado. A seguir, irei analisar as distribuições de frequências dessas palavras-chave."
   ]
  },
  {
   "cell_type": "markdown",
   "metadata": {
    "collapsed": false
   },
   "source": [
    "##### material"
   ]
  },
  {
   "cell_type": "code",
   "execution_count": 38,
   "metadata": {
    "collapsed": false
   },
   "outputs": [
    {
     "data": {
      "image/png": "[encoded data removed]",
      "text/plain": [
       "<Figure size 640x480 with 1 Axes>"
      ]
     },
     "metadata": {},
     "output_type": "display_data"
    }
   ],
   "source": [
    "from my_library import plot_bar_chart_for_filtered_df\n",
    "\n",
    "filtro = licitacoes_compras['DS_OBJETO'].str.match('mater', case = False)\n",
    "plot_bar_chart_for_filtered_df(licitacoes_compras, filtro, 'DS_OBJETO')"
   ]
  },
  {
   "cell_type": "markdown",
   "metadata": {
    "collapsed": false
   },
   "source": [
    "##### Pelos nomes estão impossíveis de ler, então vou deixar a legenda logo abaixo. Percebe-se também que a maioria dos valores estão concentrados em torno de 0, o que indica que elas podem estar englobadas na descrição \"materiais\""
   ]
  },
  {
   "cell_type": "code",
   "execution_count": 39,
   "metadata": {
    "collapsed": false
   },
   "outputs": [
    {
     "data": {
      "text/plain": [
       "material                                                                            191\n",
       "material permanente                                                                  30\n",
       "material expediente                                                                  30\n",
       "material higiene limpeza                                                             17\n",
       "material elétrico                                                                    15\n",
       "                                                                                   ... \n",
       "material manutenção veículo onix placa ixp 0710 chassi 9bgkl48vobh163856 - saúde      1\n",
       "material porta estação ( rodoviaria )                                                 1\n",
       "materiais canalização água loteamento industrial                                      1\n",
       "material manutenção adequações alojamento professores escola neuza brizola            1\n",
       "materiais copa cozinha centros referencia assistencia social - cras .                 1\n",
       "Name: DS_OBJETO, Length: 1159, dtype: int64"
      ]
     },
     "execution_count": 39,
     "metadata": {},
     "output_type": "execute_result"
    }
   ],
   "source": [
    "# legenda\n",
    "licitacoes_compras[filtro]['DS_OBJETO'].value_counts()"
   ]
  },
  {
   "cell_type": "markdown",
   "metadata": {
    "collapsed": false
   },
   "source": [
    "##### secretaria"
   ]
  },
  {
   "cell_type": "code",
   "execution_count": 40,
   "metadata": {
    "collapsed": false
   },
   "outputs": [
    {
     "data": {
      "image/png": "[encoded data removed]",
      "text/plain": [
       "<Figure size 640x480 with 1 Axes>"
      ]
     },
     "metadata": {},
     "output_type": "display_data"
    }
   ],
   "source": [
    "# secretaria\n",
    "filtro = licitacoes_compras['DS_OBJETO'].str.contains('secret')\n",
    "\n",
    "plot_bar_chart_for_filtered_df(licitacoes_compras, filtro, 'DS_OBJETO')"
   ]
  },
  {
   "cell_type": "code",
   "execution_count": 41,
   "metadata": {
    "collapsed": false
   },
   "outputs": [
    {
     "data": {
      "text/plain": [
       "aquisição medicamentos manutenção serviços distribuição população desenvolvida secretaria municipal saúde                                                                         73\n",
       "aquisição medicamentos manutenção serviços distribuição população desenvolvida secretaria municipal saúde .                                                                       22\n",
       "manutenção retroescavadeira case 580l , ano/modelo 2007/2007 , nº 111 , secretaria municipal obras viação                                                                         10\n",
       "aquisição gêneros alimentícios , material higiene limpeza , secretaria municipal assistência social habitação                                                                     10\n",
       "manutenção caminhão mercedes-benz sprinter 310d , ano/modelo 1998/1998 , placa iir 8455 , nº 106 , secretaria municipal obras viação , utilizado manutenção iluminação pública     9\n",
       "                                                                                                                                                                                  ..\n",
       "aquisição veículo zero km secretaria m. cidadânica assist . social - recurso igd bolsa família                                                                                     1\n",
       "aquisição combustível veículos máquinas município , conforme necessidade secretarias municipais .                                                                                  1\n",
       "registro preços notebooks , microcomputadores , nobreaks monitores todas secretarias municipio herval/rs .                                                                         1\n",
       "aquisição equipamentos diversas secretarias                                                                                                                                        1\n",
       "impressos diversos diversas secretarias município                                                                                                                                  1\n",
       "Name: DS_OBJETO, Length: 12821, dtype: int64"
      ]
     },
     "execution_count": 41,
     "metadata": {},
     "output_type": "execute_result"
    }
   ],
   "source": [
    "# legenda\n",
    "licitacoes_compras[filtro]['DS_OBJETO'].value_counts()"
   ]
  },
  {
   "cell_type": "markdown",
   "metadata": {
    "collapsed": false
   },
   "source": [
    "##### alimentos"
   ]
  },
  {
   "cell_type": "code",
   "execution_count": 42,
   "metadata": {
    "collapsed": false
   },
   "outputs": [
    {
     "data": {
      "image/png": "[encoded data removed]",
      "text/plain": [
       "<Figure size 640x480 with 1 Axes>"
      ]
     },
     "metadata": {},
     "output_type": "display_data"
    }
   ],
   "source": [
    "# alimentos\n",
    "filtro = licitacoes_compras['DS_OBJETO'].str.contains('aliment')\n",
    "\n",
    "plot_bar_chart_for_filtered_df(licitacoes_compras, filtro, 'DS_OBJETO')"
   ]
  },
  {
   "cell_type": "code",
   "execution_count": 43,
   "metadata": {
    "collapsed": false
   },
   "outputs": [
    {
     "data": {
      "text/plain": [
       "aquisição gêneros alimentícios merenda escolar                                                                                                                                                                                                                                                                                               94\n",
       "aquisição gêneros alimentícios merenda escolar .                                                                                                                                                                                                                                                                                             75\n",
       "aquisição gêneros alimentícios                                                                                                                                                                                                                                                                                                               73\n",
       "aquisição gêneros alimentícios agricultura familiar alimentação escolar                                                                                                                                                                                                                                                                      52\n",
       "aquisição gêneros alimentícios alimentação escolar .                                                                                                                                                                                                                                                                                         49\n",
       "                                                                                                                                                                                                                                                                                                                                             ..\n",
       "aquisição vinte seis estações tratamento água dosadores mecânicos automáticos aplicação produtos sólidos ( tabletes cloro cloro+flúor ) , através fluxo água , uso energia elétrica abrigo próprio - secretaria mun . agricultura , abast . segurança alimentar recursos fundo mun . gestão compartilhada - corsan . ( exclusivo me-epp )     1\n",
       "aquisição gêneros alimentícios câmara municipal gramado , conforme especificações quantitativos constantes anexo 1 presente edital .                                                                                                                                                                                                          1\n",
       "aquisição gêneros alimentícios agricultura familiar , uso merenda escolar rede municipal ensino segundo semestre letivo .                                                                                                                                                                                                                     1\n",
       "aquisição 2.500 kg feijão manutenção alimentação escolar .                                                                                                                                                                                                                                                                                    1\n",
       "aquisicao alimentacao escolar , meio chamada publica conforme lei federal n. 11947/2009 resolucao 38/2009 fnde atendimento alunos rede municipal ensino ( infantil fundamental ) .                                                                                                                                                            1\n",
       "Name: DS_OBJETO, Length: 5267, dtype: int64"
      ]
     },
     "execution_count": 43,
     "metadata": {},
     "output_type": "execute_result"
    }
   ],
   "source": [
    "# legenda\n",
    "licitacoes_compras[filtro]['DS_OBJETO'].value_counts()"
   ]
  },
  {
   "cell_type": "markdown",
   "metadata": {
    "collapsed": false
   },
   "source": [
    "##### municipal"
   ]
  },
  {
   "cell_type": "code",
   "execution_count": 44,
   "metadata": {
    "collapsed": false
   },
   "outputs": [
    {
     "data": {
      "image/png": "[encoded data removed]",
      "text/plain": [
       "<Figure size 640x480 with 1 Axes>"
      ]
     },
     "metadata": {},
     "output_type": "display_data"
    }
   ],
   "source": [
    "# municipal\n",
    "filtro = licitacoes_compras['DS_OBJETO'].str.contains('municip')\n",
    "\n",
    "plot_bar_chart_for_filtered_df(licitacoes_compras, filtro, 'DS_OBJETO')"
   ]
  },
  {
   "cell_type": "code",
   "execution_count": 45,
   "metadata": {
    "collapsed": false
   },
   "outputs": [
    {
     "data": {
      "text/plain": [
       "aquisição medicamentos manutenção serviços distribuição população desenvolvida secretaria municipal saúde                                                                                  73\n",
       "aquisição medicamentos manutenção serviços distribuição população desenvolvida secretaria municipal saúde .                                                                                22\n",
       "aquisição gêneros alimentícios alimentação escolas rede municipal ensino .                                                                                                                 19\n",
       "aquisição gêneros alimentícios merenda escolas municipais apae                                                                                                                             14\n",
       "aquisição gêneros alimentícios escolas municipais                                                                                                                                          12\n",
       "                                                                                                                                                                                           ..\n",
       "seleção propostas visando contratação empresa realizar serviços acessoria consultoria melhoramento arrecadação tributos municipais .                                                        1\n",
       "aquisição material higiene limpeza manutenção proprios municipio                                                                                                                            1\n",
       "aquisição parcelada gêneros alimentícios perecíveis perecíveis destinado merenda escolar escolas municipais , programa nacional alimentação escolar programa atenção integral família .     1\n",
       "aquisição material ambulatorial odontológico , conforme solicitação secretaria municipal saúde .                                                                                            1\n",
       "contratação prestação serviços recapagem quente , vulcanização conserto pneus , acordo quantidades especificações frota municipal vendelino                                                 1\n",
       "Name: DS_OBJETO, Length: 15407, dtype: int64"
      ]
     },
     "execution_count": 45,
     "metadata": {},
     "output_type": "execute_result"
    }
   ],
   "source": [
    "# legenda\n",
    "licitacoes_compras[filtro]['DS_OBJETO'].value_counts()"
   ]
  },
  {
   "cell_type": "markdown",
   "metadata": {
    "collapsed": false
   },
   "source": [
    "##### saúde"
   ]
  },
  {
   "cell_type": "code",
   "execution_count": 46,
   "metadata": {
    "collapsed": false
   },
   "outputs": [
    {
     "data": {
      "image/png": "[encoded data removed]",
      "text/plain": [
       "<Figure size 640x480 with 1 Axes>"
      ]
     },
     "metadata": {},
     "output_type": "display_data"
    }
   ],
   "source": [
    "# saúde\n",
    "filtro = licitacoes_compras['DS_OBJETO'].str.contains('saúde')\n",
    "\n",
    "plot_bar_chart_for_filtered_df(licitacoes_compras, filtro, 'DS_OBJETO')"
   ]
  },
  {
   "cell_type": "code",
   "execution_count": 47,
   "metadata": {
    "collapsed": false
   },
   "outputs": [
    {
     "data": {
      "text/plain": [
       "aquisição medicamentos manutenção serviços distribuição população desenvolvida secretaria municipal saúde                                                                                                                                                         73\n",
       "aquisição medicamentos manutenção serviços distribuição população desenvolvida secretaria municipal saúde .                                                                                                                                                       22\n",
       "registro preços aquisição material ambulatorial forma parcelada secretaria municipal saúde .                                                                                                                                                                       9\n",
       "aquisição equipamentos secretaria municipal saúde                                                                                                                                                                                                                  8\n",
       "aquisição equipamentos unidade básica saúde                                                                                                                                                                                                                        8\n",
       "                                                                                                                                                                                                                                                                  ..\n",
       "relógio ponto leitor biométrico unidades saúde município .                                                                                                                                                                                                         1\n",
       "aquisição lavadora alta pressão unidade básica saúde microcomputador cadastro único . processo licitatório exclusivo empresas beneficiárias lc nº 123/2006 .                                                                                                       1\n",
       "contratação farmácia fornecimento medicamentos disponíveis rede básica saúde , valor praticado estabelecimento baseado tabela preços pmc , apresentada anvisa , aplicando-se 5 % ( cinco cento ) desconto .                                                        1\n",
       "fornecimento emergencial imediato 02 ampolas/mês medicamento omalizumabe ( xolair ) 150mg , disponibilização paciente/munícipe lidiane andra sandri caverzan tratamento saúde , atendimento ordem judicial liminar deferida processo 9000446-39.2017.8.21.0050     1\n",
       "aquisição fraldas descartáveis pacientes cadastrados sistema gerenciamento pessoas deficiência ( gud ) , conforme memorando interno secretaria saúde processo nº : 2019/542 .                                                                                      1\n",
       "Name: DS_OBJETO, Length: 6248, dtype: int64"
      ]
     },
     "execution_count": 47,
     "metadata": {},
     "output_type": "execute_result"
    }
   ],
   "source": [
    "# legenda\n",
    "licitacoes_compras[filtro]['DS_OBJETO'].value_counts()"
   ]
  },
  {
   "cell_type": "markdown",
   "metadata": {
    "collapsed": false
   },
   "source": [
    "##### equipamentos"
   ]
  },
  {
   "cell_type": "code",
   "execution_count": 48,
   "metadata": {
    "collapsed": false
   },
   "outputs": [
    {
     "data": {
      "image/png": "[encoded data removed]",
      "text/plain": [
       "<Figure size 640x480 with 1 Axes>"
      ]
     },
     "metadata": {},
     "output_type": "display_data"
    }
   ],
   "source": [
    "# equipamentos\n",
    "filtro = licitacoes_compras['DS_OBJETO'].str.contains('equip')\n",
    "\n",
    "plot_bar_chart_for_filtered_df(licitacoes_compras, filtro, 'DS_OBJETO')"
   ]
  },
  {
   "cell_type": "code",
   "execution_count": 49,
   "metadata": {
    "collapsed": false
   },
   "outputs": [
    {
     "data": {
      "text/plain": [
       "aquisição bens ( s ) família ( s ) :0035-equipamentos p/informatica ;                                                                                                                                              86\n",
       "aquisição equipamentos informática                                                                                                                                                                                 67\n",
       "aquisição bens ( s ) família ( s ) :0870-equipamentos/materiais medico-hospitalares/enfermagem ;                                                                                                                   55\n",
       "aquisição bens ( s ) família ( s ) :0515-equipamentos/materiais seguranca protecao ;                                                                                                                               46\n",
       "aquisição bens ( s ) família ( s ) :0830-equipamentos/materiais p/laboratorio ;                                                                                                                                    45\n",
       "                                                                                                                                                                                                                   ..\n",
       "aquisição conjuntos epr , equipamentos arreio , mascara cilindro , corpo bombeiros canela/rs .                                                                                                                      1\n",
       "registro preços futuras aquisições parceladas equipamentos mobiliário médico hospitalar odontológico .                                                                                                              1\n",
       "aquisição diversos mobiliários equipamentos equipar escolas municipais educação infantil - emei .                                                                                                                   1\n",
       "aquisição mobiliários equipamentos equipar emei através plano ações articuladas recursos mec-fnde - termo compromisso par nº 201.600.302                                                                            1\n",
       "registro precos aquisicao equipamentos informatica , conforme condicoes , quantidades , exigencias estimativas estabelecidas neste instrumento , periodo 12 meses , atender necessidades camara vereadores bage     1\n",
       "Name: DS_OBJETO, Length: 6509, dtype: int64"
      ]
     },
     "execution_count": 49,
     "metadata": {},
     "output_type": "execute_result"
    }
   ],
   "source": [
    "# legenda\n",
    "licitacoes_compras[filtro]['DS_OBJETO'].value_counts()"
   ]
  },
  {
   "cell_type": "markdown",
   "metadata": {
    "collapsed": false
   },
   "source": [
    "##### veículos"
   ]
  },
  {
   "cell_type": "code",
   "execution_count": 50,
   "metadata": {
    "collapsed": false
   },
   "outputs": [
    {
     "data": {
      "image/png": "[encoded data removed]",
      "text/plain": [
       "<Figure size 640x480 with 1 Axes>"
      ]
     },
     "metadata": {},
     "output_type": "display_data"
    }
   ],
   "source": [
    "# veículos\n",
    "filtro = licitacoes_compras['DS_OBJETO'].str.contains('veículo')\n",
    "\n",
    "plot_bar_chart_for_filtered_df(licitacoes_compras, filtro, 'DS_OBJETO')"
   ]
  },
  {
   "cell_type": "code",
   "execution_count": 51,
   "metadata": {
    "collapsed": false
   },
   "outputs": [
    {
     "data": {
      "text/plain": [
       "aquisição veículos                                                                                                                                                                                                                                                                                                                                                                                                                                                                                  31\n",
       "aquisição veículo                                                                                                                                                                                                                                                                                                                                                                                                                                                                                   18\n",
       "aquisição veículo novo                                                                                                                                                                                                                                                                                                                                                                                                                                                                              16\n",
       "aquisição veículo zero km                                                                                                                                                                                                                                                                                                                                                                                                                                                                           13\n",
       "aquisição veículo zero quilômetro                                                                                                                                                                                                                                                                                                                                                                                                                                                                   10\n",
       "                                                                                                                                                                                                                                                                                                                                                                                                                                                                                                    ..\n",
       "observação : material manutenção retroescavadeira randon observação : material manutençao patrola cater piler 120k observação : material manutenção iveco placa/ irp 9500 observação : material manutenção veículo rolo yto observação : material manutenção caminhão mercedes /placa : idb 1502                                                                                                                                                                                                     1\n",
       "aquisição veículo seminovo , destinado uso secretaria municipal saúde/cras , conforme especificações indicadas anexo ii .                                                                                                                                                                                                                                                                                                                                                                            1\n",
       "material utilizado tacógrafo veículo master placa okh 3369 - saúde                                                                                                                                                                                                                                                                                                                                                                                                                                   1\n",
       "obeservação : material manutenção veículo - uno ipy 8928 observação : material manutenção veículo uno ipy8928 observação : combustiveis lubrificantes automotivos- retroescavadeira randon observação : material manutenção veículo muck ito 1867 combustivel lubrificantes roçadeiras sthill secretaria observação : material manutenção veículo - sandero iri 1029 observação : material manutençao consumo - caminhão agralle baú observação : marerial manutenção veículo- caminhão iwr 9014     1\n",
       "aquisição veículo tipo van acessibilidade cadeirante .                                                                                                                                                                                                                                                                                                                                                                                                                                               1\n",
       "Name: DS_OBJETO, Length: 5256, dtype: int64"
      ]
     },
     "execution_count": 51,
     "metadata": {},
     "output_type": "execute_result"
    }
   ],
   "source": [
    "# legenda\n",
    "licitacoes_compras[filtro]['DS_OBJETO'].value_counts()"
   ]
  },
  {
   "cell_type": "markdown",
   "metadata": {
    "collapsed": false
   },
   "source": [
    "### Agora, irei analisar o comportamento dos órgãos licitantes em relação ao valor total licitado. Para isso, irei agrupar os órgãos por valor total licitado e plotar um gráfico de barras."
   ]
  },
  {
   "cell_type": "code",
   "execution_count": 52,
   "metadata": {
    "collapsed": false
   },
   "outputs": [
    {
     "data": {
      "text/plain": [
       "PM DE GUAPORÉ                                   1801\n",
       "CENTRAL DE LICITAÇÕES DO ESTADO                 1251\n",
       "PM DE PELOTAS                                   1128\n",
       "PM DE PEDRAS ALTAS                              1099\n",
       "SECRETARIA DA SAÚDE DO RS                       1066\n",
       "                                                ... \n",
       "CM DE CAMPO NOVO                                   1\n",
       "CM DE ESTRELA                                      1\n",
       "SECRETARIA DO MEIO AMBIENTE E INFRAESTRUTURA       1\n",
       "INST. PREV. SERV. PUBL. MUNIC. DE IJUÍ             1\n",
       "CM DE HERVEIRAS                                    1\n",
       "Name: NM_ORGAO, Length: 843, dtype: int64"
      ]
     },
     "execution_count": 52,
     "metadata": {},
     "output_type": "execute_result"
    }
   ],
   "source": [
    "licitacoes_compras['NM_ORGAO'].value_counts()"
   ]
  },
  {
   "cell_type": "code",
   "execution_count": 53,
   "metadata": {
    "collapsed": false
   },
   "outputs": [],
   "source": [
    "# agrupando os órgãos por valor total licitado\n",
    "orgaos_e_valores = licitacoes_compras.groupby('NM_ORGAO')['VL_HOMOLOGADO'].sum().sort_values(ascending = False).head(10)"
   ]
  },
  {
   "cell_type": "code",
   "execution_count": 54,
   "metadata": {
    "collapsed": false
   },
   "outputs": [
    {
     "data": {
      "text/plain": [
       "NM_ORGAO\n",
       "PM DE VIAMÃO               5.086802e+09\n",
       "PM DE TAPERA               1.605119e+09\n",
       "PM DE PORTO ALEGRE         5.724574e+08\n",
       "PM DE HERVAL               4.797792e+08\n",
       "PM DE CANGUÇU              3.151533e+08\n",
       "PM DE CAXIAS DO SUL        1.719213e+08\n",
       "PM DE ELDORADO DO SUL      1.575752e+08\n",
       "PM DE SANTA CRUZ DO SUL    1.557504e+08\n",
       "PM DE ROSÁRIO DO SUL       1.526500e+08\n",
       "PM DE QUARAÍ               1.053429e+08\n",
       "Name: VL_HOMOLOGADO, dtype: float64"
      ]
     },
     "execution_count": 54,
     "metadata": {},
     "output_type": "execute_result"
    }
   ],
   "source": [
    "orgaos_e_valores\n",
    "# top 10 orgãos que mais licitaram durante todo o período apresentado"
   ]
  },
  {
   "cell_type": "code",
   "execution_count": 55,
   "metadata": {
    "collapsed": false
   },
   "outputs": [
    {
     "data": {
      "image/png": "[encoded data removed]",
      "text/plain": [
       "<Figure size 640x480 with 1 Axes>"
      ]
     },
     "metadata": {},
     "output_type": "display_data"
    }
   ],
   "source": [
    "top_10_orgaos = orgaos_e_valores.reset_index()\n",
    "\n",
    "top_10_orgaos.plot.bar(x='NM_ORGAO', rot=0)\n",
    "\n",
    "plt.title('Top 10 órgãos licitantes em 2016')\n",
    "plt.xlabel('Órgão')\n",
    "plt.ylabel('Valor total licitado (R$)')\n",
    "\n",
    "plt.show()"
   ]
  },
  {
   "cell_type": "code",
   "execution_count": 56,
   "metadata": {
    "collapsed": false
   },
   "outputs": [
    {
     "data": {
      "text/plain": [
       "Index(['PM DE VIAMÃO', 'PM DE TAPERA', 'PM DE PORTO ALEGRE', 'PM DE HERVAL',\n",
       "       'PM DE CANGUÇU', 'PM DE CAXIAS DO SUL', 'PM DE ELDORADO DO SUL',\n",
       "       'PM DE SANTA CRUZ DO SUL', 'PM DE ROSÁRIO DO SUL', 'PM DE QUARAÍ'],\n",
       "      dtype='object', name='NM_ORGAO')"
      ]
     },
     "execution_count": 56,
     "metadata": {},
     "output_type": "execute_result"
    }
   ],
   "source": [
    "# legenda dos valores\n",
    "orgaos_e_valores.keys()"
   ]
  },
  {
   "cell_type": "markdown",
   "metadata": {
    "collapsed": false
   },
   "source": [
    "### Agora, irei analisar o comportamento das licitações. Quanto tempo elas tendem a demorar para serem homologadas? Quanto tempo elas tendem a demorar para serem adjudicadas? Quanto tempo elas tendem a demorar para serem abertas? Quanto tempo elas tendem a demorar para serem encerradas?"
   ]
  },
  {
   "cell_type": "code",
   "execution_count": 57,
   "metadata": {
    "collapsed": false
   },
   "outputs": [],
   "source": [
    "filter = ~licitacoes_compras['DT_HOMOLOGACAO'].str.contains('Não') & ~licitacoes_compras['DT_ADJUDICACAO'].str.contains('Não')\n",
    "\n",
    "datetimes_licitacoes = licitacoes_compras[filter][['DT_ABERTURA', 'DT_HOMOLOGACAO', 'DT_ADJUDICACAO']]"
   ]
  },
  {
   "cell_type": "code",
   "execution_count": 58,
   "metadata": {
    "collapsed": false
   },
   "outputs": [
    {
     "data": {
      "text/html": [
       "<div>\n",
       "<style scoped>\n",
       "    .dataframe tbody tr th:only-of-type {\n",
       "        vertical-align: middle;\n",
       "    }\n",
       "\n",
       "    .dataframe tbody tr th {\n",
       "        vertical-align: top;\n",
       "    }\n",
       "\n",
       "    .dataframe thead th {\n",
       "        text-align: right;\n",
       "    }\n",
       "</style>\n",
       "<table border=\"1\" class=\"dataframe\">\n",
       "  <thead>\n",
       "    <tr style=\"text-align: right;\">\n",
       "      <th></th>\n",
       "      <th>DT_ABERTURA</th>\n",
       "      <th>DT_HOMOLOGACAO</th>\n",
       "      <th>DT_ADJUDICACAO</th>\n",
       "    </tr>\n",
       "  </thead>\n",
       "  <tbody>\n",
       "    <tr>\n",
       "      <th>1</th>\n",
       "      <td>2016-01-22</td>\n",
       "      <td>2016-01-29</td>\n",
       "      <td>2016-01-29</td>\n",
       "    </tr>\n",
       "    <tr>\n",
       "      <th>2</th>\n",
       "      <td>2016-01-26</td>\n",
       "      <td>2016-02-01</td>\n",
       "      <td>2016-02-01</td>\n",
       "    </tr>\n",
       "    <tr>\n",
       "      <th>3</th>\n",
       "      <td>2016-02-02</td>\n",
       "      <td>2016-02-11</td>\n",
       "      <td>2016-02-11</td>\n",
       "    </tr>\n",
       "    <tr>\n",
       "      <th>5</th>\n",
       "      <td>2016-02-12</td>\n",
       "      <td>2016-02-15</td>\n",
       "      <td>2016-02-15</td>\n",
       "    </tr>\n",
       "    <tr>\n",
       "      <th>6</th>\n",
       "      <td>2016-01-25</td>\n",
       "      <td>2016-01-28</td>\n",
       "      <td>2016-01-28</td>\n",
       "    </tr>\n",
       "    <tr>\n",
       "      <th>...</th>\n",
       "      <td>...</td>\n",
       "      <td>...</td>\n",
       "      <td>...</td>\n",
       "    </tr>\n",
       "    <tr>\n",
       "      <th>70518</th>\n",
       "      <td>2019-05-22</td>\n",
       "      <td>2019-07-11</td>\n",
       "      <td>2019-07-09</td>\n",
       "    </tr>\n",
       "    <tr>\n",
       "      <th>70519</th>\n",
       "      <td>2019-05-21</td>\n",
       "      <td>2019-05-28</td>\n",
       "      <td>2019-05-24</td>\n",
       "    </tr>\n",
       "    <tr>\n",
       "      <th>70524</th>\n",
       "      <td>2019-05-02</td>\n",
       "      <td>2019-05-06</td>\n",
       "      <td>2019-05-06</td>\n",
       "    </tr>\n",
       "    <tr>\n",
       "      <th>70536</th>\n",
       "      <td>2019-02-08</td>\n",
       "      <td>2019-02-08</td>\n",
       "      <td>2019-02-08</td>\n",
       "    </tr>\n",
       "    <tr>\n",
       "      <th>70545</th>\n",
       "      <td>2019-04-24</td>\n",
       "      <td>2019-04-25</td>\n",
       "      <td>2019-04-25</td>\n",
       "    </tr>\n",
       "  </tbody>\n",
       "</table>\n",
       "<p>57598 rows × 3 columns</p>\n",
       "</div>"
      ],
      "text/plain": [
       "      DT_ABERTURA DT_HOMOLOGACAO DT_ADJUDICACAO\n",
       "1      2016-01-22     2016-01-29     2016-01-29\n",
       "2      2016-01-26     2016-02-01     2016-02-01\n",
       "3      2016-02-02     2016-02-11     2016-02-11\n",
       "5      2016-02-12     2016-02-15     2016-02-15\n",
       "6      2016-01-25     2016-01-28     2016-01-28\n",
       "...           ...            ...            ...\n",
       "70518  2019-05-22     2019-07-11     2019-07-09\n",
       "70519  2019-05-21     2019-05-28     2019-05-24\n",
       "70524  2019-05-02     2019-05-06     2019-05-06\n",
       "70536  2019-02-08     2019-02-08     2019-02-08\n",
       "70545  2019-04-24     2019-04-25     2019-04-25\n",
       "\n",
       "[57598 rows x 3 columns]"
      ]
     },
     "execution_count": 58,
     "metadata": {},
     "output_type": "execute_result"
    }
   ],
   "source": [
    "datetimes_licitacoes"
   ]
  },
  {
   "cell_type": "code",
   "execution_count": 59,
   "metadata": {
    "collapsed": false
   },
   "outputs": [
    {
     "ename": "OutOfBoundsDatetime",
     "evalue": "Out of bounds nanosecond timestamp: 19-06-05 00:00:00 present at position 1042",
     "output_type": "error",
     "traceback": [
      "\u001b[1;31m---------------------------------------------------------------------------\u001b[0m",
      "\u001b[1;31mOutOfBoundsDatetime\u001b[0m                       Traceback (most recent call last)",
      "Cell \u001b[1;32mIn[59], line 1\u001b[0m\n\u001b[1;32m----> 1\u001b[0m datetimes_licitacoes[\u001b[39m'\u001b[39m\u001b[39mDT_ABERTURA\u001b[39m\u001b[39m'\u001b[39m] \u001b[39m=\u001b[39m pd\u001b[39m.\u001b[39;49mto_datetime(datetimes_licitacoes[\u001b[39m'\u001b[39;49m\u001b[39mDT_ABERTURA\u001b[39;49m\u001b[39m'\u001b[39;49m])\n",
      "File \u001b[1;32mc:\\Users\\joaop\\anaconda3\\envs\\dsb_env\\lib\\site-packages\\pandas\\core\\tools\\datetimes.py:1064\u001b[0m, in \u001b[0;36mto_datetime\u001b[1;34m(arg, errors, dayfirst, yearfirst, utc, format, exact, unit, infer_datetime_format, origin, cache)\u001b[0m\n\u001b[0;32m   1062\u001b[0m             result \u001b[39m=\u001b[39m arg\u001b[39m.\u001b[39mtz_localize(tz)\n\u001b[0;32m   1063\u001b[0m \u001b[39melif\u001b[39;00m \u001b[39misinstance\u001b[39m(arg, ABCSeries):\n\u001b[1;32m-> 1064\u001b[0m     cache_array \u001b[39m=\u001b[39m _maybe_cache(arg, \u001b[39mformat\u001b[39;49m, cache, convert_listlike)\n\u001b[0;32m   1065\u001b[0m     \u001b[39mif\u001b[39;00m \u001b[39mnot\u001b[39;00m cache_array\u001b[39m.\u001b[39mempty:\n\u001b[0;32m   1066\u001b[0m         result \u001b[39m=\u001b[39m arg\u001b[39m.\u001b[39mmap(cache_array)\n",
      "File \u001b[1;32mc:\\Users\\joaop\\anaconda3\\envs\\dsb_env\\lib\\site-packages\\pandas\\core\\tools\\datetimes.py:229\u001b[0m, in \u001b[0;36m_maybe_cache\u001b[1;34m(arg, format, cache, convert_listlike)\u001b[0m\n\u001b[0;32m    227\u001b[0m unique_dates \u001b[39m=\u001b[39m unique(arg)\n\u001b[0;32m    228\u001b[0m \u001b[39mif\u001b[39;00m \u001b[39mlen\u001b[39m(unique_dates) \u001b[39m<\u001b[39m \u001b[39mlen\u001b[39m(arg):\n\u001b[1;32m--> 229\u001b[0m     cache_dates \u001b[39m=\u001b[39m convert_listlike(unique_dates, \u001b[39mformat\u001b[39;49m)\n\u001b[0;32m    230\u001b[0m     \u001b[39m# GH#45319\u001b[39;00m\n\u001b[0;32m    231\u001b[0m     \u001b[39mtry\u001b[39;00m:\n",
      "File \u001b[1;32mc:\\Users\\joaop\\anaconda3\\envs\\dsb_env\\lib\\site-packages\\pandas\\core\\tools\\datetimes.py:438\u001b[0m, in \u001b[0;36m_convert_listlike_datetimes\u001b[1;34m(arg, format, name, tz, unit, errors, infer_datetime_format, dayfirst, yearfirst, exact)\u001b[0m\n\u001b[0;32m    436\u001b[0m \u001b[39massert\u001b[39;00m \u001b[39mformat\u001b[39m \u001b[39mis\u001b[39;00m \u001b[39mNone\u001b[39;00m \u001b[39mor\u001b[39;00m infer_datetime_format\n\u001b[0;32m    437\u001b[0m utc \u001b[39m=\u001b[39m tz \u001b[39m==\u001b[39m \u001b[39m\"\u001b[39m\u001b[39mutc\u001b[39m\u001b[39m\"\u001b[39m\n\u001b[1;32m--> 438\u001b[0m result, tz_parsed \u001b[39m=\u001b[39m objects_to_datetime64ns(\n\u001b[0;32m    439\u001b[0m     arg,\n\u001b[0;32m    440\u001b[0m     dayfirst\u001b[39m=\u001b[39;49mdayfirst,\n\u001b[0;32m    441\u001b[0m     yearfirst\u001b[39m=\u001b[39;49myearfirst,\n\u001b[0;32m    442\u001b[0m     utc\u001b[39m=\u001b[39;49mutc,\n\u001b[0;32m    443\u001b[0m     errors\u001b[39m=\u001b[39;49merrors,\n\u001b[0;32m    444\u001b[0m     require_iso8601\u001b[39m=\u001b[39;49mrequire_iso8601,\n\u001b[0;32m    445\u001b[0m     allow_object\u001b[39m=\u001b[39;49m\u001b[39mTrue\u001b[39;49;00m,\n\u001b[0;32m    446\u001b[0m )\n\u001b[0;32m    448\u001b[0m \u001b[39mif\u001b[39;00m tz_parsed \u001b[39mis\u001b[39;00m \u001b[39mnot\u001b[39;00m \u001b[39mNone\u001b[39;00m:\n\u001b[0;32m    449\u001b[0m     \u001b[39m# We can take a shortcut since the datetime64 numpy array\u001b[39;00m\n\u001b[0;32m    450\u001b[0m     \u001b[39m# is in UTC\u001b[39;00m\n\u001b[0;32m    451\u001b[0m     dta \u001b[39m=\u001b[39m DatetimeArray(result, dtype\u001b[39m=\u001b[39mtz_to_dtype(tz_parsed))\n",
      "File \u001b[1;32mc:\\Users\\joaop\\anaconda3\\envs\\dsb_env\\lib\\site-packages\\pandas\\core\\arrays\\datetimes.py:2177\u001b[0m, in \u001b[0;36mobjects_to_datetime64ns\u001b[1;34m(data, dayfirst, yearfirst, utc, errors, require_iso8601, allow_object, allow_mixed)\u001b[0m\n\u001b[0;32m   2175\u001b[0m order: Literal[\u001b[39m\"\u001b[39m\u001b[39mF\u001b[39m\u001b[39m\"\u001b[39m, \u001b[39m\"\u001b[39m\u001b[39mC\u001b[39m\u001b[39m\"\u001b[39m] \u001b[39m=\u001b[39m \u001b[39m\"\u001b[39m\u001b[39mF\u001b[39m\u001b[39m\"\u001b[39m \u001b[39mif\u001b[39;00m flags\u001b[39m.\u001b[39mf_contiguous \u001b[39melse\u001b[39;00m \u001b[39m\"\u001b[39m\u001b[39mC\u001b[39m\u001b[39m\"\u001b[39m\n\u001b[0;32m   2176\u001b[0m \u001b[39mtry\u001b[39;00m:\n\u001b[1;32m-> 2177\u001b[0m     result, tz_parsed \u001b[39m=\u001b[39m tslib\u001b[39m.\u001b[39;49marray_to_datetime(\n\u001b[0;32m   2178\u001b[0m         data\u001b[39m.\u001b[39;49mravel(\u001b[39m\"\u001b[39;49m\u001b[39mK\u001b[39;49m\u001b[39m\"\u001b[39;49m),\n\u001b[0;32m   2179\u001b[0m         errors\u001b[39m=\u001b[39;49merrors,\n\u001b[0;32m   2180\u001b[0m         utc\u001b[39m=\u001b[39;49mutc,\n\u001b[0;32m   2181\u001b[0m         dayfirst\u001b[39m=\u001b[39;49mdayfirst,\n\u001b[0;32m   2182\u001b[0m         yearfirst\u001b[39m=\u001b[39;49myearfirst,\n\u001b[0;32m   2183\u001b[0m         require_iso8601\u001b[39m=\u001b[39;49mrequire_iso8601,\n\u001b[0;32m   2184\u001b[0m         allow_mixed\u001b[39m=\u001b[39;49mallow_mixed,\n\u001b[0;32m   2185\u001b[0m     )\n\u001b[0;32m   2186\u001b[0m     result \u001b[39m=\u001b[39m result\u001b[39m.\u001b[39mreshape(data\u001b[39m.\u001b[39mshape, order\u001b[39m=\u001b[39morder)\n\u001b[0;32m   2187\u001b[0m \u001b[39mexcept\u001b[39;00m \u001b[39mOverflowError\u001b[39;00m \u001b[39mas\u001b[39;00m err:\n\u001b[0;32m   2188\u001b[0m     \u001b[39m# Exception is raised when a part of date is greater than 32 bit signed int\u001b[39;00m\n",
      "File \u001b[1;32mc:\\Users\\joaop\\anaconda3\\envs\\dsb_env\\lib\\site-packages\\pandas\\_libs\\tslib.pyx:427\u001b[0m, in \u001b[0;36mpandas._libs.tslib.array_to_datetime\u001b[1;34m()\u001b[0m\n",
      "File \u001b[1;32mc:\\Users\\joaop\\anaconda3\\envs\\dsb_env\\lib\\site-packages\\pandas\\_libs\\tslib.pyx:678\u001b[0m, in \u001b[0;36mpandas._libs.tslib.array_to_datetime\u001b[1;34m()\u001b[0m\n",
      "File \u001b[1;32mc:\\Users\\joaop\\anaconda3\\envs\\dsb_env\\lib\\site-packages\\pandas\\_libs\\tslib.pyx:674\u001b[0m, in \u001b[0;36mpandas._libs.tslib.array_to_datetime\u001b[1;34m()\u001b[0m\n",
      "File \u001b[1;32mc:\\Users\\joaop\\anaconda3\\envs\\dsb_env\\lib\\site-packages\\pandas\\_libs\\tslib.pyx:649\u001b[0m, in \u001b[0;36mpandas._libs.tslib.array_to_datetime\u001b[1;34m()\u001b[0m\n",
      "File \u001b[1;32mc:\\Users\\joaop\\anaconda3\\envs\\dsb_env\\lib\\site-packages\\pandas\\_libs\\tslibs\\np_datetime.pyx:212\u001b[0m, in \u001b[0;36mpandas._libs.tslibs.np_datetime.check_dts_bounds\u001b[1;34m()\u001b[0m\n",
      "\u001b[1;31mOutOfBoundsDatetime\u001b[0m: Out of bounds nanosecond timestamp: 19-06-05 00:00:00 present at position 1042"
     ]
    }
   ],
   "source": [
    "datetimes_licitacoes['DT_ABERTURA'] = pd.to_datetime(datetimes_licitacoes['DT_ABERTURA'])"
   ]
  },
  {
   "cell_type": "markdown",
   "metadata": {
    "collapsed": false
   },
   "source": [
    "#### Me parece que um registro está com a data de abertura em formato errado. Vou verificar."
   ]
  },
  {
   "cell_type": "code",
   "execution_count": 60,
   "metadata": {
    "collapsed": false
   },
   "outputs": [],
   "source": [
    "try:\n",
    "    datetimes_licitacoes['DT_ABERTURA'] = pd.to_datetime(datetimes_licitacoes['DT_ABERTURA'])\n",
    "except ValueError:\n",
    "    # If there is an error, find the row that is causing it\n",
    "    error_index = datetimes_licitacoes[pd.to_datetime(datetimes_licitacoes['DT_ABERTURA'], errors='coerce').isna()].index\n",
    "    # Drop the row\n",
    "    datetimes_licitacoes.drop(error_index, inplace=True)"
   ]
  },
  {
   "cell_type": "code",
   "execution_count": 61,
   "metadata": {
    "collapsed": false
   },
   "outputs": [],
   "source": [
    "datetimes_licitacoes['DT_ABERTURA'] = pd.to_datetime(datetimes_licitacoes['DT_ABERTURA'], format='%Y-%m-%d')"
   ]
  },
  {
   "cell_type": "code",
   "execution_count": 62,
   "metadata": {
    "collapsed": false
   },
   "outputs": [],
   "source": [
    "datetimes_licitacoes['DT_HOMOLOGACAO'] = pd.to_datetime(datetimes_licitacoes['DT_HOMOLOGACAO'], format='%Y-%m-%d')"
   ]
  },
  {
   "cell_type": "code",
   "execution_count": 63,
   "metadata": {
    "collapsed": false
   },
   "outputs": [],
   "source": [
    "datetimes_licitacoes['DT_ADJUDICACAO'] = pd.to_datetime(datetimes_licitacoes['DT_ADJUDICACAO'], format='%Y-%m-%d')"
   ]
  },
  {
   "cell_type": "markdown",
   "metadata": {
    "collapsed": false
   },
   "source": [
    "#### Tempo de abertura - homologação"
   ]
  },
  {
   "cell_type": "code",
   "execution_count": 64,
   "metadata": {
    "collapsed": false
   },
   "outputs": [],
   "source": [
    "from my_library import calculate_working_days\n",
    "def calculate_working_days_column(col1, col2):\n",
    "    return calculate_working_days(col1, col2)\n",
    "\n",
    "datetimes_licitacoes['tempo_abertura_homologacao'] = datetimes_licitacoes.apply(lambda x: calculate_working_days_column(x['DT_ABERTURA'], x['DT_HOMOLOGACAO']), axis=1)"
   ]
  },
  {
   "cell_type": "code",
   "execution_count": 65,
   "metadata": {
    "collapsed": false
   },
   "outputs": [
    {
     "data": {
      "text/plain": [
       "count    57593.000000\n",
       "mean         9.700710\n",
       "std         16.891064\n",
       "min          0.000000\n",
       "25%          2.000000\n",
       "50%          5.000000\n",
       "75%         11.000000\n",
       "max        556.000000\n",
       "Name: tempo_abertura_homologacao, dtype: float64"
      ]
     },
     "execution_count": 65,
     "metadata": {},
     "output_type": "execute_result"
    }
   ],
   "source": [
    "datetimes_licitacoes['tempo_abertura_homologacao'].describe()"
   ]
  },
  {
   "cell_type": "markdown",
   "metadata": {
    "collapsed": false
   },
   "source": [
    "##### É possível observar que existe uma diferença média de 10 dias, porém, o desvio padrão é de 17 dias, o que indica que há uma grande variação nos tempos de homologação. A fim de evitar a influencia de outliers, podemos levantar a hipótese de que os tempos de homologação estejam de acordo com a mediana(50%), que é de 5 dias."
   ]
  },
  {
   "cell_type": "markdown",
   "metadata": {
    "collapsed": false
   },
   "source": [
    "#### Tempo de homologação - adjudicação"
   ]
  },
  {
   "cell_type": "code",
   "execution_count": 66,
   "metadata": {
    "collapsed": false
   },
   "outputs": [],
   "source": [
    "datetimes_licitacoes['tempo_homologacao_adjudicacao'] = datetimes_licitacoes.apply(lambda x: calculate_working_days_column(x['DT_HOMOLOGACAO'], x['DT_ADJUDICACAO']), axis=1)"
   ]
  },
  {
   "cell_type": "code",
   "execution_count": 67,
   "metadata": {
    "collapsed": false
   },
   "outputs": [
    {
     "data": {
      "text/plain": [
       "count    57593.000000\n",
       "mean         0.921900\n",
       "std          3.084405\n",
       "min          0.000000\n",
       "25%          1.000000\n",
       "50%          1.000000\n",
       "75%          1.000000\n",
       "max        332.000000\n",
       "Name: tempo_homologacao_adjudicacao, dtype: float64"
      ]
     },
     "execution_count": 67,
     "metadata": {},
     "output_type": "execute_result"
    }
   ],
   "source": [
    "datetimes_licitacoes['tempo_homologacao_adjudicacao'].describe()"
   ]
  },
  {
   "cell_type": "markdown",
   "metadata": {
    "collapsed": false
   },
   "source": [
    "##### Já o tempo de adjudicação é bem menor, com uma média de 1 dia e um desvio padrão de 3 dias. A mediana é de 1 dia, o que indica que a maioria dos tempos de adjudicação estão de acordo com a mediana."
   ]
  },
  {
   "cell_type": "markdown",
   "metadata": {
    "collapsed": false
   },
   "source": [
    "### Agora, irei analisar as licitações pelas estações do ano. Quais são as estações do ano com mais licitações?"
   ]
  },
  {
   "cell_type": "code",
   "execution_count": 68,
   "metadata": {
    "collapsed": false
   },
   "outputs": [],
   "source": [
    "# Aplicando a função de classificação de estação do ano\n",
    "from my_library import get_season\n",
    "\n",
    "datetimes_licitacoes['estacao'] = datetimes_licitacoes['DT_ABERTURA'].apply(lambda x: get_season(x))"
   ]
  },
  {
   "cell_type": "code",
   "execution_count": 69,
   "metadata": {
    "collapsed": false
   },
   "outputs": [
    {
     "data": {
      "text/plain": [
       "Inverno      17665\n",
       "Outono       16362\n",
       "Primavera    12949\n",
       "Verão        10617\n",
       "Name: estacao, dtype: int64"
      ]
     },
     "execution_count": 69,
     "metadata": {},
     "output_type": "execute_result"
    }
   ],
   "source": [
    "datetimes_licitacoes['estacao'].value_counts()"
   ]
  },
  {
   "cell_type": "code",
   "execution_count": 70,
   "metadata": {
    "collapsed": false
   },
   "outputs": [
    {
     "data": {
      "image/png": "[encoded data removed]",
      "text/plain": [
       "<Figure size 640x480 with 1 Axes>"
      ]
     },
     "metadata": {},
     "output_type": "display_data"
    }
   ],
   "source": [
    "# plotando o gráfico de barras\n",
    "\n",
    "datetimes_licitacoes['estacao'].value_counts().plot.bar(rot=0)\n",
    "\n",
    "plt.title('Quantidade de licitações por estação do ano')\n",
    "plt.xlabel('Estação do ano')\n",
    "plt.ylabel('Quantidade de licitações')\n",
    "\n",
    "plt.show()"
   ]
  },
  {
   "cell_type": "code",
   "execution_count": 71,
   "metadata": {
    "collapsed": false
   },
   "outputs": [
    {
     "ename": "TypeError",
     "evalue": "reindex() got an unexpected keyword argument \"duplicates\"",
     "output_type": "error",
     "traceback": [
      "\u001b[1;31m---------------------------------------------------------------------------\u001b[0m",
      "\u001b[1;31mTypeError\u001b[0m                                 Traceback (most recent call last)",
      "Cell \u001b[1;32mIn[71], line 1\u001b[0m\n\u001b[1;32m----> 1\u001b[0m datetimes_licitacoes[\u001b[39m'\u001b[39m\u001b[39mNM_ORGAO\u001b[39m\u001b[39m'\u001b[39m] \u001b[39m=\u001b[39m licitacoes_compras[\u001b[39m'\u001b[39;49m\u001b[39mNM_ORGAO\u001b[39;49m\u001b[39m'\u001b[39;49m]\u001b[39m.\u001b[39;49mreindex(datetimes_licitacoes\u001b[39m.\u001b[39;49mindex, method\u001b[39m=\u001b[39;49m\u001b[39m'\u001b[39;49m\u001b[39mffill\u001b[39;49m\u001b[39m'\u001b[39;49m, duplicates\u001b[39m=\u001b[39;49m\u001b[39m'\u001b[39;49m\u001b[39mdrop\u001b[39;49m\u001b[39m'\u001b[39;49m)\n",
      "File \u001b[1;32mc:\\Users\\joaop\\anaconda3\\envs\\dsb_env\\lib\\site-packages\\pandas\\core\\series.py:5094\u001b[0m, in \u001b[0;36mSeries.reindex\u001b[1;34m(self, *args, **kwargs)\u001b[0m\n\u001b[0;32m   5090\u001b[0m         \u001b[39mraise\u001b[39;00m \u001b[39mTypeError\u001b[39;00m(\n\u001b[0;32m   5091\u001b[0m             \u001b[39m\"\u001b[39m\u001b[39m'\u001b[39m\u001b[39mindex\u001b[39m\u001b[39m'\u001b[39m\u001b[39m passed as both positional and keyword argument\u001b[39m\u001b[39m\"\u001b[39m\n\u001b[0;32m   5092\u001b[0m         )\n\u001b[0;32m   5093\u001b[0m     kwargs\u001b[39m.\u001b[39mupdate({\u001b[39m\"\u001b[39m\u001b[39mindex\u001b[39m\u001b[39m\"\u001b[39m: index})\n\u001b[1;32m-> 5094\u001b[0m \u001b[39mreturn\u001b[39;00m \u001b[39msuper\u001b[39m()\u001b[39m.\u001b[39mreindex(\u001b[39m*\u001b[39m\u001b[39m*\u001b[39mkwargs)\n",
      "File \u001b[1;32mc:\\Users\\joaop\\anaconda3\\envs\\dsb_env\\lib\\site-packages\\pandas\\core\\generic.py:5268\u001b[0m, in \u001b[0;36mNDFrame.reindex\u001b[1;34m(self, *args, **kwargs)\u001b[0m\n\u001b[0;32m   5265\u001b[0m kwargs\u001b[39m.\u001b[39mpop(\u001b[39m\"\u001b[39m\u001b[39maxis\u001b[39m\u001b[39m\"\u001b[39m, \u001b[39mNone\u001b[39;00m)\n\u001b[0;32m   5267\u001b[0m \u001b[39mif\u001b[39;00m kwargs:\n\u001b[1;32m-> 5268\u001b[0m     \u001b[39mraise\u001b[39;00m \u001b[39mTypeError\u001b[39;00m(\n\u001b[0;32m   5269\u001b[0m         \u001b[39m\"\u001b[39m\u001b[39mreindex() got an unexpected keyword \u001b[39m\u001b[39m\"\u001b[39m\n\u001b[0;32m   5270\u001b[0m         \u001b[39mf\u001b[39m\u001b[39m'\u001b[39m\u001b[39margument \u001b[39m\u001b[39m\"\u001b[39m\u001b[39m{\u001b[39;00m\u001b[39mlist\u001b[39m(kwargs\u001b[39m.\u001b[39mkeys())[\u001b[39m0\u001b[39m]\u001b[39m}\u001b[39;00m\u001b[39m\"\u001b[39m\u001b[39m'\u001b[39m\n\u001b[0;32m   5271\u001b[0m     )\n\u001b[0;32m   5273\u001b[0m \u001b[39mself\u001b[39m\u001b[39m.\u001b[39m_consolidate_inplace()\n\u001b[0;32m   5275\u001b[0m \u001b[39m# if all axes that are requested to reindex are equal, then only copy\u001b[39;00m\n\u001b[0;32m   5276\u001b[0m \u001b[39m# if indicated must have index names equal here as well as values\u001b[39;00m\n",
      "\u001b[1;31mTypeError\u001b[0m: reindex() got an unexpected keyword argument \"duplicates\""
     ]
    }
   ],
   "source": [
    "datetimes_licitacoes['NM_ORGAO'] = licitacoes_compras['NM_ORGAO'].reindex(datetimes_licitacoes.index, method='ffill', duplicates='drop')"
   ]
  },
  {
   "cell_type": "markdown",
   "metadata": {
    "collapsed": false
   },
   "source": [
    "Não consegui resolver o problema de indexação, então, vou fazer na tabela original"
   ]
  },
  {
   "cell_type": "code",
   "execution_count": 72,
   "metadata": {
    "collapsed": false
   },
   "outputs": [],
   "source": [
    "try:\n",
    "    licitacoes_compras['estacao'] = licitacoes_compras['DT_ABERTURA'].apply(lambda x: get_season(x))\n",
    "except ValueError:\n",
    "    # If there is an error, find the row that is causing it\n",
    "    error_index = licitacoes_compras[pd.to_datetime(licitacoes_compras['DT_ABERTURA'], errors='coerce').isna()].index\n",
    "    # Drop the row\n",
    "    licitacoes_compras.drop(error_index, inplace=True)"
   ]
  },
  {
   "cell_type": "code",
   "execution_count": 73,
   "metadata": {
    "collapsed": false
   },
   "outputs": [],
   "source": [
    "licitacoes_compras['estacao'] = licitacoes_compras['DT_ABERTURA'].apply(lambda x: get_season(x))"
   ]
  },
  {
   "cell_type": "code",
   "execution_count": 74,
   "metadata": {
    "collapsed": false
   },
   "outputs": [
    {
     "data": {
      "text/plain": [
       "estacao  NM_ORGAO                                        \n",
       "Inverno  PM DE GUAPORÉ                                       516\n",
       "         SECRETARIA DA SAÚDE DO RS                           374\n",
       "         PM DE PEDRAS ALTAS                                  331\n",
       "         FUND. DE SAÚDE PÚBLICA DE NOVO HAMBURGO             318\n",
       "         PM DE PELOTAS                                       297\n",
       "                                                            ... \n",
       "Verão    PM DE SÃO LEOPOLDO                                    1\n",
       "         PM DE TAQUARUÇU DO SUL                                1\n",
       "         PM DE TRÊS ARROIOS                                    1\n",
       "         SECRETARIA DA FAZENDA DO RS                           1\n",
       "         SISTEMA DE PREVIDÊNCIA MUNICIPAL - S. LIVRAMENTO      1\n",
       "Name: NM_ORGAO, Length: 2793, dtype: int64"
      ]
     },
     "execution_count": 74,
     "metadata": {},
     "output_type": "execute_result"
    }
   ],
   "source": [
    "licitacoes_compras.groupby('estacao')['NM_ORGAO'].value_counts()"
   ]
  },
  {
   "cell_type": "markdown",
   "metadata": {
    "collapsed": false
   },
   "source": [
    "### Agora, irei analisar os itens licitados. Quais são os itens mais licitados? Quais são os itens mais caros? Quais são os itens mais baratos?"
   ]
  },
  {
   "cell_type": "code",
   "execution_count": 75,
   "metadata": {
    "collapsed": false
   },
   "outputs": [
    {
     "data": {
      "text/plain": [
       "MANGUEIRA SILICONE 2.1/2\"                                                                                                     477\n",
       "MATERIAL                                                                                                                      455\n",
       "SERVIÇO                                                                                                                       293\n",
       ".                                                                                                                             216\n",
       "CENOURA                                                                                                                       163\n",
       "                                                                                                                             ... \n",
       "Fechadura externa 40mm.                                                                                                         1\n",
       "Óleo de soja refinado, sem amassados, vazamentos e ferrugem e que contenham data de fabricação e vencimento - lata 900ml        1\n",
       "REANIMADOR PULMONAR MANUAL ADULTO (AMBU), COM RESERVATÓRIO                                                                      1\n",
       "MÃO DE OBRA REFERENTE A RETIRADA E COLOCAÇÃO DE BOMBA EM FERIADOS E FINAIS DE SEMANAS                                           1\n",
       "CANALETA DE SUPERFÍCIE COM ADESIVO 20 X 12MM 2 METROS BRANCA                                                                    1\n",
       "Name: DS_ITEM, Length: 369737, dtype: int64"
      ]
     },
     "execution_count": 75,
     "metadata": {},
     "output_type": "execute_result"
    }
   ],
   "source": [
    "itens['DS_ITEM'].value_counts()"
   ]
  },
  {
   "cell_type": "markdown",
   "metadata": {
    "collapsed": false
   },
   "source": [
    "Por meio do resultado anterior é possível determinar algumas estratégias para a exploração de dados sobre os itens licitados.\n",
    "Como por exemplo:\n",
    "- Descrições que possuam a string 'mg'/'miligramas' ou 'ml'/'mililitros' podem ser relacionadas com medicamentos\n",
    "- Mililitros podem ser confundidos como alimentos, itens de higiene e limpeza, etc\n",
    "- Descrições que possuam unidades de medida como m², m³, etc podem ser relacionadas com materiais de construção\n",
    "- Descrições que possuam a string 'kg'/'quilogramas' podem ser relacionadas com alimentos"
   ]
  },
  {
   "cell_type": "code",
   "execution_count": 76,
   "metadata": {
    "collapsed": false
   },
   "outputs": [
    {
     "data": {
      "text/plain": [
       "OMEPRAZOL 20MG                                               50\n",
       "LORATADINA 10MG                                              48\n",
       "FENOBARBITAL 100MG                                           41\n",
       "FUROSEMIDA 40MG                                              40\n",
       "CEFALEXINA 500MG                                             39\n",
       "                                                             ..\n",
       "Sacarato de hidróxido férrico 100mg/5mL,solução injetável     1\n",
       "nortriptilina cloridrato de 75mg capsula                      1\n",
       "TIZANIDINA 2MG                                                1\n",
       "Lovastatina 20 mg                                             1\n",
       "AMOXICILINA PO P/ SUSP. ORAL 50MG/ML 60 ML                    1\n",
       "Name: DS_ITEM, Length: 25795, dtype: int64"
      ]
     },
     "execution_count": 76,
     "metadata": {},
     "output_type": "execute_result"
    }
   ],
   "source": [
    "itens[itens['DS_ITEM'].str.contains('mg', case = False)]['DS_ITEM'].value_counts()"
   ]
  },
  {
   "cell_type": "code",
   "execution_count": 77,
   "metadata": {
    "collapsed": false
   },
   "outputs": [
    {
     "data": {
      "text/plain": [
       "Adesivo fotopolimerizável primer e adesivo em um só frasco. Solvente à base de água e álcool. Contém partícula de carga de 5nm.tampa flip top.rendimento: até 280 restaurações. Referência: 3m single bond. Frasco com 6ml. Com prazo de validade de no mínimo 2 anos.    57\n",
       "OLEO DE SOJA 900 ML                                                                                                                                                                                                                                                       20\n",
       "ÓLEO DE SOJA 900 ML                                                                                                                                                                                                                                                       13\n",
       "OLEO DE SOJA 900ML                                                                                                                                                                                                                                                        11\n",
       "ÓLEO DE SOJA 900ML                                                                                                                                                                                                                                                         9\n",
       "                                                                                                                                                                                                                                                                          ..\n",
       "ÁGUA MINERAL ,500ML, C/ GÁS FARDO C/ 12 UND                                                                                                                                                                                                                                1\n",
       "COLA 3D AUTO RELEVO, COM 35 ML VERDE - COLA 3D ALTO RELEVO EMBALAGEM COM 35ML NA COR VERDE                                                                                                                                                                                 1\n",
       "PRODUTOS Óleo de soja\\tGarrafa 900 ml                                                                                                                                                                                                                                      1\n",
       "OLEO MINERAL 200ML                                                                                                                                                                                                                                                         1\n",
       "AMOXICILINA PO P/ SUSP. ORAL 50MG/ML 60 ML                                                                                                                                                                                                                                 1\n",
       "Name: DS_ITEM, Length: 22755, dtype: int64"
      ]
     },
     "execution_count": 77,
     "metadata": {},
     "output_type": "execute_result"
    }
   ],
   "source": [
    "itens[itens['DS_ITEM'].str.contains('ml', case = False)]['DS_ITEM'].value_counts()"
   ]
  },
  {
   "cell_type": "code",
   "execution_count": 78,
   "metadata": {
    "collapsed": false
   },
   "outputs": [
    {
     "data": {
      "text/plain": [
       "Lote - área de 1,50x3,00m. Totalizando 4,50m². A área do imóvel será exclusivamente para uso de túmulos, capelas ou jazigos.                                                                                                                                                                                                               19\n",
       "CABO DE COBRE FLEXÍVEL ISOLADO, 2,5 MM², ANTI-CHAMA 450/750 V, PARA CIRCUITOS TERMINAIS - FORNECIMENTO E INSTALAÇÃO. AF_12/2015                                                                                                                                                                                                            13\n",
       "Papel oficio A4 - Cor Branco- gr 75 g/m²,embalagem  c/ 500 unid.                                                                                                                                                                                                                                                                           11\n",
       "CABO DE COBRE FLEXÍVEL ISOLADO, 4 MM², ANTI-CHAMA 450/750 V, PARA CIRCUITOS TERMINAIS - FORNECIMENTO E INSTALAÇÃO. AF_12/2015                                                                                                                                                                                                              11\n",
       "Construção - Reforma - Demais especificações conforme Termo de Referência e/ou Termo de Cotação e documentação técnica.-CABO DE COBRE 2,5MM² - POLIOLEFINA 450/ 750V, COM ACESSÓRIOS                                                                                                                                                       10\n",
       "                                                                                                                                                                                                                                                                                                                                           ..\n",
       "Gaze 10x10cm 13 fios/cm² - pct c/ 500 unid                                                                                                                                                                                                                                                                                                  1\n",
       "DENTE CENTRAL PARA RETROESCAVADEIRA APLICAÇÃO: JCB 214 - CÓDIGO ORIGINAL: 531/ 03205  - CÓDIGO SIMILAR: ECOPLAN 6113 - DIMENSÃO: 55 X 255 - FURAÇÃO: 2 X Ø 19 - MATÉRIA PRIMA: MATERIAL FUNDIDO COM LIGA A BASE DE CRNIMOMN, RESISTENTE AO IMPACTO E DESGASTE; LIMITE DE RESISTÊNCIA NA FAIXA DE 155 KG/MM² E DUREZA NA FAIXA DE 50 HRC     1\n",
       "Fio 1.5 mm², flexível, tipo cabinho, rolo de 100 metros.                                                                                                                                                                                                                                                                                    1\n",
       "FORMULÁRIO TIPO 1. FORMATO: 29,7X42,0CM (ABERTO), 21,0X29,7CM (FECHADO), PAPEL COMERCIAL 75G/M² BRANCO, IMPRESSÃO: 1X1, ACABAMENTO: 1 DOBRA, ACABAMENTO: REFILADO NO FORMATO FINAL. (CONFORME MODELO APROVADO).-Tiragem mínima por pedido:400 exs. Quantidade mínima estimada:400 exs.                                                      1\n",
       "ÍNDICE DE POTENCIAL CONSTRUTIVO - ZONA ZAA, LOTE 08 COM 250M²                                                                                                                                                                                                                                                                               1\n",
       "Name: DS_ITEM, Length: 4019, dtype: int64"
      ]
     },
     "execution_count": 78,
     "metadata": {},
     "output_type": "execute_result"
    }
   ],
   "source": [
    "itens[itens['DS_ITEM'].str.contains('m²', case = False)]['DS_ITEM'].value_counts()"
   ]
  },
  {
   "cell_type": "code",
   "execution_count": 79,
   "metadata": {
    "collapsed": false
   },
   "outputs": [
    {
     "data": {
      "text/plain": [
       "contratação de 01 (um) veículo tipo caminhão toco com cabine dupla ou suplementar, caçamba basculante, igual ou superior a 12.000 kg,  macaco hidráulico igual ou superior a 6.000 kg, carga igual ou superior a 7m³, 6 lugares no mínimo, 2014 ou superior                                                                                                                                                                                                                                                                                                                                                                                                                                                                                                                                                                                                                                                                                                                                                                                                                                                                                                                                                                                                                                                                                                                                                                                                                                                                                                                                                                                                                                                                                                                                                                                                                                                                                                                                                                   5\n",
       "Transporte com caminhão basculante de 14 m³, em via urbana em leito natural.                                                                                                                                                                                                                                                                                                                                                                                                                                                                                                                                                                                                                                                                                                                                                                                                                                                                                                                                                                                                                                                                                                                                                                                                                                                                                                                                                                                                                                                                                                                                                                                                                                                                                                                                                                                                                                                                                                                                                  5\n",
       "TRANSPORTE COMERCIAL COM CAMINHÃO BASCULANTE 6M³ - RODOVIA LEITO NATURAL - AREIA                                                                                                                                                                                                                                                                                                                                                                                                                                                                                                                                                                                                                                                                                                                                                                                                                                                                                                                                                                                                                                                                                                                                                                                                                                                                                                                                                                                                                                                                                                                                                                                                                                                                                                                                                                                                                                                                                                                                              3\n",
       "Transporte local com caminhão basculante 6 m³, rodovia pavimentada - Media DMT= 25 Km                                                                                                                                                                                                                                                                                                                                                                                                                                                                                                                                                                                                                                                                                                                                                                                                                                                                                                                                                                                                                                                                                                                                                                                                                                                                                                                                                                                                                                                                                                                                                                                                                                                                                                                                                                                                                                                                                                                                         3\n",
       "Carga manual de entulho em caminhão basculante 6m³                                                                                                                                                                                                                                                                                                                                                                                                                                                                                                                                                                                                                                                                                                                                                                                                                                                                                                                                                                                                                                                                                                                                                                                                                                                                                                                                                                                                                                                                                                                                                                                                                                                                                                                                                                                                                                                                                                                                                                            3\n",
       "                                                                                                                                                                                                                                                                                                                                                                                                                                                                                                                                                                                                                                                                                                                                                                                                                                                                                                                                                                                                                                                                                                                                                                                                                                                                                                                                                                                                                                                                                                                                                                                                                                                                                                                                                                                                                                                                                                                                                                                                                             ..\n",
       "ATERRO MECANIZADO DE VALA COM RETROESCAVADEIRA (CAPACIDADE DA CAÇAMBA DA RETRO: 0,26 M³ / POTÊNCIA: 88 HP), LARGURA ATÉ 0,8 M, PROFUNDIDADE ATÉ 1,5 M, COM SOLO ARGILO-ARENOSO. AF_05/2016                                                                                                                                                                                                                                                                                                                                                                                                                                                                                                                                                                                                                                                                                                                                                                                                                                                                                                                                                                                                                                                                                                                                                                                                                                                                                                                                                                                                                                                                                                                                                                                                                                                                                                                                                                                                                                    1\n",
       "Carrinho para transporte de cilindros de O2 ? transporte para 1 unidade (de 1 ou 2 m³), com 2 rodízios e um pé fixo emborrachado                                                                                                                                                                                                                                                                                                                                                                                                                                                                                                                                                                                                                                                                                                                                                                                                                                                                                                                                                                                                                                                                                                                                                                                                                                                                                                                                                                                                                                                                                                                                                                                                                                                                                                                                                                                                                                                                                              1\n",
       "cadeiras Poltrona Diretor Giratória Assento: Compensado multilaminado 14 cm de espessura; Espuma injetada anatomicamente com 60 mm de espessura média e densidade de 45 a 50 Kg/m³; Carenagem do assento injetada em Polipropileno Copolímero; Revestimento em tecido poliéster. Encosto: Compensado multilaminado 14 mm de espessura; Espuma injetada anatomicamente com 60 mm de espessura média e densidade de 45 a 50 Kg/m³; Mola suporte em aço com 76,20 mm de largura, espessura 6,35 mm; Carenagem do encosto injetada em Polipropileno Copolímero; Revestimento em tecido Poliéster. Braços: Apoia braços SL, em Polipropileno Copolímero injetado, com alma de aço SAE 1020 pintada, regulagem de altura com botão, totalizando 7 posições e 85 mm curso. Chapa para fixação no assento com 2 furos oblongos, permitindo ajuste horizontal por parafusos. Base: Base giratória desmontável com aranhas de 5 hastes de aço com pino do rodízio soldado na extremidade da haste em furos flangeados, evitando que se soltem, coberta por polaina injetada em Polipropileno Copolímero na cor preta, apoiada sobre 5 rodízios de duplo giro e duplo rolamento com 50 mm de diâmetro em nylon com capa, semiesfera plástica injetada junto a estrutura, que facilita o giro, banda de rolagem em nylon para uso em carpetes, tapetes e similares; Coluna central desmontável fixada por encaixe cônico, rolamento axial de giro, esferas e arruelas de aço temperado de alta resistência, sistema de regulagem da altura da cadeira com mola a gás, regulagem feita por alavanca; Telescópio injetado em Polipropileno Copolímero texturizado, dividido em 3 partes encaixadas, usado para proteger a coluna. Mecanismo: Mecanismo do tipo relax, com sistema de livre flutuação ou travado. Possui ajuste de tensão da mola por manipulo frontal. Fixação do assento com distancia entre furos de 160 x 200 mm. Acabamento: Componentes metálicos internos do mecanismo preparados através de processo de zincagem;    1\n",
       "Hidrômetro Uni jato Magnético de ¾, Vazão Máxima (Qmax.) de 3 m³/h com conexões.                                                                                                                                                                                                                                                                                                                                                                                                                                                                                                                                                                                                                                                                                                                                                                                                                                                                                                                                                                                                                                                                                                                                                                                                                                                                                                                                                                                                                                                                                                                                                                                                                                                                                                                                                                                                                                                                                                                                              1\n",
       "ATADURA CREPE 15 CM Atadura crepe 15 cm x 1,8m em repouso - 13 fios/cm³, 100% algodão cru, apresentando propriedades elásticas nos sentidos longitudinal e transversal. Deverá ter as bordas devidamente acabadas para evitar o desfiamento, enrolada uniformemente, embalada individualmente. estéril ou não. Pacote com 12 unidades.                                                                                                                                                                                                                                                                                                                                                                                                                                                                                                                                                                                                                                                                                                                                                                                                                                                                                                                                                                                                                                                                                                                                                                                                                                                                                                                                                                                                                                                                                                                                                                                                                                                                                        1\n",
       "Name: DS_ITEM, Length: 993, dtype: int64"
      ]
     },
     "execution_count": 79,
     "metadata": {},
     "output_type": "execute_result"
    }
   ],
   "source": [
    "itens[itens['DS_ITEM'].str.contains('m³', case = False)]['DS_ITEM'].value_counts()"
   ]
  },
  {
   "cell_type": "code",
   "execution_count": 80,
   "metadata": {
    "collapsed": false
   },
   "outputs": [
    {
     "data": {
      "text/plain": [
       "TOMATE - KG                                                                                                                                                                                                                                                                                 17\n",
       "AMIDO DE MILHO 1 KG                                                                                                                                                                                                                                                                         14\n",
       "FARINHA DE TRIGO ESPECIAL, EMBALAGEM DE 5KG                                                                                                                                                                                                                                                 13\n",
       "FARINHA DE MILHO 1 KG                                                                                                                                                                                                                                                                       12\n",
       "CIMENTO 50KG                                                                                                                                                                                                                                                                                12\n",
       "                                                                                                                                                                                                                                                                                            ..\n",
       "Açúcar cristalizado, pacotes de 2 Kg, isento de impureza, com data de fabricação e validade.                                                                                                                                                                                                 1\n",
       "TNT sendo Marrom 40gr cada rolo pesando 2,8kg Rolo 1,40 x 50m                                                                                                                                                                                                                                1\n",
       "Farinha Integral  Pact. 1 kg                                                                                                                                                                                                                                                                 1\n",
       "Arroz, tipo 1, embalagem de 5 Kg                                                                                                                                                                                                                                                             1\n",
       "Pó para pudim, deve conter essência natural de morango (sabor morango), baunilha (sabor baunilha), chocolate e caramelo açúcar cristal, amido de milho, sal, corantes e aromatizantes, embalado em pacotes de 01 kg. O produto deverá apresentar validade mínima de 06 meses da entrega.     1\n",
       "Name: DS_ITEM, Length: 14532, dtype: int64"
      ]
     },
     "execution_count": 80,
     "metadata": {},
     "output_type": "execute_result"
    }
   ],
   "source": [
    "itens[itens['DS_ITEM'].str.contains('kg', case = False)]['DS_ITEM'].value_counts()"
   ]
  },
  {
   "cell_type": "code",
   "execution_count": 81,
   "metadata": {
    "collapsed": false
   },
   "outputs": [
    {
     "data": {
      "text/plain": [
       "PLACA DE SINALIZACAO DE SEGURANCA CONTRA INCENDIO, FOTOLUMINESCENTE, RETANGULAR, *13 X 26* CM, EM PVC *2* MM ANTI-CHAMAS (SIMBOLOS, CORES E PICTOGRAMAS CONFORME NBR 13434)                                                                                                                                                                                                                                                                                                                                                                                                                            6\n",
       "PLACA DE SINALIZACAO DE SEGURANCA CONTRA INCENDIO, FOTOLUMINESCENTE, RETANGULAR, *20 X 40* CM, EM PVC *2* MM ANTI-CHAMAS (SIMBOLOS, CORES E PICTOGRAMAS CONFORME NBR 13434)                                                                                                                                                                                                                                                                                                                                                                                                                            5\n",
       "PÃO  50 GRAMAS                                                                                                                                                                                                                                                                                                                                                                                                                                                                                                                                                                                         4\n",
       "PÃO DE QUEIJO, 80 GRAMAS                                                                                                                                                                                                                                                                                                                                                                                                                                                                                                                                                                               4\n",
       "Caldo de carne. Caixa com 126 gramas, contendo 12 tabletes.                                                                                                                                                                                                                                                                                                                                                                                                                                                                                                                                            4\n",
       "                                                                                                                                                                                                                                                                                                                                                                                                                                                                                                                                                                                                      ..\n",
       "Massa para mini pizza, tipo lanche, linha tradicional, contendo 15 unidades, embalagem plástica de 400 gramas.                                                                                                                                                                                                                                                                                                                                                                                                                                                                                         1\n",
       "Pimenta do reino: Tubos de 50 gramas. Data de validade mínima de 06 (seis) meses a contar a partir da data de entrega.                                                                                                                                                                                                                                                                                                                                                                                                                                                                                 1\n",
       "Cola líquida branca para papel 35 gramas                                                                                                                                                                                                                                                                                                                                                                                                                                                                                                                                                               1\n",
       "BALANÇA DIGITAL PEDIÁTRICA - Gabinete em plástico ABS injetado na cor branca, com resistência e durabilidade, medindo 30cm largura x 28cm comprimento x 9,5cm altura; concha anatômica em polipropileno injetado na cor branca, anti­germes, totalmente higienizável e atóxica, medindo 55cm comprimento x 33cm largura x 8,5cm altura; teclado tipo “membrana” durável e de fácil digitação com as funções liga/desliga, tara, zero e impressão, com painel em policarbonato resistente; display em LED; pés antiderrapantes em borracha sintética. Capacidade de 25kg, com divisões de 10 gramas.    1\n",
       "MEIA PEROLA 6MM COR LILAS pacote 500 gramas                                                                                                                                                                                                                                                                                                                                                                                                                                                                                                                                                            1\n",
       "Name: DS_ITEM, Length: 4019, dtype: int64"
      ]
     },
     "execution_count": 81,
     "metadata": {},
     "output_type": "execute_result"
    }
   ],
   "source": [
    "itens[itens['DS_ITEM'].str.contains('gramas', case = False)]['DS_ITEM'].value_counts()"
   ]
  },
  {
   "cell_type": "markdown",
   "metadata": {
    "collapsed": false
   },
   "source": [
    "### Devido a enormosidade dos dados, irei aplicar uma função para calcular o tamanho de uma amostra de acordo com o tamanho da população e o erro máximo aceitável. Assim, será possível analisar os itens mais licitados, os mais caros e os mais baratos e suas respectivas frequências de forma mais eficiente."
   ]
  },
  {
   "cell_type": "markdown",
   "metadata": {
    "collapsed": false
   },
   "source": [
    "#### Eu tentei aplicar a fórmula a seguir, cujo resultado retorna o tamanho da amostra para ser usada. Não deu muito certo com o problema proposto, mas segue a descrição:\n",
    "\n",
    "$ n = \\frac{(Z_{\\alpha/2})^2 \\cdot p \\cdot (1 - p)}{E^2} $\n",
    "\n",
    "- n é o tamanho da amostra\n",
    "- Z_{\\alpha/2} é o valor crítico de uma distribuição normal padrão para um nível de significância especificado (por exemplo, \\alpha = 0,05)\n",
    "- p é a proporção estimada da população que pertence à categoria de interesse\n",
    "- E é o erro desejado da margem\n",
    "\n",
    "A fórmula é usada para garantir que a amostra seja grande o suficiente para representar a população com uma margem de erro aceitável. Ao aumentar o tamanho da amostra, a margem de erro diminui. Ao contrário, ao diminuir o tamanho da amostra, a margem de erro aumenta."
   ]
  },
  {
   "cell_type": "code",
   "execution_count": 82,
   "metadata": {
    "collapsed": false
   },
   "outputs": [],
   "source": [
    "from my_library import sample_df\n",
    "# Como eu não sei a variabilidade, irei considerar buscar uma amostra entre 10% e 20% da população. Assim, conseguirei uma amostra de tamanho razoável.\n",
    "\n",
    "itens_sample = sample_df(itens_2016, 0.15)"
   ]
  },
  {
   "cell_type": "code",
   "execution_count": 83,
   "metadata": {
    "collapsed": false
   },
   "outputs": [
    {
     "data": {
      "text/plain": [
       "MANGUEIRA SILICONE 2.1/2\"                                                                                                                           226\n",
       "MATERIAL                                                                                                                                            122\n",
       "LIVRO                                                                                                                                                59\n",
       ".                                                                                                                                                    49\n",
       "NÃO CADASTRADO                                                                                                                                       36\n",
       "                                                                                                                                                   ... \n",
       "SERVIÇOS DE NUTRICIONISTA                                                                                                                             1\n",
       "CAMISETA GOLA OLIMPICA, PADRÃO CBMRS                                                                                                                  1\n",
       "Agulha 30 x 7                                                                                                                                         1\n",
       "Farinha de Milho Média, tipo 1, enriquecida com ferro e ácido fólico, pacote de 1 kg. Com embalagem resistente. Validade mínima 6 (seis) meses.,      1\n",
       "PAPEL CAMURÇA, TAMANHO 70X50 CM, NA COR BRANCA                                                                                                        1\n",
       "Name: DS_ITEM, Length: 58746, dtype: int64"
      ]
     },
     "execution_count": 83,
     "metadata": {},
     "output_type": "execute_result"
    }
   ],
   "source": [
    "itens_sample['DS_ITEM'].value_counts()"
   ]
  },
  {
   "cell_type": "markdown",
   "metadata": {
    "collapsed": false
   },
   "source": [
    "#### Assim como nas licitações, é possível tratar os texto dos itens para extrair informações relevantes. Por exemplo, podemos extrair informações sobre a categoria do item, como alimentos, medicamentos, materiais de construção, etc. utilizando o pipeline e a função de classificação de texto desenvolvidos anteriormente."
   ]
  },
  {
   "cell_type": "code",
   "execution_count": 84,
   "metadata": {
    "collapsed": false
   },
   "outputs": [],
   "source": [
    "from my_library import preprocess_text_pipeline\n",
    "\n",
    "itens_sample['DS_ITEM'] = itens_sample['DS_ITEM'].apply(lambda x: preprocess_text_pipeline(x))"
   ]
  },
  {
   "cell_type": "code",
   "execution_count": 85,
   "metadata": {
    "collapsed": false
   },
   "outputs": [],
   "source": [
    "from my_library import get_most_common_nouns\n",
    "\n",
    "itens_and_counts = get_most_common_nouns(itens_sample, 'DS_ITEM', 100)"
   ]
  },
  {
   "cell_type": "code",
   "execution_count": 86,
   "metadata": {
    "collapsed": false
   },
   "outputs": [
    {
     "data": {
      "text/plain": [
       "[('cor', 3193),\n",
       " ('%', 2663),\n",
       " ('cm', 2565),\n",
       " ('tipo', 2172),\n",
       " ('x', 2050),\n",
       " ('mm', 1977),\n",
       " ('embalagem', 1774),\n",
       " ('mg', 1735),\n",
       " ('unidades', 1699),\n",
       " ('data', 1696),\n",
       " ('kg', 1586),\n",
       " ('ml', 1481),\n",
       " ('tamanho', 1453),\n",
       " ('c/', 1416),\n",
       " ('papel', 1375),\n",
       " ('aço', 1317),\n",
       " ('pvc', 1317),\n",
       " ('caixa', 1310),\n",
       " ('meses', 1294),\n",
       " ('produto', 1265),\n",
       " ('qualidade', 1254),\n",
       " ('validade', 1169),\n",
       " ('litros', 1148),\n",
       " ('conforme', 1141),\n",
       " ('concreto', 1100),\n",
       " ('material', 1076),\n",
       " ('branco', 1052),\n",
       " ('mínimo', 1013),\n",
       " ('branca', 998),\n",
       " ('base', 979),\n",
       " ('plástico', 975),\n",
       " ('m', 964),\n",
       " ('g', 963),\n",
       " ('cabo', 962),\n",
       " ('–', 954),\n",
       " ('serviços', 898),\n",
       " ('ano', 887),\n",
       " ('pó', 871),\n",
       " ('pneu', 869),\n",
       " ('médio', 869),\n",
       " ('tubo', 853),\n",
       " ('preto', 824),\n",
       " ('serviço', 803),\n",
       " ('verde', 774),\n",
       " ('cada', 766),\n",
       " ('fabricação', 763),\n",
       " ('azul', 741),\n",
       " ('madeira', 734),\n",
       " ('instalação', 732),\n",
       " ('placa', 728),\n",
       " ('pintura', 699),\n",
       " ('sistema', 694),\n",
       " ('p/', 691),\n",
       " ('tinta', 689),\n",
       " ('peso', 683),\n",
       " ('transparente', 680),\n",
       " ('altura', 676),\n",
       " ('tecido', 667),\n",
       " ('fornecimento', 658),\n",
       " ('ar', 654),\n",
       " ('folhas', 653),\n",
       " ('+', 651),\n",
       " ('água', 639),\n",
       " ('gramas', 635),\n",
       " ('prazo', 631),\n",
       " ('resistente', 626),\n",
       " ('deverá', 625),\n",
       " ('contratação', 621),\n",
       " ('plástica', 609),\n",
       " ('entrega', 609),\n",
       " ('preta', 601),\n",
       " ('largura', 599),\n",
       " ('transporte', 579),\n",
       " ('motor', 573),\n",
       " ('cores', 572),\n",
       " ('metros', 568),\n",
       " ('grau', 549),\n",
       " ('mínima', 546),\n",
       " ('descartável', 544),\n",
       " ('contendo', 544),\n",
       " ('alta', 537),\n",
       " ('comprimido', 524),\n",
       " ('luva', 524),\n",
       " ('registro', 524),\n",
       " ('fio', 521),\n",
       " ('sabor', 519),\n",
       " ('tampa', 518),\n",
       " ('inox', 517),\n",
       " ('porta', 517),\n",
       " ('edital', 516),\n",
       " ('cloridrato', 510),\n",
       " ('gr', 508),\n",
       " ('livro', 505),\n",
       " ('vidro', 486),\n",
       " ('marca', 480),\n",
       " ('modelo', 474),\n",
       " ('borracha', 471),\n",
       " ('grande', 471),\n",
       " ('comprimento', 469),\n",
       " ('frasco', 465)]"
      ]
     },
     "execution_count": 86,
     "metadata": {},
     "output_type": "execute_result"
    }
   ],
   "source": [
    "itens_and_counts"
   ]
  },
  {
   "cell_type": "markdown",
   "metadata": {
    "collapsed": false
   },
   "source": [
    "#### Ao examinar o resultado obtido e descartar palavras como unidades de medida, ou símbolos especiais, é possível averiguar que a maioria dos itens está distribuído em material escolar  e materiais de construção. Também estão descritos materiais como um geral."
   ]
  },
  {
   "cell_type": "markdown",
   "metadata": {
    "collapsed": false
   },
   "source": [
    "#### Sendo assim, irei novamente elencar os itens mais presentes e assim fazer uma relação com os órgãos, além de comparar diferenças no valor unitário e o homologado.\n",
    "Palavras elencadas:\n",
    "- caixa\n",
    "- papel\n",
    "- pvc\n",
    "- aço\n",
    "- concreto"
   ]
  },
  {
   "cell_type": "markdown",
   "metadata": {
    "collapsed": false
   },
   "source": [
    "##### Mas antes de prosseguir, irei verificar a quantidade de itens licitados por órgão e o valor médio unitário homologado."
   ]
  },
  {
   "cell_type": "code",
   "execution_count": 87,
   "metadata": {
    "collapsed": false
   },
   "outputs": [],
   "source": [
    "itens_sample.reset_index(drop=True, inplace=True)"
   ]
  },
  {
   "cell_type": "code",
   "execution_count": 88,
   "metadata": {
    "collapsed": false
   },
   "outputs": [],
   "source": [
    "itens_sample = pd.merge(itens_sample, licitacoes[['CD_ORGAO','NM_ORGAO']], on='CD_ORGAO')"
   ]
  },
  {
   "cell_type": "code",
   "execution_count": 97,
   "metadata": {
    "collapsed": false
   },
   "outputs": [
    {
     "data": {
      "text/plain": [
       "NM_ORGAO\n",
       "PM DE GRAVATAÍ                 2.604419e+10\n",
       "PM DE CANOAS                   1.993866e+10\n",
       "PM DE NOVO HAMBURGO            1.798581e+10\n",
       "PM DE CAXIAS DO SUL            1.350603e+10\n",
       "PM DE PELOTAS                  1.254118e+10\n",
       "                                   ...     \n",
       "CM DE SÃO VALÉRIO DO SUL       5.000000e+00\n",
       "CM DE PORTO VERA CRUZ          4.000000e+00\n",
       "CM DE BARRA FUNDA              4.000000e+00\n",
       "CM DE PARECI NOVO              2.000000e+00\n",
       "CONS. REGIONAL DO PARANHANA    1.000000e+00\n",
       "Name: QT_ITENS, Length: 667, dtype: float64"
      ]
     },
     "execution_count": 97,
     "metadata": {},
     "output_type": "execute_result"
    }
   ],
   "source": [
    "itens_sample.groupby('NM_ORGAO')['QT_ITENS'].sum().sort_values(ascending=False)"
   ]
  },
  {
   "cell_type": "code",
   "execution_count": 91,
   "metadata": {
    "collapsed": false
   },
   "outputs": [
    {
     "data": {
      "text/plain": [
       "NM_ORGAO\n",
       "PM DE PALMEIRA DAS MISSÕES                          565758.937048\n",
       "DEP. MUNICIPAL DE LIMPEZA URBANA - PORTO ALEGRE     540274.270000\n",
       "PM DE CANOAS                                        524406.553887\n",
       "PM DE ALEGRETE                                      208534.500000\n",
       "PM DE SÃO BORJA                                     138779.756667\n",
       "                                                        ...      \n",
       "PM DE SALTO DO JACUÍ                                          NaN\n",
       "PM DE SÃO LEOPOLDO                                            NaN\n",
       "PREV-XANGRI-LÁ                                                NaN\n",
       "SERVIÇO MUN. DE ÁGUA E ESGOTOS - S. LEOPOLDO                  NaN\n",
       "SISTEMA DE PREVIDÊNCIA MUNICIPAL - S. LIVRAMENTO              NaN\n",
       "Name: VL_UNITARIO_HOMOLOGADO, Length: 667, dtype: float64"
      ]
     },
     "execution_count": 91,
     "metadata": {},
     "output_type": "execute_result"
    }
   ],
   "source": [
    "itens_sample.groupby('NM_ORGAO')['VL_UNITARIO_HOMOLOGADO'].mean().sort_values(ascending=False)"
   ]
  },
  {
   "cell_type": "code",
   "execution_count": 92,
   "metadata": {
    "collapsed": false
   },
   "outputs": [],
   "source": [
    "itens_sample['VL_DIFF'] = itens_sample['VL_UNITARIO_HOMOLOGADO'] - itens_sample['VL_UNITARIO_HOMOLOGADO']"
   ]
  },
  {
   "cell_type": "code",
   "execution_count": 98,
   "metadata": {
    "collapsed": false
   },
   "outputs": [
    {
     "data": {
      "text/plain": [
       "NM_ORGAO\n",
       "ADM. DE  CONSÓRCIOS  INTERMUNIC. S/A. - CAXIAS DO SUL    0.0\n",
       "PM DE NOVA ALVORADA                                      0.0\n",
       "PM DE NOVA ARAÇÁ                                         0.0\n",
       "PM DE NOVA BASSANO                                       0.0\n",
       "PM DE NOVA BOA VISTA                                     0.0\n",
       "                                                        ... \n",
       "PM DE BOA VISTA DO INCRA                                 0.0\n",
       "PM DE BOA VISTA DO SUL                                   0.0\n",
       "PM DE BOM PRINCÍPIO                                      0.0\n",
       "PM DE BOM RETIRO DO SUL                                  0.0\n",
       "TRIBUNAL DE JUSTIÇA                                      0.0\n",
       "Name: VL_DIFF, Length: 667, dtype: float64"
      ]
     },
     "execution_count": 98,
     "metadata": {},
     "output_type": "execute_result"
    }
   ],
   "source": [
    "itens_sample.groupby('NM_ORGAO')['VL_DIFF'].sum().sort_values()"
   ]
  },
  {
   "cell_type": "markdown",
   "metadata": {
    "collapsed": false
   },
   "source": [
    "#### Agora, irei analisar os itens licitados baseados nas palavras elencadas."
   ]
  },
  {
   "cell_type": "code",
   "execution_count": 94,
   "metadata": {
    "collapsed": false
   },
   "outputs": [
    {
     "data": {
      "text/plain": [
       "mangueira silicone 2.1/2 ''                                                                                                                                                                                                                                                                                                           191422\n",
       "material                                                                                                                                                                                                                                                                                                                               53070\n",
       "cfe edital                                                                                                                                                                                                                                                                                                                             36504\n",
       "livro                                                                                                                                                                                                                                                                                                                                  34987\n",
       "serviço                                                                                                                                                                                                                                                                                                                                31114\n",
       "                                                                                                                                                                                                                                                                                                                                       ...  \n",
       "micro computador , processador duplo núcleo , cachê 3mb , frequência 1313mhz , 3,7 ghz superior , placa mãe compatível processador , som , video rede 10/100/100 onboard , saída video vga hdmi , portas usb 2.0 3.0 , monitor 19,5 led superior , hd 500 gb , sata , memória 4gb , ddr3 , teclado abnt2 , mouse usb , caixa som .         3\n",
       "arquivo aço 04 gavetas , cor gelo .                                                                                                                                                                                                                                                                                                        3\n",
       "prestação serviços técnicos especializados assessoria consultoria contábil , jurídica gestão processo legislativo                                                                                                                                                                                                                          2\n",
       "contratação empresa fornecimento licença uso software gestão pública .                                                                                                                                                                                                                                                                     2\n",
       "presente licitação visa contratação empresa elaboração plano integrado mobilidade urbana municípios igrejinha , rolante , riozinho três coroas , integram consórcio regional paranhana - conrepar .                                                                                                                                        1\n",
       "Name: DS_ITEM, Length: 57024, dtype: int64"
      ]
     },
     "execution_count": 94,
     "metadata": {},
     "output_type": "execute_result"
    }
   ],
   "source": [
    "itens_sample['DS_ITEM'].value_counts()"
   ]
  },
  {
   "cell_type": "code",
   "execution_count": 99,
   "metadata": {
    "collapsed": false
   },
   "outputs": [
    {
     "data": {
      "text/plain": [
       "NM_ORGAO\n",
       "PM DE CANOAS                   477885525.0\n",
       "PM DE CAXIAS DO SUL            229870040.0\n",
       "PM DE NOVA BASSANO             217307008.0\n",
       "PM DE TRAMANDAÍ                109873200.0\n",
       "PM DE ERECHIM                   61751938.0\n",
       "                                  ...     \n",
       "CM DE PELOTAS                         60.0\n",
       "CM DE SÃO JOSÉ DO NORTE               21.0\n",
       "CM DE PINHAL                          16.0\n",
       "CM DE SÃO MARTINHO DA SERRA           11.0\n",
       "CM DE CERRO GRANDE DO SUL              3.0\n",
       "Name: QT_ITENS, Length: 372, dtype: float64"
      ]
     },
     "execution_count": 99,
     "metadata": {},
     "output_type": "execute_result"
    }
   ],
   "source": [
    "itens_sample[itens_sample['DS_ITEM'].str.contains('caixa', case = False)].groupby('NM_ORGAO')['QT_ITENS'].sum().sort_values(ascending=False)"
   ]
  },
  {
   "cell_type": "code",
   "execution_count": 100,
   "metadata": {
    "collapsed": false
   },
   "outputs": [
    {
     "data": {
      "text/plain": [
       "NM_ORGAO\n",
       "PM DE CANOAS                              2.395856e+09\n",
       "PM DE CAXIAS DO SUL                       1.286949e+09\n",
       "PM DE ELDORADO DO SUL                     1.896878e+08\n",
       "PM DE TRAMANDAÍ                           1.453630e+08\n",
       "PM DE TAPEJARA                            9.325800e+07\n",
       "                                              ...     \n",
       "PM DE IBIRAPUITÃ                          1.790000e+02\n",
       "PM DE VICENTE DUTRA                       1.760000e+02\n",
       "CM DE GLORINHA                            1.230000e+02\n",
       "HOSP. MUNICIPAL SÃO JOSÉ DE IBIRAIARAS    9.600000e+01\n",
       "CM DE AJURICABA                           4.200000e+01\n",
       "Name: QT_ITENS, Length: 331, dtype: float64"
      ]
     },
     "execution_count": 100,
     "metadata": {},
     "output_type": "execute_result"
    }
   ],
   "source": [
    "itens_sample[itens_sample['DS_ITEM'].str.contains('papel', case = False)].groupby('NM_ORGAO')['QT_ITENS'].sum().sort_values(ascending=False)"
   ]
  },
  {
   "cell_type": "code",
   "execution_count": 101,
   "metadata": {
    "collapsed": false
   },
   "outputs": [
    {
     "data": {
      "text/plain": [
       "NM_ORGAO\n",
       "PM DE SANTA CRUZ DO SUL             200502645.0\n",
       "PM DE CANOAS                         44665179.0\n",
       "PM DE SÃO FRANCISCO DE PAULA         31182850.0\n",
       "PM DE CAXIAS DO SUL                  27315364.0\n",
       "CIA. DE DESENV. DE CAXIAS DO SUL     24760890.0\n",
       "                                       ...     \n",
       "PM DE ARROIO DO MEIO                      285.0\n",
       "PM DE PAULO BENTO                         278.0\n",
       "PM DE CENTENÁRIO                          242.0\n",
       "PM DE CARAÁ                               211.0\n",
       "PM DE VILA LÂNGARO                        151.0\n",
       "Name: QT_ITENS, Length: 256, dtype: float64"
      ]
     },
     "execution_count": 101,
     "metadata": {},
     "output_type": "execute_result"
    }
   ],
   "source": [
    "itens_sample[itens_sample['DS_ITEM'].str.contains('pvc', case = False)].groupby('NM_ORGAO')['QT_ITENS'].sum().sort_values(ascending=False)"
   ]
  },
  {
   "cell_type": "code",
   "execution_count": 102,
   "metadata": {
    "collapsed": false
   },
   "outputs": [
    {
     "data": {
      "text/plain": [
       "NM_ORGAO\n",
       "PM DE SANTA MARIA            4.328498e+08\n",
       "PM DE CAXIAS DO SUL          2.713949e+08\n",
       "PM DE CAPÃO DA CANOA         6.369841e+07\n",
       "PM DE URUGUAIANA             3.696091e+07\n",
       "PM DE PELOTAS                3.521520e+07\n",
       "                                 ...     \n",
       "CM DE ILÓPOLIS               2.200000e+01\n",
       "CM DE GETÚLIO VARGAS         2.000000e+01\n",
       "CM DE TRÊS CACHOEIRAS        1.800000e+01\n",
       "CM DE JARI                   1.300000e+01\n",
       "CM DE CERRO GRANDE DO SUL    6.000000e+00\n",
       "Name: QT_ITENS, Length: 394, dtype: float64"
      ]
     },
     "execution_count": 102,
     "metadata": {},
     "output_type": "execute_result"
    }
   ],
   "source": [
    "itens_sample[itens_sample['DS_ITEM'].str.contains('aço', case = False)].groupby('NM_ORGAO')['QT_ITENS'].sum().sort_values(ascending=False)"
   ]
  },
  {
   "cell_type": "code",
   "execution_count": 103,
   "metadata": {
    "collapsed": false
   },
   "outputs": [
    {
     "data": {
      "text/plain": [
       "NM_ORGAO\n",
       "PM DE CANOAS                        7.591912e+07\n",
       "PM DE COTIPORÃ                      3.526944e+07\n",
       "PM DE PELOTAS                       1.766661e+07\n",
       "TRIBUNAL DE JUSTIÇA                 1.689875e+07\n",
       "CIA. DE DESENV. DE CAXIAS DO SUL    1.617116e+07\n",
       "                                        ...     \n",
       "PM DE SÉRIO                         1.824000e+02\n",
       "PM DE RONDA ALTA                    1.620000e+02\n",
       "PM DE BENJAMIN CONSTANT DO SUL      1.430000e+02\n",
       "PM DE SEVERIANO DE ALMEIDA          1.400000e+02\n",
       "PM DE FAZENDA VILANOVA              0.000000e+00\n",
       "Name: QT_ITENS, Length: 242, dtype: float64"
      ]
     },
     "execution_count": 103,
     "metadata": {},
     "output_type": "execute_result"
    }
   ],
   "source": [
    "itens_sample[itens_sample['DS_ITEM'].str.contains('concreto', case = False)].groupby('NM_ORGAO')['QT_ITENS'].sum().sort_values(ascending=False)"
   ]
  },
  {
   "cell_type": "markdown",
   "metadata": {
    "collapsed": false
   },
   "source": [
    "E, por fim, irei analisar os lotes licitados."
   ]
  },
  {
   "cell_type": "code",
   "execution_count": 104,
   "metadata": {
    "collapsed": false
   },
   "outputs": [],
   "source": [
    "from my_library import preprocess_text_pipeline\n",
    "\n",
    "lotes = pd.concat([lotes_2016, lotes_2017, lotes_2018, lotes_2019])"
   ]
  },
  {
   "cell_type": "code",
   "execution_count": 105,
   "metadata": {
    "collapsed": false
   },
   "outputs": [],
   "source": [
    "lotes['DS_LOTE'] = lotes['DS_LOTE'].apply(lambda x: preprocess_text_pipeline(x))"
   ]
  },
  {
   "cell_type": "code",
   "execution_count": null,
   "metadata": {
    "collapsed": false
   },
   "outputs": [],
   "source": [
    "from my_library import get_most_common_nouns\n",
    "\n",
    "lotes_and_counts = get_most_common_nouns(lotes, 'DS_LOTE', 100)"
   ]
  },
  {
   "cell_type": "markdown",
   "metadata": {
    "collapsed": false
   },
   "source": [
    "### A análise por texto não foi muito efetiva, então procurarei saber qual tipo de modalidade predomina entre os órgãos."
   ]
  },
  {
   "cell_type": "code",
   "execution_count": null,
   "metadata": {
    "collapsed": false
   },
   "outputs": [],
   "source": [
    "lotes = pd.merge(lotes, licitacoes[['CD_ORGAO','NM_ORGAO']], on='CD_ORGAO')"
   ]
  },
  {
   "cell_type": "code",
   "execution_count": null,
   "metadata": {
    "collapsed": false
   },
   "outputs": [],
   "source": [
    "lotes.groupby('NM_ORGAO')['DS_MODALIDADE'].value_counts()"
   ]
  },
  {
   "cell_type": "markdown",
   "metadata": {
    "collapsed": false
   },
   "source": [
    "# Conclusões da Análise Exploratória de Dados (EDA)\n",
    "\n",
    "A EDA foi realizada com o objetivo de compreender a estrutura e as características dos dados. Aqui estão algumas das principais conclusões:\n",
    "\n",
    "## Distribuição de Variáveis\n",
    "\n",
    "- A distribuição dos valores licitados mostra que a maioria dos dados está concentrada em um determinado tipo de órgão - Policias Militares e que no inverno ocorreram muito mais pedidos de licitações\n",
    "\n",
    "\n",
    "## Correlação entre Variáveis\n",
    "\n",
    "- A partir dos reports gerados, ao clicar em \"associations\" é possível verificar a correlação entre variáveis categóricas e numéricas. As mais diretas são as que se relacionam por meio de algum cálculo ou que referenciam a coisas parecidas, como valor licitado e homologado.\n",
    "\n",
    "## Valores Ausentes\n",
    "\n",
    "- VL_HOMOLOGADO apresentou uma quantidade significativa de valores ausentes, o que afetou a precisão das análises em primeiro momento. É importante decidir como lidar com esses valores ausentes a fim de ter um ótimo processamento de texto.\n",
    "- Além disso, a coluna NR_DOCUMENTO apresenta valores categóricos por serem CPFs, mas na leitura os dados apareceram como numéricos. É importante verificar se é possível transformar esses dados em categóricos.\n",
    "\n",
    "## Conclusão\n",
    "\n",
    "Em geral, a EDA forneceu uma visão geral do conjunto de dados e destacou algumas questões que precisam ser abordadas antes de continuar com as análises. A EDA também ajudou a identificar as variáveis que precisam ser exploradas mais a fundo em análises futuras. Além disso, no decorrer da exploração foi possível identificar padrões como grande quantidade de licitações em determinados órgãos e em determinadas épocas do ano, como também a variedade de itens licitados e a grande quantidade de lotes licitados em uma determinada modalidade.\n"
   ]
  }
 ],
 "metadata": {
  "kernelspec": {
   "display_name": "dsb_env",
   "language": "python",
   "name": "python3"
  },
  "language_info": {
   "codemirror_mode": {
    "name": "ipython",
    "version": 3
   },
   "file_extension": ".py",
   "mimetype": "text/x-python",
   "name": "python",
   "nbconvert_exporter": "python",
   "pygments_lexer": "ipython3",
   "version": "3.9.16"
  },
  "vscode": {
   "interpreter": {
    "hash": "41b979ba444d90fd3cbd3b4e00a283ffa1970880aac87b733b896a1e8d83438b"
   }
  }
 },
 "nbformat": 4,
 "nbformat_minor": 0
}
