{
 "cells": [
  {
   "cell_type": "markdown",
   "source": [
    "# Análise Exploratória dos Dados\n"
   ],
   "metadata": {
    "collapsed": false
   }
  },
  {
   "cell_type": "markdown",
   "source": [
    "### Levando em consideração a abordagem utilizada pelo ano de 2016, irei replicar a mesma abordagem para os anos de 2017, 2018 e 2019. Logo, Tratarei os dados desses anos e concatenarei em um único dataframe para realizar a análise exploratória dos dados."
   ],
   "metadata": {
    "collapsed": false
   }
  },
  {
   "cell_type": "markdown",
   "source": [
    "### Importando as bibliotecas necessárias"
   ],
   "metadata": {
    "collapsed": false
   }
  },
  {
   "cell_type": "code",
   "execution_count": null,
   "outputs": [],
   "source": [
    "import numpy as np\n",
    "import pandas as pd\n",
    "import sweetviz as sv\n",
    "import matplotlib.pyplot as plt\n",
    "import os\n",
    "import warnings\n",
    "warnings.filterwarnings(\"ignore\")"
   ],
   "metadata": {
    "collapsed": false
   }
  },
  {
   "cell_type": "markdown",
   "source": [
    "### Garantindo que o diretório de trabalho está correto"
   ],
   "metadata": {
    "collapsed": false
   }
  },
  {
   "cell_type": "code",
   "execution_count": null,
   "outputs": [],
   "source": [
    "base_dir = os.path.dirname(os.path.abspath('__file__'))\n",
    "dir_files_path = os.path.join(base_dir, '../data/raw/')\n",
    "reports_file_path = os.path.join(base_dir, '../reports/general_reports')"
   ],
   "metadata": {
    "collapsed": false
   }
  },
  {
   "cell_type": "markdown",
   "source": [
    "## Dataframes"
   ],
   "metadata": {
    "collapsed": false
   }
  },
  {
   "cell_type": "markdown",
   "source": [
    "#### Após ler o dicionário de dados, percebi que estas 3 bases são as mais relevantes para o estudo."
   ],
   "metadata": {
    "collapsed": false
   }
  },
  {
   "cell_type": "markdown",
   "source": [
    "#### 2016"
   ],
   "metadata": {
    "collapsed": false
   }
  },
  {
   "cell_type": "code",
   "execution_count": null,
   "outputs": [],
   "source": [
    "licitacoes_2016 = pd.read_csv(f'{dir_files_path}2016.csv/licitacao.csv')\n",
    "lotes_2016 = pd.read_csv(f'{dir_files_path}2016.csv/lote.csv')\n",
    "itens_2016 = pd.read_csv(f'{dir_files_path}2016.csv/item.csv')"
   ],
   "metadata": {
    "collapsed": false
   }
  },
  {
   "cell_type": "markdown",
   "source": [
    "#### 2017"
   ],
   "metadata": {
    "collapsed": false
   }
  },
  {
   "cell_type": "code",
   "execution_count": null,
   "outputs": [],
   "source": [
    "licitacoes_2017 = pd.read_csv(f'{dir_files_path}2017.csv/licitacao.csv')\n",
    "lotes_2017 = pd.read_csv(f'{dir_files_path}2017.csv/lote.csv')\n",
    "itens_2017 = pd.read_csv(f'{dir_files_path}2017.csv/item.csv')"
   ],
   "metadata": {
    "collapsed": false
   }
  },
  {
   "cell_type": "markdown",
   "source": [
    "#### 2018"
   ],
   "metadata": {
    "collapsed": false
   }
  },
  {
   "cell_type": "code",
   "execution_count": null,
   "outputs": [],
   "source": [
    "licitacoes_2018 = pd.read_csv(f'{dir_files_path}2018.csv/licitacao.csv')\n",
    "lotes_2018 = pd.read_csv(f'{dir_files_path}2018.csv/lote.csv')\n",
    "itens_2018 = pd.read_csv(f'{dir_files_path}2018.csv/item.csv')"
   ],
   "metadata": {
    "collapsed": false
   }
  },
  {
   "cell_type": "markdown",
   "source": [
    "#### 2019"
   ],
   "metadata": {
    "collapsed": false
   }
  },
  {
   "cell_type": "code",
   "execution_count": null,
   "outputs": [],
   "source": [
    "licitacoes_2019 = pd.read_csv(f'{dir_files_path}2019.csv/licitacao.csv')\n",
    "lotes_2019 = pd.read_csv(f'{dir_files_path}2019.csv/lote.csv')\n",
    "itens_2019 = pd.read_csv(f'{dir_files_path}2019.csv/item.csv')"
   ],
   "metadata": {
    "collapsed": false
   }
  },
  {
   "cell_type": "markdown",
   "source": [
    "### Concatenando os dataframes"
   ],
   "metadata": {
    "collapsed": false
   }
  },
  {
   "cell_type": "code",
   "execution_count": null,
   "outputs": [],
   "source": [
    "licitacoes = pd.concat([licitacoes_2016, licitacoes_2017, licitacoes_2018, licitacoes_2019])"
   ],
   "metadata": {
    "collapsed": false
   }
  },
  {
   "cell_type": "code",
   "execution_count": null,
   "outputs": [],
   "source": [
    "licitacoes.info()"
   ],
   "metadata": {
    "collapsed": false
   }
  },
  {
   "cell_type": "code",
   "execution_count": null,
   "outputs": [],
   "source": [
    "licitacoes.isna().sum()"
   ],
   "metadata": {
    "collapsed": false
   }
  },
  {
   "cell_type": "markdown",
   "source": [
    "### tratando a coluna VL_HOMOLOGADO, pois estava como string ao invés de float"
   ],
   "metadata": {
    "collapsed": false
   }
  },
  {
   "cell_type": "code",
   "execution_count": null,
   "outputs": [],
   "source": [
    "licitacoes['VL_HOMOLOGADO'] = pd.to_numeric(licitacoes['VL_HOMOLOGADO'], errors= 'coerce')"
   ],
   "metadata": {
    "collapsed": false
   }
  },
  {
   "cell_type": "code",
   "execution_count": null,
   "outputs": [],
   "source": [
    "licitacoes['VL_HOMOLOGADO'] = licitacoes['VL_HOMOLOGADO'].fillna(0)"
   ],
   "metadata": {
    "collapsed": false
   }
  },
  {
   "cell_type": "code",
   "execution_count": null,
   "outputs": [],
   "source": [
    "licitacoes['VL_HOMOLOGADO'] = licitacoes['VL_HOMOLOGADO'].astype('float64')"
   ],
   "metadata": {
    "collapsed": false
   }
  },
  {
   "cell_type": "code",
   "execution_count": null,
   "outputs": [],
   "source": [
    "# Substituindo os valores nulos por 0 para os campos numéricos\n",
    "licitacoes[licitacoes.select_dtypes(include = ['float64', 'int64']).columns] = licitacoes[licitacoes.select_dtypes(include = ['float64', 'int64']).columns].fillna(0)"
   ],
   "metadata": {
    "collapsed": false
   }
  },
  {
   "cell_type": "code",
   "execution_count": null,
   "outputs": [],
   "source": [
    "# Substituindo os valores nulos por 'Não Informado' para os campos categóricos\n",
    "licitacoes[licitacoes.select_dtypes(include = ['object']).columns] = licitacoes[licitacoes.select_dtypes(include = ['object']).columns].fillna('Não Informado')"
   ],
   "metadata": {
    "collapsed": false
   }
  },
  {
   "cell_type": "code",
   "execution_count": null,
   "outputs": [],
   "source": [
    "# Verificando se ainda existem valores nulos\n",
    "licitacoes.isna().sum()"
   ],
   "metadata": {
    "collapsed": false
   }
  },
  {
   "cell_type": "code",
   "execution_count": null,
   "outputs": [],
   "source": [
    "report_licitacoes = sv.analyze(licitacoes.drop(columns=['NR_DOCUMENTO_FORNECEDOR', 'NR_DOCUMENTO_VENCEDOR']))\n",
    "\n",
    "report_licitacoes.show_html(f'{reports_file_path}/report_licitacoes_geral.html', layout='vertical')"
   ],
   "metadata": {
    "collapsed": false
   }
  },
  {
   "cell_type": "markdown",
   "source": [
    "### Agora, para a base de itens, irei dividir elas em amostras de 15% do valor total de cada ano, para que a análise exploratória e análise de texto não demorem muito tempo."
   ],
   "metadata": {
    "collapsed": false
   }
  },
  {
   "cell_type": "code",
   "execution_count": null,
   "outputs": [],
   "source": [
    "from my_library import sample_df\n",
    "\n",
    "itens_2016_sample = sample_df(itens_2016, 0.15)\n",
    "itens_2017_sample = sample_df(itens_2017, 0.15)\n",
    "itens_2018_sample = sample_df(itens_2018, 0.15)\n",
    "itens_2019_sample = sample_df(itens_2019, 0.15)\n",
    "\n",
    "itens = pd.concat([itens_2016_sample, itens_2017_sample, itens_2018_sample, itens_2019_sample])"
   ],
   "metadata": {
    "collapsed": false
   }
  },
  {
   "cell_type": "code",
   "execution_count": null,
   "outputs": [],
   "source": [
    "itens.info()"
   ],
   "metadata": {
    "collapsed": false
   }
  },
  {
   "cell_type": "markdown",
   "source": [
    "### Tratando a coluna VL_TOTAL_HOMOLOGADO, pois novamente estava como string ao invés de float"
   ],
   "metadata": {
    "collapsed": false
   }
  },
  {
   "cell_type": "code",
   "execution_count": null,
   "outputs": [],
   "source": [
    "itens[['QT_ITENS', 'VL_UNITARIO_HOMOLOGADO', 'VL_TOTAL_HOMOLOGADO']].isna().sum()"
   ],
   "metadata": {
    "collapsed": false
   }
  },
  {
   "cell_type": "code",
   "execution_count": null,
   "outputs": [],
   "source": [
    "# Tratando os possíveis problemas de formatação dos valores\n",
    "itens['VL_TOTAL_HOMOLOGADO'] = itens['VL_TOTAL_HOMOLOGADO'].str.replace('.', '')\n",
    "itens['QT_ITENS','VL_TOTAL_HOMOLOGADO'] = itens['VL_TOTAL_HOMOLOGADO'].str.replace('R$', '')\n",
    "\n",
    "itens['QT_ITENS'] = itens['QT_ITENS'].str.replace('.', '')\n",
    "itens['QT_ITENS'] = itens['QT_ITENS'].str.replace('R$', '')"
   ],
   "metadata": {
    "collapsed": false
   }
  },
  {
   "cell_type": "code",
   "execution_count": null,
   "outputs": [],
   "source": [
    "# Convertendo para float\n",
    "itens['VL_TOTAL_HOMOLOGADO'] = pd.to_numeric(itens['VL_TOTAL_HOMOLOGADO'], errors= 'coerce')\n",
    "\n",
    "itens['QT_ITENS'] = pd.to_numeric(itens['QT_ITENS'], errors= 'coerce')"
   ],
   "metadata": {
    "collapsed": false
   }
  },
  {
   "cell_type": "code",
   "execution_count": null,
   "outputs": [],
   "source": [
    "# Substituindo os valores nulos por 0\n",
    "itens[['QT_ITENS', 'VL_UNITARIO_HOMOLOGADO', 'VL_TOTAL_HOMOLOGADO']] = itens[['QT_ITENS', 'VL_UNITARIO_HOMOLOGADO', 'VL_TOTAL_HOMOLOGADO']].fillna(0)"
   ],
   "metadata": {
    "collapsed": false
   }
  },
  {
   "cell_type": "code",
   "execution_count": null,
   "outputs": [],
   "source": [
    "# Checando se ainda existem valores nulos\n",
    "itens[['QT_ITENS', 'VL_UNITARIO_HOMOLOGADO', 'VL_TOTAL_HOMOLOGADO']].isna().sum()"
   ],
   "metadata": {
    "collapsed": false
   }
  },
  {
   "cell_type": "code",
   "execution_count": null,
   "outputs": [],
   "source": [
    "# convertendo para float\n",
    "itens[['QT_ITENS','VL_TOTAL_HOMOLOGADO']] = itens[['QT_ITENS','VL_TOTAL_HOMOLOGADO']].astype('float64')"
   ],
   "metadata": {
    "collapsed": false
   }
  },
  {
   "cell_type": "markdown",
   "source": [
    "### Agora, faremos o mesmo tratamento de dados para o preenchimento dos valores nulos."
   ],
   "metadata": {
    "collapsed": false
   }
  },
  {
   "cell_type": "code",
   "execution_count": null,
   "outputs": [],
   "source": [
    "# Substituindo os valores nulos por 0 para os campos numéricos\n",
    "itens[itens.select_dtypes(include = ['float64', 'int64']).columns] = itens[itens.select_dtypes(include = ['float64', 'int64']).columns].fillna(0)"
   ],
   "metadata": {
    "collapsed": false
   }
  },
  {
   "cell_type": "code",
   "execution_count": null,
   "outputs": [],
   "source": [
    "# Substituindo os valores nulos por 'Não Informado' para os campos categóricos\n",
    "itens[itens.select_dtypes(include = ['object']).columns] = itens[itens.select_dtypes(include = ['object']).columns].fillna('Não Informado')"
   ],
   "metadata": {
    "collapsed": false
   }
  },
  {
   "cell_type": "code",
   "execution_count": null,
   "outputs": [],
   "source": [
    "# Verificando se ainda existem valores nulos\n",
    "itens.isna().sum()"
   ],
   "metadata": {
    "collapsed": false
   }
  },
  {
   "cell_type": "code",
   "execution_count": null,
   "outputs": [],
   "source": [
    "report_itens = sv.analyze(itens.drop(columns=['NR_DOCUMENTO', 'NR_DOCUMENTO.1']))\n",
    "report_itens.show_html(f'{reports_file_path}/report_itens_geral.html', layout='vertical')"
   ],
   "metadata": {
    "collapsed": false
   }
  },
  {
   "cell_type": "markdown",
   "source": [
    "#### Por meio dos reports, é possível fazer um diagnóstico inicial dos dataframes e identificar possíveis respostas para as perguntas de negócio. Como por exemplo:\n",
    "<ul>\n",
    "<li>Distribuição de frequência das variáveis categóricas</li>\n",
    "<li>Valores mais frequentes</li>\n",
    "<li>Relação de incerteza entre as features. Ou seja, o quanto uma coluna pode dar de informação sobre a outra</li>\n",
    "</ul>"
   ],
   "metadata": {
    "collapsed": false
   }
  },
  {
   "cell_type": "markdown",
   "source": [
    "## Agora, iremos começar pelas bases recomendadas e depois tentar relacionar com as demais com o objetivo de adquirir mais informações e por fim responder às perguntas de negócio."
   ],
   "metadata": {
    "collapsed": false
   }
  },
  {
   "cell_type": "code",
   "execution_count": null,
   "outputs": [],
   "source": [
    "filtro = licitacoes['TP_OBJETO'].str.match('com', case = False)\n",
    "\n",
    "licitacoes_compras = licitacoes[filtro]\n",
    "licitacoes_compras['DS_OBJETO'].value_counts()"
   ],
   "metadata": {
    "collapsed": false
   }
  },
  {
   "cell_type": "markdown",
   "source": [
    "#### É possível observar que a maioria das descrições de liciatação contém a palavra \"aquisição\" e sinonimos para se referir a compra de bens. Logo, desenvolvi uma função utilizando NLTK para identificar os substantivos e, assim, identificar maiores relações entre os dados."
   ],
   "metadata": {
    "collapsed": false
   }
  },
  {
   "cell_type": "markdown",
   "source": [
    "##### A fim de realizar tal análise, é necessário preparar os dados. Para isso, seguirei as seguintes etapas:\n",
    "\n",
    "<li>Normalização: consiste em transformar todas as palavras em minúsculas</li>\n",
    "<li>Remoção de espaços em branco: consiste em remover os espaços em branco desnecessários</li>\n",
    "<li>Remoção de stopwords: consiste em remover as palavras que não agregam valor ao texto, como artigos, preposições, etc.</li>"
   ],
   "metadata": {
    "collapsed": false
   }
  },
  {
   "cell_type": "code",
   "execution_count": null,
   "outputs": [],
   "source": [
    "# normalizando os dados\n",
    "\n",
    "from my_library import preprocess_text_pipeline\n",
    "\n",
    "licitacoes_compras['DS_OBJETO'] = licitacoes_compras['DS_OBJETO'].apply(lambda x: preprocess_text_pipeline(x))"
   ],
   "metadata": {
    "collapsed": false
   }
  },
  {
   "cell_type": "code",
   "execution_count": null,
   "outputs": [],
   "source": [
    "# agora, iremos criar uma lista com todas as palavras e contar a frequência de cada uma\n",
    "\n",
    "from my_library import get_most_common_nouns\n",
    "\n",
    "nouns_and_counts = get_most_common_nouns(licitacoes_compras, 'DS_OBJETO', 100)"
   ],
   "metadata": {
    "collapsed": false
   }
  },
  {
   "cell_type": "code",
   "execution_count": null,
   "outputs": [],
   "source": [
    "nouns_and_counts"
   ],
   "metadata": {
    "collapsed": false
   }
  },
  {
   "cell_type": "markdown",
   "source": [
    "Por meio dos dados apresentados, decidi seguir a seguinte abordagem:\n",
    "<ol>\n",
    "<li>Elencar palavras-chave pelos radicais de forma que agrupem os termos mais relevantes</li>\n",
    "<li>Plottarei distribuições com o objetivo de verificar a diferença de valores</li>\n",
    "<li>Usar esses radicais como filtro para analisar distribuições de frequências mais específicas </li>"
   ],
   "metadata": {
    "collapsed": false
   }
  },
  {
   "cell_type": "markdown",
   "source": [
    "A seguir, agruparei as palavras-chave por radicais e plotarei as distribuições\n",
    "<ul>\n",
    "<li>material</li>\n",
    "<li>secretaria</li>\n",
    "<li>alimentos</li>\n",
    "<li>municipal</li>\n",
    "<li>saúde</li>"
   ],
   "metadata": {
    "collapsed": false
   }
  },
  {
   "cell_type": "code",
   "execution_count": null,
   "outputs": [],
   "source": [
    "# cria um dicionario que agrupa por radical e soma a conta\n",
    "root_nouns = ['mater', 'secret', 'aliment', 'municip', 'saúde', 'equip', \"veículo\" ]\n",
    "\n",
    "# talvez eu poderia ter feito de maneira mais performática, mas não consegui pensar em outra forma\n",
    "grouped_nouns_and_counts = {}\n",
    "for noun, count in nouns_and_counts:\n",
    "    for root in root_nouns:\n",
    "        if noun.startswith(root):\n",
    "            if root in grouped_nouns_and_counts:\n",
    "                grouped_nouns_and_counts[root] += count\n",
    "            else:\n",
    "                grouped_nouns_and_counts[root] = count\n",
    "\n",
    "# tentei desenvolver uma função para plotar as distribuições a partir dos radicais, mas não consegui fazer funcionar\n",
    "# from my_library import plot_boxplot_for_stems\n",
    "# plot_boxplot_for_stems(nouns_and_counts, root_nouns_to_include)"
   ],
   "metadata": {
    "collapsed": false
   }
  },
  {
   "cell_type": "code",
   "execution_count": null,
   "outputs": [],
   "source": [
    "grouped_nouns_and_counts"
   ],
   "metadata": {
    "collapsed": false
   }
  },
  {
   "cell_type": "code",
   "execution_count": null,
   "outputs": [],
   "source": [
    "# Bar plot das distribuições baseadas no tamanho da coluna de descrições\n",
    "\n",
    "df_column_size = len(licitacoes['DS_OBJETO'])\n",
    "labels = list(grouped_nouns_and_counts.keys())\n",
    "values = [(v / df_column_size) * 100 for v in grouped_nouns_and_counts.values()]\n",
    "\n",
    "fig, ax = plt.subplots()\n",
    "ax.bar(labels, values)\n",
    "\n",
    "# Add the title and labels\n",
    "ax.set_title(\"Appearance count of root nouns\")\n",
    "ax.set_xlabel(\"Root noun\")\n",
    "ax.set_ylabel(\"Count (%)\")\n",
    "\n",
    "# Show the plot\n",
    "plt.show()"
   ],
   "metadata": {
    "collapsed": false
   }
  },
  {
   "cell_type": "code",
   "execution_count": null,
   "outputs": [],
   "source": [
    "sum(grouped_nouns_and_counts.values())/df_column_size"
   ],
   "metadata": {
    "collapsed": false
   }
  },
  {
   "cell_type": "markdown",
   "source": [
    "#### levando em consideração os resultados apresentados, percebe-se que essas palavras-chave ocupam aproximadamente 24% do total de descrições de licitações. Logo, é possível afirmar que seria preciso mais palavras chaves para atingir o resultado obtido com a análise de substantivos para o ano isolado. A seguir, irei analisar as distribuições de frequências dessas palavras-chave."
   ],
   "metadata": {
    "collapsed": false
   }
  },
  {
   "cell_type": "markdown",
   "source": [
    "##### material"
   ],
   "metadata": {
    "collapsed": false
   }
  },
  {
   "cell_type": "code",
   "execution_count": null,
   "outputs": [],
   "source": [
    "from my_library import plot_bar_chart_for_filtered_df\n",
    "\n",
    "filtro = licitacoes_compras['DS_OBJETO'].str.match('mater', case = False)\n",
    "plot_bar_chart_for_filtered_df(licitacoes_compras, filtro, 'DS_OBJETO')"
   ],
   "metadata": {
    "collapsed": false
   }
  },
  {
   "cell_type": "markdown",
   "source": [
    "##### Pelos nomes estão impossíveis de ler, então vou deixar a legenda logo abaixo. Percebe-se também que a maioria dos valores estão concentrados em torno de 0, o que indica que elas podem estar englobadas na descrição \"materiais\""
   ],
   "metadata": {
    "collapsed": false
   }
  },
  {
   "cell_type": "code",
   "execution_count": null,
   "outputs": [],
   "source": [
    "# legenda\n",
    "licitacoes_compras[filtro]['DS_OBJETO'].value_counts()"
   ],
   "metadata": {
    "collapsed": false
   }
  },
  {
   "cell_type": "markdown",
   "source": [
    "##### secretaria"
   ],
   "metadata": {
    "collapsed": false
   }
  },
  {
   "cell_type": "code",
   "execution_count": null,
   "outputs": [],
   "source": [
    "# secretaria\n",
    "filtro = licitacoes_compras['DS_OBJETO'].str.contains('secret')\n",
    "\n",
    "plot_bar_chart_for_filtered_df(licitacoes_compras, filtro, 'DS_OBJETO')"
   ],
   "metadata": {
    "collapsed": false
   }
  },
  {
   "cell_type": "code",
   "execution_count": null,
   "outputs": [],
   "source": [
    "# legenda\n",
    "licitacoes_compras[filtro]['DS_OBJETO'].value_counts()"
   ],
   "metadata": {
    "collapsed": false
   }
  },
  {
   "cell_type": "markdown",
   "source": [
    "##### alimentos"
   ],
   "metadata": {
    "collapsed": false
   }
  },
  {
   "cell_type": "code",
   "execution_count": null,
   "outputs": [],
   "source": [
    "# alimentos\n",
    "filtro = licitacoes_compras['DS_OBJETO'].str.contains('aliment')\n",
    "\n",
    "plot_bar_chart_for_filtered_df(licitacoes_compras, filtro, 'DS_OBJETO')"
   ],
   "metadata": {
    "collapsed": false
   }
  },
  {
   "cell_type": "code",
   "execution_count": null,
   "outputs": [],
   "source": [
    "# legenda\n",
    "licitacoes_compras[filtro]['DS_OBJETO'].value_counts()"
   ],
   "metadata": {
    "collapsed": false
   }
  },
  {
   "cell_type": "markdown",
   "source": [
    "##### municipal"
   ],
   "metadata": {
    "collapsed": false
   }
  },
  {
   "cell_type": "code",
   "execution_count": null,
   "outputs": [],
   "source": [
    "# municipal\n",
    "filtro = licitacoes_compras['DS_OBJETO'].str.contains('municip')\n",
    "\n",
    "plot_bar_chart_for_filtered_df(licitacoes_compras, filtro, 'DS_OBJETO')"
   ],
   "metadata": {
    "collapsed": false
   }
  },
  {
   "cell_type": "code",
   "execution_count": null,
   "outputs": [],
   "source": [
    "# legenda\n",
    "licitacoes_compras[filtro]['DS_OBJETO'].value_counts()"
   ],
   "metadata": {
    "collapsed": false
   }
  },
  {
   "cell_type": "markdown",
   "source": [
    "##### saúde"
   ],
   "metadata": {
    "collapsed": false
   }
  },
  {
   "cell_type": "code",
   "execution_count": null,
   "outputs": [],
   "source": [
    "# saúde\n",
    "filtro = licitacoes_compras['DS_OBJETO'].str.contains('saúde')\n",
    "\n",
    "plot_bar_chart_for_filtered_df(licitacoes_compras, filtro, 'DS_OBJETO')"
   ],
   "metadata": {
    "collapsed": false
   }
  },
  {
   "cell_type": "code",
   "execution_count": null,
   "outputs": [],
   "source": [
    "# legenda\n",
    "licitacoes_compras[filtro]['DS_OBJETO'].value_counts()"
   ],
   "metadata": {
    "collapsed": false
   }
  },
  {
   "cell_type": "markdown",
   "source": [
    "##### equipamentos"
   ],
   "metadata": {
    "collapsed": false
   }
  },
  {
   "cell_type": "code",
   "execution_count": null,
   "outputs": [],
   "source": [
    "# equipamentos\n",
    "filtro = licitacoes_compras['DS_OBJETO'].str.contains('equip')\n",
    "\n",
    "plot_bar_chart_for_filtered_df(licitacoes_compras, filtro, 'DS_OBJETO')"
   ],
   "metadata": {
    "collapsed": false
   }
  },
  {
   "cell_type": "code",
   "execution_count": null,
   "outputs": [],
   "source": [
    "# legenda\n",
    "licitacoes_compras[filtro]['DS_OBJETO'].value_counts()"
   ],
   "metadata": {
    "collapsed": false
   }
  },
  {
   "cell_type": "markdown",
   "source": [
    "##### veículos"
   ],
   "metadata": {
    "collapsed": false
   }
  },
  {
   "cell_type": "code",
   "execution_count": null,
   "outputs": [],
   "source": [
    "# veículos\n",
    "filtro = licitacoes_compras['DS_OBJETO'].str.contains('veículo')\n",
    "\n",
    "plot_bar_chart_for_filtered_df(licitacoes_compras, filtro, 'DS_OBJETO')"
   ],
   "metadata": {
    "collapsed": false
   }
  },
  {
   "cell_type": "code",
   "execution_count": null,
   "outputs": [],
   "source": [
    "# legenda\n",
    "licitacoes_compras[filtro]['DS_OBJETO'].value_counts()"
   ],
   "metadata": {
    "collapsed": false
   }
  },
  {
   "cell_type": "markdown",
   "source": [
    "### Agora, irei analisar o comportamento dos órgãos licitantes em relação ao valor total licitado. Para isso, irei agrupar os órgãos por valor total licitado e plotar um gráfico de barras."
   ],
   "metadata": {
    "collapsed": false
   }
  },
  {
   "cell_type": "code",
   "execution_count": null,
   "outputs": [],
   "source": [
    "licitacoes_compras['NM_ORGAO'].value_counts()"
   ],
   "metadata": {
    "collapsed": false
   }
  },
  {
   "cell_type": "code",
   "execution_count": null,
   "outputs": [],
   "source": [
    "# agrupando os órgãos por valor total licitado\n",
    "orgaos_e_valores = licitacoes_compras.groupby('NM_ORGAO')['VL_HOMOLOGADO'].sum().sort_values(ascending = False).head(10)"
   ],
   "metadata": {
    "collapsed": false
   }
  },
  {
   "cell_type": "code",
   "execution_count": null,
   "outputs": [],
   "source": [
    "orgaos_e_valores\n",
    "# top 10 orgãos que mais licitaram durante todo o período apresentado"
   ],
   "metadata": {
    "collapsed": false
   }
  },
  {
   "cell_type": "code",
   "execution_count": null,
   "outputs": [],
   "source": [
    "top_10_orgaos = orgaos_e_valores.reset_index()\n",
    "\n",
    "top_10_orgaos.plot.bar(x='NM_ORGAO', rot=0)\n",
    "\n",
    "plt.title('Top 10 órgãos licitantes em 2016')\n",
    "plt.xlabel('Órgão')\n",
    "plt.ylabel('Valor total licitado (R$)')\n",
    "\n",
    "plt.show()"
   ],
   "metadata": {
    "collapsed": false
   }
  },
  {
   "cell_type": "code",
   "execution_count": null,
   "outputs": [],
   "source": [
    "# legenda dos valores\n",
    "orgaos_e_valores.keys()"
   ],
   "metadata": {
    "collapsed": false
   }
  },
  {
   "cell_type": "markdown",
   "source": [
    "### Agora, irei analisar o comportamento das licitações. Quanto tempo elas tendem a demorar para serem homologadas? Quanto tempo elas tendem a demorar para serem adjudicadas? Quanto tempo elas tendem a demorar para serem abertas? Quanto tempo elas tendem a demorar para serem encerradas?"
   ],
   "metadata": {
    "collapsed": false
   }
  },
  {
   "cell_type": "code",
   "execution_count": null,
   "outputs": [],
   "source": [
    "filter = ~licitacoes_compras['DT_HOMOLOGACAO'].str.contains('Não') & ~licitacoes_compras['DT_ADJUDICACAO'].str.contains('Não')\n",
    "\n",
    "datetimes_licitacoes = licitacoes_compras[filter][['DT_ABERTURA', 'DT_HOMOLOGACAO', 'DT_ADJUDICACAO']]"
   ],
   "metadata": {
    "collapsed": false
   }
  },
  {
   "cell_type": "code",
   "execution_count": null,
   "outputs": [],
   "source": [
    "datetimes_licitacoes"
   ],
   "metadata": {
    "collapsed": false
   }
  },
  {
   "cell_type": "code",
   "execution_count": null,
   "outputs": [],
   "source": [
    "datetimes_licitacoes['DT_ABERTURA'] = pd.to_datetime(datetimes_licitacoes['DT_ABERTURA'])"
   ],
   "metadata": {
    "collapsed": false
   }
  },
  {
   "cell_type": "markdown",
   "source": [
    "#### Me parece que um registro está com a data de abertura em formato errado. Vou verificar."
   ],
   "metadata": {
    "collapsed": false
   }
  },
  {
   "cell_type": "code",
   "execution_count": null,
   "outputs": [],
   "source": [
    "try:\n",
    "    datetimes_licitacoes['DT_ABERTURA'] = pd.to_datetime(datetimes_licitacoes['DT_ABERTURA'])\n",
    "except ValueError:\n",
    "    # If there is an error, find the row that is causing it\n",
    "    error_index = datetimes_licitacoes[pd.to_datetime(datetimes_licitacoes['DT_ABERTURA'], errors='coerce').isna()].index\n",
    "    # Drop the row\n",
    "    datetimes_licitacoes.drop(error_index, inplace=True)"
   ],
   "metadata": {
    "collapsed": false
   }
  },
  {
   "cell_type": "code",
   "execution_count": null,
   "outputs": [],
   "source": [
    "datetimes_licitacoes['DT_ABERTURA'] = pd.to_datetime(datetimes_licitacoes['DT_ABERTURA'], format='%Y-%m-%d')"
   ],
   "metadata": {
    "collapsed": false
   }
  },
  {
   "cell_type": "code",
   "execution_count": null,
   "outputs": [],
   "source": [
    "datetimes_licitacoes['DT_HOMOLOGACAO'] = pd.to_datetime(datetimes_licitacoes['DT_HOMOLOGACAO'], format='%Y-%m-%d')"
   ],
   "metadata": {
    "collapsed": false
   }
  },
  {
   "cell_type": "code",
   "execution_count": null,
   "outputs": [],
   "source": [
    "datetimes_licitacoes['DT_ADJUDICACAO'] = pd.to_datetime(datetimes_licitacoes['DT_ADJUDICACAO'], format='%Y-%m-%d')"
   ],
   "metadata": {
    "collapsed": false
   }
  },
  {
   "cell_type": "markdown",
   "source": [
    "#### Tempo de abertura - homologação"
   ],
   "metadata": {
    "collapsed": false
   }
  },
  {
   "cell_type": "code",
   "execution_count": null,
   "outputs": [],
   "source": [
    "from my_library import calculate_working_days\n",
    "def calculate_working_days_column(col1, col2):\n",
    "    return calculate_working_days(col1, col2)\n",
    "\n",
    "datetimes_licitacoes['tempo_abertura_homologacao'] = datetimes_licitacoes.apply(lambda x: calculate_working_days_column(x['DT_ABERTURA'], x['DT_HOMOLOGACAO']), axis=1)"
   ],
   "metadata": {
    "collapsed": false
   }
  },
  {
   "cell_type": "code",
   "execution_count": null,
   "outputs": [],
   "source": [
    "datetimes_licitacoes['tempo_abertura_homologacao'].describe()"
   ],
   "metadata": {
    "collapsed": false
   }
  },
  {
   "cell_type": "markdown",
   "source": [
    "##### É possível observar que existe uma diferença média de 10 dias, porém, o desvio padrão é de 17 dias, o que indica que há uma grande variação nos tempos de homologação. A fim de evitar a influencia de outliers, podemos levantar a hipótese de que os tempos de homologação estejam de acordo com a mediana(50%), que é de 5 dias."
   ],
   "metadata": {
    "collapsed": false
   }
  },
  {
   "cell_type": "markdown",
   "source": [
    "#### Tempo de homologação - adjudicação"
   ],
   "metadata": {
    "collapsed": false
   }
  },
  {
   "cell_type": "code",
   "execution_count": null,
   "outputs": [],
   "source": [
    "datetimes_licitacoes['tempo_homologacao_adjudicacao'] = datetimes_licitacoes.apply(lambda x: calculate_working_days_column(x['DT_HOMOLOGACAO'], x['DT_ADJUDICACAO']), axis=1)"
   ],
   "metadata": {
    "collapsed": false
   }
  },
  {
   "cell_type": "code",
   "execution_count": null,
   "outputs": [],
   "source": [
    "datetimes_licitacoes['tempo_homologacao_adjudicacao'].describe()"
   ],
   "metadata": {
    "collapsed": false
   }
  },
  {
   "cell_type": "markdown",
   "source": [
    "##### Já o tempo de adjudicação é bem menor, com uma média de 1 dia e um desvio padrão de 3 dias. A mediana é de 1 dia, o que indica que a maioria dos tempos de adjudicação estão de acordo com a mediana."
   ],
   "metadata": {
    "collapsed": false
   }
  },
  {
   "cell_type": "markdown",
   "source": [
    "### Agora, irei analisar as licitações pelas estações do ano. Quais são as estações do ano com mais licitações?"
   ],
   "metadata": {
    "collapsed": false
   }
  },
  {
   "cell_type": "code",
   "execution_count": null,
   "outputs": [],
   "source": [
    "# Aplicando a função de classificação de estação do ano\n",
    "from my_library import get_season\n",
    "\n",
    "datetimes_licitacoes['estacao'] = datetimes_licitacoes['DT_ABERTURA'].apply(lambda x: get_season(x))"
   ],
   "metadata": {
    "collapsed": false
   }
  },
  {
   "cell_type": "code",
   "execution_count": null,
   "outputs": [],
   "source": [
    "datetimes_licitacoes['estacao'].value_counts()"
   ],
   "metadata": {
    "collapsed": false
   }
  },
  {
   "cell_type": "code",
   "execution_count": null,
   "outputs": [],
   "source": [
    "# plotando o gráfico de barras\n",
    "\n",
    "datetimes_licitacoes['estacao'].value_counts().plot.bar(rot=0)\n",
    "\n",
    "plt.title('Quantidade de licitações por estação do ano')\n",
    "plt.xlabel('Estação do ano')\n",
    "plt.ylabel('Quantidade de licitações')\n",
    "\n",
    "plt.show()"
   ],
   "metadata": {
    "collapsed": false
   }
  },
  {
   "cell_type": "code",
   "execution_count": null,
   "outputs": [],
   "source": [
    "datetimes_licitacoes['NM_ORGAO'] = licitacoes_compras['NM_ORGAO'].reindex(datetimes_licitacoes.index, method='ffill', duplicates='drop')"
   ],
   "metadata": {
    "collapsed": false
   }
  },
  {
   "cell_type": "markdown",
   "source": [
    "Não consegui resolver o problema de indexação, então, vou fazer na tabela original"
   ],
   "metadata": {
    "collapsed": false
   }
  },
  {
   "cell_type": "code",
   "execution_count": null,
   "outputs": [],
   "source": [
    "try:\n",
    "    licitacoes_compras['estacao'] = licitacoes_compras['DT_ABERTURA'].apply(lambda x: get_season(x))\n",
    "except ValueError:\n",
    "    # If there is an error, find the row that is causing it\n",
    "    error_index = licitacoes_compras[pd.to_datetime(licitacoes_compras['DT_ABERTURA'], errors='coerce').isna()].index\n",
    "    # Drop the row\n",
    "    licitacoes_compras.drop(error_index, inplace=True)"
   ],
   "metadata": {
    "collapsed": false
   }
  },
  {
   "cell_type": "code",
   "execution_count": null,
   "outputs": [],
   "source": [
    "licitacoes_compras['estacao'] = licitacoes_compras['DT_ABERTURA'].apply(lambda x: get_season(x))"
   ],
   "metadata": {
    "collapsed": false
   }
  },
  {
   "cell_type": "code",
   "execution_count": null,
   "outputs": [],
   "source": [
    "licitacoes_compras.groupby('estacao')['NM_ORGAO'].value_counts()"
   ],
   "metadata": {
    "collapsed": false
   }
  },
  {
   "cell_type": "markdown",
   "source": [
    "### Agora, irei analisar os itens licitados. Quais são os itens mais licitados? Quais são os itens mais caros? Quais são os itens mais baratos?"
   ],
   "metadata": {
    "collapsed": false
   }
  },
  {
   "cell_type": "code",
   "execution_count": null,
   "outputs": [],
   "source": [
    "itens['DS_ITEM'].value_counts()"
   ],
   "metadata": {
    "collapsed": false
   }
  },
  {
   "cell_type": "markdown",
   "source": [
    "Por meio do resultado anterior é possível determinar algumas estratégias para a exploração de dados sobre os itens licitados.\n",
    "Como por exemplo:\n",
    "- Descrições que possuam a string 'mg'/'miligramas' ou 'ml'/'mililitros' podem ser relacionadas com medicamentos\n",
    "- Mililitros podem ser confundidos como alimentos, itens de higiene e limpeza, etc\n",
    "- Descrições que possuam unidades de medida como m², m³, etc podem ser relacionadas com materiais de construção\n",
    "- Descrições que possuam a string 'kg'/'quilogramas' podem ser relacionadas com alimentos"
   ],
   "metadata": {
    "collapsed": false
   }
  },
  {
   "cell_type": "code",
   "execution_count": null,
   "outputs": [],
   "source": [
    "itens[itens['DS_ITEM'].str.contains('mg', case = False)]['DS_ITEM'].value_counts()"
   ],
   "metadata": {
    "collapsed": false
   }
  },
  {
   "cell_type": "code",
   "execution_count": null,
   "outputs": [],
   "source": [
    "itens[itens['DS_ITEM'].str.contains('ml', case = False)]['DS_ITEM'].value_counts()"
   ],
   "metadata": {
    "collapsed": false
   }
  },
  {
   "cell_type": "code",
   "execution_count": null,
   "outputs": [],
   "source": [
    "itens[itens['DS_ITEM'].str.contains('m²', case = False)]['DS_ITEM'].value_counts()"
   ],
   "metadata": {
    "collapsed": false
   }
  },
  {
   "cell_type": "code",
   "execution_count": null,
   "outputs": [],
   "source": [
    "itens[itens['DS_ITEM'].str.contains('m³', case = False)]['DS_ITEM'].value_counts()"
   ],
   "metadata": {
    "collapsed": false
   }
  },
  {
   "cell_type": "code",
   "execution_count": null,
   "outputs": [],
   "source": [
    "itens[itens['DS_ITEM'].str.contains('kg', case = False)]['DS_ITEM'].value_counts()"
   ],
   "metadata": {
    "collapsed": false
   }
  },
  {
   "cell_type": "code",
   "execution_count": null,
   "outputs": [],
   "source": [
    "itens[itens['DS_ITEM'].str.contains('gramas', case = False)]['DS_ITEM'].value_counts()"
   ],
   "metadata": {
    "collapsed": false
   }
  },
  {
   "cell_type": "markdown",
   "source": [
    "### Devido a enormosidade dos dados, irei aplicar uma função para calcular o tamanho de uma amostra de acordo com o tamanho da população e o erro máximo aceitável. Assim, será possível analisar os itens mais licitados, os mais caros e os mais baratos e suas respectivas frequências de forma mais eficiente."
   ],
   "metadata": {
    "collapsed": false
   }
  },
  {
   "cell_type": "markdown",
   "source": [
    "#### Eu tentei aplicar a fórmula a seguir, cujo resultado retorna o tamanho da amostra para ser usada. Não deu muito certo com o problema proposto, mas segue a descrição:\n",
    "\n",
    "$ n = \\frac{(Z_{\\alpha/2})^2 \\cdot p \\cdot (1 - p)}{E^2} $\n",
    "\n",
    "- n é o tamanho da amostra\n",
    "- Z_{\\alpha/2} é o valor crítico de uma distribuição normal padrão para um nível de significância especificado (por exemplo, \\alpha = 0,05)\n",
    "- p é a proporção estimada da população que pertence à categoria de interesse\n",
    "- E é o erro desejado da margem\n",
    "\n",
    "A fórmula é usada para garantir que a amostra seja grande o suficiente para representar a população com uma margem de erro aceitável. Ao aumentar o tamanho da amostra, a margem de erro diminui. Ao contrário, ao diminuir o tamanho da amostra, a margem de erro aumenta."
   ],
   "metadata": {
    "collapsed": false
   }
  },
  {
   "cell_type": "code",
   "execution_count": null,
   "outputs": [],
   "source": [
    "from my_library import sample_df\n",
    "# Como eu não sei a variabilidade, irei considerar buscar uma amostra entre 10% e 20% da população. Assim, conseguirei uma amostra de tamanho razoável.\n",
    "\n",
    "itens_sample = sample_df(itens_2016, 0.15)"
   ],
   "metadata": {
    "collapsed": false
   }
  },
  {
   "cell_type": "code",
   "execution_count": null,
   "outputs": [],
   "source": [
    "itens_sample['DS_ITEM'].value_counts()"
   ],
   "metadata": {
    "collapsed": false
   }
  },
  {
   "cell_type": "markdown",
   "source": [
    "#### Assim como nas licitações, é possível tratar os texto dos itens para extrair informações relevantes. Por exemplo, podemos extrair informações sobre a categoria do item, como alimentos, medicamentos, materiais de construção, etc. utilizando o pipeline e a função de classificação de texto desenvolvidos anteriormente."
   ],
   "metadata": {
    "collapsed": false
   }
  },
  {
   "cell_type": "code",
   "execution_count": null,
   "outputs": [],
   "source": [
    "from my_library import preprocess_text_pipeline\n",
    "\n",
    "itens_sample['DS_ITEM'] = itens_sample['DS_ITEM'].apply(lambda x: preprocess_text_pipeline(x))"
   ],
   "metadata": {
    "collapsed": false
   }
  },
  {
   "cell_type": "code",
   "execution_count": null,
   "outputs": [],
   "source": [
    "from my_library import get_most_common_nouns\n",
    "\n",
    "itens_and_counts = get_most_common_nouns(itens_sample, 'DS_ITEM', 100)"
   ],
   "metadata": {
    "collapsed": false
   }
  },
  {
   "cell_type": "code",
   "execution_count": null,
   "outputs": [],
   "source": [
    "itens_and_counts"
   ],
   "metadata": {
    "collapsed": false
   }
  },
  {
   "cell_type": "markdown",
   "source": [
    "#### Ao examinar o resultado obtido e descartar palavras como unidades de medida, ou símbolos especiais, é possível averiguar que a maioria dos itens está distribuído em material escolar  e materiais de construção. Também estão descritos materiais como um geral."
   ],
   "metadata": {
    "collapsed": false
   }
  },
  {
   "cell_type": "markdown",
   "source": [
    "#### Sendo assim, irei novamente elencar os itens mais presentes e assim fazer uma relação com os órgãos, além de comparar diferenças no valor unitário e o homologado.\n",
    "Palavras elencadas:\n",
    "- caixa\n",
    "- papel\n",
    "- pvc\n",
    "- aço\n",
    "- concreto"
   ],
   "metadata": {
    "collapsed": false
   }
  },
  {
   "cell_type": "markdown",
   "source": [
    "##### Mas antes de prosseguir, irei verificar a quantidade de itens licitados por órgão e o valor médio unitário homologado."
   ],
   "metadata": {
    "collapsed": false
   }
  },
  {
   "cell_type": "code",
   "execution_count": null,
   "outputs": [],
   "source": [
    "itens_sample.reset_index(drop=True, inplace=True)"
   ],
   "metadata": {
    "collapsed": false
   }
  },
  {
   "cell_type": "code",
   "execution_count": null,
   "outputs": [],
   "source": [
    "itens_sample = pd.merge(itens_sample, licitacoes[['CD_ORGAO','NM_ORGAO']], on='CD_ORGAO')"
   ],
   "metadata": {
    "collapsed": false
   }
  },
  {
   "cell_type": "code",
   "execution_count": null,
   "outputs": [],
   "source": [
    "itens_sample.groupby('NM_ORGAO')['QT_ITEM'].sum().sort_values(ascending=False)"
   ],
   "metadata": {
    "collapsed": false
   }
  },
  {
   "cell_type": "code",
   "execution_count": null,
   "outputs": [],
   "source": [
    "itens_sample.groupby('NM_ORGAO')['VL_UNITARIO_HOMOLOGADO'].mean().sort_values(ascending=False)"
   ],
   "metadata": {
    "collapsed": false
   }
  },
  {
   "cell_type": "code",
   "execution_count": null,
   "outputs": [],
   "source": [
    "itens_sample['VL_DIFF'] = itens_sample['VL_UNITARIO_HOMOLOGADO'] - itens_sample['VL_UNITARIO_HOMOLOGADO']"
   ],
   "metadata": {
    "collapsed": false
   }
  },
  {
   "cell_type": "code",
   "execution_count": null,
   "outputs": [],
   "source": [
    "itens_sample.groupby('NM_ORGAO')['VL_DIFF'].sum.sort_values()"
   ],
   "metadata": {
    "collapsed": false
   }
  },
  {
   "cell_type": "markdown",
   "source": [
    "#### Agora, irei analisar os itens licitados baseados nas palavras elencadas."
   ],
   "metadata": {
    "collapsed": false
   }
  },
  {
   "cell_type": "code",
   "execution_count": null,
   "outputs": [],
   "source": [
    "itens_sample['DS_ITEM'].value_counts()"
   ],
   "metadata": {
    "collapsed": false
   }
  },
  {
   "cell_type": "code",
   "execution_count": null,
   "outputs": [],
   "source": [
    "itens_sample[itens_sample['DS_ITEM'].str.contains('caixa', case = False)].groupby('NM_ORGAO')['QT_ITEM'].sum().sort_values(ascending=False)"
   ],
   "metadata": {
    "collapsed": false
   }
  },
  {
   "cell_type": "code",
   "execution_count": null,
   "outputs": [],
   "source": [
    "itens_sample[itens_sample['DS_ITEM'].str.contains('papel', case = False)].groupby('NM_ORGAO')['QT_ITEM'].sum().sort_values(ascending=False)"
   ],
   "metadata": {
    "collapsed": false
   }
  },
  {
   "cell_type": "code",
   "execution_count": null,
   "outputs": [],
   "source": [
    "itens_sample[itens_sample['DS_ITEM'].str.contains('pvc', case = False)].groupby('NM_ORGAO')['QT_ITEM'].sum().sort_values(ascending=False)"
   ],
   "metadata": {
    "collapsed": false
   }
  },
  {
   "cell_type": "code",
   "execution_count": null,
   "outputs": [],
   "source": [
    "itens_sample[itens_sample['DS_ITEM'].str.contains('aço', case = False)].groupby('NM_ORGAO')['QT_ITEM'].sum().sort_values(ascending=False)"
   ],
   "metadata": {
    "collapsed": false
   }
  },
  {
   "cell_type": "code",
   "execution_count": null,
   "outputs": [],
   "source": [
    "itens_sample[itens_sample['DS_ITEM'].str.contains('concreto', case = False)].groupby('NM_ORGAO')['QT_ITEM'].sum().sort_values(ascending=False)"
   ],
   "metadata": {
    "collapsed": false
   }
  },
  {
   "cell_type": "markdown",
   "source": [
    "E, por fim, irei analisar os lotes licitados."
   ],
   "metadata": {
    "collapsed": false
   }
  },
  {
   "cell_type": "code",
   "execution_count": null,
   "outputs": [],
   "source": [
    "from my_library import preprocess_text_pipeline\n",
    "\n",
    "lotes = pd.concat([lotes_2016, lotes_2017, lotes_2018, lotes_2019])"
   ],
   "metadata": {
    "collapsed": false
   }
  },
  {
   "cell_type": "code",
   "execution_count": null,
   "outputs": [],
   "source": [
    "lotes['DS_LOTE'] = lotes['DS_LOTE'].apply(lambda x: preprocess_text_pipeline(x))"
   ],
   "metadata": {
    "collapsed": false
   }
  },
  {
   "cell_type": "code",
   "execution_count": null,
   "outputs": [],
   "source": [
    "from my_library import get_most_common_nouns\n",
    "\n",
    "lotes_and_counts = get_most_common_nouns(lotes, 'DS_LOTE', 100)"
   ],
   "metadata": {
    "collapsed": false
   }
  },
  {
   "cell_type": "markdown",
   "source": [
    "### A análise por texto não foi muito efetiva, então procurarei saber qual tipo de modalidade predomina entre os órgãos."
   ],
   "metadata": {
    "collapsed": false
   }
  },
  {
   "cell_type": "code",
   "execution_count": null,
   "outputs": [],
   "source": [
    "lotes = pd.merge(lotes, licitacoes[['CD_ORGAO','NM_ORGAO']], on='CD_ORGAO')"
   ],
   "metadata": {
    "collapsed": false
   }
  },
  {
   "cell_type": "code",
   "execution_count": null,
   "outputs": [],
   "source": [
    "lotes.groupby('NM_ORGAO')['DS_MODALIDADE'].value_counts()"
   ],
   "metadata": {
    "collapsed": false
   }
  },
  {
   "cell_type": "markdown",
   "source": [
    "# Conclusões da Análise Exploratória de Dados (EDA)\n",
    "\n",
    "A EDA foi realizada com o objetivo de compreender a estrutura e as características dos dados. Aqui estão algumas das principais conclusões:\n",
    "\n",
    "## Distribuição de Variáveis\n",
    "\n",
    "- A distribuição de tal variável mostra que a maioria dos dados está concentrada em um determinado tipo de órgão - Policias Militares e que no inverno ocorreram muito mais pedidos de licitações\n",
    "\n",
    "\n",
    "## Correlação entre Variáveis\n",
    "\n",
    "- Não foi possível estabelecer uma clara correlação entre as variáveis devido ao enorme número de features, o que dificultou bastante a leitura da matriz.\n",
    "\n",
    "## Valores Ausentes\n",
    "\n",
    "- Tal variável apresenta uma quantidade significativa de valores ausentes, o que pode afetar a precisão das análises futuras. É importante decidir como lidar com esses valores ausentes a fim de ter um ótimo processamento de texto\n",
    "## Conclusão\n",
    "\n",
    "Em geral, a EDA forneceu uma visão geral do conjunto de dados e destacou algumas questões que precisam ser abordadas antes de continuar com as análises. A EDA também ajudou a identificar as variáveis que precisam ser exploradas mais a fundo em análises futuras. Além disso, no decorrer da exploração foi possível identificar padrões como grande quantidade de licitações em determinados órgãos e em determinadas épocas do ano, como também a variedade de itens licitados e a grande quantidade de lotes licitados em uma determinada modalidade.\n"
   ],
   "metadata": {
    "collapsed": false
   }
  }
 ],
 "metadata": {
  "kernelspec": {
   "display_name": "Python 3",
   "language": "python",
   "name": "python3"
  },
  "language_info": {
   "codemirror_mode": {
    "name": "ipython",
    "version": 2
   },
   "file_extension": ".py",
   "mimetype": "text/x-python",
   "name": "python",
   "nbconvert_exporter": "python",
   "pygments_lexer": "ipython2",
   "version": "2.7.6"
  }
 },
 "nbformat": 4,
 "nbformat_minor": 0
}
