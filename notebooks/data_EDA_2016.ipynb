{
 "cells": [
  {
   "cell_type": "markdown",
   "source": [
    "Importando as bibliotecas"
   ],
   "metadata": {
    "collapsed": false
   }
  },
  {
   "cell_type": "code",
   "execution_count": 1,
   "metadata": {},
   "outputs": [],
   "source": [
    "import numpy as np\n",
    "import pandas as pd\n",
    "import sweetviz as sv\n",
    "import os\n",
    "import warnings\n",
    "warnings.filterwarnings(\"ignore\")"
   ]
  },
  {
   "cell_type": "markdown",
   "metadata": {},
   "source": [
    "Garantindo que o diretório de trabalho está correto"
   ]
  },
  {
   "cell_type": "code",
   "execution_count": 2,
   "metadata": {},
   "outputs": [],
   "source": [
    "base_dir = os.path.dirname(os.path.abspath('__file__'))\n",
    "dir_files_path = os.path.join(base_dir, '../data/raw/2016.csv')\n",
    "reports_file_path = os.path.join(base_dir, '../reports/2016')"
   ]
  },
  {
   "cell_type": "markdown",
   "metadata": {},
   "source": [
    "Dataframes"
   ]
  },
  {
   "cell_type": "markdown",
   "source": [
    "Após ler o dicionário de dados, percebi que essas 3 bases são as mais relevantes para o estudo."
   ],
   "metadata": {
    "collapsed": false
   }
  },
  {
   "cell_type": "code",
   "execution_count": 3,
   "metadata": {},
   "outputs": [],
   "source": [
    "licitacoes_2016 = pd.read_csv(f\"{dir_files_path}/licitacao.csv\")\n",
    "lotes_2016 = pd.read_csv(f\"{dir_files_path}/lote.csv\")\n",
    "itens_2016 = pd.read_csv(f\"{dir_files_path}/item.csv\")"
   ]
  },
  {
   "cell_type": "markdown",
   "metadata": {},
   "source": [
    "Relatórios de análise exploratória"
   ]
  },
  {
   "cell_type": "code",
   "execution_count": null,
   "metadata": {},
   "outputs": [],
   "source": [
    "# licitacoes\n",
    "report_licitacoes = sv.analyze(licitacoes_2016)\n",
    "report_licitacoes.show_html(filepath=f\"{reports_file_path}/licitacoes_report.html\", layout='vertical')"
   ]
  },
  {
   "cell_type": "code",
   "execution_count": null,
   "metadata": {},
   "outputs": [],
   "source": [
    "#itens\n",
    "report_itens = sv.analyze(itens_2016)\n",
    "report_itens.show_html(filepath=f\"{reports_file_path}/itens_report.html\", layout= 'vertical')"
   ]
  },
  {
   "cell_type": "markdown",
   "metadata": {},
   "source": [
    "O erro anterior aponta que na coluna VL_TOTAL_HOMOLOGADO consta uma combinação de tipos de variáveis - float e string\n",
    "Logo, precisa-se explorar o dataframe para identificar o que está acontecendo"
   ]
  },
  {
   "cell_type": "code",
   "execution_count": null,
   "outputs": [],
   "source": [
    "itens_2016.shape # (456368, 32)"
   ],
   "metadata": {
    "collapsed": false
   }
  },
  {
   "cell_type": "code",
   "execution_count": null,
   "outputs": [],
   "source": [
    "itens_2016.info()"
   ],
   "metadata": {
    "collapsed": false
   }
  },
  {
   "cell_type": "markdown",
   "source": [
    "A coluna VL_TOTAL_HOMOLOGADO não consta no dicionário de dados apresentado e nem no site da transparência.\n",
    "Irei tratar o dado para verificar o report, mas acredito que não seja um dado relevante para o estudo."
   ],
   "metadata": {
    "collapsed": false
   }
  },
  {
   "cell_type": "code",
   "execution_count": null,
   "outputs": [],
   "source": [
    "itens_2016[['QT_ITENS','VL_UNITARIO_HOMOLOGADO', 'VL_TOTAL_HOMOLOGADO']]"
   ],
   "metadata": {
    "collapsed": false
   }
  },
  {
   "cell_type": "markdown",
   "source": [],
   "metadata": {
    "collapsed": false
   }
  },
  {
   "cell_type": "code",
   "execution_count": null,
   "outputs": [],
   "source": [
    "itens_2016[['VL_UNITARIO_HOMOLOGADO','VL_TOTAL_HOMOLOGADO']].isnull().sum()"
   ],
   "metadata": {
    "collapsed": false
   }
  },
  {
   "cell_type": "code",
   "execution_count": null,
   "outputs": [],
   "source": [
    "372973 + 83395\n",
    "# A soma dos valores nulos e não nulos é igual ao número de linhas do dataset"
   ],
   "metadata": {
    "collapsed": false
   }
  },
  {
   "cell_type": "markdown",
   "source": [
    "Então, vou tratar os valores nulos e qualquer outro problema que possa existir para gerar o report"
   ],
   "metadata": {
    "collapsed": false
   }
  },
  {
   "cell_type": "code",
   "execution_count": null,
   "outputs": [],
   "source": [
    "# Tratando possíveis problemas com os valores em reais\n",
    "itens_2016['VL_TOTAL_HOMOLOGADO'] = itens_2016['VL_TOTAL_HOMOLOGADO'].str.replace(',','.')\n",
    "itens_2016['VL_TOTAL_HOMOLOGADO'] = itens_2016['VL_TOTAL_HOMOLOGADO'].str.replace('R$','')"
   ],
   "metadata": {
    "collapsed": false
   }
  },
  {
   "cell_type": "code",
   "execution_count": null,
   "outputs": [],
   "source": [
    "# Forçando a conversão para float\n",
    "itens_2016['VL_TOTAL_HOMOLOGADO'] = pd.to_numeric(itens_2016['VL_TOTAL_HOMOLOGADO'], errors='coerce')"
   ],
   "metadata": {
    "collapsed": false
   }
  },
  {
   "cell_type": "code",
   "execution_count": null,
   "outputs": [],
   "source": [
    "# Preenchendo os valores nulos com 0\n",
    "itens_2016[['VL_UNITARIO_HOMOLOGADO','VL_TOTAL_HOMOLOGADO']] = itens_2016[['VL_UNITARIO_HOMOLOGADO','VL_TOTAL_HOMOLOGADO']].fillna(0)"
   ],
   "metadata": {
    "collapsed": false
   }
  },
  {
   "cell_type": "code",
   "execution_count": null,
   "outputs": [],
   "source": [
    "# Checando se ainda há valores nulos\n",
    "itens_2016[['VL_UNITARIO_HOMOLOGADO','VL_TOTAL_HOMOLOGADO']].isnull().sum()"
   ],
   "metadata": {
    "collapsed": false
   }
  },
  {
   "cell_type": "markdown",
   "source": [
    "Agora, consigo converter os valores para float"
   ],
   "metadata": {
    "collapsed": false
   }
  },
  {
   "cell_type": "code",
   "execution_count": null,
   "outputs": [],
   "source": [
    "# this converts the values to float\n",
    "itens_2016['VL_TOTAL_HOMOLOGADO'] = itens_2016['VL_TOTAL_HOMOLOGADO'].astype(float)"
   ],
   "metadata": {
    "collapsed": false
   }
  },
  {
   "cell_type": "markdown",
   "source": [
    "E, finalmente, gerar o report"
   ],
   "metadata": {
    "collapsed": false
   }
  },
  {
   "cell_type": "code",
   "execution_count": null,
   "outputs": [],
   "source": [
    "#itens\n",
    "report_itens = sv.analyze(itens_2016)\n",
    "report_itens.show_html(filepath=f\"{reports_file_path}/itens_report.html\", layout= 'widescreen')"
   ],
   "metadata": {
    "collapsed": false
   }
  },
  {
   "cell_type": "markdown",
   "source": [
    "Levando em conta que a coluna apresentada no erro anterior também não está no dicionário de dados, vou ignorá-la em conjunto com qualquer outra para gerar o report"
   ],
   "metadata": {
    "collapsed": false
   }
  },
  {
   "cell_type": "code",
   "execution_count": null,
   "outputs": [],
   "source": [
    "#itens\n",
    "report_itens = sv.analyze(itens_2016.drop(columns=['NR_DOCUMENTO.1']))\n",
    "report_itens.show_html(filepath=f\"{reports_file_path}/itens_report.html\", layout= 'vertical')"
   ],
   "metadata": {
    "collapsed": false
   }
  },
  {
   "cell_type": "markdown",
   "source": [
    "Por meio dos reports, é possível fazer um diagnóstico inicial do dataset e identificar possíveis respostas para as perguntas de negócio."
   ],
   "metadata": {
    "collapsed": false
   }
  },
  {
   "cell_type": "markdown",
   "source": [
    "Agora, iremos começar pelas bases recomendadas e depois tentar relacionar com as demais com o objetivo de adquirir mais informações\n",
    "e por fim responder às perguntas de negócio."
   ],
   "metadata": {
    "collapsed": false
   }
  },
  {
   "cell_type": "code",
   "execution_count": 4,
   "outputs": [
    {
     "data": {
      "text/plain": "...                                                                                                                                                           176\nMaterial                                                                                                                                                       69\nAQUISIÇÃO DE MEDICAMENTOS                                                                                                                                      36\nAquisição de medicamentos                                                                                                                                      24\nAquisição de material hospitalar                                                                                                                               23\n                                                                                                                                                             ... \nAQUISIÇÃO DE MOTOCICLETA, ZERO QUILOMETRO, PARA PREMIAÇÃO DO PROGRAMA PAPA NOTA 2016, CONFORME LEI MUNICIPAL Nº 2791/2007 E DECRETO MUNICIPAL Nº 5522/2016      1\nAQUISIÇÃO DE MATERIAIS PARA MANUTENÇÃO DO GINÁSIO DA ESCOLA MUNICIPAL DE ENSINO FUNDAMENTAL ALEXANDRE BACCHI                                                    1\nAQUISIÇÃO DE CARTUCHOS PARA MANUTENÇÃO DAS ATIVIDADES DA SECRETARIA MUNICIPAL DE COORDENAÇÃO E PLANEJAMENTO                                                     1\nAQUISIÇÃO IMÓVEL URBANO COM MÍNIMO DE 1200M² E 2000M².                                                                                                          1\nRegistro de Preços para Fórmulas Infantis em atendimento a demanda da Secretaria Municipal de Saúde do Município de Canoas/RS.                                  1\nName: DS_OBJETO, Length: 11167, dtype: int64"
     },
     "execution_count": 4,
     "metadata": {},
     "output_type": "execute_result"
    }
   ],
   "source": [
    "# licitacoes filtradas pelo tipo de objeto - compra\n",
    "filtro = licitacoes_2016['TP_OBJETO'].str.match('com',case = False)\n",
    "licitacoes_2016_compras = licitacoes_2016[filtro]\n",
    "licitacoes_2016_compras ['DS_OBJETO'].value_counts()"
   ],
   "metadata": {
    "collapsed": false
   }
  },
  {
   "cell_type": "markdown",
   "source": [
    "É possível observar que a maioria das descrições de liciatação contém a palavra \"aquisição\" e sinonimos para se referir a compra de bens. Logo, desenvolvi uma função utilizando NLTK para identificar os substantivos e, assim, identificar maiores relações entre os dados."
   ],
   "metadata": {
    "collapsed": false
   }
  },
  {
   "cell_type": "code",
   "execution_count": 5,
   "outputs": [
    {
     "name": "stderr",
     "output_type": "stream",
     "text": [
      "[nltk_data] Downloading package punkt to /home/vlgi/nltk_data...\n",
      "[nltk_data]   Package punkt is already up-to-date!\n",
      "[nltk_data] Downloading package averaged_perceptron_tagger to\n",
      "[nltk_data]     /home/vlgi/nltk_data...\n",
      "[nltk_data]   Package averaged_perceptron_tagger is already up-to-\n",
      "[nltk_data]       date!\n"
     ]
    },
    {
     "data": {
      "text/plain": "[('DE', 11416),\n ('Aquisição', 4753),\n ('PARA', 4309),\n ('AQUISIÇÃO', 3562),\n ('E', 3032),\n ('DA', 2008),\n ('DO', 1736),\n ('A', 1200),\n ('MUNICIPAL', 1043),\n ('Municipal', 986),\n ('MATERIAL', 904),\n ('Secretaria', 900),\n ('SECRETARIA', 852),\n ('REGISTRO', 725),\n ('O', 690),\n ('Registro', 685),\n ('Saúde', 680),\n ('MATERIAIS', 671),\n ('PREÇOS', 613),\n ('Nº', 544),\n ('CONFORME', 528),\n ('EQUIPAMENTOS', 511),\n ('SAÚDE', 489),\n ('Município', 488),\n ('MANUTENÇÃO', 460),\n ('MUNICÍPIO', 451),\n ('COM', 419),\n ('AS', 394),\n ('Preços', 365),\n ('DAS', 360),\n ('ESCOLAR', 328),\n ('NA', 323),\n ('EM', 322),\n ('AQUISICAO', 306),\n ('ALIMENTÍCIOS', 303),\n ('GÊNEROS', 302),\n ('NO', 301),\n ('USO', 297),\n ('Contratação', 294),\n ('PREGÃO', 291),\n ('MUNICIPAIS', 272),\n ('Educação', 270),\n ('MEDICAMENTOS', 268),\n ('Fornecimento', 267),\n ('DIVERSOS', 265),\n ('ATRAVÉS', 261),\n ('CONTRATAÇÃO', 257),\n ('Agricultura', 256),\n ('ESCOLAS', 253),\n ('EMPRESA', 250),\n ('EDUCAÇÃO', 246),\n ('Material', 241),\n ('Social', 233),\n ('UM', 233),\n ('SOLICITAÇÃO', 233),\n ('SOCIAL', 232),\n ('N°', 227),\n ('SECRETARIAS', 223),\n ('NOVO', 220),\n ('FORNECIMENTO', 213),\n ('OS', 212),\n ('FEITA', 208),\n ('Programa', 207),\n ('Municipais', 206),\n ('DOS', 206),\n ('AGRICULTURA', 204),\n ('MEMORANDO', 203),\n ('ANEXO', 201),\n ('Familiar', 198),\n ('Assistência', 194),\n ('PEÇAS', 193),\n ('AO', 192),\n ('Escolas', 191),\n ('Escolar', 190),\n ('CRAS', 188),\n ('MERENDA', 187),\n ('ANO', 186),\n ('PLACA', 186),\n ('Gêneros', 185),\n ('VEÍCULO', 183),\n ('MUNICIPIO', 182),\n ('Secretarias', 179),\n ('OBRAS', 175),\n ('FAMILIAR', 171),\n ('PELO', 168),\n ('Alimentação', 167),\n ('LIMPEZA', 166),\n ('Materiais', 163),\n ('ENSINO', 160),\n ('VEÍCULOS', 159),\n ('HAMBURGO', 156),\n ('EXCLUSIVO', 155),\n ('PROCESSO', 155),\n ('Edital', 154),\n ('Lei', 150),\n ('INFANTIL', 146),\n ('Básica', 146),\n ('REDE', 146),\n ('DIVERSAS', 144),\n ('à', 143)]"
     },
     "execution_count": 5,
     "metadata": {},
     "output_type": "execute_result"
    }
   ],
   "source": [
    "from my_library import get_most_common_nouns\n",
    "\n",
    "get_most_common_nouns(licitacoes_2016_compras,'DS_OBJETO', 100)"
   ],
   "metadata": {
    "collapsed": false
   }
  },
  {
   "cell_type": "code",
   "execution_count": 6,
   "outputs": [
    {
     "data": {
      "text/plain": "FUND. DE SAÚDE PÚBLICA DE NOVO HAMBURGO                     244\nPM DE VIAMÃO                                                244\nPM DE PELOTAS                                               238\nPM DE GUAPORÉ                                               238\nPM DE NOVO HAMBURGO                                         190\n                                                           ... \nINST. DE PREV. E ASSIST. DOS SERV. MUNIC. DE N. HAMBURGO      1\nPREV-XANGRI-LÁ                                                1\nINST. MUN. ASSIST. SERV. DE NOVA SANTA RITA                   1\nCM DE CONSTANTINA                                             1\nCM DE SÃO PEDRO DA SERRA                                      1\nName: NM_ORGAO, Length: 577, dtype: int64"
     },
     "execution_count": 6,
     "metadata": {},
     "output_type": "execute_result"
    }
   ],
   "source": [
    "licitacoes_2016_compras['NM_ORGAO'].value_counts()"
   ],
   "metadata": {
    "collapsed": false
   }
  },
  {
   "cell_type": "code",
   "execution_count": 7,
   "outputs": [
    {
     "data": {
      "text/plain": "CD_ORGAO  NM_ORGAO                                     \n72600     PM DE TUPANDI                                    7.920721e+08\n88258     CONS. PÚBL. DO EXTREMO SUL                       4.934806e+08\n63000     PM DE VIAMÃO                                     4.207760e+08\n44500     PM DE CANOAS                                     2.162334e+08\n88190     CONS. INTERM. DE SAÚDE DO VALE DO RIO TAQUARI    8.848445e+07\n                                                               ...     \n60500     PM DE SERTÃO                                     0.000000e+00\n82701     CM DE XANGRI-LÁ                                  0.000000e+00\n61500     PM DE TORRES                                     0.000000e+00\n68400     PM DE IPIRANGA DO SUL                            0.000000e+00\n60600     PM DE SEVERIANO DE ALMEIDA                       0.000000e+00\nName: VL_LICITACAO, Length: 577, dtype: float64"
     },
     "execution_count": 7,
     "metadata": {},
     "output_type": "execute_result"
    }
   ],
   "source": [
    "licitacoes_2016_compras.groupby(['CD_ORGAO','NM_ORGAO'])['VL_LICITACAO'].sum().sort_values(ascending=False)"
   ],
   "metadata": {
    "collapsed": false
   }
  },
  {
   "cell_type": "code",
   "execution_count": 8,
   "outputs": [
    {
     "data": {
      "text/plain": "        CD_ORGAO  NR_LICITACAO  ANO_LICITACAO CD_TIPO_MODALIDADE  NR_LOTE  \\\n0          77200          15.0           2016                PRP        1   \n1          77200          15.0           2016                PRP        1   \n2          77200          15.0           2016                PRP        1   \n3          77200          15.0           2016                PRP        1   \n4          77200          15.0           2016                PRP        1   \n...          ...           ...            ...                ...      ...   \n456363     78900          13.0           2016                PRP        1   \n456364     78900          13.0           2016                PRP        1   \n456365     78900          13.0           2016                PRP        1   \n456366     78900          13.0           2016                PRP        1   \n456367     78900          13.0           2016                PRP        1   \n\n        NR_ITEM NR_ITEM_ORIGINAL  \\\n0             2                2   \n1             4                4   \n2             7                7   \n3             8                8   \n4            12               12   \n...         ...              ...   \n456363      154              154   \n456364      156              156   \n456365      158              158   \n456366      167              167   \n456367      171              171   \n\n                                                  DS_ITEM  QT_ITENS  \\\n0       Pneu 1000/20 liso radial, dianteiro, 16 lonas,...      10.0   \n1                      Pneu 12.4x24 garra baixa, 10 lonas       4.0   \n2                            Pneu 1400x24 mínimo 12 lonas       6.0   \n3       Pneu 17.5x25 12 lonas, capacidade mínima de ca...       4.0   \n4               Pneu 18.4x30 garra baixa, mínimo 10 lonas       4.0   \n...                                                   ...       ...   \n456363                                   Ranitidina 150mg   10000.0   \n456364           Salbutamol 100mcg/dose aerosol 200 doses     300.0   \n456365                                  Sinvastatina 40mg  100000.0   \n456366                          Valproato de Sódio 500 mg   15000.0   \n456367                                   Risperidona 1 mg     500.0   \n\n       SG_UNIDADE_MEDIDA  ...  TP_ORCAMENTO  CD_TIPO_FAMILIA  \\\n0                     UN  ...             M            745.0   \n1                     UN  ...             M            745.0   \n2                     UN  ...             M            745.0   \n3                     UN  ...             M            745.0   \n4                     UN  ...             M            745.0   \n...                  ...  ...           ...              ...   \n456363               COM  ...           NaN              NaN   \n456364                FR  ...           NaN              NaN   \n456365               COM  ...           NaN              NaN   \n456366               COM  ...           NaN              NaN   \n456367               COM  ...           NaN              NaN   \n\n       CD_TIPO_SUBFAMILIA  TP_DOCUMENTO  NR_DOCUMENTO TP_DOCUMENTO.1  \\\n0                   632.0             J  8.774832e+12            NaN   \n1                   632.0             J  8.774832e+12            NaN   \n2                   632.0             J  8.774832e+12            NaN   \n3                   632.0             J  8.774832e+12            NaN   \n4                   632.0             J  8.774832e+12            NaN   \n...                   ...           ...           ...            ...   \n456363                NaN             J  5.782733e+12            NaN   \n456364                NaN             J  5.782733e+12            NaN   \n456365                NaN             J  5.782733e+12            NaN   \n456366                NaN             J  5.782733e+12            NaN   \n456367                NaN             J  5.782733e+12            NaN   \n\n       NR_DOCUMENTO.1 TP_BENEFICIO_MICRO_EPP  PC_TX_ESTIMADA PC_TX_HOMOLOGADA  \n0                 NaN                      L             NaN              NaN  \n1                 NaN                      L             NaN              NaN  \n2                 NaN                      L             NaN              NaN  \n3                 NaN                      L             NaN              NaN  \n4                 NaN                      L             NaN              NaN  \n...               ...                    ...             ...              ...  \n456363            NaN                      N             NaN              NaN  \n456364            NaN                      N             NaN              NaN  \n456365            NaN                      N             NaN              NaN  \n456366            NaN                      N             NaN              NaN  \n456367            NaN                      N             NaN              NaN  \n\n[456368 rows x 32 columns]",
      "text/html": "<div>\n<style scoped>\n    .dataframe tbody tr th:only-of-type {\n        vertical-align: middle;\n    }\n\n    .dataframe tbody tr th {\n        vertical-align: top;\n    }\n\n    .dataframe thead th {\n        text-align: right;\n    }\n</style>\n<table border=\"1\" class=\"dataframe\">\n  <thead>\n    <tr style=\"text-align: right;\">\n      <th></th>\n      <th>CD_ORGAO</th>\n      <th>NR_LICITACAO</th>\n      <th>ANO_LICITACAO</th>\n      <th>CD_TIPO_MODALIDADE</th>\n      <th>NR_LOTE</th>\n      <th>NR_ITEM</th>\n      <th>NR_ITEM_ORIGINAL</th>\n      <th>DS_ITEM</th>\n      <th>QT_ITENS</th>\n      <th>SG_UNIDADE_MEDIDA</th>\n      <th>...</th>\n      <th>TP_ORCAMENTO</th>\n      <th>CD_TIPO_FAMILIA</th>\n      <th>CD_TIPO_SUBFAMILIA</th>\n      <th>TP_DOCUMENTO</th>\n      <th>NR_DOCUMENTO</th>\n      <th>TP_DOCUMENTO.1</th>\n      <th>NR_DOCUMENTO.1</th>\n      <th>TP_BENEFICIO_MICRO_EPP</th>\n      <th>PC_TX_ESTIMADA</th>\n      <th>PC_TX_HOMOLOGADA</th>\n    </tr>\n  </thead>\n  <tbody>\n    <tr>\n      <th>0</th>\n      <td>77200</td>\n      <td>15.0</td>\n      <td>2016</td>\n      <td>PRP</td>\n      <td>1</td>\n      <td>2</td>\n      <td>2</td>\n      <td>Pneu 1000/20 liso radial, dianteiro, 16 lonas,...</td>\n      <td>10.0</td>\n      <td>UN</td>\n      <td>...</td>\n      <td>M</td>\n      <td>745.0</td>\n      <td>632.0</td>\n      <td>J</td>\n      <td>8.774832e+12</td>\n      <td>NaN</td>\n      <td>NaN</td>\n      <td>L</td>\n      <td>NaN</td>\n      <td>NaN</td>\n    </tr>\n    <tr>\n      <th>1</th>\n      <td>77200</td>\n      <td>15.0</td>\n      <td>2016</td>\n      <td>PRP</td>\n      <td>1</td>\n      <td>4</td>\n      <td>4</td>\n      <td>Pneu 12.4x24 garra baixa, 10 lonas</td>\n      <td>4.0</td>\n      <td>UN</td>\n      <td>...</td>\n      <td>M</td>\n      <td>745.0</td>\n      <td>632.0</td>\n      <td>J</td>\n      <td>8.774832e+12</td>\n      <td>NaN</td>\n      <td>NaN</td>\n      <td>L</td>\n      <td>NaN</td>\n      <td>NaN</td>\n    </tr>\n    <tr>\n      <th>2</th>\n      <td>77200</td>\n      <td>15.0</td>\n      <td>2016</td>\n      <td>PRP</td>\n      <td>1</td>\n      <td>7</td>\n      <td>7</td>\n      <td>Pneu 1400x24 mínimo 12 lonas</td>\n      <td>6.0</td>\n      <td>UN</td>\n      <td>...</td>\n      <td>M</td>\n      <td>745.0</td>\n      <td>632.0</td>\n      <td>J</td>\n      <td>8.774832e+12</td>\n      <td>NaN</td>\n      <td>NaN</td>\n      <td>L</td>\n      <td>NaN</td>\n      <td>NaN</td>\n    </tr>\n    <tr>\n      <th>3</th>\n      <td>77200</td>\n      <td>15.0</td>\n      <td>2016</td>\n      <td>PRP</td>\n      <td>1</td>\n      <td>8</td>\n      <td>8</td>\n      <td>Pneu 17.5x25 12 lonas, capacidade mínima de ca...</td>\n      <td>4.0</td>\n      <td>UN</td>\n      <td>...</td>\n      <td>M</td>\n      <td>745.0</td>\n      <td>632.0</td>\n      <td>J</td>\n      <td>8.774832e+12</td>\n      <td>NaN</td>\n      <td>NaN</td>\n      <td>L</td>\n      <td>NaN</td>\n      <td>NaN</td>\n    </tr>\n    <tr>\n      <th>4</th>\n      <td>77200</td>\n      <td>15.0</td>\n      <td>2016</td>\n      <td>PRP</td>\n      <td>1</td>\n      <td>12</td>\n      <td>12</td>\n      <td>Pneu 18.4x30 garra baixa, mínimo 10 lonas</td>\n      <td>4.0</td>\n      <td>UN</td>\n      <td>...</td>\n      <td>M</td>\n      <td>745.0</td>\n      <td>632.0</td>\n      <td>J</td>\n      <td>8.774832e+12</td>\n      <td>NaN</td>\n      <td>NaN</td>\n      <td>L</td>\n      <td>NaN</td>\n      <td>NaN</td>\n    </tr>\n    <tr>\n      <th>...</th>\n      <td>...</td>\n      <td>...</td>\n      <td>...</td>\n      <td>...</td>\n      <td>...</td>\n      <td>...</td>\n      <td>...</td>\n      <td>...</td>\n      <td>...</td>\n      <td>...</td>\n      <td>...</td>\n      <td>...</td>\n      <td>...</td>\n      <td>...</td>\n      <td>...</td>\n      <td>...</td>\n      <td>...</td>\n      <td>...</td>\n      <td>...</td>\n      <td>...</td>\n      <td>...</td>\n    </tr>\n    <tr>\n      <th>456363</th>\n      <td>78900</td>\n      <td>13.0</td>\n      <td>2016</td>\n      <td>PRP</td>\n      <td>1</td>\n      <td>154</td>\n      <td>154</td>\n      <td>Ranitidina 150mg</td>\n      <td>10000.0</td>\n      <td>COM</td>\n      <td>...</td>\n      <td>NaN</td>\n      <td>NaN</td>\n      <td>NaN</td>\n      <td>J</td>\n      <td>5.782733e+12</td>\n      <td>NaN</td>\n      <td>NaN</td>\n      <td>N</td>\n      <td>NaN</td>\n      <td>NaN</td>\n    </tr>\n    <tr>\n      <th>456364</th>\n      <td>78900</td>\n      <td>13.0</td>\n      <td>2016</td>\n      <td>PRP</td>\n      <td>1</td>\n      <td>156</td>\n      <td>156</td>\n      <td>Salbutamol 100mcg/dose aerosol 200 doses</td>\n      <td>300.0</td>\n      <td>FR</td>\n      <td>...</td>\n      <td>NaN</td>\n      <td>NaN</td>\n      <td>NaN</td>\n      <td>J</td>\n      <td>5.782733e+12</td>\n      <td>NaN</td>\n      <td>NaN</td>\n      <td>N</td>\n      <td>NaN</td>\n      <td>NaN</td>\n    </tr>\n    <tr>\n      <th>456365</th>\n      <td>78900</td>\n      <td>13.0</td>\n      <td>2016</td>\n      <td>PRP</td>\n      <td>1</td>\n      <td>158</td>\n      <td>158</td>\n      <td>Sinvastatina 40mg</td>\n      <td>100000.0</td>\n      <td>COM</td>\n      <td>...</td>\n      <td>NaN</td>\n      <td>NaN</td>\n      <td>NaN</td>\n      <td>J</td>\n      <td>5.782733e+12</td>\n      <td>NaN</td>\n      <td>NaN</td>\n      <td>N</td>\n      <td>NaN</td>\n      <td>NaN</td>\n    </tr>\n    <tr>\n      <th>456366</th>\n      <td>78900</td>\n      <td>13.0</td>\n      <td>2016</td>\n      <td>PRP</td>\n      <td>1</td>\n      <td>167</td>\n      <td>167</td>\n      <td>Valproato de Sódio 500 mg</td>\n      <td>15000.0</td>\n      <td>COM</td>\n      <td>...</td>\n      <td>NaN</td>\n      <td>NaN</td>\n      <td>NaN</td>\n      <td>J</td>\n      <td>5.782733e+12</td>\n      <td>NaN</td>\n      <td>NaN</td>\n      <td>N</td>\n      <td>NaN</td>\n      <td>NaN</td>\n    </tr>\n    <tr>\n      <th>456367</th>\n      <td>78900</td>\n      <td>13.0</td>\n      <td>2016</td>\n      <td>PRP</td>\n      <td>1</td>\n      <td>171</td>\n      <td>171</td>\n      <td>Risperidona 1 mg</td>\n      <td>500.0</td>\n      <td>COM</td>\n      <td>...</td>\n      <td>NaN</td>\n      <td>NaN</td>\n      <td>NaN</td>\n      <td>J</td>\n      <td>5.782733e+12</td>\n      <td>NaN</td>\n      <td>NaN</td>\n      <td>N</td>\n      <td>NaN</td>\n      <td>NaN</td>\n    </tr>\n  </tbody>\n</table>\n<p>456368 rows × 32 columns</p>\n</div>"
     },
     "execution_count": 8,
     "metadata": {},
     "output_type": "execute_result"
    }
   ],
   "source": [
    "itens_2016"
   ],
   "metadata": {
    "collapsed": false
   }
  },
  {
   "cell_type": "code",
   "execution_count": 9,
   "outputs": [
    {
     "data": {
      "text/plain": "MANGUEIRA SILICONE 2.1/2\"              1360\nMATERIAL                                873\nLIVRO                                   355\n.                                       344\nNÃO CADASTRADO                          304\n                                       ... \nResina fotopolimerizavel , cor A3,5       1\nResina fotopolimerizavel cor:A3           1\nResina fotopolimerizavel, cor B2          1\nResina fotopolimerizável cor A2           1\nValproato de Sódio 500 mg                 1\nName: DS_ITEM, Length: 359635, dtype: int64"
     },
     "execution_count": 9,
     "metadata": {},
     "output_type": "execute_result"
    }
   ],
   "source": [
    "itens_2016['DS_ITEM'].value_counts()"
   ],
   "metadata": {
    "collapsed": false
   }
  },
  {
   "cell_type": "markdown",
   "source": [
    "Por meio do resultado anterior é possível determinar algumas estratégias para a exploração de dados sobre os itens licitados.\n",
    "Como por exemplo:\n",
    "- Descrições que possuam a string 'mg'/'miligramas' ou 'ml'/'mililitros' podem ser relacionadas com medicamentos\n",
    "- Descrições que possuam unidades de medida como m², m³, etc podem ser relacionadas com materiais de construção\n",
    "- Descrições que possuam a string 'kg'/'quilogramas' podem ser relacionadas com alimentos"
   ],
   "metadata": {
    "collapsed": false
   }
  },
  {
   "cell_type": "code",
   "execution_count": 10,
   "outputs": [
    {
     "data": {
      "text/plain": "FUROSEMIDA 40MG                                42\nCARBAMAZEPINA 200MG                            41\nFENOBARBITAL 100MG                             40\nPREDNISONA 5MG                                 38\nCEFALEXINA 500MG                               38\n                                               ..\nDIPIRONA 500 MG/ML SOLUÇÃO ORAL 10 ML           1\nENALAPRIL 20MG (EMBALAGEM HOSPITALAR)           1\nESPIRONOLACTONA 50MG (EMBALAGEM HOSPITALAR)     1\nFENOBARBITAL 100 MG (EMBALAGEM HOSPITALAR)      1\nValproato de Sódio 500 mg                       1\nName: DS_ITEM, Length: 27872, dtype: int64"
     },
     "execution_count": 10,
     "metadata": {},
     "output_type": "execute_result"
    }
   ],
   "source": [
    "itens_2016[itens_2016['DS_ITEM'].str.contains('mg', case = False)]['DS_ITEM'].value_counts()"
   ],
   "metadata": {
    "collapsed": false
   }
  },
  {
   "cell_type": "code",
   "execution_count": 11,
   "outputs": [
    {
     "data": {
      "text/plain": "ÓLEO DE SOJA 900 ML                                                                                                                  21\nOLEO DE SOJA 900 ML                                                                                                                  20\nÓLEO DE SOJA VEGETAL: garrafa de 900ml                                                                                               15\nVINAGRE DE MAÇÃ: garrafa de 750ml                                                                                                    13\nOLEO DE SOJA 900ML                                                                                                                   11\n                                                                                                                                     ..\nCola gliter, não tóxica, composta por resinas de pva, gliter e conservante tipo benzoatiazol, embalagem de 35 ml, na cor prata        1\nCola gliter, não tóxica, composta por resinas de pva, gliter e conservante tipo benzoatiazol, embalagem de 35 ml, na cor dourada.     1\nCola gliter, não tóxica, composta por resinas de pva, gliter e conservante tipo benzoatiazol, embalagem de 35 ml, na cor azul         1\ndetergente biodegradavel embalagem 500 ml                                                                                             1\nPermetrina loção 5% - 60mL                                                                                                            1\nName: DS_ITEM, Length: 23708, dtype: int64"
     },
     "execution_count": 11,
     "metadata": {},
     "output_type": "execute_result"
    }
   ],
   "source": [
    "itens_2016[itens_2016['DS_ITEM'].str.contains('ml', case = False)]['DS_ITEM'].value_counts()"
   ],
   "metadata": {
    "collapsed": false
   }
  },
  {
   "cell_type": "code",
   "execution_count": null,
   "outputs": [],
   "source": [],
   "metadata": {
    "collapsed": false
   }
  }
 ],
 "metadata": {
  "kernelspec": {
   "display_name": "Python 3 (ipykernel)",
   "language": "python",
   "name": "python3"
  },
  "language_info": {
   "codemirror_mode": {
    "name": "ipython",
    "version": 3
   },
   "file_extension": ".py",
   "mimetype": "text/x-python",
   "name": "python",
   "nbconvert_exporter": "python",
   "pygments_lexer": "ipython3",
   "version": "3.9.16"
  }
 },
 "nbformat": 4,
 "nbformat_minor": 1
}
