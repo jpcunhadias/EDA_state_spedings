{
 "cells": [
  {
   "cell_type": "markdown",
   "metadata": {
    "collapsed": false
   },
   "source": [
    "# Análise exploratória dos dados"
   ]
  },
  {
   "cell_type": "markdown",
   "metadata": {
    "collapsed": false
   },
   "source": [
    "### Importando as bibliotecas\n"
   ]
  },
  {
   "cell_type": "code",
   "execution_count": 1,
   "metadata": {},
   "outputs": [],
   "source": [
    "import numpy as np\n",
    "import pandas as pd\n",
    "import sweetviz as sv\n",
    "import matplotlib.pyplot as plt\n",
    "import os\n",
    "import warnings\n",
    "warnings.filterwarnings(\"ignore\")"
   ]
  },
  {
   "cell_type": "markdown",
   "metadata": {},
   "source": [
    "### Garantindo que o diretório de trabalho está correto"
   ]
  },
  {
   "cell_type": "code",
   "execution_count": 2,
   "metadata": {},
   "outputs": [],
   "source": [
    "base_dir = os.path.dirname(os.path.abspath('__file__'))\n",
    "dir_files_path = os.path.join(base_dir, '../data/raw/2016.csv')\n",
    "reports_file_path = os.path.join(base_dir, '../reports/2016')"
   ]
  },
  {
   "cell_type": "markdown",
   "metadata": {},
   "source": [
    "### Dataframes"
   ]
  },
  {
   "cell_type": "markdown",
   "metadata": {
    "collapsed": false
   },
   "source": [
    "#### Após ler o dicionário de dados, percebi que estas 3 bases são as mais relevantes para o estudo."
   ]
  },
  {
   "cell_type": "code",
   "execution_count": 3,
   "metadata": {},
   "outputs": [],
   "source": [
    "licitacoes_2016 = pd.read_csv(f\"{dir_files_path}/licitacao.csv\")\n",
    "lotes_2016 = pd.read_csv(f\"{dir_files_path}/lote.csv\")\n",
    "itens_2016 = pd.read_csv(f\"{dir_files_path}/item.csv\")"
   ]
  },
  {
   "cell_type": "markdown",
   "metadata": {},
   "source": [
    "### Relatórios de análise exploratória"
   ]
  },
  {
   "cell_type": "markdown",
   "metadata": {
    "collapsed": false
   },
   "source": [
    "#### começando pela base de licitações"
   ]
  },
  {
   "cell_type": "code",
   "execution_count": 4,
   "metadata": {
    "collapsed": false
   },
   "outputs": [
    {
     "name": "stdout",
     "output_type": "stream",
     "text": [
      "<class 'pandas.core.frame.DataFrame'>\n",
      "RangeIndex: 30466 entries, 0 to 30465\n",
      "Data columns (total 61 columns):\n",
      " #   Column                       Non-Null Count  Dtype  \n",
      "---  ------                       --------------  -----  \n",
      " 0   CD_ORGAO                     30466 non-null  int64  \n",
      " 1   NM_ORGAO                     30466 non-null  object \n",
      " 2   NR_LICITACAO                 30466 non-null  float64\n",
      " 3   ANO_LICITACAO                30466 non-null  int64  \n",
      " 4   CD_TIPO_MODALIDADE           30466 non-null  object \n",
      " 5   NR_COMISSAO                  21922 non-null  float64\n",
      " 6   ANO_COMISSAO                 21922 non-null  float64\n",
      " 7   TP_COMISSAO                  21922 non-null  object \n",
      " 8   NR_PROCESSO                  30466 non-null  object \n",
      " 9   ANO_PROCESSO                 30466 non-null  int64  \n",
      " 10  TP_OBJETO                    30466 non-null  object \n",
      " 11  CD_TIPO_FASE_ATUAL           30466 non-null  object \n",
      " 12  TP_LICITACAO                 30466 non-null  object \n",
      " 13  TP_NIVEL_JULGAMENTO          30466 non-null  object \n",
      " 14  DT_AUTORIZACAO_ADESAO        117 non-null    object \n",
      " 15  TP_CARACTERISTICA_OBJETO     30466 non-null  object \n",
      " 16  TP_NATUREZA                  30466 non-null  object \n",
      " 17  TP_REGIME_EXECUCAO           6921 non-null   object \n",
      " 18  BL_PERMITE_SUBCONTRATACAO    22901 non-null  object \n",
      " 19  TP_BENEFICIO_MICRO_EPP       30466 non-null  object \n",
      " 20  TP_FORNECIMENTO              18397 non-null  object \n",
      " 21  TP_ATUACAO_REGISTRO          2625 non-null   object \n",
      " 22  NR_LICITACAO_ORIGINAL        149 non-null    object \n",
      " 23  ANO_LICITACAO_ORIGINAL       5648 non-null   float64\n",
      " 24  NR_ATA_REGISTRO_PRECO        149 non-null    object \n",
      " 25  DT_ATA_REGISTRO_PRECO        148 non-null    object \n",
      " 26  PC_TAXA_RISCO                6033 non-null   float64\n",
      " 27  TP_EXECUCAO                  3571 non-null   object \n",
      " 28  TP_DISPUTA                   44 non-null     object \n",
      " 29  TP_PREQUALIFICACAO           43 non-null     object \n",
      " 30  BL_INVERSAO_FASES            30466 non-null  object \n",
      " 31  TP_RESULTADO_GLOBAL          5122 non-null   object \n",
      " 32  CNPJ_ORGAO_GERENCIADOR       944 non-null    float64\n",
      " 33  NM_ORGAO_GERENCIADOR         943 non-null    object \n",
      " 34  DS_OBJETO                    30466 non-null  object \n",
      " 35  CD_TIPO_FUNDAMENTACAO        9489 non-null   object \n",
      " 36  NR_ARTIGO                    5600 non-null   float64\n",
      " 37  DS_INCISO                    2982 non-null   object \n",
      " 38  DS_LEI                       2984 non-null   object \n",
      " 39  DT_INICIO_INSCR_CRED         343 non-null    object \n",
      " 40  DT_FIM_INSCR_CRED            340 non-null    object \n",
      " 41  DT_INICIO_VIGEN_CRED         323 non-null    object \n",
      " 42  DT_FIM_VIGEN_CRED            320 non-null    object \n",
      " 43  VL_LICITACAO                 29483 non-null  float64\n",
      " 44  BL_ORCAMENTO_SIGILOSO        13259 non-null  object \n",
      " 45  BL_RECEBE_INSCRICAO_PER_VIG  2934 non-null   object \n",
      " 46  BL_PERMITE_CONSORCIO         30466 non-null  object \n",
      " 47  DT_ABERTURA                  30461 non-null  object \n",
      " 48  DT_HOMOLOGACAO               19296 non-null  object \n",
      " 49  DT_ADJUDICACAO               18797 non-null  object \n",
      " 50  BL_LICIT_PROPRIA_ORGAO       30466 non-null  object \n",
      " 51  TP_DOCUMENTO_FORNECEDOR      7638 non-null   object \n",
      " 52  NR_DOCUMENTO_FORNECEDOR      7638 non-null   float64\n",
      " 53  TP_DOCUMENTO_VENCEDOR        3112 non-null   object \n",
      " 54  NR_DOCUMENTO_VENCEDOR        3112 non-null   float64\n",
      " 55  VL_HOMOLOGADO                13327 non-null  float64\n",
      " 56  BL_GERA_DESPESA              30466 non-null  object \n",
      " 57  DS_OBSERVACAO                1593 non-null   object \n",
      " 58  PC_TX_ESTIMADA               1 non-null      float64\n",
      " 59  PC_TX_HOMOLOGADA             1 non-null      float64\n",
      " 60  BL_COMPARTILHADA             30466 non-null  object \n",
      "dtypes: float64(13), int64(3), object(45)\n",
      "memory usage: 14.2+ MB\n"
     ]
    }
   ],
   "source": [
    "licitacoes_2016.info()"
   ]
  },
  {
   "cell_type": "code",
   "execution_count": 5,
   "metadata": {
    "collapsed": false
   },
   "outputs": [
    {
     "data": {
      "text/plain": [
       "CD_ORGAO                  0\n",
       "NM_ORGAO                  0\n",
       "NR_LICITACAO              0\n",
       "ANO_LICITACAO             0\n",
       "CD_TIPO_MODALIDADE        0\n",
       "                      ...  \n",
       "BL_GERA_DESPESA           0\n",
       "DS_OBSERVACAO         28873\n",
       "PC_TX_ESTIMADA        30465\n",
       "PC_TX_HOMOLOGADA      30465\n",
       "BL_COMPARTILHADA          0\n",
       "Length: 61, dtype: int64"
      ]
     },
     "execution_count": 5,
     "metadata": {},
     "output_type": "execute_result"
    }
   ],
   "source": [
    "licitacoes_2016.isna().sum()"
   ]
  },
  {
   "cell_type": "code",
   "execution_count": 6,
   "metadata": {
    "collapsed": false
   },
   "outputs": [],
   "source": [
    "# Tratando os valores nulos para colunas numéricas\n",
    "licitacoes_2016[licitacoes_2016.select_dtypes(include = ['float64', 'int64']).columns] = licitacoes_2016[licitacoes_2016.select_dtypes(include = ['float64', 'int64']).columns].fillna(0)"
   ]
  },
  {
   "cell_type": "code",
   "execution_count": 7,
   "metadata": {
    "collapsed": false
   },
   "outputs": [],
   "source": [
    "# Tratando os valores nulos para colunas categóricas\n",
    "licitacoes_2016[licitacoes_2016.select_dtypes(include = ['object']).columns] = licitacoes_2016[licitacoes_2016.select_dtypes(include = ['object']).columns].fillna('Não informado')\n"
   ]
  },
  {
   "cell_type": "code",
   "execution_count": 8,
   "metadata": {
    "collapsed": false
   },
   "outputs": [
    {
     "data": {
      "text/plain": [
       "CD_ORGAO              0\n",
       "NM_ORGAO              0\n",
       "NR_LICITACAO          0\n",
       "ANO_LICITACAO         0\n",
       "CD_TIPO_MODALIDADE    0\n",
       "                     ..\n",
       "BL_GERA_DESPESA       0\n",
       "DS_OBSERVACAO         0\n",
       "PC_TX_ESTIMADA        0\n",
       "PC_TX_HOMOLOGADA      0\n",
       "BL_COMPARTILHADA      0\n",
       "Length: 61, dtype: int64"
      ]
     },
     "execution_count": 8,
     "metadata": {},
     "output_type": "execute_result"
    }
   ],
   "source": [
    "# Checando se ainda há valores nulos\n",
    "licitacoes_2016.isna().sum()"
   ]
  },
  {
   "cell_type": "code",
   "execution_count": 9,
   "metadata": {},
   "outputs": [
    {
     "data": {
      "application/vnd.jupyter.widget-view+json": {
       "model_id": "45dfa38b5de245d8817fead023165029",
       "version_major": 2,
       "version_minor": 0
      },
      "text/plain": [
       "                                             |          | [  0%]   00:00 -> (? left)"
      ]
     },
     "metadata": {},
     "output_type": "display_data"
    },
    {
     "name": "stdout",
     "output_type": "stream",
     "text": [
      "Report c:\\Users\\joaop\\DataspellProjects\\EDA_state_spedings\\notebooks\\../reports/2016/licitacoes_report.html was generated! NOTEBOOK/COLAB USERS: the web browser MAY not pop up, regardless, the report IS saved in your notebook/colab files.\n"
     ]
    }
   ],
   "source": [
    "# licitacoes\n",
    "report_licitacoes = sv.analyze(licitacoes_2016)\n",
    "report_licitacoes.show_html(filepath=f\"{reports_file_path}/licitacoes_report.html\", layout='vertical')"
   ]
  },
  {
   "cell_type": "markdown",
   "metadata": {
    "collapsed": false
   },
   "source": [
    "#### Agora, a base de itens"
   ]
  },
  {
   "cell_type": "code",
   "execution_count": 10,
   "metadata": {
    "collapsed": false
   },
   "outputs": [
    {
     "data": {
      "text/plain": [
       "(456368, 32)"
      ]
     },
     "execution_count": 10,
     "metadata": {},
     "output_type": "execute_result"
    }
   ],
   "source": [
    "itens_2016.shape # (456368, 32)"
   ]
  },
  {
   "cell_type": "code",
   "execution_count": 11,
   "metadata": {
    "collapsed": false
   },
   "outputs": [
    {
     "name": "stdout",
     "output_type": "stream",
     "text": [
      "<class 'pandas.core.frame.DataFrame'>\n",
      "RangeIndex: 456368 entries, 0 to 456367\n",
      "Data columns (total 32 columns):\n",
      " #   Column                          Non-Null Count   Dtype  \n",
      "---  ------                          --------------   -----  \n",
      " 0   CD_ORGAO                        456368 non-null  int64  \n",
      " 1   NR_LICITACAO                    456368 non-null  float64\n",
      " 2   ANO_LICITACAO                   456368 non-null  int64  \n",
      " 3   CD_TIPO_MODALIDADE              456368 non-null  object \n",
      " 4   NR_LOTE                         456368 non-null  int64  \n",
      " 5   NR_ITEM                         456368 non-null  int64  \n",
      " 6   NR_ITEM_ORIGINAL                456368 non-null  object \n",
      " 7   DS_ITEM                         456368 non-null  object \n",
      " 8   QT_ITENS                        456368 non-null  float64\n",
      " 9   SG_UNIDADE_MEDIDA               456368 non-null  object \n",
      " 10  VL_UNITARIO_ESTIMADO            447196 non-null  float64\n",
      " 11  VL_TOTAL_ESTIMADO               447196 non-null  float64\n",
      " 12  DT_REF_VALOR_ESTIMADO           156403 non-null  object \n",
      " 13  PC_BDI_ESTIMADO                 136442 non-null  float64\n",
      " 14  PC_ENCARGOS_SOCIAIS_ESTIMADO    136529 non-null  float64\n",
      " 15  CD_FONTE_REFERENCIA             55458 non-null   object \n",
      " 16  DS_FONTE_REFERENCIA             66231 non-null   object \n",
      " 17  TP_RESULTADO_ITEM               314530 non-null  object \n",
      " 18  VL_UNITARIO_HOMOLOGADO          372973 non-null  float64\n",
      " 19  VL_TOTAL_HOMOLOGADO             372973 non-null  object \n",
      " 20  PC_BDI_HOMOLOGADO               165367 non-null  float64\n",
      " 21  PC_ENCARGOS_SOCIAIS_HOMOLOGADO  165330 non-null  float64\n",
      " 22  TP_ORCAMENTO                    31305 non-null   object \n",
      " 23  CD_TIPO_FAMILIA                 44928 non-null   float64\n",
      " 24  CD_TIPO_SUBFAMILIA              35832 non-null   float64\n",
      " 25  TP_DOCUMENTO                    353383 non-null  object \n",
      " 26  NR_DOCUMENTO                    353383 non-null  float64\n",
      " 27  TP_DOCUMENTO.1                  16777 non-null   object \n",
      " 28  NR_DOCUMENTO.1                  16777 non-null   object \n",
      " 29  TP_BENEFICIO_MICRO_EPP          334117 non-null  object \n",
      " 30  PC_TX_ESTIMADA                  1 non-null       float64\n",
      " 31  PC_TX_HOMOLOGADA                1 non-null       float64\n",
      "dtypes: float64(14), int64(4), object(14)\n",
      "memory usage: 111.4+ MB\n"
     ]
    }
   ],
   "source": [
    "itens_2016.info()"
   ]
  },
  {
   "cell_type": "markdown",
   "metadata": {
    "collapsed": false
   },
   "source": [
    "##### A coluna VL_TOTAL_HOMOLOGADO não consta no dicionário de dados apresentado e nem no site da transparência, além de ser de um tipo que não condiz com os demais valores da coluna. Vou tratar o dado para verificar o report, mas acredito que não seja um dado relevante para o estudo, pois é a multiplicação de duas colunas que constam no dicionário de dados."
   ]
  },
  {
   "cell_type": "code",
   "execution_count": 12,
   "metadata": {
    "collapsed": false
   },
   "outputs": [
    {
     "data": {
      "text/plain": [
       "QT_ITENS                      0\n",
       "VL_UNITARIO_HOMOLOGADO    83395\n",
       "VL_TOTAL_HOMOLOGADO       83395\n",
       "dtype: int64"
      ]
     },
     "execution_count": 12,
     "metadata": {},
     "output_type": "execute_result"
    }
   ],
   "source": [
    "itens_2016[['QT_ITENS','VL_UNITARIO_HOMOLOGADO', 'VL_TOTAL_HOMOLOGADO']].isna().sum()"
   ]
  },
  {
   "cell_type": "code",
   "execution_count": 13,
   "metadata": {
    "collapsed": false
   },
   "outputs": [],
   "source": [
    "# Tratando possíveis problemas com os valores em reais\n",
    "itens_2016['VL_TOTAL_HOMOLOGADO'] = itens_2016['VL_TOTAL_HOMOLOGADO'].str.replace(',','.')\n",
    "itens_2016['VL_TOTAL_HOMOLOGADO'] = itens_2016['VL_TOTAL_HOMOLOGADO'].str.replace('R$','')"
   ]
  },
  {
   "cell_type": "code",
   "execution_count": 14,
   "metadata": {
    "collapsed": false
   },
   "outputs": [],
   "source": [
    "# Forçando a conversão para float\n",
    "itens_2016['VL_TOTAL_HOMOLOGADO'] = pd.to_numeric(itens_2016['VL_TOTAL_HOMOLOGADO'], errors='coerce')"
   ]
  },
  {
   "cell_type": "code",
   "execution_count": 15,
   "metadata": {
    "collapsed": false
   },
   "outputs": [],
   "source": [
    "# Preenchendo os valores nulos com 0\n",
    "itens_2016[['VL_UNITARIO_HOMOLOGADO','VL_TOTAL_HOMOLOGADO']] = itens_2016[['VL_UNITARIO_HOMOLOGADO','VL_TOTAL_HOMOLOGADO']].fillna(0)"
   ]
  },
  {
   "cell_type": "code",
   "execution_count": 16,
   "metadata": {
    "collapsed": false
   },
   "outputs": [
    {
     "data": {
      "text/plain": [
       "VL_UNITARIO_HOMOLOGADO    0\n",
       "VL_TOTAL_HOMOLOGADO       0\n",
       "dtype: int64"
      ]
     },
     "execution_count": 16,
     "metadata": {},
     "output_type": "execute_result"
    }
   ],
   "source": [
    "# Checando se ainda há valores nulos\n",
    "itens_2016[['VL_UNITARIO_HOMOLOGADO','VL_TOTAL_HOMOLOGADO']].isnull().sum()"
   ]
  },
  {
   "cell_type": "code",
   "execution_count": 17,
   "metadata": {
    "collapsed": false
   },
   "outputs": [],
   "source": [
    "# Convertendo os valores para float\n",
    "itens_2016['VL_TOTAL_HOMOLOGADO'] = itens_2016['VL_TOTAL_HOMOLOGADO'].astype(float)"
   ]
  },
  {
   "cell_type": "markdown",
   "metadata": {
    "collapsed": false
   },
   "source": [
    "##### Agora, faremos o mesmo tratamento de dados para o preenchimento dos valores nulos"
   ]
  },
  {
   "cell_type": "code",
   "execution_count": 18,
   "metadata": {
    "collapsed": false
   },
   "outputs": [],
   "source": [
    "# para colunas numéricas\n",
    "itens_2016[itens_2016.select_dtypes(include = ['float64', 'int64']).columns] = itens_2016[itens_2016.select_dtypes(include = ['float64', 'int64']).columns].fillna(0)"
   ]
  },
  {
   "cell_type": "code",
   "execution_count": 19,
   "metadata": {
    "collapsed": false
   },
   "outputs": [],
   "source": [
    "# para colunas categóricas\n",
    "itens_2016[itens_2016.select_dtypes(include = ['object']).columns] = itens_2016[itens_2016.select_dtypes(include = ['object']).columns].fillna('Não informado')"
   ]
  },
  {
   "cell_type": "code",
   "execution_count": 20,
   "metadata": {
    "collapsed": false
   },
   "outputs": [
    {
     "data": {
      "text/plain": [
       "CD_ORGAO                          0\n",
       "NR_LICITACAO                      0\n",
       "ANO_LICITACAO                     0\n",
       "CD_TIPO_MODALIDADE                0\n",
       "NR_LOTE                           0\n",
       "NR_ITEM                           0\n",
       "NR_ITEM_ORIGINAL                  0\n",
       "DS_ITEM                           0\n",
       "QT_ITENS                          0\n",
       "SG_UNIDADE_MEDIDA                 0\n",
       "VL_UNITARIO_ESTIMADO              0\n",
       "VL_TOTAL_ESTIMADO                 0\n",
       "DT_REF_VALOR_ESTIMADO             0\n",
       "PC_BDI_ESTIMADO                   0\n",
       "PC_ENCARGOS_SOCIAIS_ESTIMADO      0\n",
       "CD_FONTE_REFERENCIA               0\n",
       "DS_FONTE_REFERENCIA               0\n",
       "TP_RESULTADO_ITEM                 0\n",
       "VL_UNITARIO_HOMOLOGADO            0\n",
       "VL_TOTAL_HOMOLOGADO               0\n",
       "PC_BDI_HOMOLOGADO                 0\n",
       "PC_ENCARGOS_SOCIAIS_HOMOLOGADO    0\n",
       "TP_ORCAMENTO                      0\n",
       "CD_TIPO_FAMILIA                   0\n",
       "CD_TIPO_SUBFAMILIA                0\n",
       "TP_DOCUMENTO                      0\n",
       "NR_DOCUMENTO                      0\n",
       "TP_DOCUMENTO.1                    0\n",
       "NR_DOCUMENTO.1                    0\n",
       "TP_BENEFICIO_MICRO_EPP            0\n",
       "PC_TX_ESTIMADA                    0\n",
       "PC_TX_HOMOLOGADA                  0\n",
       "dtype: int64"
      ]
     },
     "execution_count": 20,
     "metadata": {},
     "output_type": "execute_result"
    }
   ],
   "source": [
    "# Checando se ainda há valores nulos\n",
    "itens_2016.isna().sum()"
   ]
  },
  {
   "cell_type": "code",
   "execution_count": 21,
   "metadata": {},
   "outputs": [
    {
     "data": {
      "application/vnd.jupyter.widget-view+json": {
       "model_id": "0e46e5c4097a4c0c8274581bc52894d3",
       "version_major": 2,
       "version_minor": 0
      },
      "text/plain": [
       "                                             |          | [  0%]   00:00 -> (? left)"
      ]
     },
     "metadata": {},
     "output_type": "display_data"
    },
    {
     "ename": "TypeError",
     "evalue": "\n\nColumn [NR_DOCUMENTO.1] has a 'mixed' inferred_type (as determined by Pandas).\nThis is is not currently supported; column types should not contain mixed data.\ne.g. only floats or strings, but not a combination.\n\nPOSSIBLE RESOLUTIONS:\nBEST -> Make sure series [NR_DOCUMENTO.1] only contains a certain type of data (numerical OR string).\nOR -> Convert series [NR_DOCUMENTO.1] to a string (if makes sense) so it will be picked up as CATEGORICAL or TEXT.\n     One way to do this is:\n     df['NR_DOCUMENTO.1'] = df['NR_DOCUMENTO.1'].astype(str)\nOR -> Convert series [NR_DOCUMENTO.1] to a numerical value (if makes sense):\n     One way to do this is:\n     df['NR_DOCUMENTO.1'] = pd.to_numeric(df['NR_DOCUMENTO.1'], errors='coerce')\n     # (errors='coerce' will transform string values to NaN, that can then be replaced if desired; consult Pandas manual pages for more details)\n",
     "output_type": "error",
     "traceback": [
      "\u001b[1;31m---------------------------------------------------------------------------\u001b[0m",
      "\u001b[1;31mTypeError\u001b[0m                                 Traceback (most recent call last)",
      "Cell \u001b[1;32mIn[21], line 2\u001b[0m\n\u001b[0;32m      1\u001b[0m \u001b[39m#itens\u001b[39;00m\n\u001b[1;32m----> 2\u001b[0m report_itens \u001b[39m=\u001b[39m sv\u001b[39m.\u001b[39;49manalyze(itens_2016)\n\u001b[0;32m      3\u001b[0m report_itens\u001b[39m.\u001b[39mshow_html(filepath\u001b[39m=\u001b[39m\u001b[39mf\u001b[39m\u001b[39m\"\u001b[39m\u001b[39m{\u001b[39;00mreports_file_path\u001b[39m}\u001b[39;00m\u001b[39m/itens_report.html\u001b[39m\u001b[39m\"\u001b[39m, layout\u001b[39m=\u001b[39m \u001b[39m'\u001b[39m\u001b[39mvertical\u001b[39m\u001b[39m'\u001b[39m)\n",
      "File \u001b[1;32mc:\\Users\\joaop\\anaconda3\\envs\\dsb_env\\lib\\site-packages\\sweetviz\\sv_public.py:12\u001b[0m, in \u001b[0;36manalyze\u001b[1;34m(source, target_feat, feat_cfg, pairwise_analysis)\u001b[0m\n\u001b[0;32m      8\u001b[0m \u001b[39mdef\u001b[39;00m \u001b[39manalyze\u001b[39m(source: Union[pd\u001b[39m.\u001b[39mDataFrame, Tuple[pd\u001b[39m.\u001b[39mDataFrame, \u001b[39mstr\u001b[39m]],\n\u001b[0;32m      9\u001b[0m             target_feat: \u001b[39mstr\u001b[39m \u001b[39m=\u001b[39m \u001b[39mNone\u001b[39;00m,\n\u001b[0;32m     10\u001b[0m             feat_cfg: FeatureConfig \u001b[39m=\u001b[39m \u001b[39mNone\u001b[39;00m,\n\u001b[0;32m     11\u001b[0m             pairwise_analysis: \u001b[39mstr\u001b[39m \u001b[39m=\u001b[39m \u001b[39m'\u001b[39m\u001b[39mauto\u001b[39m\u001b[39m'\u001b[39m):\n\u001b[1;32m---> 12\u001b[0m     report \u001b[39m=\u001b[39m sweetviz\u001b[39m.\u001b[39;49mDataframeReport(source, target_feat, \u001b[39mNone\u001b[39;49;00m,\n\u001b[0;32m     13\u001b[0m                                       pairwise_analysis, feat_cfg)\n\u001b[0;32m     14\u001b[0m     \u001b[39mreturn\u001b[39;00m report\n",
      "File \u001b[1;32mc:\\Users\\joaop\\anaconda3\\envs\\dsb_env\\lib\\site-packages\\sweetviz\\dataframe_report.py:256\u001b[0m, in \u001b[0;36mDataframeReport.__init__\u001b[1;34m(self, source, target_feature_name, compare, pairwise_analysis, fc)\u001b[0m\n\u001b[0;32m    253\u001b[0m \u001b[39mfor\u001b[39;00m f \u001b[39min\u001b[39;00m features_to_process:\n\u001b[0;32m    254\u001b[0m     \u001b[39m# start = time.perf_counter()\u001b[39;00m\n\u001b[0;32m    255\u001b[0m     \u001b[39mself\u001b[39m\u001b[39m.\u001b[39mprogress_bar\u001b[39m.\u001b[39mset_description_str(\u001b[39mf\u001b[39m\u001b[39m\"\u001b[39m\u001b[39mFeature: \u001b[39m\u001b[39m{\u001b[39;00mf\u001b[39m.\u001b[39msource\u001b[39m.\u001b[39mname\u001b[39m}\u001b[39;00m\u001b[39m\"\u001b[39m)\n\u001b[1;32m--> 256\u001b[0m     \u001b[39mself\u001b[39m\u001b[39m.\u001b[39m_features[f\u001b[39m.\u001b[39msource\u001b[39m.\u001b[39mname] \u001b[39m=\u001b[39m sa\u001b[39m.\u001b[39;49manalyze_feature_to_dictionary(f)\n\u001b[0;32m    257\u001b[0m     \u001b[39mself\u001b[39m\u001b[39m.\u001b[39mprogress_bar\u001b[39m.\u001b[39mupdate(\u001b[39m1\u001b[39m)\n\u001b[0;32m    258\u001b[0m     \u001b[39m# print(f\"DONE FEATURE------> {f.source.name}\"\u001b[39;00m\n\u001b[0;32m    259\u001b[0m     \u001b[39m#       f\" {(time.perf_counter() - start):.2f}   {self._features[f.source.name]['type']}\")\u001b[39;00m\n\u001b[0;32m    260\u001b[0m \u001b[39m# self.progress_bar.set_description_str('[FEATURES DONE]')\u001b[39;00m\n\u001b[0;32m    261\u001b[0m \u001b[39m# self.progress_bar.close()\u001b[39;00m\n\u001b[0;32m    262\u001b[0m \n\u001b[0;32m    263\u001b[0m \u001b[39m# Wrap up summary\u001b[39;00m\n",
      "File \u001b[1;32mc:\\Users\\joaop\\anaconda3\\envs\\dsb_env\\lib\\site-packages\\sweetviz\\series_analyzer.py:93\u001b[0m, in \u001b[0;36manalyze_feature_to_dictionary\u001b[1;34m(to_process)\u001b[0m\n\u001b[0;32m     91\u001b[0m \u001b[39m# Determine SOURCE feature type\u001b[39;00m\n\u001b[0;32m     92\u001b[0m to_process\u001b[39m.\u001b[39msource_counts \u001b[39m=\u001b[39m get_counts(to_process\u001b[39m.\u001b[39msource)\n\u001b[1;32m---> 93\u001b[0m returned_feature_dict[\u001b[39m\"\u001b[39m\u001b[39mtype\u001b[39m\u001b[39m\"\u001b[39m] \u001b[39m=\u001b[39m determine_feature_type(to_process\u001b[39m.\u001b[39;49msource, to_process\u001b[39m.\u001b[39;49msource_counts,\n\u001b[0;32m     94\u001b[0m                                                        to_process\u001b[39m.\u001b[39;49mpredetermined_type, \u001b[39m\"\u001b[39;49m\u001b[39mSOURCE\u001b[39;49m\u001b[39m\"\u001b[39;49m)\n\u001b[0;32m     95\u001b[0m source_type \u001b[39m=\u001b[39m returned_feature_dict[\u001b[39m\"\u001b[39m\u001b[39mtype\u001b[39m\u001b[39m\"\u001b[39m]\n\u001b[0;32m     97\u001b[0m \u001b[39m# Determine COMPARED feature type & initialize\u001b[39;00m\n",
      "File \u001b[1;32mc:\\Users\\joaop\\anaconda3\\envs\\dsb_env\\lib\\site-packages\\sweetviz\\type_detection.py:13\u001b[0m, in \u001b[0;36mdetermine_feature_type\u001b[1;34m(series, counts, must_be_this_type, which_dataframe)\u001b[0m\n\u001b[0;32m      6\u001b[0m \u001b[39mdef\u001b[39;00m \u001b[39mdetermine_feature_type\u001b[39m(series: pd\u001b[39m.\u001b[39mSeries, counts: \u001b[39mdict\u001b[39m,\n\u001b[0;32m      7\u001b[0m         must_be_this_type: FeatureType, which_dataframe: \u001b[39mstr\u001b[39m) \u001b[39m-\u001b[39m\u001b[39m>\u001b[39m \u001b[39mobject\u001b[39m:\n\u001b[0;32m      8\u001b[0m     \u001b[39m# Replace infinite values with NaNs to avoid issues with histograms\u001b[39;00m\n\u001b[0;32m      9\u001b[0m     \u001b[39m# TODO: INFINITE VALUE HANDLING/WARNING\u001b[39;00m\n\u001b[0;32m     10\u001b[0m     \u001b[39m# series.replace(to_replace=[np.inf, np.NINF, np.PINF], value=np.nan,\u001b[39;00m\n\u001b[0;32m     11\u001b[0m     \u001b[39m#                inplace=True)\u001b[39;00m\n\u001b[0;32m     12\u001b[0m     \u001b[39mif\u001b[39;00m counts[\u001b[39m\"\u001b[39m\u001b[39mvalue_counts_without_nan\u001b[39m\u001b[39m\"\u001b[39m]\u001b[39m.\u001b[39mindex\u001b[39m.\u001b[39minferred_type\u001b[39m.\u001b[39mstartswith(\u001b[39m\"\u001b[39m\u001b[39mmixed\u001b[39m\u001b[39m\"\u001b[39m):\n\u001b[1;32m---> 13\u001b[0m         \u001b[39mraise\u001b[39;00m \u001b[39mTypeError\u001b[39;00m(\u001b[39mf\u001b[39m\u001b[39m\"\u001b[39m\u001b[39m\\n\u001b[39;00m\u001b[39m\\n\u001b[39;00m\u001b[39mColumn [\u001b[39m\u001b[39m{\u001b[39;00mseries\u001b[39m.\u001b[39mname\u001b[39m}\u001b[39;00m\u001b[39m] has a \u001b[39m\u001b[39m'\u001b[39m\u001b[39mmixed\u001b[39m\u001b[39m'\u001b[39m\u001b[39m inferred_type (as determined by Pandas).\u001b[39m\u001b[39m\\n\u001b[39;00m\u001b[39m\"\u001b[39m\n\u001b[0;32m     14\u001b[0m                         \u001b[39mf\u001b[39m\u001b[39m\"\u001b[39m\u001b[39mThis is is not currently supported; column types should not contain mixed data.\u001b[39m\u001b[39m\\n\u001b[39;00m\u001b[39m\"\u001b[39m\n\u001b[0;32m     15\u001b[0m                         \u001b[39mf\u001b[39m\u001b[39m\"\u001b[39m\u001b[39me.g. only floats or strings, but not a combination.\u001b[39m\u001b[39m\\n\u001b[39;00m\u001b[39m\\n\u001b[39;00m\u001b[39m\"\u001b[39m\n\u001b[0;32m     16\u001b[0m                         \u001b[39mf\u001b[39m\u001b[39m\"\u001b[39m\u001b[39mPOSSIBLE RESOLUTIONS:\u001b[39m\u001b[39m\\n\u001b[39;00m\u001b[39m\"\u001b[39m\n\u001b[0;32m     17\u001b[0m                         \u001b[39mf\u001b[39m\u001b[39m\"\u001b[39m\u001b[39mBEST -> Make sure series [\u001b[39m\u001b[39m{\u001b[39;00mseries\u001b[39m.\u001b[39mname\u001b[39m}\u001b[39;00m\u001b[39m] only contains a certain type of data (numerical OR string).\u001b[39m\u001b[39m\\n\u001b[39;00m\u001b[39m\"\u001b[39m\n\u001b[0;32m     18\u001b[0m                         \u001b[39mf\u001b[39m\u001b[39m\"\u001b[39m\u001b[39mOR -> Convert series [\u001b[39m\u001b[39m{\u001b[39;00mseries\u001b[39m.\u001b[39mname\u001b[39m}\u001b[39;00m\u001b[39m] to a string (if makes sense) so it will be picked up as CATEGORICAL or TEXT.\u001b[39m\u001b[39m\\n\u001b[39;00m\u001b[39m\"\u001b[39m\n\u001b[0;32m     19\u001b[0m                         \u001b[39mf\u001b[39m\u001b[39m\"\u001b[39m\u001b[39m     One way to do this is:\u001b[39m\u001b[39m\\n\u001b[39;00m\u001b[39m\"\u001b[39m\n\u001b[0;32m     20\u001b[0m                         \u001b[39mf\u001b[39m\u001b[39m\"\u001b[39m\u001b[39m     df[\u001b[39m\u001b[39m'\u001b[39m\u001b[39m{\u001b[39;00mseries\u001b[39m.\u001b[39mname\u001b[39m}\u001b[39;00m\u001b[39m'\u001b[39m\u001b[39m] = df[\u001b[39m\u001b[39m'\u001b[39m\u001b[39m{\u001b[39;00mseries\u001b[39m.\u001b[39mname\u001b[39m}\u001b[39;00m\u001b[39m'\u001b[39m\u001b[39m].astype(str)\u001b[39m\u001b[39m\\n\u001b[39;00m\u001b[39m\"\u001b[39m\n\u001b[0;32m     21\u001b[0m                         \u001b[39mf\u001b[39m\u001b[39m\"\u001b[39m\u001b[39mOR -> Convert series [\u001b[39m\u001b[39m{\u001b[39;00mseries\u001b[39m.\u001b[39mname\u001b[39m}\u001b[39;00m\u001b[39m] to a numerical value (if makes sense):\u001b[39m\u001b[39m\\n\u001b[39;00m\u001b[39m\"\u001b[39m\n\u001b[0;32m     22\u001b[0m                         \u001b[39mf\u001b[39m\u001b[39m\"\u001b[39m\u001b[39m     One way to do this is:\u001b[39m\u001b[39m\\n\u001b[39;00m\u001b[39m\"\u001b[39m\n\u001b[0;32m     23\u001b[0m                         \u001b[39mf\u001b[39m\u001b[39m\"\u001b[39m\u001b[39m     df[\u001b[39m\u001b[39m'\u001b[39m\u001b[39m{\u001b[39;00mseries\u001b[39m.\u001b[39mname\u001b[39m}\u001b[39;00m\u001b[39m'\u001b[39m\u001b[39m] = pd.to_numeric(df[\u001b[39m\u001b[39m'\u001b[39m\u001b[39m{\u001b[39;00mseries\u001b[39m.\u001b[39mname\u001b[39m}\u001b[39;00m\u001b[39m'\u001b[39m\u001b[39m], errors=\u001b[39m\u001b[39m'\u001b[39m\u001b[39mcoerce\u001b[39m\u001b[39m'\u001b[39m\u001b[39m)\u001b[39m\u001b[39m\\n\u001b[39;00m\u001b[39m\"\u001b[39m\n\u001b[0;32m     24\u001b[0m                         \u001b[39mf\u001b[39m\u001b[39m\"\u001b[39m\u001b[39m     # (errors=\u001b[39m\u001b[39m'\u001b[39m\u001b[39mcoerce\u001b[39m\u001b[39m'\u001b[39m\u001b[39m will transform string values to NaN, that can then be replaced if desired;\u001b[39m\u001b[39m\"\u001b[39m\n\u001b[0;32m     25\u001b[0m                         \u001b[39mf\u001b[39m\u001b[39m\"\u001b[39m\u001b[39m consult Pandas manual pages for more details)\u001b[39m\u001b[39m\\n\u001b[39;00m\u001b[39m\"\u001b[39m\n\u001b[0;32m     26\u001b[0m                         )\n\u001b[0;32m     28\u001b[0m     \u001b[39mtry\u001b[39;00m:\n\u001b[0;32m     29\u001b[0m         \u001b[39m# TODO: must_be_this_type ENFORCING\u001b[39;00m\n\u001b[0;32m     30\u001b[0m         \u001b[39mif\u001b[39;00m counts[\u001b[39m\"\u001b[39m\u001b[39mdistinct_count_without_nan\u001b[39m\u001b[39m\"\u001b[39m] \u001b[39m==\u001b[39m \u001b[39m0\u001b[39m:\n\u001b[0;32m     31\u001b[0m             \u001b[39m# Empty\u001b[39;00m\n",
      "\u001b[1;31mTypeError\u001b[0m: \n\nColumn [NR_DOCUMENTO.1] has a 'mixed' inferred_type (as determined by Pandas).\nThis is is not currently supported; column types should not contain mixed data.\ne.g. only floats or strings, but not a combination.\n\nPOSSIBLE RESOLUTIONS:\nBEST -> Make sure series [NR_DOCUMENTO.1] only contains a certain type of data (numerical OR string).\nOR -> Convert series [NR_DOCUMENTO.1] to a string (if makes sense) so it will be picked up as CATEGORICAL or TEXT.\n     One way to do this is:\n     df['NR_DOCUMENTO.1'] = df['NR_DOCUMENTO.1'].astype(str)\nOR -> Convert series [NR_DOCUMENTO.1] to a numerical value (if makes sense):\n     One way to do this is:\n     df['NR_DOCUMENTO.1'] = pd.to_numeric(df['NR_DOCUMENTO.1'], errors='coerce')\n     # (errors='coerce' will transform string values to NaN, that can then be replaced if desired; consult Pandas manual pages for more details)\n"
     ]
    }
   ],
   "source": [
    "#itens\n",
    "report_itens = sv.analyze(itens_2016)\n",
    "report_itens.show_html(filepath=f\"{reports_file_path}/itens_report.html\", layout= 'vertical')"
   ]
  },
  {
   "cell_type": "markdown",
   "metadata": {
    "collapsed": false
   },
   "source": [
    "#### Levando em conta que a coluna apresentada no erro anterior também não está no dicionário de dados, vou ignorá-la em conjunto  com qualquer outra para gerar o report"
   ]
  },
  {
   "cell_type": "code",
   "execution_count": 22,
   "metadata": {
    "collapsed": false
   },
   "outputs": [
    {
     "data": {
      "application/vnd.jupyter.widget-view+json": {
       "model_id": "86acfafb62a645ba8c14074beb370bc1",
       "version_major": 2,
       "version_minor": 0
      },
      "text/plain": [
       "                                             |          | [  0%]   00:00 -> (? left)"
      ]
     },
     "metadata": {},
     "output_type": "display_data"
    },
    {
     "name": "stdout",
     "output_type": "stream",
     "text": [
      "Report c:\\Users\\joaop\\DataspellProjects\\EDA_state_spedings\\notebooks\\../reports/2016/itens_report.html was generated! NOTEBOOK/COLAB USERS: the web browser MAY not pop up, regardless, the report IS saved in your notebook/colab files.\n"
     ]
    }
   ],
   "source": [
    "#itens\n",
    "report_itens = sv.analyze(itens_2016.drop(columns=['NR_DOCUMENTO.1']))\n",
    "report_itens.show_html(filepath=f\"{reports_file_path}/itens_report.html\", layout= 'vertical')"
   ]
  },
  {
   "cell_type": "markdown",
   "metadata": {
    "collapsed": false
   },
   "source": [
    "#### Por meio dos reports, é possível fazer um diagnóstico inicial dos dataframes e identificar possíveis respostas para as perguntas de negócio. Como por exemplo:\n",
    "<ul>\n",
    "<li>Distribuição de frequência das variáveis categóricas</li>\n",
    "<li>Valores mais frequentes</li>\n",
    "<li>Relação de incerteza entre as features. Ou seja, o quanto uma coluna pode dar de informação sobre a outra</li>\n",
    "</ul>\n",
    "\n"
   ]
  },
  {
   "cell_type": "markdown",
   "metadata": {
    "collapsed": false
   },
   "source": [
    "## Agora, iremos começar pelas bases recomendadas e depois tentar relacionar com as demais com o objetivo de adquirir mais informações e por fim responder às perguntas de negócio."
   ]
  },
  {
   "cell_type": "code",
   "execution_count": 23,
   "metadata": {
    "collapsed": false
   },
   "outputs": [
    {
     "data": {
      "text/plain": [
       "...                                                                                                                                                           176\n",
       "Material                                                                                                                                                       69\n",
       "AQUISIÇÃO DE MEDICAMENTOS                                                                                                                                      36\n",
       "Aquisição de medicamentos                                                                                                                                      24\n",
       "Aquisição de material hospitalar                                                                                                                               23\n",
       "                                                                                                                                                             ... \n",
       "AQUISIÇÃO DE MOTOCICLETA, ZERO QUILOMETRO, PARA PREMIAÇÃO DO PROGRAMA PAPA NOTA 2016, CONFORME LEI MUNICIPAL Nº 2791/2007 E DECRETO MUNICIPAL Nº 5522/2016      1\n",
       "AQUISIÇÃO DE MATERIAIS PARA MANUTENÇÃO DO GINÁSIO DA ESCOLA MUNICIPAL DE ENSINO FUNDAMENTAL ALEXANDRE BACCHI                                                    1\n",
       "AQUISIÇÃO DE CARTUCHOS PARA MANUTENÇÃO DAS ATIVIDADES DA SECRETARIA MUNICIPAL DE COORDENAÇÃO E PLANEJAMENTO                                                     1\n",
       "AQUISIÇÃO IMÓVEL URBANO COM MÍNIMO DE 1200M² E 2000M².                                                                                                          1\n",
       "Registro de Preços para Fórmulas Infantis em atendimento a demanda da Secretaria Municipal de Saúde do Município de Canoas/RS.                                  1\n",
       "Name: DS_OBJETO, Length: 11167, dtype: int64"
      ]
     },
     "execution_count": 23,
     "metadata": {},
     "output_type": "execute_result"
    }
   ],
   "source": [
    "# licitacoes filtradas pelo tipo de objeto - compra\n",
    "filtro = licitacoes_2016['TP_OBJETO'].str.match('com',case = False)\n",
    "licitacoes_2016_compras = licitacoes_2016[filtro]\n",
    "licitacoes_2016_compras ['DS_OBJETO'].value_counts()"
   ]
  },
  {
   "cell_type": "markdown",
   "metadata": {
    "collapsed": false
   },
   "source": [
    "#### É possível observar que a maioria das descrições de liciatação contém a palavra \"aquisição\" e sinonimos para se referir a compra de bens. Logo, desenvolvi uma função utilizando NLTK para identificar os substantivos e, assim, identificar maiores relações entre os dados."
   ]
  },
  {
   "cell_type": "markdown",
   "metadata": {
    "collapsed": false
   },
   "source": [
    "##### A fim de realizar tal análise, é necessário preparar os dados. Para isso, seguirei as seguintes etapas:\n",
    "\n",
    "<li>Normalização: consiste em transformar todas as palavras em minúsculas</li>\n",
    "<li>Remoção de espaços em branco: consiste em remover os espaços em branco desnecessários</li>\n",
    "<li>Remoção de stopwords: consiste em remover as palavras que não agregam valor ao texto, como artigos, preposições, etc.</li>"
   ]
  },
  {
   "cell_type": "code",
   "execution_count": 24,
   "metadata": {
    "collapsed": false
   },
   "outputs": [
    {
     "name": "stderr",
     "output_type": "stream",
     "text": [
      "[nltk_data] Downloading package punkt to\n",
      "[nltk_data]     C:\\Users\\joaop\\AppData\\Roaming\\nltk_data...\n",
      "[nltk_data]   Unzipping tokenizers\\punkt.zip.\n",
      "[nltk_data] Downloading package averaged_perceptron_tagger to\n",
      "[nltk_data]     C:\\Users\\joaop\\AppData\\Roaming\\nltk_data...\n",
      "[nltk_data]   Unzipping taggers\\averaged_perceptron_tagger.zip.\n",
      "[nltk_data] Downloading package stopwords to\n",
      "[nltk_data]     C:\\Users\\joaop\\AppData\\Roaming\\nltk_data...\n",
      "[nltk_data]   Unzipping corpora\\stopwords.zip.\n"
     ]
    }
   ],
   "source": [
    "from my_library import preprocess_text_pipeline\n",
    "\n",
    "licitacoes_2016_compras['DS_OBJETO'] = licitacoes_2016_compras['DS_OBJETO'].apply(preprocess_text_pipeline)"
   ]
  },
  {
   "cell_type": "code",
   "execution_count": 25,
   "metadata": {
    "collapsed": false
   },
   "outputs": [],
   "source": [
    "from my_library import get_most_common_nouns\n",
    "\n",
    "nouns_and_counts = get_most_common_nouns(licitacoes_2016_compras,'DS_OBJETO', 100)"
   ]
  },
  {
   "cell_type": "code",
   "execution_count": 26,
   "metadata": {
    "collapsed": false
   },
   "outputs": [
    {
     "data": {
      "text/plain": [
       "[('aquisição', 6550),\n",
       " ('material', 1706),\n",
       " ('secretaria', 1519),\n",
       " ('materiais', 1430),\n",
       " ('registro', 1385),\n",
       " ('preços', 1204),\n",
       " ('saúde', 1064),\n",
       " ('equipamentos', 988),\n",
       " ('gêneros', 877),\n",
       " ('município', 877),\n",
       " ('conforme', 824),\n",
       " ('fornecimento', 688),\n",
       " ('medicamentos', 679),\n",
       " ('contratação', 616),\n",
       " ('manutenção', 590),\n",
       " ('agricultura', 514),\n",
       " ('peças', 472),\n",
       " ('educação', 446),\n",
       " ('veículo', 432),\n",
       " ('diversos', 410),\n",
       " ('empresa', 385),\n",
       " ('escolar', 374),\n",
       " ('municipais', 369),\n",
       " ('anexo', 368),\n",
       " ('ano', 353),\n",
       " ('limpeza', 350),\n",
       " ('escolas', 330),\n",
       " ('ensino', 330),\n",
       " ('secretarias', 322),\n",
       " ('expediente', 316),\n",
       " ('i', 314),\n",
       " ('pregão', 306),\n",
       " ('veículos', 305),\n",
       " ('preço', 292),\n",
       " ('atender', 290),\n",
       " ('merenda', 289),\n",
       " ('construção', 284),\n",
       " ('alimentação', 283),\n",
       " ('alimentícios', 279),\n",
       " ('pública', 270),\n",
       " ('necessidades', 268),\n",
       " ('básica', 267),\n",
       " ('diversas', 262),\n",
       " ('através', 257),\n",
       " ('informática', 254),\n",
       " ('pneus', 252),\n",
       " ('infantil', 250),\n",
       " ('solicitação', 250),\n",
       " ('programa', 237),\n",
       " ('serviços', 228),\n",
       " ('água', 227),\n",
       " ('licitação', 227),\n",
       " ('municipal', 222),\n",
       " ('edital', 216),\n",
       " ('aquisicao', 209),\n",
       " ('memorando', 203),\n",
       " ('obras', 202),\n",
       " ('presente', 202),\n",
       " ('processo', 200),\n",
       " ('compra', 197),\n",
       " ('objeto', 197),\n",
       " ('concreto', 194),\n",
       " ('placa', 189),\n",
       " ('diesel', 180),\n",
       " ('higiene', 178),\n",
       " ('generos', 176),\n",
       " ('tubos', 175),\n",
       " ('permanente', 173),\n",
       " ('hamburgo', 170),\n",
       " ('municipio', 168),\n",
       " ('rs', 167),\n",
       " ('consumo', 162),\n",
       " ('cras', 162),\n",
       " ('período', 162),\n",
       " ('atividades', 161),\n",
       " ('proposta', 159),\n",
       " ('elétrico', 159),\n",
       " ('rede', 158),\n",
       " ('meses', 158),\n",
       " ('ar', 157),\n",
       " ('novo', 156),\n",
       " ('escola', 155),\n",
       " ('óleo', 154),\n",
       " ('centro', 151),\n",
       " ('especificações', 149),\n",
       " ('móveis', 147),\n",
       " ('km', 146),\n",
       " ('produtos', 145),\n",
       " ('unidades', 145),\n",
       " ('alunos', 145),\n",
       " ('tipo', 144),\n",
       " ('transporte', 140),\n",
       " ('alimentos', 139),\n",
       " ('caminhão', 138),\n",
       " ('cozinha', 137),\n",
       " ('referência', 137),\n",
       " ('mobiliário', 137),\n",
       " ('deste', 133),\n",
       " ('conserto', 132),\n",
       " ('máquinas', 132)]"
      ]
     },
     "execution_count": 26,
     "metadata": {},
     "output_type": "execute_result"
    }
   ],
   "source": [
    "nouns_and_counts"
   ]
  },
  {
   "cell_type": "markdown",
   "metadata": {
    "collapsed": false
   },
   "source": [
    "Por meio dos dados apresentados, decidi seguir a seguinte abordagem:\n",
    "<ol>\n",
    "<li>Elencar palavras-chave pelos radicais de forma que agrupem os termos mais relevantes</li>\n",
    "<li>Plottarei distribuições com o objetivo de verificar a diferença de valores</li>\n",
    "<li>Usar esses radicais como filtro para analisar distribuições de frequências mais específicas </li>"
   ]
  },
  {
   "cell_type": "markdown",
   "metadata": {
    "collapsed": false
   },
   "source": [
    "A seguir, agruparei as palavras-chave por radicais e plotarei as distribuições\n",
    "<ul>\n",
    "<li>material</li>\n",
    "<li>secretaria</li>\n",
    "<li>alimentos</li>\n",
    "<li>municipal</li>"
   ]
  },
  {
   "cell_type": "code",
   "execution_count": 27,
   "metadata": {
    "collapsed": false
   },
   "outputs": [],
   "source": [
    "# cria um dicionario que agrupa por radical e soma a conta\n",
    "root_nouns = ['mater', 'secret', 'aliment', 'municip']\n",
    "\n",
    "# talvez eu poderia ter feito de maneira mais performática, mas não consegui pensar em outra forma\n",
    "grouped_nouns_and_counts = {}\n",
    "for noun, count in nouns_and_counts:\n",
    "    for root in root_nouns:\n",
    "        if noun.startswith(root):\n",
    "            if root in grouped_nouns_and_counts:\n",
    "                grouped_nouns_and_counts[root] += count\n",
    "            else:\n",
    "                grouped_nouns_and_counts[root] = count\n",
    "\n",
    "# tentei desenvolver uma função para plotar as distribuições a partir dos radicais, mas não consegui fazer funcionar\n",
    "# from my_library import plot_boxplot_for_stems\n",
    "# plot_boxplot_for_stems(nouns_and_counts, root_nouns_to_include)"
   ]
  },
  {
   "cell_type": "code",
   "execution_count": 28,
   "metadata": {
    "collapsed": false
   },
   "outputs": [
    {
     "data": {
      "text/plain": [
       "{'mater': 3136, 'secret': 1841, 'municip': 759, 'aliment': 701}"
      ]
     },
     "execution_count": 28,
     "metadata": {},
     "output_type": "execute_result"
    }
   ],
   "source": [
    "grouped_nouns_and_counts"
   ]
  },
  {
   "cell_type": "code",
   "execution_count": 29,
   "metadata": {
    "collapsed": false
   },
   "outputs": [
    {
     "data": {
      "image/png": "[encoded data removed]",
      "text/plain": [
       "<Figure size 640x480 with 1 Axes>"
      ]
     },
     "metadata": {},
     "output_type": "display_data"
    }
   ],
   "source": [
    "# Bar plot das distribuições baseadas no tamanho da coluna de descrições\n",
    "\n",
    "df_column_size = len(licitacoes_2016_compras['DS_OBJETO'])\n",
    "labels = list(grouped_nouns_and_counts.keys())\n",
    "values = [(v / df_column_size) * 100 for v in grouped_nouns_and_counts.values()]\n",
    "\n",
    "fig, ax = plt.subplots()\n",
    "ax.bar(labels, values)\n",
    "\n",
    "# Add the title and labels\n",
    "ax.set_title(\"Appearance count of root nouns\")\n",
    "ax.set_xlabel(\"Root noun\")\n",
    "ax.set_ylabel(\"Count (%)\")\n",
    "\n",
    "# Show the plot\n",
    "plt.show()"
   ]
  },
  {
   "cell_type": "markdown",
   "metadata": {
    "collapsed": false
   },
   "source": [
    "#### levando em consideração os resultados apresentados, percebe-se que essas palavras-chave ocupam aproximadamente 50% do total de descrições de licitações. Logo, é possível afirmar que essas palavras-chave são as mais relevantes para a análise. A seguir, analisarei as distribuições de frequências para cada uma dessas palavras-chave por meio da função value_counts."
   ]
  },
  {
   "cell_type": "markdown",
   "metadata": {
    "collapsed": false
   },
   "source": [
    "##### material"
   ]
  },
  {
   "cell_type": "code",
   "execution_count": 31,
   "metadata": {
    "collapsed": false
   },
   "outputs": [
    {
     "data": {
      "image/png": "[encoded data removed]",
      "text/plain": [
       "<Figure size 640x480 with 1 Axes>"
      ]
     },
     "metadata": {},
     "output_type": "display_data"
    }
   ],
   "source": [
    "# material\n",
    "from my_library import plot_bar_chart_for_filtered_df\n",
    "filtro = licitacoes_2016_compras['DS_OBJETO'].str.contains('mater')\n",
    "\n",
    "plot_bar_chart_for_filtered_df(licitacoes_2016_compras, filtro, 'DS_OBJETO')\n",
    "# pelos nomes estão impossíveis de ler, então vou deixar a legenda logo abaixo"
   ]
  },
  {
   "cell_type": "code",
   "execution_count": 15,
   "metadata": {
    "collapsed": false
   },
   "outputs": [
    {
     "data": {
      "text/plain": [
       "material                                                                                                                                     69\n",
       "aquisição material hospitalar                                                                                                                32\n",
       "fornecimento materiais expediente .                                                                                                          23\n",
       "aquisição material elétrico                                                                                                                  20\n",
       "aquisição materiais hospitalares                                                                                                             18\n",
       "                                                                                                                                             ..\n",
       "constitui objeto presente licitação contratação empresa fornecimento material elétrico eletrônico utilizado iluminação pública município      1\n",
       "aquisição material processamento dados manutenção computadores escolas municipais ensino fundamental alexandre bacchi imaculada conceição     1\n",
       "aquisição materiais limpeza produtos higiene manutenção atividades escolas ensino infantil município .                                        1\n",
       "aquisição material bibliográfico manutenção atividades escolas ensino fundamental município .                                                 1\n",
       "aquisição material expediente departamento agua esgotos bagé - daeb                                                                           1\n",
       "Name: DS_OBJETO, Length: 2763, dtype: int64"
      ]
     },
     "execution_count": 15,
     "metadata": {},
     "output_type": "execute_result"
    }
   ],
   "source": [
    "licitacoes_2016_compras[filtro]['DS_OBJETO'].value_counts()"
   ]
  },
  {
   "cell_type": "markdown",
   "metadata": {
    "collapsed": false
   },
   "source": [
    "##### secretaria"
   ]
  },
  {
   "cell_type": "code",
   "execution_count": 16,
   "metadata": {
    "collapsed": false
   },
   "outputs": [
    {
     "data": {
      "image/png": "[encoded data removed]",
      "text/plain": [
       "<Figure size 640x480 with 1 Axes>"
      ]
     },
     "metadata": {},
     "output_type": "display_data"
    }
   ],
   "source": [
    "# secretaria\n",
    "filtro = licitacoes_2016_compras['DS_OBJETO'].str.contains('secret')\n",
    "\n",
    "plot_bar_chart_for_filtered_df(licitacoes_2016_compras, filtro, 'DS_OBJETO')"
   ]
  },
  {
   "cell_type": "code",
   "execution_count": 17,
   "metadata": {
    "collapsed": false
   },
   "outputs": [
    {
     "data": {
      "text/plain": [
       "aquisicao vale transporte destinado servidores secretaria saude .                                                                                                                           7\n",
       "manutenção motoniveladora hw 10d , n° 47 , secretaria municipal obras viação                                                                                                                4\n",
       "aquisição medicamentos dispensação população através farmácia secretaria saúde                                                                                                              4\n",
       "aquisiçao medicamentos secretaria municipal saúde .                                                                                                                                         3\n",
       "aquisição equipamentos mobiliários secretaria municipal saúde                                                                                                                               3\n",
       "                                                                                                                                                                                           ..\n",
       "contratação empresa aquisição materiais expediente processamento dados , diversas secretarias administração pública municipal .                                                             1\n",
       "registro preços aquisição materiais construção pavimentação forma parcelada secretaria obras .                                                                                              1\n",
       "aquisição material elétrico uso secretarias municipais , escolas municipais creche/emei .                                                                                                   1\n",
       "registro preços futuras aquisições gêneros alimentícios perecíveis perecíveis atender necessidades programas secretaria municipal assistência social deste município , conforme edital .    1\n",
       "registro preços fórmulas infantis atendimento demanda secretaria municipal saúde município canoas/rs .                                                                                      1\n",
       "Name: DS_OBJETO, Length: 1936, dtype: int64"
      ]
     },
     "execution_count": 17,
     "metadata": {},
     "output_type": "execute_result"
    }
   ],
   "source": [
    "licitacoes_2016_compras[filtro]['DS_OBJETO'].value_counts()"
   ]
  },
  {
   "cell_type": "markdown",
   "metadata": {
    "collapsed": false
   },
   "source": [
    "##### alimentos"
   ]
  },
  {
   "cell_type": "code",
   "execution_count": 18,
   "metadata": {
    "collapsed": false
   },
   "outputs": [
    {
     "data": {
      "image/png": "[encoded data removed]",
      "text/plain": [
       "<Figure size 640x480 with 1 Axes>"
      ]
     },
     "metadata": {},
     "output_type": "display_data"
    }
   ],
   "source": [
    "# alimentos\n",
    "filtro = licitacoes_2016_compras['DS_OBJETO'].str.contains('aliment')\n",
    "\n",
    "plot_bar_chart_for_filtered_df(licitacoes_2016_compras, filtro, 'DS_OBJETO')"
   ]
  },
  {
   "cell_type": "code",
   "execution_count": 19,
   "metadata": {
    "collapsed": false
   },
   "outputs": [
    {
     "data": {
      "text/plain": [
       "aquisição gêneros alimentícios agricultura familiar alimentação escolar , âmbito programa nacional alimentação escolar - pnae , dispensa licitação , lei n.º 11.947 , 16/06/2009 , resolução fnde/mec n.º 26 , 17 junho 2013 resolução fnde/mec n° 04 , 02 abril 2015 .    20\n",
       "aquisição gêneros alimentícios merenda escolar                                                                                                                                                                                                                             19\n",
       "aquisição gêneros alimentícios                                                                                                                                                                                                                                             17\n",
       "aquisição gêneros alimentícios agricultura familiar alimentação escolar .                                                                                                                                                                                                  14\n",
       "aquisição gêneros alimentícios merenda escolar .                                                                                                                                                                                                                           12\n",
       "                                                                                                                                                                                                                                                                           ..\n",
       "aquisição gêneros alimentícios - secretaria assistência social .                                                                                                                                                                                                            1\n",
       "smecdt - aquisição gêneros alimentícios merenda escolar alunos escolas municipais .                                                                                                                                                                                         1\n",
       "aquisição gêneros alimentação escolar                                                                                                                                                                                                                                       1\n",
       "generos alimenticios .                                                                                                                                                                                                                                                      1\n",
       "aquisição alimentos perecíveis merenda escolar ( carnes , ovos hortifrutigranjeiro                                                                                                                                                                                          1\n",
       "Name: DS_OBJETO, Length: 1021, dtype: int64"
      ]
     },
     "execution_count": 19,
     "metadata": {},
     "output_type": "execute_result"
    }
   ],
   "source": [
    "licitacoes_2016_compras[filtro]['DS_OBJETO'].value_counts()"
   ]
  },
  {
   "cell_type": "markdown",
   "metadata": {
    "collapsed": false
   },
   "source": [
    "##### municipal"
   ]
  },
  {
   "cell_type": "code",
   "execution_count": 20,
   "metadata": {
    "collapsed": false
   },
   "outputs": [
    {
     "data": {
      "image/png": "[encoded data removed]",
      "text/plain": [
       "<Figure size 640x480 with 1 Axes>"
      ]
     },
     "metadata": {},
     "output_type": "display_data"
    }
   ],
   "source": [
    "# municipal\n",
    "filtro = licitacoes_2016_compras['DS_OBJETO'].str.contains('municip')\n",
    "\n",
    "plot_bar_chart_for_filtered_df(licitacoes_2016_compras, filtro, 'DS_OBJETO')"
   ]
  },
  {
   "cell_type": "code",
   "execution_count": 21,
   "metadata": {
    "collapsed": false
   },
   "outputs": [
    {
     "data": {
      "text/plain": [
       "aquisição merenda escolar escolas rede municipál ensino .                                                                                                                                                                 4\n",
       "aquisição gêneros alimentícios destinados merenda escolar escolas municipais .                                                                                                                                            4\n",
       "adquirir gêneros alimentícios alunos educação infantil ensino fundamental escolas municipais .                                                                                                                            4\n",
       "aquisição gêneros alimentícios escolas municipais                                                                                                                                                                         4\n",
       "manutenção motoniveladora hw 10d , n° 47 , secretaria municipal obras viação                                                                                                                                              4\n",
       "                                                                                                                                                                                                                         ..\n",
       "aquisição cofre blindado alta segurança uso guarda municipal , atender demanda secretaria municipal segurança pública cidadania município canoas/rs .                                                                     1\n",
       "aquisição camisetas manutenção atividades escolas municipais ensino fundamental município . licitação exclusiva beneficiárias lei complementar nº 123/2006 .                                                              1\n",
       "aquisição equipamentos aparelhos manutenção atividades secretaria municipal saúde , centro municipal saúde , unidades básicas saúde : esf senhora apareceida , esf bom jesus , esf triângulo , esf josé esf promorar .    1\n",
       "aquisição materiais manutenção parque ecológico municipal .                                                                                                                                                               1\n",
       "registro preços fórmulas infantis atendimento demanda secretaria municipal saúde município canoas/rs .                                                                                                                    1\n",
       "Name: DS_OBJETO, Length: 2413, dtype: int64"
      ]
     },
     "execution_count": 21,
     "metadata": {},
     "output_type": "execute_result"
    }
   ],
   "source": [
    "licitacoes_2016_compras[filtro]['DS_OBJETO'].value_counts()"
   ]
  },
  {
   "cell_type": "markdown",
   "metadata": {
    "collapsed": false
   },
   "source": [
    "### Agora, irei analisar o comportamento dos órgãos licitantes em relação ao valor total licitado. Para isso, irei agrupar os órgãos por valor total licitado e plotar um gráfico de barras."
   ]
  },
  {
   "cell_type": "code",
   "execution_count": null,
   "metadata": {
    "collapsed": false
   },
   "outputs": [],
   "source": [
    "licitacoes_2016_compras['NM_ORGAO'].value_counts()"
   ]
  },
  {
   "cell_type": "code",
   "execution_count": 22,
   "metadata": {
    "collapsed": false
   },
   "outputs": [
    {
     "data": {
      "text/plain": [
       "CD_ORGAO  NM_ORGAO                                     \n",
       "72600     PM DE TUPANDI                                    7.920721e+08\n",
       "88258     CONS. PÚBL. DO EXTREMO SUL                       4.934806e+08\n",
       "63000     PM DE VIAMÃO                                     4.207760e+08\n",
       "44500     PM DE CANOAS                                     2.162334e+08\n",
       "88190     CONS. INTERM. DE SAÚDE DO VALE DO RIO TAQUARI    8.848445e+07\n",
       "44100     PM DE CANDELÁRIA                                 6.328564e+07\n",
       "88040     PM DE PINTO BANDEIRA                             4.693599e+07\n",
       "53500     PM DE OSÓRIO                                     4.149728e+07\n",
       "66700     PM DE ELDORADO DO SUL                            3.872748e+07\n",
       "88261     FUND. DE SAÚDE PÚBLICA DE NOVO HAMBURGO          3.619250e+07\n",
       "Name: VL_LICITACAO, dtype: float64"
      ]
     },
     "execution_count": 22,
     "metadata": {},
     "output_type": "execute_result"
    }
   ],
   "source": [
    "licitacoes_2016_compras.groupby(['CD_ORGAO','NM_ORGAO'])['VL_LICITACAO'].sum().sort_values(ascending=False).head(10)"
   ]
  },
  {
   "cell_type": "code",
   "execution_count": 27,
   "metadata": {
    "collapsed": false
   },
   "outputs": [
    {
     "data": {
      "image/png": "[encoded data removed]",
      "text/plain": [
       "<Figure size 640x480 with 1 Axes>"
      ]
     },
     "metadata": {},
     "output_type": "display_data"
    }
   ],
   "source": [
    "# plotando o gráfico de barras\n",
    "\n",
    "top_10_orgaos = licitacoes_2016_compras.groupby(['CD_ORGAO','NM_ORGAO'])['VL_LICITACAO'].sum().sort_values(ascending=False).head(10).reset_index()\n",
    "\n",
    "top_10_orgaos.plot.bar(x='NM_ORGAO', y='VL_LICITACAO', rot=0)\n",
    "\n",
    "plt.title('Top 10 órgãos licitantes em 2016')\n",
    "plt.xlabel('Órgão')\n",
    "plt.ylabel('Valor total licitado (R$)')\n",
    "\n",
    "plt.show()"
   ]
  },
  {
   "cell_type": "markdown",
   "metadata": {
    "collapsed": false
   },
   "source": [
    "### Agora, irei analisar o comportamento das licitações. Quanto tempo elas tendem a demorar para serem homologadas? Quanto tempo elas tendem a demorar para serem adjudicadas? Quanto tempo elas tendem a demorar para serem abertas? Quanto tempo elas tendem a demorar para serem encerradas?"
   ]
  },
  {
   "cell_type": "code",
   "execution_count": 32,
   "metadata": {
    "collapsed": false
   },
   "outputs": [],
   "source": [
    "# convertendo as colunas de datas para datetime e removendo as linhas que não possuem data de homolgação\n",
    "filter = ~licitacoes_2016_compras['DT_HOMOLOGACAO'].str.contains('Não') & ~licitacoes_2016_compras['DT_ADJUDICACAO'].str.contains('Não')\n",
    "\n",
    "datetimes_licitacoes = licitacoes_2016_compras[['DT_ABERTURA', 'DT_HOMOLOGACAO', 'DT_ADJUDICACAO']][filter]"
   ]
  },
  {
   "cell_type": "code",
   "execution_count": 33,
   "metadata": {
    "collapsed": false
   },
   "outputs": [
    {
     "data": {
      "text/html": [
       "<div>\n",
       "<style scoped>\n",
       "    .dataframe tbody tr th:only-of-type {\n",
       "        vertical-align: middle;\n",
       "    }\n",
       "\n",
       "    .dataframe tbody tr th {\n",
       "        vertical-align: top;\n",
       "    }\n",
       "\n",
       "    .dataframe thead th {\n",
       "        text-align: right;\n",
       "    }\n",
       "</style>\n",
       "<table border=\"1\" class=\"dataframe\">\n",
       "  <thead>\n",
       "    <tr style=\"text-align: right;\">\n",
       "      <th></th>\n",
       "      <th>DT_ABERTURA</th>\n",
       "      <th>DT_HOMOLOGACAO</th>\n",
       "      <th>DT_ADJUDICACAO</th>\n",
       "    </tr>\n",
       "  </thead>\n",
       "  <tbody>\n",
       "    <tr>\n",
       "      <th>1</th>\n",
       "      <td>2016-01-22</td>\n",
       "      <td>2016-01-29</td>\n",
       "      <td>2016-01-29</td>\n",
       "    </tr>\n",
       "    <tr>\n",
       "      <th>2</th>\n",
       "      <td>2016-01-26</td>\n",
       "      <td>2016-02-01</td>\n",
       "      <td>2016-02-01</td>\n",
       "    </tr>\n",
       "    <tr>\n",
       "      <th>3</th>\n",
       "      <td>2016-02-02</td>\n",
       "      <td>2016-02-11</td>\n",
       "      <td>2016-02-11</td>\n",
       "    </tr>\n",
       "    <tr>\n",
       "      <th>5</th>\n",
       "      <td>2016-02-12</td>\n",
       "      <td>2016-02-15</td>\n",
       "      <td>2016-02-15</td>\n",
       "    </tr>\n",
       "    <tr>\n",
       "      <th>6</th>\n",
       "      <td>2016-01-25</td>\n",
       "      <td>2016-01-28</td>\n",
       "      <td>2016-01-28</td>\n",
       "    </tr>\n",
       "    <tr>\n",
       "      <th>...</th>\n",
       "      <td>...</td>\n",
       "      <td>...</td>\n",
       "      <td>...</td>\n",
       "    </tr>\n",
       "    <tr>\n",
       "      <th>30412</th>\n",
       "      <td>2016-04-12</td>\n",
       "      <td>2016-05-12</td>\n",
       "      <td>2016-05-12</td>\n",
       "    </tr>\n",
       "    <tr>\n",
       "      <th>30415</th>\n",
       "      <td>2016-12-13</td>\n",
       "      <td>2016-12-19</td>\n",
       "      <td>2016-12-19</td>\n",
       "    </tr>\n",
       "    <tr>\n",
       "      <th>30445</th>\n",
       "      <td>2016-12-06</td>\n",
       "      <td>2017-01-02</td>\n",
       "      <td>2017-01-02</td>\n",
       "    </tr>\n",
       "    <tr>\n",
       "      <th>30457</th>\n",
       "      <td>2016-07-22</td>\n",
       "      <td>2016-07-26</td>\n",
       "      <td>2016-07-26</td>\n",
       "    </tr>\n",
       "    <tr>\n",
       "      <th>30462</th>\n",
       "      <td>2016-01-25</td>\n",
       "      <td>2016-03-04</td>\n",
       "      <td>2016-03-04</td>\n",
       "    </tr>\n",
       "  </tbody>\n",
       "</table>\n",
       "<p>9174 rows × 3 columns</p>\n",
       "</div>"
      ],
      "text/plain": [
       "      DT_ABERTURA DT_HOMOLOGACAO DT_ADJUDICACAO\n",
       "1      2016-01-22     2016-01-29     2016-01-29\n",
       "2      2016-01-26     2016-02-01     2016-02-01\n",
       "3      2016-02-02     2016-02-11     2016-02-11\n",
       "5      2016-02-12     2016-02-15     2016-02-15\n",
       "6      2016-01-25     2016-01-28     2016-01-28\n",
       "...           ...            ...            ...\n",
       "30412  2016-04-12     2016-05-12     2016-05-12\n",
       "30415  2016-12-13     2016-12-19     2016-12-19\n",
       "30445  2016-12-06     2017-01-02     2017-01-02\n",
       "30457  2016-07-22     2016-07-26     2016-07-26\n",
       "30462  2016-01-25     2016-03-04     2016-03-04\n",
       "\n",
       "[9174 rows x 3 columns]"
      ]
     },
     "execution_count": 33,
     "metadata": {},
     "output_type": "execute_result"
    }
   ],
   "source": [
    "datetimes_licitacoes"
   ]
  },
  {
   "cell_type": "code",
   "execution_count": 34,
   "metadata": {
    "collapsed": false
   },
   "outputs": [],
   "source": [
    "datetimes_licitacoes['DT_ABERTURA'] = pd.to_datetime(datetimes_licitacoes['DT_ABERTURA'], format='%Y-%m-%d')"
   ]
  },
  {
   "cell_type": "code",
   "execution_count": 35,
   "metadata": {
    "collapsed": false
   },
   "outputs": [],
   "source": [
    "datetimes_licitacoes['DT_HOMOLOGACAO'] = pd.to_datetime(datetimes_licitacoes['DT_HOMOLOGACAO'], format='%Y-%m-%d')"
   ]
  },
  {
   "cell_type": "code",
   "execution_count": 36,
   "metadata": {
    "collapsed": false
   },
   "outputs": [],
   "source": [
    "datetimes_licitacoes['DT_ADJUDICACAO'] = pd.to_datetime(datetimes_licitacoes['DT_ADJUDICACAO'], format='%Y-%m-%d')"
   ]
  },
  {
   "cell_type": "markdown",
   "metadata": {
    "collapsed": false
   },
   "source": [
    "#### Tempo de abertura - homologação"
   ]
  },
  {
   "cell_type": "code",
   "execution_count": 37,
   "metadata": {
    "collapsed": false
   },
   "outputs": [],
   "source": [
    "from my_library import calculate_working_days\n",
    "def calculate_working_days_column(col1, col2):\n",
    "    return calculate_working_days(col1, col2)\n",
    "\n",
    "datetimes_licitacoes['tempo_abertura_homologacao'] = datetimes_licitacoes.apply(lambda x: calculate_working_days_column(x['DT_ABERTURA'], x['DT_HOMOLOGACAO']), axis=1)"
   ]
  },
  {
   "cell_type": "code",
   "execution_count": 38,
   "metadata": {
    "collapsed": false
   },
   "outputs": [
    {
     "data": {
      "text/plain": [
       "count    9174.000000\n",
       "mean       10.218443\n",
       "std        19.809174\n",
       "min         0.000000\n",
       "25%         2.000000\n",
       "50%         5.000000\n",
       "75%        11.000000\n",
       "max       556.000000\n",
       "Name: tempo_abertura_homologacao, dtype: float64"
      ]
     },
     "execution_count": 38,
     "metadata": {},
     "output_type": "execute_result"
    }
   ],
   "source": [
    "datetimes_licitacoes['tempo_abertura_homologacao'].describe()"
   ]
  },
  {
   "cell_type": "markdown",
   "metadata": {
    "collapsed": false
   },
   "source": [
    "##### É possível observar que existe uma diferença média de 10 dias, porém, o desvio padrão é de 20 dias, o que indica que há uma grande variação nos tempos de homologação. A fim de evitar a influencia de outliers, podemos levantar a hipótese de que os tempos de homologação estejam de acordo com a mediana(50%), que é de 5 dias."
   ]
  },
  {
   "cell_type": "markdown",
   "metadata": {
    "collapsed": false
   },
   "source": [
    "#### Tempo de homologação - adjudicação"
   ]
  },
  {
   "cell_type": "code",
   "execution_count": 39,
   "metadata": {
    "collapsed": false
   },
   "outputs": [],
   "source": [
    "datetimes_licitacoes['tempo_homologacao_adjudicacao'] = datetimes_licitacoes.apply(lambda x: calculate_working_days_column(x['DT_HOMOLOGACAO'], x['DT_ADJUDICACAO']), axis=1)"
   ]
  },
  {
   "cell_type": "code",
   "execution_count": 40,
   "metadata": {
    "collapsed": false
   },
   "outputs": [
    {
     "data": {
      "text/plain": [
       "count    9174.00000\n",
       "mean        0.93656\n",
       "std         2.98773\n",
       "min         0.00000\n",
       "25%         1.00000\n",
       "50%         1.00000\n",
       "75%         1.00000\n",
       "max       261.00000\n",
       "Name: tempo_homologacao_adjudicacao, dtype: float64"
      ]
     },
     "execution_count": 40,
     "metadata": {},
     "output_type": "execute_result"
    }
   ],
   "source": [
    "datetimes_licitacoes['tempo_homologacao_adjudicacao'].describe()"
   ]
  },
  {
   "cell_type": "markdown",
   "metadata": {
    "collapsed": false
   },
   "source": [
    "##### Já o tempo de adjudicação é bem menor, com uma média de 1 dia e um desvio padrão de 3 dias. A mediana é de 1 dia, o que indica que a maioria dos tempos de adjudicação estão de acordo com a mediana."
   ]
  },
  {
   "cell_type": "markdown",
   "metadata": {
    "collapsed": false
   },
   "source": [
    "### Agora, irei analisar as licitações pelas estações do ano. Quais são as estações do ano com mais licitações?"
   ]
  },
  {
   "cell_type": "code",
   "execution_count": 41,
   "metadata": {
    "collapsed": false
   },
   "outputs": [],
   "source": [
    "# Aplicando a função de classificação de estação do ano\n",
    "from my_library import get_season\n",
    "\n",
    "datetimes_licitacoes['estacao'] = datetimes_licitacoes['DT_ABERTURA'].apply(lambda x: get_season(x))"
   ]
  },
  {
   "cell_type": "code",
   "execution_count": 42,
   "metadata": {
    "collapsed": false
   },
   "outputs": [
    {
     "data": {
      "text/plain": [
       "Inverno      3766\n",
       "Primavera    2473\n",
       "Outono       1744\n",
       "Verão        1191\n",
       "Name: estacao, dtype: int64"
      ]
     },
     "execution_count": 42,
     "metadata": {},
     "output_type": "execute_result"
    }
   ],
   "source": [
    "datetimes_licitacoes['estacao'].value_counts()"
   ]
  },
  {
   "cell_type": "code",
   "execution_count": 43,
   "metadata": {
    "collapsed": false
   },
   "outputs": [
    {
     "data": {
      "image/png": "[encoded data removed]",
      "text/plain": [
       "<Figure size 640x480 with 1 Axes>"
      ]
     },
     "metadata": {},
     "output_type": "display_data"
    }
   ],
   "source": [
    "# plotando o gráfico de barras\n",
    "\n",
    "datetimes_licitacoes['estacao'].value_counts().plot.bar(rot=0)\n",
    "\n",
    "plt.title('Quantidade de licitações por estação do ano')\n",
    "plt.xlabel('Estação do ano')\n",
    "plt.ylabel('Quantidade de licitações')\n",
    "\n",
    "plt.show()"
   ]
  },
  {
   "cell_type": "code",
   "execution_count": 44,
   "metadata": {
    "collapsed": false
   },
   "outputs": [],
   "source": [
    "datetimes_licitacoes[['NM_ORGAO', 'VL_LICITACAO']] = licitacoes_2016_compras[['NM_ORGAO','VL_LICITACAO']]"
   ]
  },
  {
   "cell_type": "code",
   "execution_count": 45,
   "metadata": {
    "collapsed": false
   },
   "outputs": [
    {
     "data": {
      "text/plain": [
       "estacao  NM_ORGAO               \n",
       "Inverno  PM DE NOVO HAMBURGO        57\n",
       "         PM DE CACHOEIRA DO SUL     55\n",
       "         PM DE PELOTAS              55\n",
       "         PM DE GUAPORÉ              48\n",
       "         PM DE ERECHIM              47\n",
       "                                    ..\n",
       "Verão    PM DE TUPANCIRETÃ           1\n",
       "         PM DE UNIÃO DA SERRA        1\n",
       "         PM DE VESPASIANO CORRÊA     1\n",
       "         PM DE ÁGUA SANTA            1\n",
       "         PM DE ÁUREA                 1\n",
       "Name: NM_ORGAO, Length: 1608, dtype: int64"
      ]
     },
     "execution_count": 45,
     "metadata": {},
     "output_type": "execute_result"
    }
   ],
   "source": [
    "datetimes_licitacoes.groupby('estacao')['NM_ORGAO'].value_counts()"
   ]
  },
  {
   "cell_type": "markdown",
   "metadata": {
    "collapsed": false
   },
   "source": [
    "### Agora, irei analisar os itens licitados. Quais são os itens mais licitados? Quais são os itens mais caros? Quais são os itens mais baratos?"
   ]
  },
  {
   "cell_type": "code",
   "execution_count": 46,
   "metadata": {
    "collapsed": false
   },
   "outputs": [
    {
     "data": {
      "text/plain": [
       "MANGUEIRA SILICONE 2.1/2\"              1360\n",
       "MATERIAL                                873\n",
       "LIVRO                                   355\n",
       ".                                       344\n",
       "NÃO CADASTRADO                          304\n",
       "                                       ... \n",
       "Resina fotopolimerizavel , cor A3,5       1\n",
       "Resina fotopolimerizavel cor:A3           1\n",
       "Resina fotopolimerizavel, cor B2          1\n",
       "Resina fotopolimerizável cor A2           1\n",
       "Valproato de Sódio 500 mg                 1\n",
       "Name: DS_ITEM, Length: 359635, dtype: int64"
      ]
     },
     "execution_count": 46,
     "metadata": {},
     "output_type": "execute_result"
    }
   ],
   "source": [
    "itens_2016['DS_ITEM'].value_counts()"
   ]
  },
  {
   "cell_type": "markdown",
   "metadata": {
    "collapsed": false
   },
   "source": [
    "Por meio do resultado anterior é possível determinar algumas estratégias para a exploração de dados sobre os itens licitados.\n",
    "Como por exemplo:\n",
    "- Descrições que possuam a string 'mg'/'miligramas' ou 'ml'/'mililitros' podem ser relacionadas com medicamentos\n",
    "- Mililitros podem ser confundidos como alimentos, itens de higiene e limpeza, etc\n",
    "- Descrições que possuam unidades de medida como m², m³, etc podem ser relacionadas com materiais de construção\n",
    "- Descrições que possuam a string 'kg'/'quilogramas' podem ser relacionadas com alimentos"
   ]
  },
  {
   "cell_type": "code",
   "execution_count": 47,
   "metadata": {
    "collapsed": false
   },
   "outputs": [
    {
     "data": {
      "text/plain": [
       "FUROSEMIDA 40MG                                42\n",
       "CARBAMAZEPINA 200MG                            41\n",
       "FENOBARBITAL 100MG                             40\n",
       "PREDNISONA 5MG                                 38\n",
       "CEFALEXINA 500MG                               38\n",
       "                                               ..\n",
       "DIPIRONA 500 MG/ML SOLUÇÃO ORAL 10 ML           1\n",
       "ENALAPRIL 20MG (EMBALAGEM HOSPITALAR)           1\n",
       "ESPIRONOLACTONA 50MG (EMBALAGEM HOSPITALAR)     1\n",
       "FENOBARBITAL 100 MG (EMBALAGEM HOSPITALAR)      1\n",
       "Valproato de Sódio 500 mg                       1\n",
       "Name: DS_ITEM, Length: 27872, dtype: int64"
      ]
     },
     "execution_count": 47,
     "metadata": {},
     "output_type": "execute_result"
    }
   ],
   "source": [
    "itens_2016[itens_2016['DS_ITEM'].str.contains('mg', case = False)]['DS_ITEM'].value_counts()"
   ]
  },
  {
   "cell_type": "code",
   "execution_count": 48,
   "metadata": {
    "collapsed": false
   },
   "outputs": [
    {
     "data": {
      "text/plain": [
       "ÓLEO DE SOJA 900 ML                                                                                                                  21\n",
       "OLEO DE SOJA 900 ML                                                                                                                  20\n",
       "ÓLEO DE SOJA VEGETAL: garrafa de 900ml                                                                                               15\n",
       "VINAGRE DE MAÇÃ: garrafa de 750ml                                                                                                    13\n",
       "OLEO DE SOJA 900ML                                                                                                                   11\n",
       "                                                                                                                                     ..\n",
       "Cola gliter, não tóxica, composta por resinas de pva, gliter e conservante tipo benzoatiazol, embalagem de 35 ml, na cor prata        1\n",
       "Cola gliter, não tóxica, composta por resinas de pva, gliter e conservante tipo benzoatiazol, embalagem de 35 ml, na cor dourada.     1\n",
       "Cola gliter, não tóxica, composta por resinas de pva, gliter e conservante tipo benzoatiazol, embalagem de 35 ml, na cor azul         1\n",
       "detergente biodegradavel embalagem 500 ml                                                                                             1\n",
       "Permetrina loção 5% - 60mL                                                                                                            1\n",
       "Name: DS_ITEM, Length: 23708, dtype: int64"
      ]
     },
     "execution_count": 48,
     "metadata": {},
     "output_type": "execute_result"
    }
   ],
   "source": [
    "itens_2016[itens_2016['DS_ITEM'].str.contains('ml', case = False)]['DS_ITEM'].value_counts()"
   ]
  },
  {
   "cell_type": "code",
   "execution_count": 49,
   "metadata": {
    "collapsed": false
   },
   "outputs": [
    {
     "data": {
      "text/plain": [
       "Lote - área de 1,50x3,00m. Totalizando 4,50m². A área do imóvel será exclusivamente para uso de túmulos, capelas ou jazigos.                                                                                                                                                                                                                                            175\n",
       "Papel oficio A4 - Cor Branco- gr 75 g/m²,embalagem  c/ 500 unid.                                                                                                                                                                                                                                                                                                         23\n",
       "PLACA REFLETIVA TIPOII - R07 E R019 - ÁREA=0,51m²(VEL.MÁX-PROIB ULTR.)                                                                                                                                                                                                                                                                                                   10\n",
       "Fio rígido isolação em PVC 450/750V 1,50 mm² resistente à chama - fornecimento e instalação                                                                                                                                                                                                                                                                               8\n",
       "PLACA REFLETIVA TIPOII - R01 ÁREA=0,53m² (PARADA OBRIGATÓRIA)                                                                                                                                                                                                                                                                                                             7\n",
       "                                                                                                                                                                                                                                                                                                                                                                       ... \n",
       "Cordoalha de cobre nu, têmpera dura, 35mm²                                                                                                                                                                                                                                                                                                                                1\n",
       "Conector  de bronze fosforoso, haste de 5/8\"/cabo de 50 mm²                                                                                                                                                                                                                                                                                                               1\n",
       "Cordoalha de cobre nu , 50 mm²                                                                                                                                                                                                                                                                                                                                            1\n",
       "Lâmina curva, 15 furos, 8” de largura, furo 5/8”, ¾” de espessura em aço microligado ao boro, com teor de carbono 0,28% a 0,35%, manganês 1,10% a 1,40%, silício 0,15% a 0,30%, boro 0,0005% a 0,003% temperada em aço SAE 15B35, revenida, dureza Brinells 450 a 550. Resistência a tração 155kgf/mm², para motoniveladora Volvo, modelo G 930, nº de série 503221.      1\n",
       "Atadura de crepom 13 fios/cm², tecido 100% algodão, fios de alta torção – 5cm x 4,5m. (1,8m. fechado)                                                                                                                                                                                                                                                                     1\n",
       "Name: DS_ITEM, Length: 3601, dtype: int64"
      ]
     },
     "execution_count": 49,
     "metadata": {},
     "output_type": "execute_result"
    }
   ],
   "source": [
    "itens_2016[itens_2016['DS_ITEM'].str.contains('m²', case = False)]['DS_ITEM'].value_counts()"
   ]
  },
  {
   "cell_type": "code",
   "execution_count": 50,
   "metadata": {
    "collapsed": false
   },
   "outputs": [
    {
     "data": {
      "text/plain": [
       "DESLOCAMENTO 65CM³ PRESSÃO DE TRABALHO 190BAR ACOPLAMENTO SAE B 13 Z C/ ACIONAMENTO PNEUMÁTICO                                                                                                                                                                                                                                                                                                                                                                                                                                                                                                                                                                                                             12\n",
       "TRANSPORTE COMERCIAL COM CAMINHÃO BASCULANTE 6M³, RODOVIA PAVIMENTADA                                                                                                                                                                                                                                                                                                                                                                                                                                                                                                                                                                                                                                      10\n",
       "CARGA E DESCARGA MECÂNICA DE SOLO UTILIZANDO CAMIINHÃO BASCULANTE 6M³/16T E PA CARREGADEIRA SOBRE PNEUS 128HP, CAPACIDADE DA CAÇAMBA 1,7 A 2,8 M³, PESO OPERACIONAL 11632 KG - BRITA                                                                                                                                                                                                                                                                                                                                                                                                                                                                                                                        8\n",
       "DESLOCAMENTO 65CM³ PRESSÃO DE TRABALHO 190BAR  ACOPLAMENTO SAE B 13 Z                                                                                                                                                                                                                                                                                                                                                                                                                                                                                                                                                                                                                                       6\n",
       "CARGA E DESCARGA MECÂNICA DE SOLO UTILIZANDO CAMIINHÃO BASCULANTE 6M³/16T E PA CARREGADEIRA SOBRE PNEUS 128HP, CAPACIDADE DA CAÇAMBA 1,7 A 2,8 M³, PESO OPERACIONAL 11632 KG - BOTA-FORA                                                                                                                                                                                                                                                                                                                                                                                                                                                                                                                    6\n",
       "                                                                                                                                                                                                                                                                                                                                                                                                                                                                                                                                                                                                                                                                                                           ..\n",
       "Tala de imobilização provisória no resgate e transporte de acidentados, confeccionada em EVA, maleável revestida (sem resíduos de chumbo), c/ fita crepe, bandagem ou gaze p/ uma imobilização completa; nas cores padrões internacionais; arame galvanizado 2,76 revestido em EVA, densidade 110kg/m³, tamanho G                                                                                                                                                                                                                                                                                                                                                                                           1\n",
       "Tala de imobilização provisória no resgate e transporte de acidentados, confeccionada em EVA, maleável revestida (sem resíduos de chumbo), c/ fita crepe, bandagem ou gaze p/ uma imobilização completa; nas cores padrões internacionais; arame galvanizado 2,76 revestido em EVA, densidade 110kg/m³, tamanho P                                                                                                                                                                                                                                                                                                                                                                                           1\n",
       "RETROESCAVADEIRA NOVA ANO/MODELO 2016, CHASSI MONOBLOCO 4X4, MOTOR DIESEL, POTÊNCIA MÍNIMA 75HP, NO MÍNIMO 04 MARCHAS À FRENTE E 02 A RÉ DIREÇÃO HIDROSTÁTICA, CAÇAMBA FRONTAL DE NO MÍNIMO 0,96 M³ E CAÇAMBA DA RETRO DE NO MÍNIMO 0,24M³ , CABINE FECHADA E AR CONDICIONADO. GARANTIA MÍNIMA DE 01 ANO; A RETROESCAVADEIRA DEVERÁ SER ENTREGUE COM SEGURO OBRIGATÓRIO E SISTEMA DE ILUMINAÇÃO DE TRÂNSITO E TRABALHO COM CONJUNTO DE LUZES REGULARES PARA TRÁFEGO EM RODOVIAS. A GARANTIA COM ASSISTÊNCIA TÉCNICA DA MARCA E MODELO OFERTADO PELA (S) LICITANTE (S) DEVERÁ(AO) SER PRESTADA, OBRIGATORIAMENTE POR OFICINA AUTORIZADA PELO FABRICANTE, COM SEDE NO ESTADO DO RIO GRANDE DO SUL; ......     1\n",
       "AREIA REGULAR - M³                                                                                                                                                                                                                                                                                                                                                                                                                                                                                                                                                                                                                                                                                          1\n",
       "Recarga de Oxigênio medicinal em cilindros de 06 a 10m³ Comodato de 150 cilindros                                                                                                                                                                                                                                                                                                                                                                                                                                                                                                                                                                                                                           1\n",
       "Name: DS_ITEM, Length: 806, dtype: int64"
      ]
     },
     "execution_count": 50,
     "metadata": {},
     "output_type": "execute_result"
    }
   ],
   "source": [
    "itens_2016[itens_2016['DS_ITEM'].str.contains('m³', case = False)]['DS_ITEM'].value_counts()"
   ]
  },
  {
   "cell_type": "code",
   "execution_count": 62,
   "metadata": {
    "collapsed": false
   },
   "outputs": [
    {
     "data": {
      "text/plain": [
       "FRANGO (COXA E SOBRECOXA): congelado, embalagem de 1kg                                                                                                                                                                                                                                                                                                                                                                                                                                                                                                                                                                                                                                                                                                                                                                                                                                                                                                                                                                                                                                                                                                                                                                                                                                                                                                                                                                                                                                                                                                                                                                                                                                                                                                                                                                                                                                                                                                                                                                                                                              17\n",
       "AMIDO DE MILHO: embalagem de 1kg                                                                                                                                                                                                                                                                                                                                                                                                                                                                                                                                                                                                                                                                                                                                                                                                                                                                                                                                                                                                                                                                                                                                                                                                                                                                                                                                                                                                                                                                                                                                                                                                                                                                                                                                                                                                                                                                                                                                                                                                                                                    16\n",
       "FEIJÃO PRETO, TIPO 1, EM PACOTE DE 1 KG.                                                                                                                                                                                                                                                                                                                                                                                                                                                                                                                                                                                                                                                                                                                                                                                                                                                                                                                                                                                                                                                                                                                                                                                                                                                                                                                                                                                                                                                                                                                                                                                                                                                                                                                                                                                                                                                                                                                                                                                                                                            15\n",
       "POLVILHO AZEDO: embalagem de 1kg                                                                                                                                                                                                                                                                                                                                                                                                                                                                                                                                                                                                                                                                                                                                                                                                                                                                                                                                                                                                                                                                                                                                                                                                                                                                                                                                                                                                                                                                                                                                                                                                                                                                                                                                                                                                                                                                                                                                                                                                                                                    15\n",
       "Arroz tipo 1, contendo 06 embalagens de 5 kg cada, de plástico resistente , em embalagem secundária de papelão resistente de 30 kg. Longo , polido, com umidade máxima de 14%. Marcas pré aprovadas.                                                                                                                                                                                                                                                                                                                                                                                                                                                                                                                                                                                                                                                                                                                                                                                                                                                                                                                                                                                                                                                                                                                                                                                                                                                                                                                                                                                                                                                                                                                                                                                                                                                                                                                                                                                                                                                                                14\n",
       "                                                                                                                                                                                                                                                                                                                                                                                                                                                                                                                                                                                                                                                                                                                                                                                                                                                                                                                                                                                                                                                                                                                                                                                                                                                                                                                                                                                                                                                                                                                                                                                                                                                                                                                                                                                                                                                                                                                                                                                                                                                                                    ..\n",
       "LUVA ROSCÁVEL ¾', COR BRANCA, PRESSÃO MÁXIMA DE SERVIÇO DE NO MÍNIMO 7,5 KGF/CM² (750 KPA) À 20°C, ATENDENDO AS NORMAS TÉCNICAS NBR 5626, ROSCAS CONFORME NBR ISO 7/1, ATENDENDO AS NORMAS ISO 9001 E 14001, DE QUALIDADE SIMILAR OU SUPERIOR A TIGRE.                                                                                                                                                                                                                                                                                                                                                                                                                                                                                                                                                                                                                                                                                                                                                                                                                                                                                                                                                                                                                                                                                                                                                                                                                                                                                                                                                                                                                                                                                                                                                                                                                                                                                                                                                                                                                               1\n",
       "CADEIRA DE RODAS FIXA COM ASSENTO E ENCOSTO ESTOFADOS COM ESPUMA EM ESPESSURA MÍNIMA DE CINCO CENTÍMETROS PARA O ASSENTO E TRÊS CENTÍMETROS PARA O ENCOSTO, DENSIDADE MÍNIMA DE VINTE E OITO, REVESTIDA EM LAMINADO SINTÉTICO A PROVA DE INFILTRAÇÃO DE LÍQUIDOS, CONSTRUÍDO EM TUBOS DE AÇO 7/8 COM PAREDE DE 1,5MM, PINTURA ELETROSTÁTICA A PÓ, APOIO DE BRAÇOS EM POLIURETANO INJETADO, APOIO PARA OS PÉS INDIVIDUAIS EM ALUMÍNIO COM INCLINAÇÃO REGULÁVEL, RODÍZIOS DIANTEIROS DE SEIS POLEGADAS COM GARFO FIXO, RODAS TRASEIRAS DE VINTE E SEIS POLEGADAS MACIÇAS, COM ARO DE COMANDO INOXIDÁVEL, LARGURA DO ASSENTO E DO ENCOSTO DE NO MÍNIMO QUARENTA E CINCO CENTÍMETROS, CAPACIDADE DE CARGA DE NO MÍNIMO 125KG. GARANTIA MÍNIMA DE DOZE MESES.                                                                                                                                                                                                                                                                                                                                                                                                                                                                                                                                                                                                                                                                                                                                                                                                                                                                                                                                                                                                                                                                                                                                                                                                                                                                                                                             1\n",
       "CAMA HOSPITALAR FOWLER ELÉTRICA MOTORIZADA, COM CONTROLE REMOTO COM FIO; BLOQUEADOR MAGNÉTICO DE FUNÇÕES NO CONTROLE REMOTO COM FIO; MOVIMENTOS: AJUSTE DE ALTURA, INCLINAÇÃO DO DORSO, FLEXÃO DAS PERNAS, INCLUINDO AS SEGUINTES POSIÇÕES: FAWLER, SEMI-FAWLER, CARDIACA, VASCULAR, TRENDELEMBURG E TRENDELEMBURG REVERSO ACIONADOS VIA CONTROLE REMOTO DE MÃO COM FIO; FUNÇÃO PCR (COMANDO MECÂNICO E INSTANTÂNEO QUE RETORNA O LEITO NA POSIÇÃO HORIZONTAL EM CASOS DE ATENDIMENTO DE PARADAS CARDIORRESPIRATÓRIAS) CABECEIRA E PESEIRA REMOVÍVEIS FABRICADAS EM POLIETILENO INJETADO OU MATERIAL COMPATÍVEL, QUATRO GRADES LATERAIS ARTICULÁVEIS E RETRÁTEIS COM SISTEMA DE AMORTECEDOR, FABRICADAS EM POLIETILENO INJETADO OU MATERIAL COMPATÍVEL; AS GRADES DEVERÃO SER EMBUTIDAS QUANDO RECOLHIDAS PARA EVITAR ESPAÇO DURANTE A TRANSFERÊNCIA DO PACIENTE;  ESTRUTURA DO ESTRADO CONSTRUÍDO EM LONGARINAS DE AÇO DE NO MÍNIMO 3,2MM; PINTURA ELETROSTÁTICA A PÓ; RODÍZIOS DUPLOS DE NO MÍNIMO 5 (POLEGADAS) E NÃO METÁLICOS, SENDO TODOS COM FREIO E ACIONADOS EM AMBOS OS LADOS DA CAMA E COM SISTEMA DE TRAVA DIRECIONAL, SUPORTE PARA LÍQUIDOS, QUATRO ENCAIXES PARA SUPORTE DE SORO , PROTETOR DE PAREDE, CARENAGENS EM TERMO PLÁSTICO, LEITO REMOVÍVEL EM ABS ESTRUTURADO FACILITANDO A HIGIENIZAÇÃO, POSSUIR PROTEÇÃO CONTRA PENETRAÇÃO DE ÁGUA IPX4, CAPACIDADE DE CARGA DE NO MÍNIMO 230 KG; DIMENSÕES MÁXIMAS DA CAMA: LEITO: C:1,95M X L:0,90 X A: 0,52; TOTAL: C:2,25M X L:1,09 X A: 0,76. ACOMPANHA:01 SUPORTE DE SORO EM AÇO INOX REGULÁVEL EM 3 POSIÇÕES; COLCHÃO DE ESPUMA DE ALTA DENSIDADE DE NO MÍNIMO D-28, (CONSTRUÍDO A BASE DE POLIOL E TDI) COM REFORÇO EM TODO SEU PERÍMETRO PARA FACILITAR ENTRADA E SAÍDA DO PACIENTE E MANTÊ-LO CENTRALIZADO AO LEITO ALÉM DE EVITAR DESGASTE E DEFORMAÇÃO. TECIDO EM NYLON LIVRE DE COSTURAS, BACTERIOSTÁTICO. O COLCHÃO TAMBÉM DEVERÁ SER A PROVA DE INFILTRAÇÃO DE LÍQUIDOS. DEVE ACOMPANHAR DECLARAÇÃO DE USO E LEGITIMIDADE DOS MATERIAIS UTILIZADOS NA CONSTRUÇÃO DO PRODUTO, TANTO DA CAMA COMO DO COLC     1\n",
       "VENTILADOR PULMONAR - RESPIRADOR PULMONAR DE FLUXO E PRESSÃO MICROPROCESSADO PARA PACIENTES PEDIÁTRICOS ATÉ ADULTOS OBESOS, DE 10 A 200 KG, MONTADO SOBRE PEDESTAL COM RODÍZIOS GIRATÓRIOS DIRIGÍVEIS E FREIO, DEVENDO PERMITIR TRANSPORTE ENTRE LEITOS. ELETROMECÂNICO COM SENSIBILIDADE A FLUXO E PRESSÃO; POR PRESSÃO POSITIVA, INVASIVO E NÃO INVASIVO (COM COMPENSAÇÃO DE VAZAMENTO). POSSUIR OPERAÇÃO COM ALIMENTAÇÃO PNEUMÁTICA DE AR E OXIGÊNIO COM PRESSÃO DE ENTRADA A PARTIR DE 250 A 600 KPA; DEVE SER CAPAZ DE OPERAR SOMENTE COM AR COMPRIMIDO OU SOMENTE COM OXIGÊNIO; POSSUIR ENTRADA PARA AR COMPRIMIDO E O2 DIRETAMENTE DA CENTRAL DE GASES DO HOSPITAL; MONITOR GRÁFICO LCD COM TELA SENSÍVEL AO TOQUE; BLENDER ELETRÔNICO INTERNO E MICROPROCESSADO; DEVERÁ APRESENTAR CAPACIDADE PARA ATUALIZAÇÃO DE SOFTWARE QUE PERMITA A IMPLANTAÇÃO DE FUTURAS ESTRATÉGIAS VENTILATÓRIAS, SEM NECESSIDADE DE SUBSTITUIÇÃO DE HARDWARE; DISPOSITIVO DE MEDIÇÃO DA CONCENTRAÇÃO DA FIO2 DEVERÁ SER INTERNO E PERMANENTE COM TECNOLOGIA ULTRA-SÔNICA OU PARAMAGNÉTICA. FAIXA DE FUNCIONAMENTO: VOLUME CORRENTE DE100ML A NO MÍNIMO 2000ML PARA PACIENTES PEDIÁTRICOS E ADULTOS; VOLUME MINUTO DE 1 A 45 L/MIN; TEMPO DE APNEIA DE 15 A 45 SEG; PRESSÃO DE CONTROLADA / SUPORTE NA FAIXA DE 5 A 70 CMHO20; FREQUÊNCIA RESPIRATÓRIA DE 4 A 100 BPM; FLUXO INSPIRATÓRIO ATÉ 180 L/MIN; CONCENTRAÇÕES DE OXIGÊNIO DE 21 A 100%; SENSIBILIDADE A FLUXO DE 0,5 A 2L/MIN PELO MENOS; SENSIBILIDADE A PRESSÃO DE -10 A -0,5 CMH2O; RELAÇÃO I:E NA FAIXA DE 3:1 A 1:10; TEMPO INSPIRATÓRIO: 0,1 A 5 SEG; TEMPO DE SUBIDA (RISE TIME), AJUSTÁVEL EM TODAS MODALIDADES CONTROLADAS À PRESSÃO; CICLAGEM EXPIRATÓRIA AJUSTÁVEL DE NO MÍNIMO 10 A 70% DE FLUXO DE PICO; CONTROLES: VENTILAÇÃO ASSISTIDA/CONTROLADA A VOLUME E A PRESSÃO (A/C); VENTILAÇÃO MANDATÓRIA INTERMITENTE SINCRONIZADA A VOLUME E PRESSÃO (SIMV/P E SIMV/) COM PRESSÃO DE SUPORTE (PSV); PRESSÃO POSITIVA CONTÍNUA NAS VIAS AÉREAS (CPAP); VENTILAÇÃO COM PRESSÃO DE SUPORTE (PSV); VENTILAÇÃO DE BACKUP; DISPOS     1\n",
       "Maçã Fuji (6 unidades devem equivaler a 1,4 Kg) maduras de 1º qualidade e maduras. Produto em perfeito estado de conservação: isento de sujidades e de danos físicos ou mecânicos.Transporte de acordo com a legislação vigente.                                                                                                                                                                                                                                                                                                                                                                                                                                                                                                                                                                                                                                                                                                                                                                                                                                                                                                                                                                                                                                                                                                                                                                                                                                                                                                                                                                                                                                                                                                                                                                                                                                                                                                                                                                                                                                                     1\n",
       "Name: DS_ITEM, Length: 13665, dtype: int64"
      ]
     },
     "execution_count": 62,
     "metadata": {},
     "output_type": "execute_result"
    }
   ],
   "source": [
    "itens_2016[itens_2016['DS_ITEM'].str.contains('kg', case = False)]['DS_ITEM'].value_counts()"
   ]
  },
  {
   "cell_type": "code",
   "execution_count": 64,
   "metadata": {
    "collapsed": false
   },
   "outputs": [
    {
     "data": {
      "text/plain": [
       " Brócolis híbridos, boa qualidade, sem danificações e partes amarelas.  Cabeça compacta, cada unidade de 300 gramas.                                                                                                                                                                                                                                                                                                                                                                                                                                                                                                                                                                                                                                                                                                                                                                                                                                                                                                                                                                                                                                                                                                                                                                                                                                                                                                                                                                                                                                                                                                                                                                                                                                                                                                                                                                                                                                                                                                                                                                11\n",
       "Tempero verde (salsa e cebolinha), molho de tamanho médio (peso de médio 200 gramas), folhas frescas e verde, brilhantes, firme.                                                                                                                                                                                                                                                                                                                                                                                                                                                                                                                                                                                                                                                                                                                                                                                                                                                                                                                                                                                                                                                                                                                                                                                                                                                                                                                                                                                                                                                                                                                                                                                                                                                                                                                                                                                                                                                                                                                                                     9\n",
       "COLORAU -  EMBALAGEM DE 100 GRAMAS                                                                                                                                                                                                                                                                                                                                                                                                                                                                                                                                                                                                                                                                                                                                                                                                                                                                                                                                                                                                                                                                                                                                                                                                                                                                                                                                                                                                                                                                                                                                                                                                                                                                                                                                                                                                                                                                                                                                                                                                                                                   6\n",
       "SALADA ALFACE, 1ª QUALIDADE, COM NO MÍNIMO 200 GRAMAS CADA UNIDADE                                                                                                                                                                                                                                                                                                                                                                                                                                                                                                                                                                                                                                                                                                                                                                                                                                                                                                                                                                                                                                                                                                                                                                                                                                                                                                                                                                                                                                                                                                                                                                                                                                                                                                                                                                                                                                                                                                                                                                                                                   6\n",
       "Esponja de lã de aço com 8 unidades (60 gramas)                                                                                                                                                                                                                                                                                                                                                                                                                                                                                                                                                                                                                                                                                                                                                                                                                                                                                                                                                                                                                                                                                                                                                                                                                                                                                                                                                                                                                                                                                                                                                                                                                                                                                                                                                                                                                                                                                                                                                                                                                                      6\n",
       "                                                                                                                                                                                                                                                                                                                                                                                                                                                                                                                                                                                                                                                                                                                                                                                                                                                                                                                                                                                                                                                                                                                                                                                                                                                                                                                                                                                                                                                                                                                                                                                                                                                                                                                                                                                                                                                                                                                                                                                                                                                                                    ..\n",
       "PROGRAMAS DE SOFTWARE-OFFICE HOME AND BUSINESS 2016 DOWNLOAD - PARA UM PC * LICENÇA VITALÍCIA                                                                                                                                                                                                                                                                                                                                                                                                                                                                                                                                                                                                                                                                                                                                                                                                                                                                                                                                                                                                                                                                                                                                                                                                                                                                                                                                                                                                                                                                                                                                                                                                                                                                                                                                                                                                                                                                                                                                                                                        1\n",
       "ENGENHEIRO CIVIL- REFERENTE MÊS NOVEMBRO/ A PARTIR DIA 14 Contratação de profissional para a prestação de serviços técnicos de engenharia civil e arquitetura, com carga horária de 20 (vinte) horas semanais e conforme eventuais necessidades da Administração, abrangendo as seguintes atividades, dentre outras correlatas, a serem executadas na sede do Município:  a) desenvolvimento de orçamentos, cronogramas, laudos; b) acompanhamento e fiscalização de obras; c) elaboração, levantamento e acompanhamento de projetos e obras de drenagem, de pavimentação, de sinalização, de terraplenagem, de acessibilidade,  d) Projetos técnicos de engenharia, arquitetura e urbanismo vinculados à área da Saúde, Educação, Esporte, Administração, Planejamento, Assistência Social e Agricultura para encaminhamento junto às esferas estaduais e federais, além da fiscalização de tais serviços durante a execução, ajustamento dos projetos e elaboração dos boletins de medição financeira e de desenvolvimento da obra para encaminhamento ao Governo do Estado e/ou Caixa Econômica Federal (Governo Federal); e) Projetos técnicos de engenharia e arquitetura para auxílio a empresas que desejam se instalar no município e para as que estão instaladas visando ampliação/adequação e projeto de novo prédio, além de fiscalização de tais serviços; f) elaboração de projetos de greides de ruas, estradas gerais e avenidas; g) elaboração de mapas de desmembramento de áreas públicas; h) desenvolvimento de desenhos e projetos urbanos: projetos planimétricos, projetos planialtimétricos, estudos de loteamentos, projetos de estacionamentos, projetos de passeios públicos, projeto de refúgio para ônibus e caminhões, projeto de pórticos, projeto de praças e parques, estudos de rótulas/retornos (viários), projetos paisagísticos, sistema viário,  i) auxílio na elaboração de documentos em geral (certidões, habite-se, aprovações de projetos em geral); j) auxílio no acompanhamento de processos junto aos sistemas (SIMOB, SIMEC, SISO     1\n",
       "ENGENHEIRO CIVIL Contratação de profissional para a prestação de serviços técnicos de engenharia civil e arquitetura, com carga horária de 20 (vinte) horas semanais e conforme eventuais necessidades da Administração, abrangendo as seguintes atividades, dentre outras correlatas, a serem executadas na sede do Município:  a) desenvolvimento de orçamentos, cronogramas, laudos; b) acompanhamento e fiscalização de obras; c) elaboração, levantamento e acompanhamento de projetos e obras de drenagem, de pavimentação, de sinalização, de terraplenagem, de acessibilidade,  d) Projetos técnicos de engenharia, arquitetura e urbanismo vinculados à área da Saúde, Educação, Esporte, Administração, Planejamento, Assistência Social e Agricultura para encaminhamento junto às esferas estaduais e federais, além da fiscalização de tais serviços durante a execução, ajustamento dos projetos e elaboração dos boletins de medição financeira e de desenvolvimento da obra para encaminhamento ao Governo do Estado e/ou Caixa Econômica Federal (Governo Federal); e) Projetos técnicos de engenharia e arquitetura para auxílio a empresas que desejam se instalar no município e para as que estão instaladas visando ampliação/adequação e projeto de novo prédio, além de fiscalização de tais serviços; f) elaboração de projetos de greides de ruas, estradas gerais e avenidas; g) elaboração de mapas de desmembramento de áreas públicas; h) desenvolvimento de desenhos e projetos urbanos: projetos planimétricos, projetos planialtimétricos, estudos de loteamentos, projetos de estacionamentos, projetos de passeios públicos, projeto de refúgio para ônibus e caminhões, projeto de pórticos, projeto de praças e parques, estudos de rótulas/retornos (viários), projetos paisagísticos, sistema viário,  i) auxílio na elaboração de documentos em geral (certidões, habite-se, aprovações de projetos em geral); j) auxílio no acompanhamento de processos junto aos sistemas (SIMOB, SIMEC, SISOBRA, etc;                                     1\n",
       "Canela em pó, unidade de 25 gramas                                                                                                                                                                                                                                                                                                                                                                                                                                                                                                                                                                                                                                                                                                                                                                                                                                                                                                                                                                                                                                                                                                                                                                                                                                                                                                                                                                                                                                                                                                                                                                                                                                                                                                                                                                                                                                                                                                                                                                                                                                                   1\n",
       "Tomate com grau de maturação médio, pesando entre 50 e 80 gramas. Embalagem externa: caixas retornáveis. Produto em perfeito estado de conservação: isento de sujidades e de danos físicos ou mecânicos Transporte de acordo com a legislação vigente.                                                                                                                                                                                                                                                                                                                                                                                                                                                                                                                                                                                                                                                                                                                                                                                                                                                                                                                                                                                                                                                                                                                                                                                                                                                                                                                                                                                                                                                                                                                                                                                                                                                                                                                                                                                                                               1\n",
       "Name: DS_ITEM, Length: 3897, dtype: int64"
      ]
     },
     "execution_count": 64,
     "metadata": {},
     "output_type": "execute_result"
    }
   ],
   "source": [
    "itens_2016[itens_2016['DS_ITEM'].str.contains('gramas', case = False)]['DS_ITEM'].value_counts()"
   ]
  },
  {
   "cell_type": "markdown",
   "metadata": {
    "collapsed": false
   },
   "source": [
    "### Devido a enormosidade dos dados, irei aplicar uma função para calcular o tamanho de uma amostra de acordo com o tamanho da população e o erro máximo aceitável. Assim, será possível analisar os itens mais licitados, os mais caros e os mais baratos e suas respectivas frequências de forma mais eficiente."
   ]
  },
  {
   "cell_type": "markdown",
   "metadata": {
    "collapsed": false
   },
   "source": [
    "#### Eu tentei aplicar a fórmula a seguir, cujo resultado retorna o tamanho da amostra para ser usada. Não deu muito certo com o problema proposto, mas segue a descrição:\n",
    "\n",
    "$ n = \\frac{(Z_{\\alpha/2})^2 \\cdot p \\cdot (1 - p)}{E^2} $\n",
    "\n",
    "- n é o tamanho da amostra\n",
    "- Z_{\\alpha/2} é o valor crítico de uma distribuição normal padrão para um nível de significância especificado (por exemplo, \\alpha = 0,05)\n",
    "- p é a proporção estimada da população que pertence à categoria de interesse\n",
    "- E é o erro desejado da margem\n",
    "\n",
    "A fórmula é usada para garantir que a amostra seja grande o suficiente para representar a população com uma margem de erro aceitável. Ao aumentar o tamanho da amostra, a margem de erro diminui. Ao contrário, ao diminuir o tamanho da amostra, a margem de erro aumenta."
   ]
  },
  {
   "cell_type": "code",
   "execution_count": 51,
   "metadata": {
    "collapsed": false
   },
   "outputs": [],
   "source": [
    "from my_library import sample_df\n",
    "# Como eu não sei a variabilidade, irei considerar buscar uma amostra entre 10% e 20% da população. Assim, conseguirei uma amostra de tamanho razoável.\n",
    "\n",
    "itens_2016_sample = sample_df(itens_2016, 0.15)\n",
    "\n"
   ]
  },
  {
   "cell_type": "code",
   "execution_count": 52,
   "metadata": {
    "collapsed": false
   },
   "outputs": [
    {
     "data": {
      "text/plain": [
       "MANGUEIRA SILICONE 2.1/2\"                                            216\n",
       "MATERIAL                                                             119\n",
       "LIVRO                                                                 64\n",
       "SERVIÇO                                                               52\n",
       "NÃO CADASTRADO                                                        47\n",
       "                                                                    ... \n",
       "IODETO DE POTÁSSIO 10MG                                                1\n",
       "CAMISETA CINZA GRAFITE MC \"XG\"                                         1\n",
       "Leite em Pó integral cx de 400 gramas                                  1\n",
       "BRODERI COM PASSA FITA DE 5 CM, peça com 10 metros, na cor branca      1\n",
       "Agulha 25 x 0,7 embalagens com 100 unidades                            1\n",
       "Name: DS_ITEM, Length: 58635, dtype: int64"
      ]
     },
     "execution_count": 52,
     "metadata": {},
     "output_type": "execute_result"
    }
   ],
   "source": [
    "itens_2016_sample['DS_ITEM'].value_counts()"
   ]
  },
  {
   "cell_type": "markdown",
   "metadata": {
    "collapsed": false
   },
   "source": [
    "#### Assim como nas licitações, é possível tratar os texto dos itens para extrair informações relevantes. Por exemplo, podemos extrair informações sobre a categoria do item, como alimentos, medicamentos, materiais de construção, etc. utilizando o pipeline e a função de classificação de texto desenvolvidos anteriormente."
   ]
  },
  {
   "cell_type": "code",
   "execution_count": 53,
   "metadata": {
    "collapsed": false
   },
   "outputs": [],
   "source": [
    "from my_library import preprocess_text_pipeline\n",
    "\n",
    "itens_2016_sample['DS_ITEM'] = itens_2016_sample['DS_ITEM'].apply(lambda x: preprocess_text_pipeline(x))"
   ]
  },
  {
   "cell_type": "code",
   "execution_count": 54,
   "metadata": {
    "collapsed": false
   },
   "outputs": [],
   "source": [
    "from my_library import get_most_common_nouns\n",
    "\n",
    "itens_and_counts = get_most_common_nouns(itens_2016_sample, 'DS_ITEM', 100)"
   ]
  },
  {
   "cell_type": "code",
   "execution_count": 55,
   "metadata": {
    "collapsed": false
   },
   "outputs": [
    {
     "data": {
      "text/plain": [
       "[('cor', 3419),\n",
       " ('%', 2702),\n",
       " ('cm', 2474),\n",
       " ('x', 2101),\n",
       " ('tipo', 2080),\n",
       " ('mm', 2009),\n",
       " ('mg', 1796),\n",
       " ('embalagem', 1750),\n",
       " ('unidades', 1716),\n",
       " ('data', 1627),\n",
       " ('kg', 1527),\n",
       " ('tamanho', 1498),\n",
       " ('c/', 1464),\n",
       " ('ml', 1422),\n",
       " ('caixa', 1407),\n",
       " ('papel', 1382),\n",
       " ('pvc', 1309),\n",
       " ('produto', 1268),\n",
       " ('aço', 1262),\n",
       " ('meses', 1216),\n",
       " ('qualidade', 1197),\n",
       " ('litros', 1168),\n",
       " ('validade', 1150),\n",
       " ('conforme', 1122),\n",
       " ('concreto', 1047),\n",
       " ('–', 1044),\n",
       " ('branca', 1024),\n",
       " ('material', 1004),\n",
       " ('cabo', 985),\n",
       " ('branco', 981),\n",
       " ('g', 936),\n",
       " ('base', 934),\n",
       " ('mínimo', 916),\n",
       " ('pneu', 906),\n",
       " ('plástico', 892),\n",
       " ('pó', 887),\n",
       " ('serviços', 874),\n",
       " ('serviço', 856),\n",
       " ('m', 853),\n",
       " ('médio', 834),\n",
       " ('preto', 818),\n",
       " ('cada', 817),\n",
       " ('ano', 811),\n",
       " ('tubo', 810),\n",
       " ('tinta', 767),\n",
       " ('verde', 758),\n",
       " ('azul', 749),\n",
       " ('fabricação', 749),\n",
       " ('instalação', 746),\n",
       " ('madeira', 719),\n",
       " ('pintura', 705),\n",
       " ('placa', 700),\n",
       " ('p/', 692),\n",
       " ('fornecimento', 691),\n",
       " ('+', 669),\n",
       " ('sistema', 667),\n",
       " ('água', 665),\n",
       " ('altura', 655),\n",
       " ('gramas', 652),\n",
       " ('prazo', 641),\n",
       " ('preta', 639),\n",
       " ('transporte', 637),\n",
       " ('ar', 636),\n",
       " ('tecido', 628),\n",
       " ('deverá', 623),\n",
       " ('contratação', 622),\n",
       " ('transparente', 621),\n",
       " ('peso', 611),\n",
       " ('plástica', 602),\n",
       " ('resistente', 602),\n",
       " ('largura', 597),\n",
       " ('comprimido', 575),\n",
       " ('entrega', 575),\n",
       " ('metros', 573),\n",
       " ('folhas', 573),\n",
       " ('descartável', 558),\n",
       " ('livro', 554),\n",
       " ('mínima', 546),\n",
       " ('fio', 544),\n",
       " ('registro', 542),\n",
       " ('cores', 539),\n",
       " ('luva', 535),\n",
       " ('comprimento', 532),\n",
       " ('alta', 530),\n",
       " ('grau', 527),\n",
       " ('sabor', 519),\n",
       " ('contendo', 514),\n",
       " ('motor', 513),\n",
       " ('porta', 508),\n",
       " ('inox', 503),\n",
       " ('tampa', 493),\n",
       " ('cloridrato', 489),\n",
       " ('vidro', 481),\n",
       " ('gr', 463),\n",
       " ('autor', 459),\n",
       " ('boa', 456),\n",
       " ('edital', 456),\n",
       " ('borracha', 455),\n",
       " ('modelo', 444),\n",
       " ('lote', 442)]"
      ]
     },
     "execution_count": 55,
     "metadata": {},
     "output_type": "execute_result"
    }
   ],
   "source": [
    "itens_and_counts"
   ]
  },
  {
   "cell_type": "markdown",
   "metadata": {
    "collapsed": false
   },
   "source": [
    "#### Ao examinar o resultado obtido e descartar palavras como unidades de medida, ou símbolos especiais, é possível averiguar que a maioria dos itens está distribuído em material escolar  e materiais de construção. Também estão descritos materiais como um geral."
   ]
  },
  {
   "cell_type": "markdown",
   "metadata": {
    "collapsed": false
   },
   "source": [
    "#### Sendo assim, irei novamente elencar os itens mais presentes e assim fazer uma relação com os órgãos, além de comparar diferenças no valor unitário e o homologado.\n",
    "Palavras elencadas:\n",
    "- caixa\n",
    "- papel\n",
    "- pvc\n",
    "- aço\n",
    "- concreto"
   ]
  },
  {
   "cell_type": "code",
   "execution_count": 56,
   "metadata": {
    "collapsed": false
   },
   "outputs": [],
   "source": [
    "itens_2016_sample = pd.merge(itens_2016_sample, licitacoes_2016_compras, on='CD_ORGAO')"
   ]
  },
  {
   "cell_type": "markdown",
   "metadata": {
    "collapsed": false
   },
   "source": [
    "##### Mas antes de prosseguir, irei verificar a quantidade de itens licitados por órgão e o valor médio unitário homologado."
   ]
  },
  {
   "cell_type": "code",
   "execution_count": 57,
   "metadata": {
    "collapsed": false
   },
   "outputs": [
    {
     "data": {
      "text/plain": [
       "NM_ORGAO\n",
       "PM DE VIAMÃO                                   3.290966e+09\n",
       "PM DE CANOAS                                   2.552615e+09\n",
       "PM DE CAXIAS DO SUL                            2.130149e+09\n",
       "PM DE PELOTAS                                  2.111100e+09\n",
       "PM DE NOVO HAMBURGO                            8.317406e+08\n",
       "                                                   ...     \n",
       "CM DE TRAMANDAÍ                                1.000000e+00\n",
       "CM DE VALE DO SOL                              1.000000e+00\n",
       "CM DE VICTOR GRAEFF                            1.000000e+00\n",
       "INST. MUN. ASSIST. SERV. DE NOVA SANTA RITA    1.000000e+00\n",
       "PM DE BAGÉ                                     1.000000e+00\n",
       "Name: QT_ITENS, Length: 549, dtype: float64"
      ]
     },
     "execution_count": 57,
     "metadata": {},
     "output_type": "execute_result"
    }
   ],
   "source": [
    "itens_2016_sample.groupby('NM_ORGAO')['QT_ITENS'].sum().sort_values(ascending=False)"
   ]
  },
  {
   "cell_type": "code",
   "execution_count": 58,
   "metadata": {
    "collapsed": false
   },
   "outputs": [
    {
     "data": {
      "text/plain": [
       "NM_ORGAO\n",
       "PM DE SANTO ÂNGELO                                         444375.581981\n",
       "CM DE ESTRELA VELHA                                        114947.000000\n",
       "PM DE BARRA DO RIO AZUL                                     89990.000000\n",
       "CM DE SÃO JERÔNIMO                                          74942.940000\n",
       "PM DE RIO GRANDE                                            41817.336051\n",
       "                                                               ...      \n",
       "HOSP. NOSSA SRA. DO CARMO - AUTARQUIA MUNICIPAL - TAPES         0.000000\n",
       "INSTITUTO ERECHINENSE DE PREVIDÊNCIA - IEP                      0.000000\n",
       "PM DE BAGÉ                                                      0.000000\n",
       "PM DE ESMERALDA                                                 0.000000\n",
       "SISTEMA DE PREVIDÊNCIA MUNICIPAL - S. LIVRAMENTO                0.000000\n",
       "Name: VL_UNITARIO_HOMOLOGADO, Length: 549, dtype: float64"
      ]
     },
     "execution_count": 58,
     "metadata": {},
     "output_type": "execute_result"
    }
   ],
   "source": [
    "itens_2016_sample.groupby('NM_ORGAO')['VL_UNITARIO_HOMOLOGADO'].mean().sort_values(ascending=False)"
   ]
  },
  {
   "cell_type": "code",
   "execution_count": 59,
   "metadata": {
    "collapsed": false
   },
   "outputs": [],
   "source": [
    "itens_2016_sample['VL_DIFF'] = itens_2016_sample['VL_HOMOLOGADO'] - itens_2016_sample['VL_UNITARIO_HOMOLOGADO']"
   ]
  },
  {
   "cell_type": "code",
   "execution_count": 60,
   "metadata": {
    "collapsed": false
   },
   "outputs": [
    {
     "data": {
      "text/plain": [
       "NM_ORGAO\n",
       "PM DE SANTO ÂNGELO                        -1.243918e+09\n",
       "PM DE ERECHIM                             -3.965748e+08\n",
       "PM DE RIO PARDO                           -1.472866e+08\n",
       "PM DE OSÓRIO                              -7.595591e+07\n",
       "PM DE CHARQUEADAS                         -5.612928e+07\n",
       "                                               ...     \n",
       "FUND. DE SAÚDE PÚBLICA DE NOVO HAMBURGO    8.872027e+09\n",
       "PM DE SÃO JOSÉ DO NORTE                    1.055289e+10\n",
       "CIA. DE DESENV. DE CAXIAS DO SUL           1.849902e+10\n",
       "PM DE CAXIAS DO SUL                        2.974912e+10\n",
       "PM DE VIAMÃO                               1.312314e+12\n",
       "Name: VL_DIFF, Length: 549, dtype: float64"
      ]
     },
     "execution_count": 60,
     "metadata": {},
     "output_type": "execute_result"
    }
   ],
   "source": [
    "itens_2016_sample.groupby('NM_ORGAO')['VL_DIFF'].sum().sort_values()\n",
    "# Muitos órgãos que tiveram prejuízos em licitações. Ou seja, o valor homologado foi menor que o valor unitário homologado."
   ]
  },
  {
   "cell_type": "markdown",
   "metadata": {
    "collapsed": false
   },
   "source": [
    "#### Agora, irei analisar os itens licitados baseados nas palavras elencadas."
   ]
  },
  {
   "cell_type": "code",
   "execution_count": 61,
   "metadata": {
    "collapsed": false
   },
   "outputs": [
    {
     "data": {
      "text/plain": [
       "mangueira silicone 2.1/2 ''                                   16416\n",
       "material                                                       6859\n",
       "serviço                                                        6001\n",
       "cfe edital                                                     2484\n",
       "limpeza final obra                                             2428\n",
       "                                                              ...  \n",
       "porta madeira 1,00x2,10m ) chapa- inclusive ferragens co          1\n",
       "clonazepam 2,5 mg/ml                                              1\n",
       "balcão 02 portas mdf cor branco , dobradiça                       1\n",
       "fio especificação 4,00mm , sólido , padrão abnt rolo 100 m        1\n",
       "aquisição vagas escolas infantis particulares - esc.12            1\n",
       "Name: DS_ITEM, Length: 51476, dtype: int64"
      ]
     },
     "execution_count": 61,
     "metadata": {},
     "output_type": "execute_result"
    }
   ],
   "source": [
    "itens_2016_sample['DS_ITEM'].value_counts()"
   ]
  },
  {
   "cell_type": "code",
   "execution_count": 62,
   "metadata": {
    "collapsed": false
   },
   "outputs": [
    {
     "data": {
      "text/plain": [
       "NM_ORGAO\n",
       "PM DE CANOAS                                              37757730.0\n",
       "PM DE NOVA BASSANO                                        15384908.0\n",
       "PM DE CAXIAS DO SUL                                       13211748.0\n",
       "PM DE VIAMÃO                                               8514868.0\n",
       "PM DE PELOTAS                                              5813864.0\n",
       "                                                             ...    \n",
       "PM DE LAGOA BONITA DO SUL                                        6.0\n",
       "FENAC S.A. FEIRAS E EMPREEND. TURÍSTICOS - N. HAMBURGO           5.0\n",
       "CM DE SÃO JOSÉ DO NORTE                                          1.0\n",
       "CM DE PANAMBI                                                    1.0\n",
       "PM DE CHARRUA                                                    0.0\n",
       "Name: QT_ITENS, Length: 328, dtype: float64"
      ]
     },
     "execution_count": 62,
     "metadata": {},
     "output_type": "execute_result"
    }
   ],
   "source": [
    "itens_2016_sample[itens_2016_sample['DS_ITEM'].str.contains('caixa', case = False)].groupby('NM_ORGAO')['QT_ITENS'].sum().sort_values(ascending=False)"
   ]
  },
  {
   "cell_type": "code",
   "execution_count": 63,
   "metadata": {
    "collapsed": false
   },
   "outputs": [
    {
     "data": {
      "text/plain": [
       "NM_ORGAO\n",
       "PM DE CANOAS             167294712.0\n",
       "PM DE ERECHIM             21985184.0\n",
       "PM DE CAXIAS DO SUL       16756524.0\n",
       "PM DE ELDORADO DO SUL     16393170.0\n",
       "PM DE TEUTÔNIA            11787408.0\n",
       "                            ...     \n",
       "PM DE TRÊS FORQUILHAS           20.0\n",
       "PM DE NOVO BARREIRO             12.0\n",
       "PM DE LINDOLFO COLLOR            6.0\n",
       "CM DE LAVRAS DO SUL              3.0\n",
       "PM DE MAQUINÉ                    2.0\n",
       "Name: QT_ITENS, Length: 303, dtype: float64"
      ]
     },
     "execution_count": 63,
     "metadata": {},
     "output_type": "execute_result"
    }
   ],
   "source": [
    "itens_2016_sample[itens_2016_sample['DS_ITEM'].str.contains('papel', case = False)].groupby('NM_ORGAO')['QT_ITENS'].sum().sort_values(ascending=False)"
   ]
  },
  {
   "cell_type": "code",
   "execution_count": 64,
   "metadata": {
    "collapsed": false
   },
   "outputs": [
    {
     "data": {
      "text/plain": [
       "NM_ORGAO\n",
       "PM DE CANOAS                                       4462600.00\n",
       "CONS. PÚBL. DO EXTREMO SUL                         3780000.00\n",
       "PM DE VIAMÃO                                       3167120.00\n",
       "PM DE PELOTAS                                      3062329.34\n",
       "PM DE CAXIAS DO SUL                                2224260.00\n",
       "                                                      ...    \n",
       "PM DE ENGENHO VELHO                                     12.00\n",
       "CONS. INTERM. SAÚDE DO NOROESTE DO ESTADO DO RS         11.00\n",
       "CONS. INTERM. DE SERVIÇOS DO VALE DO RIO PARDO          10.00\n",
       "PM DE PAULO BENTO                                        8.00\n",
       "PM DE ESPUMOSO                                           4.00\n",
       "Name: QT_ITENS, Length: 246, dtype: float64"
      ]
     },
     "execution_count": 64,
     "metadata": {},
     "output_type": "execute_result"
    }
   ],
   "source": [
    "itens_2016_sample[itens_2016_sample['DS_ITEM'].str.contains('pvc', case = False)].groupby('NM_ORGAO')['QT_ITENS'].sum().sort_values(ascending=False)"
   ]
  },
  {
   "cell_type": "code",
   "execution_count": 65,
   "metadata": {
    "collapsed": false
   },
   "outputs": [
    {
     "data": {
      "text/plain": [
       "NM_ORGAO\n",
       "PM DE SANTA MARIA                                            58608535.77\n",
       "PM DE VIAMÃO                                                 40658940.00\n",
       "PM DE CAXIAS DO SUL                                          25561505.88\n",
       "PM DE PELOTAS                                                 4583211.22\n",
       "PM DE CANOAS                                                  3315892.00\n",
       "                                                                ...     \n",
       "PM DE ESPUMOSO                                                      4.00\n",
       "CONS. PÚBL. SAN. BÁSICO DA BACIA HIDROG. DO RIO DOS SINOS           3.00\n",
       "CM DE ESTRELA VELHA                                                 2.00\n",
       "CM DE GETÚLIO VARGAS                                                1.00\n",
       "CM DE PORTÃO                                                        1.00\n",
       "Name: QT_ITENS, Length: 336, dtype: float64"
      ]
     },
     "execution_count": 65,
     "metadata": {},
     "output_type": "execute_result"
    }
   ],
   "source": [
    "itens_2016_sample[itens_2016_sample['DS_ITEM'].str.contains('aço', case = False)].groupby('NM_ORGAO')['QT_ITENS'].sum().sort_values(ascending=False)"
   ]
  },
  {
   "cell_type": "code",
   "execution_count": 66,
   "metadata": {
    "collapsed": false
   },
   "outputs": [
    {
     "data": {
      "text/plain": [
       "NM_ORGAO\n",
       "PM DE PELOTAS                                    5269959.744\n",
       "PM DE CANOAS                                     5236400.000\n",
       "PM DE ELDORADO DO SUL                            3258000.000\n",
       "SERVIÇO AUTÔN. MUN. DE ÁGUA E ESGOTO - CX.SUL    1394113.630\n",
       "CIA. DE DESENV. DE CAXIAS DO SUL                 1156200.000\n",
       "                                                    ...     \n",
       "PM DE MONTE BELO DO SUL                               11.000\n",
       "PM DE ESPUMOSO                                         7.560\n",
       "PM DE SALDANHA MARINHO                                 6.440\n",
       "PM DE TENENTE PORTELA                                  5.760\n",
       "CM DE ESTEIO                                           2.000\n",
       "Name: QT_ITENS, Length: 218, dtype: float64"
      ]
     },
     "execution_count": 66,
     "metadata": {},
     "output_type": "execute_result"
    }
   ],
   "source": [
    "itens_2016_sample[itens_2016_sample['DS_ITEM'].str.contains('concreto', case = False)].groupby('NM_ORGAO')['QT_ITENS'].sum().sort_values(ascending=False)"
   ]
  },
  {
   "cell_type": "code",
   "execution_count": 67,
   "metadata": {
    "collapsed": false
   },
   "outputs": [],
   "source": [
    "from my_library import preprocess_text_pipeline\n",
    "\n",
    "lotes_2016['DS_LOTE'] = lotes_2016['DS_LOTE'].apply(preprocess_text_pipeline)"
   ]
  },
  {
   "cell_type": "code",
   "execution_count": 68,
   "metadata": {
    "collapsed": false
   },
   "outputs": [],
   "source": [
    "from my_library import get_most_common_nouns\n",
    "\n",
    "lotes_and_count = get_most_common_nouns(lotes_2016, 'DS_LOTE', 100)"
   ]
  },
  {
   "cell_type": "markdown",
   "metadata": {
    "collapsed": false
   },
   "source": [
    "### A análise por texto não foi muito efetiva, então procurarei saber qual tipo de modalidade predomina entre os órgãos."
   ]
  },
  {
   "cell_type": "code",
   "execution_count": 69,
   "metadata": {
    "collapsed": false
   },
   "outputs": [],
   "source": [
    "lotes_2016 = pd.merge(lotes_2016, licitacoes_2016_compras, on='CD_ORGAO')"
   ]
  },
  {
   "cell_type": "code",
   "execution_count": 70,
   "metadata": {
    "collapsed": false
   },
   "outputs": [
    {
     "data": {
      "text/plain": [
       "NM_ORGAO                                                               CD_TIPO_MODALIDADE_x\n",
       "PM DE ERECHIM                                                          PRP                     64124\n",
       "CIA. CARRIS PORTO-ALEGRENSE                                            PRE                     62622\n",
       "PM DE PELOTAS                                                          PRE                     61166\n",
       "PM DE VIAMÃO                                                           PRE                     60512\n",
       "PM DE MONTENEGRO                                                       PRE                     58203\n",
       "                                                                                               ...  \n",
       "FUNDAÇÃO DE PREVIDÊNCIA COMPLEMENTAR DO SERV. PÚBLIC. DO ESTADO DO RS  PRD                         1\n",
       "DEP. MUNICIPAL DE ENERGIA DE IJUÍ - DEMEI GERAÇÃO                      CNV                         1\n",
       "FUNDAÇÃO DE PREVIDÊNCIA COMPLEMENTAR DO SERV. PÚBLIC. DO ESTADO DO RS  RPO                         1\n",
       "CM DE MOSTARDAS                                                        TMP                         1\n",
       "CM DE ENCRUZILHADA DO SUL                                              PRP                         1\n",
       "Name: CD_TIPO_MODALIDADE_x, Length: 2873, dtype: int64"
      ]
     },
     "execution_count": 70,
     "metadata": {},
     "output_type": "execute_result"
    }
   ],
   "source": [
    "lotes_2016.groupby('NM_ORGAO')['CD_TIPO_MODALIDADE_x'].value_counts().sort_values(ascending=False)"
   ]
  },
  {
   "cell_type": "markdown",
   "metadata": {
    "collapsed": false
   },
   "source": [
    "# Conclusões da Análise Exploratória de Dados (EDA)\n",
    "\n",
    "A EDA foi realizada com o objetivo de compreender a estrutura e as características dos dados. Aqui estão algumas das principais conclusões:\n",
    "\n",
    "## Distribuição de Variáveis\n",
    "\n",
    "- A distribuição de tal variável mostra que a maioria dos dados está concentrada em um determinado tipo de órgão - Policias Militares e que no inverno ocorreram muito mais pedidos de licitações\n",
    "\n",
    "\n",
    "## Correlação entre Variáveis\n",
    "\n",
    "- Não foi possível estabelecer uma clara correlação entre as variáveis devido ao enorme número de features, o que dificultou bastante a leitura da matriz.\n",
    "\n",
    "## Valores Ausentes\n",
    "\n",
    "- Tal variável apresenta uma quantidade significativa de valores ausentes, o que pode afetar a precisão das análises futuras. É importante decidir como lidar com esses valores ausentes a fim de ter um ótimo processamento de texto\n",
    "## Conclusão\n",
    "\n",
    "Em geral, a EDA forneceu uma visão geral do conjunto de dados e destacou algumas questões que precisam ser abordadas antes de continuar com as análises. A EDA também ajudou a identificar as variáveis que precisam ser exploradas mais a fundo em análises futuras.\n"
   ]
  }
 ],
 "metadata": {
  "kernelspec": {
   "display_name": "dsb_env",
   "language": "python",
   "name": "python3"
  },
  "language_info": {
   "codemirror_mode": {
    "name": "ipython",
    "version": 3
   },
   "file_extension": ".py",
   "mimetype": "text/x-python",
   "name": "python",
   "nbconvert_exporter": "python",
   "pygments_lexer": "ipython3",
   "version": "3.9.16"
  },
  "vscode": {
   "interpreter": {
    "hash": "41b979ba444d90fd3cbd3b4e00a283ffa1970880aac87b733b896a1e8d83438b"
   }
  }
 },
 "nbformat": 4,
 "nbformat_minor": 1
}
