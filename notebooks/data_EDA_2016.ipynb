{
 "cells": [
  {
   "cell_type": "markdown",
   "source": [
    "Importando as bibliotecas"
   ],
   "metadata": {
    "collapsed": false
   }
  },
  {
   "cell_type": "code",
   "execution_count": 2,
   "metadata": {},
   "outputs": [],
   "source": [
    "import numpy as np\n",
    "import pandas as pd\n",
    "import sweetviz as sv\n",
    "import os\n",
    "import warnings\n",
    "warnings.filterwarnings(\"ignore\")"
   ]
  },
  {
   "cell_type": "markdown",
   "metadata": {},
   "source": [
    "Garantindo que o diretório de trabalho está correto"
   ]
  },
  {
   "cell_type": "code",
   "execution_count": 3,
   "metadata": {},
   "outputs": [],
   "source": [
    "base_dir = os.path.dirname(os.path.abspath('__file__'))\n",
    "dir_files_path = os.path.join(base_dir, '../data/raw/2016.csv')\n",
    "reports_file_path = os.path.join(base_dir, '../reports/2016')"
   ]
  },
  {
   "cell_type": "markdown",
   "metadata": {},
   "source": [
    "Dataframes"
   ]
  },
  {
   "cell_type": "code",
   "execution_count": 14,
   "metadata": {},
   "outputs": [],
   "source": [
    "licitacoes_2016 = pd.read_csv(f\"{dir_files_path}/licitacao.csv\")\n",
    "licitantes_2016 = pd.read_csv(f\"{dir_files_path}/licitante.csv\")\n",
    "itens_2016 = pd.read_csv(f\"{dir_files_path}/item.csv\")"
   ]
  },
  {
   "cell_type": "markdown",
   "metadata": {},
   "source": [
    "Relatórios de análise exploratória"
   ]
  },
  {
   "cell_type": "code",
   "execution_count": 33,
   "metadata": {},
   "outputs": [
    {
     "data": {
      "application/vnd.jupyter.widget-view+json": {
       "model_id": "e5f136ef8a2542e0af111d4104eb879e",
       "version_major": 2,
       "version_minor": 0
      },
      "text/plain": [
       "                                             |          | [  0%]   00:00 -> (? left)"
      ]
     },
     "metadata": {},
     "output_type": "display_data"
    },
    {
     "name": "stdout",
     "output_type": "stream",
     "text": [
      "Report /home/vlgi/Área de Trabalho/meus_projetos/dsb/dsb/notebooks/../reports/2016/licitacoes_report.html was generated! NOTEBOOK/COLAB USERS: the web browser MAY not pop up, regardless, the report IS saved in your notebook/colab files.\n"
     ]
    }
   ],
   "source": [
    "# licitacoes\n",
    "report_licitacoes = sv.analyze(licitacoes_2016)\n",
    "report_licitacoes.show_html(filepath=f\"{reports_file_path}/licitacoes_report.html\", layout='vertical')"
   ]
  },
  {
   "cell_type": "code",
   "execution_count": 31,
   "metadata": {},
   "outputs": [
    {
     "data": {
      "application/vnd.jupyter.widget-view+json": {
       "model_id": "ec1be1bda69f41c3a34d8321e0b06cf4",
       "version_major": 2,
       "version_minor": 0
      },
      "text/plain": [
       "                                             |          | [  0%]   00:00 -> (? left)"
      ]
     },
     "metadata": {},
     "output_type": "display_data"
    },
    {
     "ename": "TypeError",
     "evalue": "\n\nColumn [VL_TOTAL_HOMOLOGADO] has a 'mixed' inferred_type (as determined by Pandas).\nThis is is not currently supported; column types should not contain mixed data.\ne.g. only floats or strings, but not a combination.\n\nPOSSIBLE RESOLUTIONS:\nBEST -> Make sure series [VL_TOTAL_HOMOLOGADO] only contains a certain type of data (numerical OR string).\nOR -> Convert series [VL_TOTAL_HOMOLOGADO] to a string (if makes sense) so it will be picked up as CATEGORICAL or TEXT.\n     One way to do this is:\n     df['VL_TOTAL_HOMOLOGADO'] = df['VL_TOTAL_HOMOLOGADO'].astype(str)\nOR -> Convert series [VL_TOTAL_HOMOLOGADO] to a numerical value (if makes sense):\n     One way to do this is:\n     df['VL_TOTAL_HOMOLOGADO'] = pd.to_numeric(df['VL_TOTAL_HOMOLOGADO'], errors='coerce')\n     # (errors='coerce' will transform string values to NaN, that can then be replaced if desired; consult Pandas manual pages for more details)\n",
     "output_type": "error",
     "traceback": [
      "\u001B[0;31m---------------------------------------------------------------------------\u001B[0m",
      "\u001B[0;31mTypeError\u001B[0m                                 Traceback (most recent call last)",
      "Cell \u001B[0;32mIn[31], line 2\u001B[0m\n\u001B[1;32m      1\u001B[0m \u001B[38;5;66;03m#itens\u001B[39;00m\n\u001B[0;32m----> 2\u001B[0m report_itens \u001B[38;5;241m=\u001B[39m \u001B[43msv\u001B[49m\u001B[38;5;241;43m.\u001B[39;49m\u001B[43manalyze\u001B[49m\u001B[43m(\u001B[49m\u001B[43mitens_2016\u001B[49m\u001B[43m)\u001B[49m\n\u001B[1;32m      3\u001B[0m report_itens\u001B[38;5;241m.\u001B[39mshow_html(filepath\u001B[38;5;241m=\u001B[39m\u001B[38;5;124mf\u001B[39m\u001B[38;5;124m\"\u001B[39m\u001B[38;5;132;01m{\u001B[39;00mreports_file_path\u001B[38;5;132;01m}\u001B[39;00m\u001B[38;5;124m/itens_report\u001B[39m\u001B[38;5;124m\"\u001B[39m)\n",
      "File \u001B[0;32m~/anaconda3/envs/dsb/lib/python3.9/site-packages/sweetviz/sv_public.py:12\u001B[0m, in \u001B[0;36manalyze\u001B[0;34m(source, target_feat, feat_cfg, pairwise_analysis)\u001B[0m\n\u001B[1;32m      8\u001B[0m \u001B[38;5;28;01mdef\u001B[39;00m \u001B[38;5;21manalyze\u001B[39m(source: Union[pd\u001B[38;5;241m.\u001B[39mDataFrame, Tuple[pd\u001B[38;5;241m.\u001B[39mDataFrame, \u001B[38;5;28mstr\u001B[39m]],\n\u001B[1;32m      9\u001B[0m             target_feat: \u001B[38;5;28mstr\u001B[39m \u001B[38;5;241m=\u001B[39m \u001B[38;5;28;01mNone\u001B[39;00m,\n\u001B[1;32m     10\u001B[0m             feat_cfg: FeatureConfig \u001B[38;5;241m=\u001B[39m \u001B[38;5;28;01mNone\u001B[39;00m,\n\u001B[1;32m     11\u001B[0m             pairwise_analysis: \u001B[38;5;28mstr\u001B[39m \u001B[38;5;241m=\u001B[39m \u001B[38;5;124m'\u001B[39m\u001B[38;5;124mauto\u001B[39m\u001B[38;5;124m'\u001B[39m):\n\u001B[0;32m---> 12\u001B[0m     report \u001B[38;5;241m=\u001B[39m \u001B[43msweetviz\u001B[49m\u001B[38;5;241;43m.\u001B[39;49m\u001B[43mDataframeReport\u001B[49m\u001B[43m(\u001B[49m\u001B[43msource\u001B[49m\u001B[43m,\u001B[49m\u001B[43m \u001B[49m\u001B[43mtarget_feat\u001B[49m\u001B[43m,\u001B[49m\u001B[43m \u001B[49m\u001B[38;5;28;43;01mNone\u001B[39;49;00m\u001B[43m,\u001B[49m\n\u001B[1;32m     13\u001B[0m \u001B[43m                                      \u001B[49m\u001B[43mpairwise_analysis\u001B[49m\u001B[43m,\u001B[49m\u001B[43m \u001B[49m\u001B[43mfeat_cfg\u001B[49m\u001B[43m)\u001B[49m\n\u001B[1;32m     14\u001B[0m     \u001B[38;5;28;01mreturn\u001B[39;00m report\n",
      "File \u001B[0;32m~/anaconda3/envs/dsb/lib/python3.9/site-packages/sweetviz/dataframe_report.py:256\u001B[0m, in \u001B[0;36mDataframeReport.__init__\u001B[0;34m(self, source, target_feature_name, compare, pairwise_analysis, fc)\u001B[0m\n\u001B[1;32m    253\u001B[0m \u001B[38;5;28;01mfor\u001B[39;00m f \u001B[38;5;129;01min\u001B[39;00m features_to_process:\n\u001B[1;32m    254\u001B[0m     \u001B[38;5;66;03m# start = time.perf_counter()\u001B[39;00m\n\u001B[1;32m    255\u001B[0m     \u001B[38;5;28mself\u001B[39m\u001B[38;5;241m.\u001B[39mprogress_bar\u001B[38;5;241m.\u001B[39mset_description_str(\u001B[38;5;124mf\u001B[39m\u001B[38;5;124m\"\u001B[39m\u001B[38;5;124mFeature: \u001B[39m\u001B[38;5;132;01m{\u001B[39;00mf\u001B[38;5;241m.\u001B[39msource\u001B[38;5;241m.\u001B[39mname\u001B[38;5;132;01m}\u001B[39;00m\u001B[38;5;124m\"\u001B[39m)\n\u001B[0;32m--> 256\u001B[0m     \u001B[38;5;28mself\u001B[39m\u001B[38;5;241m.\u001B[39m_features[f\u001B[38;5;241m.\u001B[39msource\u001B[38;5;241m.\u001B[39mname] \u001B[38;5;241m=\u001B[39m \u001B[43msa\u001B[49m\u001B[38;5;241;43m.\u001B[39;49m\u001B[43manalyze_feature_to_dictionary\u001B[49m\u001B[43m(\u001B[49m\u001B[43mf\u001B[49m\u001B[43m)\u001B[49m\n\u001B[1;32m    257\u001B[0m     \u001B[38;5;28mself\u001B[39m\u001B[38;5;241m.\u001B[39mprogress_bar\u001B[38;5;241m.\u001B[39mupdate(\u001B[38;5;241m1\u001B[39m)\n\u001B[1;32m    258\u001B[0m     \u001B[38;5;66;03m# print(f\"DONE FEATURE------> {f.source.name}\"\u001B[39;00m\n\u001B[1;32m    259\u001B[0m     \u001B[38;5;66;03m#       f\" {(time.perf_counter() - start):.2f}   {self._features[f.source.name]['type']}\")\u001B[39;00m\n\u001B[1;32m    260\u001B[0m \u001B[38;5;66;03m# self.progress_bar.set_description_str('[FEATURES DONE]')\u001B[39;00m\n\u001B[1;32m    261\u001B[0m \u001B[38;5;66;03m# self.progress_bar.close()\u001B[39;00m\n\u001B[1;32m    262\u001B[0m \n\u001B[1;32m    263\u001B[0m \u001B[38;5;66;03m# Wrap up summary\u001B[39;00m\n",
      "File \u001B[0;32m~/anaconda3/envs/dsb/lib/python3.9/site-packages/sweetviz/series_analyzer.py:93\u001B[0m, in \u001B[0;36manalyze_feature_to_dictionary\u001B[0;34m(to_process)\u001B[0m\n\u001B[1;32m     91\u001B[0m \u001B[38;5;66;03m# Determine SOURCE feature type\u001B[39;00m\n\u001B[1;32m     92\u001B[0m to_process\u001B[38;5;241m.\u001B[39msource_counts \u001B[38;5;241m=\u001B[39m get_counts(to_process\u001B[38;5;241m.\u001B[39msource)\n\u001B[0;32m---> 93\u001B[0m returned_feature_dict[\u001B[38;5;124m\"\u001B[39m\u001B[38;5;124mtype\u001B[39m\u001B[38;5;124m\"\u001B[39m] \u001B[38;5;241m=\u001B[39m \u001B[43mdetermine_feature_type\u001B[49m\u001B[43m(\u001B[49m\u001B[43mto_process\u001B[49m\u001B[38;5;241;43m.\u001B[39;49m\u001B[43msource\u001B[49m\u001B[43m,\u001B[49m\u001B[43m \u001B[49m\u001B[43mto_process\u001B[49m\u001B[38;5;241;43m.\u001B[39;49m\u001B[43msource_counts\u001B[49m\u001B[43m,\u001B[49m\n\u001B[1;32m     94\u001B[0m \u001B[43m                                                       \u001B[49m\u001B[43mto_process\u001B[49m\u001B[38;5;241;43m.\u001B[39;49m\u001B[43mpredetermined_type\u001B[49m\u001B[43m,\u001B[49m\u001B[43m \u001B[49m\u001B[38;5;124;43m\"\u001B[39;49m\u001B[38;5;124;43mSOURCE\u001B[39;49m\u001B[38;5;124;43m\"\u001B[39;49m\u001B[43m)\u001B[49m\n\u001B[1;32m     95\u001B[0m source_type \u001B[38;5;241m=\u001B[39m returned_feature_dict[\u001B[38;5;124m\"\u001B[39m\u001B[38;5;124mtype\u001B[39m\u001B[38;5;124m\"\u001B[39m]\n\u001B[1;32m     97\u001B[0m \u001B[38;5;66;03m# Determine COMPARED feature type & initialize\u001B[39;00m\n",
      "File \u001B[0;32m~/anaconda3/envs/dsb/lib/python3.9/site-packages/sweetviz/type_detection.py:13\u001B[0m, in \u001B[0;36mdetermine_feature_type\u001B[0;34m(series, counts, must_be_this_type, which_dataframe)\u001B[0m\n\u001B[1;32m      6\u001B[0m \u001B[38;5;28;01mdef\u001B[39;00m \u001B[38;5;21mdetermine_feature_type\u001B[39m(series: pd\u001B[38;5;241m.\u001B[39mSeries, counts: \u001B[38;5;28mdict\u001B[39m,\n\u001B[1;32m      7\u001B[0m         must_be_this_type: FeatureType, which_dataframe: \u001B[38;5;28mstr\u001B[39m) \u001B[38;5;241m-\u001B[39m\u001B[38;5;241m>\u001B[39m \u001B[38;5;28mobject\u001B[39m:\n\u001B[1;32m      8\u001B[0m     \u001B[38;5;66;03m# Replace infinite values with NaNs to avoid issues with histograms\u001B[39;00m\n\u001B[1;32m      9\u001B[0m     \u001B[38;5;66;03m# TODO: INFINITE VALUE HANDLING/WARNING\u001B[39;00m\n\u001B[1;32m     10\u001B[0m     \u001B[38;5;66;03m# series.replace(to_replace=[np.inf, np.NINF, np.PINF], value=np.nan,\u001B[39;00m\n\u001B[1;32m     11\u001B[0m     \u001B[38;5;66;03m#                inplace=True)\u001B[39;00m\n\u001B[1;32m     12\u001B[0m     \u001B[38;5;28;01mif\u001B[39;00m counts[\u001B[38;5;124m\"\u001B[39m\u001B[38;5;124mvalue_counts_without_nan\u001B[39m\u001B[38;5;124m\"\u001B[39m]\u001B[38;5;241m.\u001B[39mindex\u001B[38;5;241m.\u001B[39minferred_type\u001B[38;5;241m.\u001B[39mstartswith(\u001B[38;5;124m\"\u001B[39m\u001B[38;5;124mmixed\u001B[39m\u001B[38;5;124m\"\u001B[39m):\n\u001B[0;32m---> 13\u001B[0m         \u001B[38;5;28;01mraise\u001B[39;00m \u001B[38;5;167;01mTypeError\u001B[39;00m(\u001B[38;5;124mf\u001B[39m\u001B[38;5;124m\"\u001B[39m\u001B[38;5;130;01m\\n\u001B[39;00m\u001B[38;5;130;01m\\n\u001B[39;00m\u001B[38;5;124mColumn [\u001B[39m\u001B[38;5;132;01m{\u001B[39;00mseries\u001B[38;5;241m.\u001B[39mname\u001B[38;5;132;01m}\u001B[39;00m\u001B[38;5;124m] has a \u001B[39m\u001B[38;5;124m'\u001B[39m\u001B[38;5;124mmixed\u001B[39m\u001B[38;5;124m'\u001B[39m\u001B[38;5;124m inferred_type (as determined by Pandas).\u001B[39m\u001B[38;5;130;01m\\n\u001B[39;00m\u001B[38;5;124m\"\u001B[39m\n\u001B[1;32m     14\u001B[0m                         \u001B[38;5;124mf\u001B[39m\u001B[38;5;124m\"\u001B[39m\u001B[38;5;124mThis is is not currently supported; column types should not contain mixed data.\u001B[39m\u001B[38;5;130;01m\\n\u001B[39;00m\u001B[38;5;124m\"\u001B[39m\n\u001B[1;32m     15\u001B[0m                         \u001B[38;5;124mf\u001B[39m\u001B[38;5;124m\"\u001B[39m\u001B[38;5;124me.g. only floats or strings, but not a combination.\u001B[39m\u001B[38;5;130;01m\\n\u001B[39;00m\u001B[38;5;130;01m\\n\u001B[39;00m\u001B[38;5;124m\"\u001B[39m\n\u001B[1;32m     16\u001B[0m                         \u001B[38;5;124mf\u001B[39m\u001B[38;5;124m\"\u001B[39m\u001B[38;5;124mPOSSIBLE RESOLUTIONS:\u001B[39m\u001B[38;5;130;01m\\n\u001B[39;00m\u001B[38;5;124m\"\u001B[39m\n\u001B[1;32m     17\u001B[0m                         \u001B[38;5;124mf\u001B[39m\u001B[38;5;124m\"\u001B[39m\u001B[38;5;124mBEST -> Make sure series [\u001B[39m\u001B[38;5;132;01m{\u001B[39;00mseries\u001B[38;5;241m.\u001B[39mname\u001B[38;5;132;01m}\u001B[39;00m\u001B[38;5;124m] only contains a certain type of data (numerical OR string).\u001B[39m\u001B[38;5;130;01m\\n\u001B[39;00m\u001B[38;5;124m\"\u001B[39m\n\u001B[1;32m     18\u001B[0m                         \u001B[38;5;124mf\u001B[39m\u001B[38;5;124m\"\u001B[39m\u001B[38;5;124mOR -> Convert series [\u001B[39m\u001B[38;5;132;01m{\u001B[39;00mseries\u001B[38;5;241m.\u001B[39mname\u001B[38;5;132;01m}\u001B[39;00m\u001B[38;5;124m] to a string (if makes sense) so it will be picked up as CATEGORICAL or TEXT.\u001B[39m\u001B[38;5;130;01m\\n\u001B[39;00m\u001B[38;5;124m\"\u001B[39m\n\u001B[1;32m     19\u001B[0m                         \u001B[38;5;124mf\u001B[39m\u001B[38;5;124m\"\u001B[39m\u001B[38;5;124m     One way to do this is:\u001B[39m\u001B[38;5;130;01m\\n\u001B[39;00m\u001B[38;5;124m\"\u001B[39m\n\u001B[1;32m     20\u001B[0m                         \u001B[38;5;124mf\u001B[39m\u001B[38;5;124m\"\u001B[39m\u001B[38;5;124m     df[\u001B[39m\u001B[38;5;124m'\u001B[39m\u001B[38;5;132;01m{\u001B[39;00mseries\u001B[38;5;241m.\u001B[39mname\u001B[38;5;132;01m}\u001B[39;00m\u001B[38;5;124m'\u001B[39m\u001B[38;5;124m] = df[\u001B[39m\u001B[38;5;124m'\u001B[39m\u001B[38;5;132;01m{\u001B[39;00mseries\u001B[38;5;241m.\u001B[39mname\u001B[38;5;132;01m}\u001B[39;00m\u001B[38;5;124m'\u001B[39m\u001B[38;5;124m].astype(str)\u001B[39m\u001B[38;5;130;01m\\n\u001B[39;00m\u001B[38;5;124m\"\u001B[39m\n\u001B[1;32m     21\u001B[0m                         \u001B[38;5;124mf\u001B[39m\u001B[38;5;124m\"\u001B[39m\u001B[38;5;124mOR -> Convert series [\u001B[39m\u001B[38;5;132;01m{\u001B[39;00mseries\u001B[38;5;241m.\u001B[39mname\u001B[38;5;132;01m}\u001B[39;00m\u001B[38;5;124m] to a numerical value (if makes sense):\u001B[39m\u001B[38;5;130;01m\\n\u001B[39;00m\u001B[38;5;124m\"\u001B[39m\n\u001B[1;32m     22\u001B[0m                         \u001B[38;5;124mf\u001B[39m\u001B[38;5;124m\"\u001B[39m\u001B[38;5;124m     One way to do this is:\u001B[39m\u001B[38;5;130;01m\\n\u001B[39;00m\u001B[38;5;124m\"\u001B[39m\n\u001B[1;32m     23\u001B[0m                         \u001B[38;5;124mf\u001B[39m\u001B[38;5;124m\"\u001B[39m\u001B[38;5;124m     df[\u001B[39m\u001B[38;5;124m'\u001B[39m\u001B[38;5;132;01m{\u001B[39;00mseries\u001B[38;5;241m.\u001B[39mname\u001B[38;5;132;01m}\u001B[39;00m\u001B[38;5;124m'\u001B[39m\u001B[38;5;124m] = pd.to_numeric(df[\u001B[39m\u001B[38;5;124m'\u001B[39m\u001B[38;5;132;01m{\u001B[39;00mseries\u001B[38;5;241m.\u001B[39mname\u001B[38;5;132;01m}\u001B[39;00m\u001B[38;5;124m'\u001B[39m\u001B[38;5;124m], errors=\u001B[39m\u001B[38;5;124m'\u001B[39m\u001B[38;5;124mcoerce\u001B[39m\u001B[38;5;124m'\u001B[39m\u001B[38;5;124m)\u001B[39m\u001B[38;5;130;01m\\n\u001B[39;00m\u001B[38;5;124m\"\u001B[39m\n\u001B[1;32m     24\u001B[0m                         \u001B[38;5;124mf\u001B[39m\u001B[38;5;124m\"\u001B[39m\u001B[38;5;124m     # (errors=\u001B[39m\u001B[38;5;124m'\u001B[39m\u001B[38;5;124mcoerce\u001B[39m\u001B[38;5;124m'\u001B[39m\u001B[38;5;124m will transform string values to NaN, that can then be replaced if desired;\u001B[39m\u001B[38;5;124m\"\u001B[39m\n\u001B[1;32m     25\u001B[0m                         \u001B[38;5;124mf\u001B[39m\u001B[38;5;124m\"\u001B[39m\u001B[38;5;124m consult Pandas manual pages for more details)\u001B[39m\u001B[38;5;130;01m\\n\u001B[39;00m\u001B[38;5;124m\"\u001B[39m\n\u001B[1;32m     26\u001B[0m                         )\n\u001B[1;32m     28\u001B[0m     \u001B[38;5;28;01mtry\u001B[39;00m:\n\u001B[1;32m     29\u001B[0m         \u001B[38;5;66;03m# TODO: must_be_this_type ENFORCING\u001B[39;00m\n\u001B[1;32m     30\u001B[0m         \u001B[38;5;28;01mif\u001B[39;00m counts[\u001B[38;5;124m\"\u001B[39m\u001B[38;5;124mdistinct_count_without_nan\u001B[39m\u001B[38;5;124m\"\u001B[39m] \u001B[38;5;241m==\u001B[39m \u001B[38;5;241m0\u001B[39m:\n\u001B[1;32m     31\u001B[0m             \u001B[38;5;66;03m# Empty\u001B[39;00m\n",
      "\u001B[0;31mTypeError\u001B[0m: \n\nColumn [VL_TOTAL_HOMOLOGADO] has a 'mixed' inferred_type (as determined by Pandas).\nThis is is not currently supported; column types should not contain mixed data.\ne.g. only floats or strings, but not a combination.\n\nPOSSIBLE RESOLUTIONS:\nBEST -> Make sure series [VL_TOTAL_HOMOLOGADO] only contains a certain type of data (numerical OR string).\nOR -> Convert series [VL_TOTAL_HOMOLOGADO] to a string (if makes sense) so it will be picked up as CATEGORICAL or TEXT.\n     One way to do this is:\n     df['VL_TOTAL_HOMOLOGADO'] = df['VL_TOTAL_HOMOLOGADO'].astype(str)\nOR -> Convert series [VL_TOTAL_HOMOLOGADO] to a numerical value (if makes sense):\n     One way to do this is:\n     df['VL_TOTAL_HOMOLOGADO'] = pd.to_numeric(df['VL_TOTAL_HOMOLOGADO'], errors='coerce')\n     # (errors='coerce' will transform string values to NaN, that can then be replaced if desired; consult Pandas manual pages for more details)\n"
     ]
    }
   ],
   "source": [
    "#itens\n",
    "report_itens = sv.analyze(itens_2016)\n",
    "report_itens.show_html(filepath=f\"{reports_file_path}/itens_report.html\", layout= 'vertical')"
   ]
  },
  {
   "cell_type": "markdown",
   "metadata": {},
   "source": [
    "O erro anterior aponta que na coluna VL_TOTAL_HOMOLOGADO consta uma combinação de tipos de variáveis - float e string\n",
    "Logo, precisa-se explorar o dataframe para identificar o que está acontecendo"
   ]
  },
  {
   "cell_type": "code",
   "execution_count": 86,
   "outputs": [
    {
     "data": {
      "text/plain": "(456368, 32)"
     },
     "execution_count": 86,
     "metadata": {},
     "output_type": "execute_result"
    }
   ],
   "source": [
    "itens_2016.shape # (456368, 32)"
   ],
   "metadata": {
    "collapsed": false
   }
  },
  {
   "cell_type": "code",
   "execution_count": 87,
   "outputs": [
    {
     "name": "stdout",
     "output_type": "stream",
     "text": [
      "<class 'pandas.core.frame.DataFrame'>\n",
      "RangeIndex: 456368 entries, 0 to 456367\n",
      "Data columns (total 32 columns):\n",
      " #   Column                          Non-Null Count   Dtype  \n",
      "---  ------                          --------------   -----  \n",
      " 0   CD_ORGAO                        456368 non-null  int64  \n",
      " 1   NR_LICITACAO                    456368 non-null  float64\n",
      " 2   ANO_LICITACAO                   456368 non-null  int64  \n",
      " 3   CD_TIPO_MODALIDADE              456368 non-null  object \n",
      " 4   NR_LOTE                         456368 non-null  int64  \n",
      " 5   NR_ITEM                         456368 non-null  int64  \n",
      " 6   NR_ITEM_ORIGINAL                456368 non-null  object \n",
      " 7   DS_ITEM                         456368 non-null  object \n",
      " 8   QT_ITENS                        456368 non-null  float64\n",
      " 9   SG_UNIDADE_MEDIDA               456368 non-null  object \n",
      " 10  VL_UNITARIO_ESTIMADO            447196 non-null  float64\n",
      " 11  VL_TOTAL_ESTIMADO               447196 non-null  float64\n",
      " 12  DT_REF_VALOR_ESTIMADO           156403 non-null  object \n",
      " 13  PC_BDI_ESTIMADO                 136442 non-null  float64\n",
      " 14  PC_ENCARGOS_SOCIAIS_ESTIMADO    136529 non-null  float64\n",
      " 15  CD_FONTE_REFERENCIA             55458 non-null   object \n",
      " 16  DS_FONTE_REFERENCIA             66231 non-null   object \n",
      " 17  TP_RESULTADO_ITEM               314530 non-null  object \n",
      " 18  VL_UNITARIO_HOMOLOGADO          372973 non-null  float64\n",
      " 19  VL_TOTAL_HOMOLOGADO             372973 non-null  object \n",
      " 20  PC_BDI_HOMOLOGADO               165367 non-null  float64\n",
      " 21  PC_ENCARGOS_SOCIAIS_HOMOLOGADO  165330 non-null  float64\n",
      " 22  TP_ORCAMENTO                    31305 non-null   object \n",
      " 23  CD_TIPO_FAMILIA                 44928 non-null   float64\n",
      " 24  CD_TIPO_SUBFAMILIA              35832 non-null   float64\n",
      " 25  TP_DOCUMENTO                    353383 non-null  object \n",
      " 26  NR_DOCUMENTO                    353383 non-null  float64\n",
      " 27  TP_DOCUMENTO.1                  16777 non-null   object \n",
      " 28  NR_DOCUMENTO.1                  16777 non-null   object \n",
      " 29  TP_BENEFICIO_MICRO_EPP          334117 non-null  object \n",
      " 30  PC_TX_ESTIMADA                  1 non-null       float64\n",
      " 31  PC_TX_HOMOLOGADA                1 non-null       float64\n",
      "dtypes: float64(14), int64(4), object(14)\n",
      "memory usage: 111.4+ MB\n"
     ]
    }
   ],
   "source": [
    "itens_2016.info()"
   ],
   "metadata": {
    "collapsed": false
   }
  },
  {
   "cell_type": "markdown",
   "source": [
    "A coluna VL_TOTAL_HOMOLOGADO não consta no dicionário de dados apresentado e nem no site da transparência.\n",
    "Irei tratar o dado para verificar o report, mas acredito que não seja um dado relevante para o estudo."
   ],
   "metadata": {
    "collapsed": false
   }
  },
  {
   "cell_type": "code",
   "execution_count": 61,
   "outputs": [
    {
     "data": {
      "text/plain": "        QT_ITENS  VL_UNITARIO_HOMOLOGADO VL_TOTAL_HOMOLOGADO\n0           10.0                1430.000             14300.0\n1            4.0                1258.000              5032.0\n2            6.0                1998.000             11988.0\n3            4.0                2978.000             11912.0\n4            4.0                2500.000             10000.0\n...          ...                     ...                 ...\n456363   10000.0                   0.089               890.0\n456364     300.0                   7.100              2130.0\n456365  100000.0                   0.144             14400.0\n456366   15000.0                   0.620              9300.0\n456367     500.0                   0.450               225.0\n\n[456368 rows x 3 columns]",
      "text/html": "<div>\n<style scoped>\n    .dataframe tbody tr th:only-of-type {\n        vertical-align: middle;\n    }\n\n    .dataframe tbody tr th {\n        vertical-align: top;\n    }\n\n    .dataframe thead th {\n        text-align: right;\n    }\n</style>\n<table border=\"1\" class=\"dataframe\">\n  <thead>\n    <tr style=\"text-align: right;\">\n      <th></th>\n      <th>QT_ITENS</th>\n      <th>VL_UNITARIO_HOMOLOGADO</th>\n      <th>VL_TOTAL_HOMOLOGADO</th>\n    </tr>\n  </thead>\n  <tbody>\n    <tr>\n      <th>0</th>\n      <td>10.0</td>\n      <td>1430.000</td>\n      <td>14300.0</td>\n    </tr>\n    <tr>\n      <th>1</th>\n      <td>4.0</td>\n      <td>1258.000</td>\n      <td>5032.0</td>\n    </tr>\n    <tr>\n      <th>2</th>\n      <td>6.0</td>\n      <td>1998.000</td>\n      <td>11988.0</td>\n    </tr>\n    <tr>\n      <th>3</th>\n      <td>4.0</td>\n      <td>2978.000</td>\n      <td>11912.0</td>\n    </tr>\n    <tr>\n      <th>4</th>\n      <td>4.0</td>\n      <td>2500.000</td>\n      <td>10000.0</td>\n    </tr>\n    <tr>\n      <th>...</th>\n      <td>...</td>\n      <td>...</td>\n      <td>...</td>\n    </tr>\n    <tr>\n      <th>456363</th>\n      <td>10000.0</td>\n      <td>0.089</td>\n      <td>890.0</td>\n    </tr>\n    <tr>\n      <th>456364</th>\n      <td>300.0</td>\n      <td>7.100</td>\n      <td>2130.0</td>\n    </tr>\n    <tr>\n      <th>456365</th>\n      <td>100000.0</td>\n      <td>0.144</td>\n      <td>14400.0</td>\n    </tr>\n    <tr>\n      <th>456366</th>\n      <td>15000.0</td>\n      <td>0.620</td>\n      <td>9300.0</td>\n    </tr>\n    <tr>\n      <th>456367</th>\n      <td>500.0</td>\n      <td>0.450</td>\n      <td>225.0</td>\n    </tr>\n  </tbody>\n</table>\n<p>456368 rows × 3 columns</p>\n</div>"
     },
     "execution_count": 61,
     "metadata": {},
     "output_type": "execute_result"
    }
   ],
   "source": [
    "itens_2016[['QT_ITENS','VL_UNITARIO_HOMOLOGADO', 'VL_TOTAL_HOMOLOGADO']]"
   ],
   "metadata": {
    "collapsed": false
   }
  },
  {
   "cell_type": "markdown",
   "source": [],
   "metadata": {
    "collapsed": false
   }
  },
  {
   "cell_type": "code",
   "execution_count": 5,
   "outputs": [
    {
     "data": {
      "text/plain": "VL_UNITARIO_HOMOLOGADO    83395\nVL_TOTAL_HOMOLOGADO       83395\ndtype: int64"
     },
     "execution_count": 5,
     "metadata": {},
     "output_type": "execute_result"
    }
   ],
   "source": [
    "itens_2016[['VL_UNITARIO_HOMOLOGADO','VL_TOTAL_HOMOLOGADO']].isnull().sum()"
   ],
   "metadata": {
    "collapsed": false
   }
  },
  {
   "cell_type": "code",
   "execution_count": 6,
   "outputs": [
    {
     "data": {
      "text/plain": "456368"
     },
     "execution_count": 6,
     "metadata": {},
     "output_type": "execute_result"
    }
   ],
   "source": [
    "372973 + 83395\n",
    "# A soma dos valores nulos e não nulos é igual ao número de linhas do dataset"
   ],
   "metadata": {
    "collapsed": false
   }
  },
  {
   "cell_type": "markdown",
   "source": [
    "Então, vou tratar os valores nulos e qualquer outro problema que possa existir para gerar o report"
   ],
   "metadata": {
    "collapsed": false
   }
  },
  {
   "cell_type": "code",
   "execution_count": 7,
   "outputs": [],
   "source": [
    "# Tratando possíveis problemas com os valores em reais\n",
    "itens_2016['VL_TOTAL_HOMOLOGADO'] = itens_2016['VL_TOTAL_HOMOLOGADO'].str.replace(',','.')\n",
    "itens_2016['VL_TOTAL_HOMOLOGADO'] = itens_2016['VL_TOTAL_HOMOLOGADO'].str.replace('R$','')"
   ],
   "metadata": {
    "collapsed": false
   }
  },
  {
   "cell_type": "code",
   "execution_count": 8,
   "outputs": [],
   "source": [
    "# Forçando a conversão para float\n",
    "itens_2016['VL_TOTAL_HOMOLOGADO'] = pd.to_numeric(itens_2016['VL_TOTAL_HOMOLOGADO'], errors='coerce')"
   ],
   "metadata": {
    "collapsed": false
   }
  },
  {
   "cell_type": "code",
   "execution_count": 9,
   "outputs": [],
   "source": [
    "# Preenchendo os valores nulos com 0\n",
    "itens_2016[['VL_UNITARIO_HOMOLOGADO','VL_TOTAL_HOMOLOGADO']] = itens_2016[['VL_UNITARIO_HOMOLOGADO','VL_TOTAL_HOMOLOGADO']].fillna(0)"
   ],
   "metadata": {
    "collapsed": false
   }
  },
  {
   "cell_type": "code",
   "execution_count": 10,
   "outputs": [
    {
     "data": {
      "text/plain": "VL_UNITARIO_HOMOLOGADO    0\nVL_TOTAL_HOMOLOGADO       0\ndtype: int64"
     },
     "execution_count": 10,
     "metadata": {},
     "output_type": "execute_result"
    }
   ],
   "source": [
    "# Checando se ainda há valores nulos\n",
    "itens_2016[['VL_UNITARIO_HOMOLOGADO','VL_TOTAL_HOMOLOGADO']].isnull().sum()"
   ],
   "metadata": {
    "collapsed": false
   }
  },
  {
   "cell_type": "markdown",
   "source": [
    "Agora, consigo converter os valores para float"
   ],
   "metadata": {
    "collapsed": false
   }
  },
  {
   "cell_type": "code",
   "execution_count": 11,
   "outputs": [],
   "source": [
    "# this converts the values to float\n",
    "itens_2016['VL_TOTAL_HOMOLOGADO'] = itens_2016['VL_TOTAL_HOMOLOGADO'].astype(float)"
   ],
   "metadata": {
    "collapsed": false
   }
  },
  {
   "cell_type": "markdown",
   "source": [
    "E, finalmente, gerar o report"
   ],
   "metadata": {
    "collapsed": false
   }
  },
  {
   "cell_type": "code",
   "execution_count": 12,
   "outputs": [
    {
     "data": {
      "text/plain": "                                             |          | [  0%]   00:00 -> (? left)",
      "application/vnd.jupyter.widget-view+json": {
       "version_major": 2,
       "version_minor": 0,
       "model_id": "681c5ead49a647cfbb43c89aacb04ec5"
      }
     },
     "metadata": {},
     "output_type": "display_data"
    },
    {
     "ename": "TypeError",
     "evalue": "\n\nColumn [NR_DOCUMENTO.1] has a 'mixed' inferred_type (as determined by Pandas).\nThis is is not currently supported; column types should not contain mixed data.\ne.g. only floats or strings, but not a combination.\n\nPOSSIBLE RESOLUTIONS:\nBEST -> Make sure series [NR_DOCUMENTO.1] only contains a certain type of data (numerical OR string).\nOR -> Convert series [NR_DOCUMENTO.1] to a string (if makes sense) so it will be picked up as CATEGORICAL or TEXT.\n     One way to do this is:\n     df['NR_DOCUMENTO.1'] = df['NR_DOCUMENTO.1'].astype(str)\nOR -> Convert series [NR_DOCUMENTO.1] to a numerical value (if makes sense):\n     One way to do this is:\n     df['NR_DOCUMENTO.1'] = pd.to_numeric(df['NR_DOCUMENTO.1'], errors='coerce')\n     # (errors='coerce' will transform string values to NaN, that can then be replaced if desired; consult Pandas manual pages for more details)\n",
     "output_type": "error",
     "traceback": [
      "\u001B[0;31m---------------------------------------------------------------------------\u001B[0m",
      "\u001B[0;31mTypeError\u001B[0m                                 Traceback (most recent call last)",
      "Cell \u001B[0;32mIn[12], line 2\u001B[0m\n\u001B[1;32m      1\u001B[0m \u001B[38;5;66;03m#itens\u001B[39;00m\n\u001B[0;32m----> 2\u001B[0m report_itens \u001B[38;5;241m=\u001B[39m \u001B[43msv\u001B[49m\u001B[38;5;241;43m.\u001B[39;49m\u001B[43manalyze\u001B[49m\u001B[43m(\u001B[49m\u001B[43mitens_2016\u001B[49m\u001B[43m)\u001B[49m\n\u001B[1;32m      3\u001B[0m report_itens\u001B[38;5;241m.\u001B[39mshow_html(filepath\u001B[38;5;241m=\u001B[39m\u001B[38;5;124mf\u001B[39m\u001B[38;5;124m\"\u001B[39m\u001B[38;5;132;01m{\u001B[39;00mreports_file_path\u001B[38;5;132;01m}\u001B[39;00m\u001B[38;5;124m/itens_report.html\u001B[39m\u001B[38;5;124m\"\u001B[39m, layout\u001B[38;5;241m=\u001B[39m \u001B[38;5;124m'\u001B[39m\u001B[38;5;124mwidescreen\u001B[39m\u001B[38;5;124m'\u001B[39m)\n",
      "File \u001B[0;32m~/anaconda3/envs/dsb/lib/python3.9/site-packages/sweetviz/sv_public.py:12\u001B[0m, in \u001B[0;36manalyze\u001B[0;34m(source, target_feat, feat_cfg, pairwise_analysis)\u001B[0m\n\u001B[1;32m      8\u001B[0m \u001B[38;5;28;01mdef\u001B[39;00m \u001B[38;5;21manalyze\u001B[39m(source: Union[pd\u001B[38;5;241m.\u001B[39mDataFrame, Tuple[pd\u001B[38;5;241m.\u001B[39mDataFrame, \u001B[38;5;28mstr\u001B[39m]],\n\u001B[1;32m      9\u001B[0m             target_feat: \u001B[38;5;28mstr\u001B[39m \u001B[38;5;241m=\u001B[39m \u001B[38;5;28;01mNone\u001B[39;00m,\n\u001B[1;32m     10\u001B[0m             feat_cfg: FeatureConfig \u001B[38;5;241m=\u001B[39m \u001B[38;5;28;01mNone\u001B[39;00m,\n\u001B[1;32m     11\u001B[0m             pairwise_analysis: \u001B[38;5;28mstr\u001B[39m \u001B[38;5;241m=\u001B[39m \u001B[38;5;124m'\u001B[39m\u001B[38;5;124mauto\u001B[39m\u001B[38;5;124m'\u001B[39m):\n\u001B[0;32m---> 12\u001B[0m     report \u001B[38;5;241m=\u001B[39m \u001B[43msweetviz\u001B[49m\u001B[38;5;241;43m.\u001B[39;49m\u001B[43mDataframeReport\u001B[49m\u001B[43m(\u001B[49m\u001B[43msource\u001B[49m\u001B[43m,\u001B[49m\u001B[43m \u001B[49m\u001B[43mtarget_feat\u001B[49m\u001B[43m,\u001B[49m\u001B[43m \u001B[49m\u001B[38;5;28;43;01mNone\u001B[39;49;00m\u001B[43m,\u001B[49m\n\u001B[1;32m     13\u001B[0m \u001B[43m                                      \u001B[49m\u001B[43mpairwise_analysis\u001B[49m\u001B[43m,\u001B[49m\u001B[43m \u001B[49m\u001B[43mfeat_cfg\u001B[49m\u001B[43m)\u001B[49m\n\u001B[1;32m     14\u001B[0m     \u001B[38;5;28;01mreturn\u001B[39;00m report\n",
      "File \u001B[0;32m~/anaconda3/envs/dsb/lib/python3.9/site-packages/sweetviz/dataframe_report.py:256\u001B[0m, in \u001B[0;36mDataframeReport.__init__\u001B[0;34m(self, source, target_feature_name, compare, pairwise_analysis, fc)\u001B[0m\n\u001B[1;32m    253\u001B[0m \u001B[38;5;28;01mfor\u001B[39;00m f \u001B[38;5;129;01min\u001B[39;00m features_to_process:\n\u001B[1;32m    254\u001B[0m     \u001B[38;5;66;03m# start = time.perf_counter()\u001B[39;00m\n\u001B[1;32m    255\u001B[0m     \u001B[38;5;28mself\u001B[39m\u001B[38;5;241m.\u001B[39mprogress_bar\u001B[38;5;241m.\u001B[39mset_description_str(\u001B[38;5;124mf\u001B[39m\u001B[38;5;124m\"\u001B[39m\u001B[38;5;124mFeature: \u001B[39m\u001B[38;5;132;01m{\u001B[39;00mf\u001B[38;5;241m.\u001B[39msource\u001B[38;5;241m.\u001B[39mname\u001B[38;5;132;01m}\u001B[39;00m\u001B[38;5;124m\"\u001B[39m)\n\u001B[0;32m--> 256\u001B[0m     \u001B[38;5;28mself\u001B[39m\u001B[38;5;241m.\u001B[39m_features[f\u001B[38;5;241m.\u001B[39msource\u001B[38;5;241m.\u001B[39mname] \u001B[38;5;241m=\u001B[39m \u001B[43msa\u001B[49m\u001B[38;5;241;43m.\u001B[39;49m\u001B[43manalyze_feature_to_dictionary\u001B[49m\u001B[43m(\u001B[49m\u001B[43mf\u001B[49m\u001B[43m)\u001B[49m\n\u001B[1;32m    257\u001B[0m     \u001B[38;5;28mself\u001B[39m\u001B[38;5;241m.\u001B[39mprogress_bar\u001B[38;5;241m.\u001B[39mupdate(\u001B[38;5;241m1\u001B[39m)\n\u001B[1;32m    258\u001B[0m     \u001B[38;5;66;03m# print(f\"DONE FEATURE------> {f.source.name}\"\u001B[39;00m\n\u001B[1;32m    259\u001B[0m     \u001B[38;5;66;03m#       f\" {(time.perf_counter() - start):.2f}   {self._features[f.source.name]['type']}\")\u001B[39;00m\n\u001B[1;32m    260\u001B[0m \u001B[38;5;66;03m# self.progress_bar.set_description_str('[FEATURES DONE]')\u001B[39;00m\n\u001B[1;32m    261\u001B[0m \u001B[38;5;66;03m# self.progress_bar.close()\u001B[39;00m\n\u001B[1;32m    262\u001B[0m \n\u001B[1;32m    263\u001B[0m \u001B[38;5;66;03m# Wrap up summary\u001B[39;00m\n",
      "File \u001B[0;32m~/anaconda3/envs/dsb/lib/python3.9/site-packages/sweetviz/series_analyzer.py:93\u001B[0m, in \u001B[0;36manalyze_feature_to_dictionary\u001B[0;34m(to_process)\u001B[0m\n\u001B[1;32m     91\u001B[0m \u001B[38;5;66;03m# Determine SOURCE feature type\u001B[39;00m\n\u001B[1;32m     92\u001B[0m to_process\u001B[38;5;241m.\u001B[39msource_counts \u001B[38;5;241m=\u001B[39m get_counts(to_process\u001B[38;5;241m.\u001B[39msource)\n\u001B[0;32m---> 93\u001B[0m returned_feature_dict[\u001B[38;5;124m\"\u001B[39m\u001B[38;5;124mtype\u001B[39m\u001B[38;5;124m\"\u001B[39m] \u001B[38;5;241m=\u001B[39m \u001B[43mdetermine_feature_type\u001B[49m\u001B[43m(\u001B[49m\u001B[43mto_process\u001B[49m\u001B[38;5;241;43m.\u001B[39;49m\u001B[43msource\u001B[49m\u001B[43m,\u001B[49m\u001B[43m \u001B[49m\u001B[43mto_process\u001B[49m\u001B[38;5;241;43m.\u001B[39;49m\u001B[43msource_counts\u001B[49m\u001B[43m,\u001B[49m\n\u001B[1;32m     94\u001B[0m \u001B[43m                                                       \u001B[49m\u001B[43mto_process\u001B[49m\u001B[38;5;241;43m.\u001B[39;49m\u001B[43mpredetermined_type\u001B[49m\u001B[43m,\u001B[49m\u001B[43m \u001B[49m\u001B[38;5;124;43m\"\u001B[39;49m\u001B[38;5;124;43mSOURCE\u001B[39;49m\u001B[38;5;124;43m\"\u001B[39;49m\u001B[43m)\u001B[49m\n\u001B[1;32m     95\u001B[0m source_type \u001B[38;5;241m=\u001B[39m returned_feature_dict[\u001B[38;5;124m\"\u001B[39m\u001B[38;5;124mtype\u001B[39m\u001B[38;5;124m\"\u001B[39m]\n\u001B[1;32m     97\u001B[0m \u001B[38;5;66;03m# Determine COMPARED feature type & initialize\u001B[39;00m\n",
      "File \u001B[0;32m~/anaconda3/envs/dsb/lib/python3.9/site-packages/sweetviz/type_detection.py:13\u001B[0m, in \u001B[0;36mdetermine_feature_type\u001B[0;34m(series, counts, must_be_this_type, which_dataframe)\u001B[0m\n\u001B[1;32m      6\u001B[0m \u001B[38;5;28;01mdef\u001B[39;00m \u001B[38;5;21mdetermine_feature_type\u001B[39m(series: pd\u001B[38;5;241m.\u001B[39mSeries, counts: \u001B[38;5;28mdict\u001B[39m,\n\u001B[1;32m      7\u001B[0m         must_be_this_type: FeatureType, which_dataframe: \u001B[38;5;28mstr\u001B[39m) \u001B[38;5;241m-\u001B[39m\u001B[38;5;241m>\u001B[39m \u001B[38;5;28mobject\u001B[39m:\n\u001B[1;32m      8\u001B[0m     \u001B[38;5;66;03m# Replace infinite values with NaNs to avoid issues with histograms\u001B[39;00m\n\u001B[1;32m      9\u001B[0m     \u001B[38;5;66;03m# TODO: INFINITE VALUE HANDLING/WARNING\u001B[39;00m\n\u001B[1;32m     10\u001B[0m     \u001B[38;5;66;03m# series.replace(to_replace=[np.inf, np.NINF, np.PINF], value=np.nan,\u001B[39;00m\n\u001B[1;32m     11\u001B[0m     \u001B[38;5;66;03m#                inplace=True)\u001B[39;00m\n\u001B[1;32m     12\u001B[0m     \u001B[38;5;28;01mif\u001B[39;00m counts[\u001B[38;5;124m\"\u001B[39m\u001B[38;5;124mvalue_counts_without_nan\u001B[39m\u001B[38;5;124m\"\u001B[39m]\u001B[38;5;241m.\u001B[39mindex\u001B[38;5;241m.\u001B[39minferred_type\u001B[38;5;241m.\u001B[39mstartswith(\u001B[38;5;124m\"\u001B[39m\u001B[38;5;124mmixed\u001B[39m\u001B[38;5;124m\"\u001B[39m):\n\u001B[0;32m---> 13\u001B[0m         \u001B[38;5;28;01mraise\u001B[39;00m \u001B[38;5;167;01mTypeError\u001B[39;00m(\u001B[38;5;124mf\u001B[39m\u001B[38;5;124m\"\u001B[39m\u001B[38;5;130;01m\\n\u001B[39;00m\u001B[38;5;130;01m\\n\u001B[39;00m\u001B[38;5;124mColumn [\u001B[39m\u001B[38;5;132;01m{\u001B[39;00mseries\u001B[38;5;241m.\u001B[39mname\u001B[38;5;132;01m}\u001B[39;00m\u001B[38;5;124m] has a \u001B[39m\u001B[38;5;124m'\u001B[39m\u001B[38;5;124mmixed\u001B[39m\u001B[38;5;124m'\u001B[39m\u001B[38;5;124m inferred_type (as determined by Pandas).\u001B[39m\u001B[38;5;130;01m\\n\u001B[39;00m\u001B[38;5;124m\"\u001B[39m\n\u001B[1;32m     14\u001B[0m                         \u001B[38;5;124mf\u001B[39m\u001B[38;5;124m\"\u001B[39m\u001B[38;5;124mThis is is not currently supported; column types should not contain mixed data.\u001B[39m\u001B[38;5;130;01m\\n\u001B[39;00m\u001B[38;5;124m\"\u001B[39m\n\u001B[1;32m     15\u001B[0m                         \u001B[38;5;124mf\u001B[39m\u001B[38;5;124m\"\u001B[39m\u001B[38;5;124me.g. only floats or strings, but not a combination.\u001B[39m\u001B[38;5;130;01m\\n\u001B[39;00m\u001B[38;5;130;01m\\n\u001B[39;00m\u001B[38;5;124m\"\u001B[39m\n\u001B[1;32m     16\u001B[0m                         \u001B[38;5;124mf\u001B[39m\u001B[38;5;124m\"\u001B[39m\u001B[38;5;124mPOSSIBLE RESOLUTIONS:\u001B[39m\u001B[38;5;130;01m\\n\u001B[39;00m\u001B[38;5;124m\"\u001B[39m\n\u001B[1;32m     17\u001B[0m                         \u001B[38;5;124mf\u001B[39m\u001B[38;5;124m\"\u001B[39m\u001B[38;5;124mBEST -> Make sure series [\u001B[39m\u001B[38;5;132;01m{\u001B[39;00mseries\u001B[38;5;241m.\u001B[39mname\u001B[38;5;132;01m}\u001B[39;00m\u001B[38;5;124m] only contains a certain type of data (numerical OR string).\u001B[39m\u001B[38;5;130;01m\\n\u001B[39;00m\u001B[38;5;124m\"\u001B[39m\n\u001B[1;32m     18\u001B[0m                         \u001B[38;5;124mf\u001B[39m\u001B[38;5;124m\"\u001B[39m\u001B[38;5;124mOR -> Convert series [\u001B[39m\u001B[38;5;132;01m{\u001B[39;00mseries\u001B[38;5;241m.\u001B[39mname\u001B[38;5;132;01m}\u001B[39;00m\u001B[38;5;124m] to a string (if makes sense) so it will be picked up as CATEGORICAL or TEXT.\u001B[39m\u001B[38;5;130;01m\\n\u001B[39;00m\u001B[38;5;124m\"\u001B[39m\n\u001B[1;32m     19\u001B[0m                         \u001B[38;5;124mf\u001B[39m\u001B[38;5;124m\"\u001B[39m\u001B[38;5;124m     One way to do this is:\u001B[39m\u001B[38;5;130;01m\\n\u001B[39;00m\u001B[38;5;124m\"\u001B[39m\n\u001B[1;32m     20\u001B[0m                         \u001B[38;5;124mf\u001B[39m\u001B[38;5;124m\"\u001B[39m\u001B[38;5;124m     df[\u001B[39m\u001B[38;5;124m'\u001B[39m\u001B[38;5;132;01m{\u001B[39;00mseries\u001B[38;5;241m.\u001B[39mname\u001B[38;5;132;01m}\u001B[39;00m\u001B[38;5;124m'\u001B[39m\u001B[38;5;124m] = df[\u001B[39m\u001B[38;5;124m'\u001B[39m\u001B[38;5;132;01m{\u001B[39;00mseries\u001B[38;5;241m.\u001B[39mname\u001B[38;5;132;01m}\u001B[39;00m\u001B[38;5;124m'\u001B[39m\u001B[38;5;124m].astype(str)\u001B[39m\u001B[38;5;130;01m\\n\u001B[39;00m\u001B[38;5;124m\"\u001B[39m\n\u001B[1;32m     21\u001B[0m                         \u001B[38;5;124mf\u001B[39m\u001B[38;5;124m\"\u001B[39m\u001B[38;5;124mOR -> Convert series [\u001B[39m\u001B[38;5;132;01m{\u001B[39;00mseries\u001B[38;5;241m.\u001B[39mname\u001B[38;5;132;01m}\u001B[39;00m\u001B[38;5;124m] to a numerical value (if makes sense):\u001B[39m\u001B[38;5;130;01m\\n\u001B[39;00m\u001B[38;5;124m\"\u001B[39m\n\u001B[1;32m     22\u001B[0m                         \u001B[38;5;124mf\u001B[39m\u001B[38;5;124m\"\u001B[39m\u001B[38;5;124m     One way to do this is:\u001B[39m\u001B[38;5;130;01m\\n\u001B[39;00m\u001B[38;5;124m\"\u001B[39m\n\u001B[1;32m     23\u001B[0m                         \u001B[38;5;124mf\u001B[39m\u001B[38;5;124m\"\u001B[39m\u001B[38;5;124m     df[\u001B[39m\u001B[38;5;124m'\u001B[39m\u001B[38;5;132;01m{\u001B[39;00mseries\u001B[38;5;241m.\u001B[39mname\u001B[38;5;132;01m}\u001B[39;00m\u001B[38;5;124m'\u001B[39m\u001B[38;5;124m] = pd.to_numeric(df[\u001B[39m\u001B[38;5;124m'\u001B[39m\u001B[38;5;132;01m{\u001B[39;00mseries\u001B[38;5;241m.\u001B[39mname\u001B[38;5;132;01m}\u001B[39;00m\u001B[38;5;124m'\u001B[39m\u001B[38;5;124m], errors=\u001B[39m\u001B[38;5;124m'\u001B[39m\u001B[38;5;124mcoerce\u001B[39m\u001B[38;5;124m'\u001B[39m\u001B[38;5;124m)\u001B[39m\u001B[38;5;130;01m\\n\u001B[39;00m\u001B[38;5;124m\"\u001B[39m\n\u001B[1;32m     24\u001B[0m                         \u001B[38;5;124mf\u001B[39m\u001B[38;5;124m\"\u001B[39m\u001B[38;5;124m     # (errors=\u001B[39m\u001B[38;5;124m'\u001B[39m\u001B[38;5;124mcoerce\u001B[39m\u001B[38;5;124m'\u001B[39m\u001B[38;5;124m will transform string values to NaN, that can then be replaced if desired;\u001B[39m\u001B[38;5;124m\"\u001B[39m\n\u001B[1;32m     25\u001B[0m                         \u001B[38;5;124mf\u001B[39m\u001B[38;5;124m\"\u001B[39m\u001B[38;5;124m consult Pandas manual pages for more details)\u001B[39m\u001B[38;5;130;01m\\n\u001B[39;00m\u001B[38;5;124m\"\u001B[39m\n\u001B[1;32m     26\u001B[0m                         )\n\u001B[1;32m     28\u001B[0m     \u001B[38;5;28;01mtry\u001B[39;00m:\n\u001B[1;32m     29\u001B[0m         \u001B[38;5;66;03m# TODO: must_be_this_type ENFORCING\u001B[39;00m\n\u001B[1;32m     30\u001B[0m         \u001B[38;5;28;01mif\u001B[39;00m counts[\u001B[38;5;124m\"\u001B[39m\u001B[38;5;124mdistinct_count_without_nan\u001B[39m\u001B[38;5;124m\"\u001B[39m] \u001B[38;5;241m==\u001B[39m \u001B[38;5;241m0\u001B[39m:\n\u001B[1;32m     31\u001B[0m             \u001B[38;5;66;03m# Empty\u001B[39;00m\n",
      "\u001B[0;31mTypeError\u001B[0m: \n\nColumn [NR_DOCUMENTO.1] has a 'mixed' inferred_type (as determined by Pandas).\nThis is is not currently supported; column types should not contain mixed data.\ne.g. only floats or strings, but not a combination.\n\nPOSSIBLE RESOLUTIONS:\nBEST -> Make sure series [NR_DOCUMENTO.1] only contains a certain type of data (numerical OR string).\nOR -> Convert series [NR_DOCUMENTO.1] to a string (if makes sense) so it will be picked up as CATEGORICAL or TEXT.\n     One way to do this is:\n     df['NR_DOCUMENTO.1'] = df['NR_DOCUMENTO.1'].astype(str)\nOR -> Convert series [NR_DOCUMENTO.1] to a numerical value (if makes sense):\n     One way to do this is:\n     df['NR_DOCUMENTO.1'] = pd.to_numeric(df['NR_DOCUMENTO.1'], errors='coerce')\n     # (errors='coerce' will transform string values to NaN, that can then be replaced if desired; consult Pandas manual pages for more details)\n"
     ]
    }
   ],
   "source": [
    "#itens\n",
    "report_itens = sv.analyze(itens_2016)\n",
    "report_itens.show_html(filepath=f\"{reports_file_path}/itens_report.html\", layout= 'widescreen')"
   ],
   "metadata": {
    "collapsed": false
   }
  },
  {
   "cell_type": "markdown",
   "source": [
    "Levando em conta que a coluna apresentada no erro anterior também não está no dicionário de dados, vou ignorá-la em conjunto com qualquer outra para gerar o report"
   ],
   "metadata": {
    "collapsed": false
   }
  },
  {
   "cell_type": "code",
   "execution_count": 94,
   "outputs": [
    {
     "data": {
      "text/plain": "                                             |          | [  0%]   00:00 -> (? left)",
      "application/vnd.jupyter.widget-view+json": {
       "version_major": 2,
       "version_minor": 0,
       "model_id": "8207d95013ec41a290f5f9c27b3da8d0"
      }
     },
     "metadata": {},
     "output_type": "display_data"
    },
    {
     "name": "stdout",
     "output_type": "stream",
     "text": [
      "Report /home/vlgi/Área de Trabalho/meus_projetos/dsb/dsb/notebooks/../reports/2016/itens_report.html was generated! NOTEBOOK/COLAB USERS: the web browser MAY not pop up, regardless, the report IS saved in your notebook/colab files.\n"
     ]
    }
   ],
   "source": [
    "#itens\n",
    "report_itens = sv.analyze(itens_2016.drop(columns=['NR_DOCUMENTO.1']))\n",
    "report_itens.show_html(filepath=f\"{reports_file_path}/itens_report.html\", layout= 'vertical')"
   ],
   "metadata": {
    "collapsed": false
   }
  },
  {
   "cell_type": "markdown",
   "source": [
    "Por meio dos reports, é possível fazer um diagnóstico inicial do dataset e identificar possíveis respostas para as perguntas de negócio."
   ],
   "metadata": {
    "collapsed": false
   }
  },
  {
   "cell_type": "markdown",
   "source": [
    "Agora, iremos começar pelas bases recomendadas e depois tentar relacionar com as demais com o objetivo de adquirir mais informações\n",
    "e por fim responder às perguntas de negócio."
   ],
   "metadata": {
    "collapsed": false
   }
  },
  {
   "cell_type": "code",
   "execution_count": 38,
   "outputs": [
    {
     "data": {
      "text/plain": "AQUISIÇÃO DE MEDICAMENTOS                                                                                                                                                                                                                                                                                            36\nAquisição de medicamentos                                                                                                                                                                                                                                                                                            24\nAquisição de material hospitalar                                                                                                                                                                                                                                                                                     23\nAquisição de Medicamentos                                                                                                                                                                                                                                                                                            22\nAquisição de gêneros alimentícios da agricultura familiar para alimentação escolar, no âmbito do Programa Nacional de Alimentação Escolar - PNAE, com dispensa de licitação, Lei n.º 11.947, de 16/06/2009, Resolução FNDE/MEC n.º 26, de 17 de junho de 2013 e Resolução FNDE/MEC n° 04, de 02 de abril de 2015.    20\n                                                                                                                                                                                                                                                                                                                     ..\nAquisição parcelada de gás liquefeito de petróleo (GLP), pelo período de doze meses                                                                                                                                                                                                                                   1\nAquisição de brinquedos e materiais de uso coletivo para EMEI Beija-Flor.                                                                                                                                                                                                                                             1\nAquisição de placas com avisos sobre Segurança do Trabalho                                                                                                                                                                                                                                                            1\nAquisição de materiais pedagógicos para as Escolas Municipais                                                                                                                                                                                                                                                         1\nAquisição de Material de Expediente para o DEPARTAMENTO DE AGUA E  ESGOTOS DE BAGÉ - DAEB                                                                                                                                                                                                                             1\nName: DS_OBJETO, Length: 8079, dtype: int64"
     },
     "execution_count": 38,
     "metadata": {},
     "output_type": "execute_result"
    }
   ],
   "source": [
    "# licitacoes filtradas pelo tipo de objeto - compra\n",
    "filtro = licitacoes_2016['TP_OBJETO'].str.match('com',case = False) & licitacoes_2016['DS_OBJETO'].str.contains('aquisição', case = False)\n",
    "licitacoes_2016[filtro]['DS_OBJETO'].value_counts()"
   ],
   "metadata": {
    "collapsed": false
   }
  },
  {
   "cell_type": "code",
   "execution_count": 17,
   "outputs": [
    {
     "data": {
      "text/plain": "        CD_ORGAO  NR_LICITACAO  ANO_LICITACAO CD_TIPO_MODALIDADE  NR_LOTE  \\\n0          77200          15.0           2016                PRP        1   \n1          77200          15.0           2016                PRP        1   \n2          77200          15.0           2016                PRP        1   \n3          77200          15.0           2016                PRP        1   \n4          77200          15.0           2016                PRP        1   \n...          ...           ...            ...                ...      ...   \n456363     78900          13.0           2016                PRP        1   \n456364     78900          13.0           2016                PRP        1   \n456365     78900          13.0           2016                PRP        1   \n456366     78900          13.0           2016                PRP        1   \n456367     78900          13.0           2016                PRP        1   \n\n        NR_ITEM NR_ITEM_ORIGINAL  \\\n0             2                2   \n1             4                4   \n2             7                7   \n3             8                8   \n4            12               12   \n...         ...              ...   \n456363      154              154   \n456364      156              156   \n456365      158              158   \n456366      167              167   \n456367      171              171   \n\n                                                  DS_ITEM  QT_ITENS  \\\n0       Pneu 1000/20 liso radial, dianteiro, 16 lonas,...      10.0   \n1                      Pneu 12.4x24 garra baixa, 10 lonas       4.0   \n2                            Pneu 1400x24 mínimo 12 lonas       6.0   \n3       Pneu 17.5x25 12 lonas, capacidade mínima de ca...       4.0   \n4               Pneu 18.4x30 garra baixa, mínimo 10 lonas       4.0   \n...                                                   ...       ...   \n456363                                   Ranitidina 150mg   10000.0   \n456364           Salbutamol 100mcg/dose aerosol 200 doses     300.0   \n456365                                  Sinvastatina 40mg  100000.0   \n456366                          Valproato de Sódio 500 mg   15000.0   \n456367                                   Risperidona 1 mg     500.0   \n\n       SG_UNIDADE_MEDIDA  ...  TP_ORCAMENTO  CD_TIPO_FAMILIA  \\\n0                     UN  ...             M            745.0   \n1                     UN  ...             M            745.0   \n2                     UN  ...             M            745.0   \n3                     UN  ...             M            745.0   \n4                     UN  ...             M            745.0   \n...                  ...  ...           ...              ...   \n456363               COM  ...           NaN              NaN   \n456364                FR  ...           NaN              NaN   \n456365               COM  ...           NaN              NaN   \n456366               COM  ...           NaN              NaN   \n456367               COM  ...           NaN              NaN   \n\n       CD_TIPO_SUBFAMILIA  TP_DOCUMENTO  NR_DOCUMENTO TP_DOCUMENTO.1  \\\n0                   632.0             J  8.774832e+12            NaN   \n1                   632.0             J  8.774832e+12            NaN   \n2                   632.0             J  8.774832e+12            NaN   \n3                   632.0             J  8.774832e+12            NaN   \n4                   632.0             J  8.774832e+12            NaN   \n...                   ...           ...           ...            ...   \n456363                NaN             J  5.782733e+12            NaN   \n456364                NaN             J  5.782733e+12            NaN   \n456365                NaN             J  5.782733e+12            NaN   \n456366                NaN             J  5.782733e+12            NaN   \n456367                NaN             J  5.782733e+12            NaN   \n\n       NR_DOCUMENTO.1 TP_BENEFICIO_MICRO_EPP  PC_TX_ESTIMADA PC_TX_HOMOLOGADA  \n0                 NaN                      L             NaN              NaN  \n1                 NaN                      L             NaN              NaN  \n2                 NaN                      L             NaN              NaN  \n3                 NaN                      L             NaN              NaN  \n4                 NaN                      L             NaN              NaN  \n...               ...                    ...             ...              ...  \n456363            NaN                      N             NaN              NaN  \n456364            NaN                      N             NaN              NaN  \n456365            NaN                      N             NaN              NaN  \n456366            NaN                      N             NaN              NaN  \n456367            NaN                      N             NaN              NaN  \n\n[456368 rows x 32 columns]",
      "text/html": "<div>\n<style scoped>\n    .dataframe tbody tr th:only-of-type {\n        vertical-align: middle;\n    }\n\n    .dataframe tbody tr th {\n        vertical-align: top;\n    }\n\n    .dataframe thead th {\n        text-align: right;\n    }\n</style>\n<table border=\"1\" class=\"dataframe\">\n  <thead>\n    <tr style=\"text-align: right;\">\n      <th></th>\n      <th>CD_ORGAO</th>\n      <th>NR_LICITACAO</th>\n      <th>ANO_LICITACAO</th>\n      <th>CD_TIPO_MODALIDADE</th>\n      <th>NR_LOTE</th>\n      <th>NR_ITEM</th>\n      <th>NR_ITEM_ORIGINAL</th>\n      <th>DS_ITEM</th>\n      <th>QT_ITENS</th>\n      <th>SG_UNIDADE_MEDIDA</th>\n      <th>...</th>\n      <th>TP_ORCAMENTO</th>\n      <th>CD_TIPO_FAMILIA</th>\n      <th>CD_TIPO_SUBFAMILIA</th>\n      <th>TP_DOCUMENTO</th>\n      <th>NR_DOCUMENTO</th>\n      <th>TP_DOCUMENTO.1</th>\n      <th>NR_DOCUMENTO.1</th>\n      <th>TP_BENEFICIO_MICRO_EPP</th>\n      <th>PC_TX_ESTIMADA</th>\n      <th>PC_TX_HOMOLOGADA</th>\n    </tr>\n  </thead>\n  <tbody>\n    <tr>\n      <th>0</th>\n      <td>77200</td>\n      <td>15.0</td>\n      <td>2016</td>\n      <td>PRP</td>\n      <td>1</td>\n      <td>2</td>\n      <td>2</td>\n      <td>Pneu 1000/20 liso radial, dianteiro, 16 lonas,...</td>\n      <td>10.0</td>\n      <td>UN</td>\n      <td>...</td>\n      <td>M</td>\n      <td>745.0</td>\n      <td>632.0</td>\n      <td>J</td>\n      <td>8.774832e+12</td>\n      <td>NaN</td>\n      <td>NaN</td>\n      <td>L</td>\n      <td>NaN</td>\n      <td>NaN</td>\n    </tr>\n    <tr>\n      <th>1</th>\n      <td>77200</td>\n      <td>15.0</td>\n      <td>2016</td>\n      <td>PRP</td>\n      <td>1</td>\n      <td>4</td>\n      <td>4</td>\n      <td>Pneu 12.4x24 garra baixa, 10 lonas</td>\n      <td>4.0</td>\n      <td>UN</td>\n      <td>...</td>\n      <td>M</td>\n      <td>745.0</td>\n      <td>632.0</td>\n      <td>J</td>\n      <td>8.774832e+12</td>\n      <td>NaN</td>\n      <td>NaN</td>\n      <td>L</td>\n      <td>NaN</td>\n      <td>NaN</td>\n    </tr>\n    <tr>\n      <th>2</th>\n      <td>77200</td>\n      <td>15.0</td>\n      <td>2016</td>\n      <td>PRP</td>\n      <td>1</td>\n      <td>7</td>\n      <td>7</td>\n      <td>Pneu 1400x24 mínimo 12 lonas</td>\n      <td>6.0</td>\n      <td>UN</td>\n      <td>...</td>\n      <td>M</td>\n      <td>745.0</td>\n      <td>632.0</td>\n      <td>J</td>\n      <td>8.774832e+12</td>\n      <td>NaN</td>\n      <td>NaN</td>\n      <td>L</td>\n      <td>NaN</td>\n      <td>NaN</td>\n    </tr>\n    <tr>\n      <th>3</th>\n      <td>77200</td>\n      <td>15.0</td>\n      <td>2016</td>\n      <td>PRP</td>\n      <td>1</td>\n      <td>8</td>\n      <td>8</td>\n      <td>Pneu 17.5x25 12 lonas, capacidade mínima de ca...</td>\n      <td>4.0</td>\n      <td>UN</td>\n      <td>...</td>\n      <td>M</td>\n      <td>745.0</td>\n      <td>632.0</td>\n      <td>J</td>\n      <td>8.774832e+12</td>\n      <td>NaN</td>\n      <td>NaN</td>\n      <td>L</td>\n      <td>NaN</td>\n      <td>NaN</td>\n    </tr>\n    <tr>\n      <th>4</th>\n      <td>77200</td>\n      <td>15.0</td>\n      <td>2016</td>\n      <td>PRP</td>\n      <td>1</td>\n      <td>12</td>\n      <td>12</td>\n      <td>Pneu 18.4x30 garra baixa, mínimo 10 lonas</td>\n      <td>4.0</td>\n      <td>UN</td>\n      <td>...</td>\n      <td>M</td>\n      <td>745.0</td>\n      <td>632.0</td>\n      <td>J</td>\n      <td>8.774832e+12</td>\n      <td>NaN</td>\n      <td>NaN</td>\n      <td>L</td>\n      <td>NaN</td>\n      <td>NaN</td>\n    </tr>\n    <tr>\n      <th>...</th>\n      <td>...</td>\n      <td>...</td>\n      <td>...</td>\n      <td>...</td>\n      <td>...</td>\n      <td>...</td>\n      <td>...</td>\n      <td>...</td>\n      <td>...</td>\n      <td>...</td>\n      <td>...</td>\n      <td>...</td>\n      <td>...</td>\n      <td>...</td>\n      <td>...</td>\n      <td>...</td>\n      <td>...</td>\n      <td>...</td>\n      <td>...</td>\n      <td>...</td>\n      <td>...</td>\n    </tr>\n    <tr>\n      <th>456363</th>\n      <td>78900</td>\n      <td>13.0</td>\n      <td>2016</td>\n      <td>PRP</td>\n      <td>1</td>\n      <td>154</td>\n      <td>154</td>\n      <td>Ranitidina 150mg</td>\n      <td>10000.0</td>\n      <td>COM</td>\n      <td>...</td>\n      <td>NaN</td>\n      <td>NaN</td>\n      <td>NaN</td>\n      <td>J</td>\n      <td>5.782733e+12</td>\n      <td>NaN</td>\n      <td>NaN</td>\n      <td>N</td>\n      <td>NaN</td>\n      <td>NaN</td>\n    </tr>\n    <tr>\n      <th>456364</th>\n      <td>78900</td>\n      <td>13.0</td>\n      <td>2016</td>\n      <td>PRP</td>\n      <td>1</td>\n      <td>156</td>\n      <td>156</td>\n      <td>Salbutamol 100mcg/dose aerosol 200 doses</td>\n      <td>300.0</td>\n      <td>FR</td>\n      <td>...</td>\n      <td>NaN</td>\n      <td>NaN</td>\n      <td>NaN</td>\n      <td>J</td>\n      <td>5.782733e+12</td>\n      <td>NaN</td>\n      <td>NaN</td>\n      <td>N</td>\n      <td>NaN</td>\n      <td>NaN</td>\n    </tr>\n    <tr>\n      <th>456365</th>\n      <td>78900</td>\n      <td>13.0</td>\n      <td>2016</td>\n      <td>PRP</td>\n      <td>1</td>\n      <td>158</td>\n      <td>158</td>\n      <td>Sinvastatina 40mg</td>\n      <td>100000.0</td>\n      <td>COM</td>\n      <td>...</td>\n      <td>NaN</td>\n      <td>NaN</td>\n      <td>NaN</td>\n      <td>J</td>\n      <td>5.782733e+12</td>\n      <td>NaN</td>\n      <td>NaN</td>\n      <td>N</td>\n      <td>NaN</td>\n      <td>NaN</td>\n    </tr>\n    <tr>\n      <th>456366</th>\n      <td>78900</td>\n      <td>13.0</td>\n      <td>2016</td>\n      <td>PRP</td>\n      <td>1</td>\n      <td>167</td>\n      <td>167</td>\n      <td>Valproato de Sódio 500 mg</td>\n      <td>15000.0</td>\n      <td>COM</td>\n      <td>...</td>\n      <td>NaN</td>\n      <td>NaN</td>\n      <td>NaN</td>\n      <td>J</td>\n      <td>5.782733e+12</td>\n      <td>NaN</td>\n      <td>NaN</td>\n      <td>N</td>\n      <td>NaN</td>\n      <td>NaN</td>\n    </tr>\n    <tr>\n      <th>456367</th>\n      <td>78900</td>\n      <td>13.0</td>\n      <td>2016</td>\n      <td>PRP</td>\n      <td>1</td>\n      <td>171</td>\n      <td>171</td>\n      <td>Risperidona 1 mg</td>\n      <td>500.0</td>\n      <td>COM</td>\n      <td>...</td>\n      <td>NaN</td>\n      <td>NaN</td>\n      <td>NaN</td>\n      <td>J</td>\n      <td>5.782733e+12</td>\n      <td>NaN</td>\n      <td>NaN</td>\n      <td>N</td>\n      <td>NaN</td>\n      <td>NaN</td>\n    </tr>\n  </tbody>\n</table>\n<p>456368 rows × 32 columns</p>\n</div>"
     },
     "execution_count": 17,
     "metadata": {},
     "output_type": "execute_result"
    }
   ],
   "source": [
    "itens_2016"
   ],
   "metadata": {
    "collapsed": false
   }
  }
 ],
 "metadata": {
  "kernelspec": {
   "display_name": "Python 3 (ipykernel)",
   "language": "python",
   "name": "python3"
  },
  "language_info": {
   "codemirror_mode": {
    "name": "ipython",
    "version": 3
   },
   "file_extension": ".py",
   "mimetype": "text/x-python",
   "name": "python",
   "nbconvert_exporter": "python",
   "pygments_lexer": "ipython3",
   "version": "3.9.16"
  }
 },
 "nbformat": 4,
 "nbformat_minor": 1
}
